{
 "cells": [
  {
   "cell_type": "code",
   "execution_count": 70,
   "metadata": {
    "collapsed": true
   },
   "outputs": [],
   "source": [
    "%matplotlib inline"
   ]
  },
  {
   "cell_type": "code",
   "execution_count": 71,
   "metadata": {
    "collapsed": false
   },
   "outputs": [],
   "source": [
    "from __future__ import division\n",
    "import pandas as pd\n",
    "pd.set_option('display.mpl_style', 'default') # Make the graphs a bit prettier\n",
    "from collections import OrderedDict\n",
    "from scipy.stats import norm\n",
    "Z = norm.ppf\n",
    "import numpy as np\n",
    "import matplotlib as mpl\n",
    "import matplotlib.pyplot as plt\n",
    "import seaborn as sns\n",
    "sns.set(style=\"whitegrid\", color_codes=True)\n",
    "np.random.seed(sum(map(ord, \"categorical\")))"
   ]
  },
  {
   "cell_type": "code",
   "execution_count": 72,
   "metadata": {
    "collapsed": true
   },
   "outputs": [],
   "source": [
    "import os\n",
    "from os.path import expanduser"
   ]
  },
  {
   "cell_type": "code",
   "execution_count": 73,
   "metadata": {
    "collapsed": false
   },
   "outputs": [],
   "source": [
    "homeDirectory = expanduser(\"~\")\n",
    "dataDirectory = homeDirectory + os.sep + 'Google Drive/tACS_VWM_ALPHA/data/behav4/'"
   ]
  },
  {
   "cell_type": "code",
   "execution_count": 74,
   "metadata": {
    "collapsed": true
   },
   "outputs": [],
   "source": [
    "dataSheets45c = [dataDirectory + 's1/runData/run1_2016_Jul_08_1326.csv', dataDirectory + 's2/runData/run2_2016_Jul_08_1453.csv', dataDirectory + 's3/runData/run3_2016_Jul_08_1614.csv']"
   ]
  },
  {
   "cell_type": "code",
   "execution_count": 75,
   "metadata": {
    "collapsed": true
   },
   "outputs": [],
   "source": [
    "dataSheets45uc = [dataDirectory + 's1/runData/run3_2016_Jul_08_1404.csv', dataDirectory + 's2/runData/run1_2016_Jul_08_1434.csv', dataDirectory + 's3/runData/run2_2016_Jul_08_1555.csv']"
   ]
  },
  {
   "cell_type": "code",
   "execution_count": 76,
   "metadata": {
    "collapsed": true
   },
   "outputs": [],
   "source": [
    "dataSheets30c = [dataDirectory + 's1/runData/run2_2016_Jul_08_1345.csv', dataDirectory + 's2/runData/run3_2016_Jul_08_1512.csv', dataDirectory + 's3/runData/run1_2016_Jul_08_1535.csv']"
   ]
  },
  {
   "cell_type": "code",
   "execution_count": 77,
   "metadata": {
    "collapsed": true
   },
   "outputs": [],
   "source": [
    "testRuns45c = [(1,1), (2,2), (3,3)]"
   ]
  },
  {
   "cell_type": "code",
   "execution_count": 78,
   "metadata": {
    "collapsed": true
   },
   "outputs": [],
   "source": [
    "testRuns45uc = [(1,3), (2,1), (3,2)]"
   ]
  },
  {
   "cell_type": "code",
   "execution_count": 79,
   "metadata": {
    "collapsed": true
   },
   "outputs": [],
   "source": [
    "testRuns30c = [(1,2), (2,3), (3,1)]"
   ]
  },
  {
   "cell_type": "code",
   "execution_count": 80,
   "metadata": {
    "collapsed": true
   },
   "outputs": [],
   "source": [
    "subjRunCount = OrderedDict()\n",
    "for run in testRuns:\n",
    "    subjRunCount[str(run[0])] = 0\n",
    "for run in testRuns:\n",
    "    subjRunCount[str(run[0])] += 1"
   ]
  },
  {
   "cell_type": "code",
   "execution_count": 81,
   "metadata": {
    "collapsed": false
   },
   "outputs": [],
   "source": [
    "conds = OrderedDict([('t2d0', (2, 0)), ('t2d2', (2, 2)), ('t2d4', (2, 4)), ('t4d0', (4, 0)), ('t4d2', (4, 2)), ('t4d4', (4, 4))])"
   ]
  },
  {
   "cell_type": "code",
   "execution_count": 82,
   "metadata": {
    "collapsed": true
   },
   "outputs": [],
   "source": [
    "# counts number of trials corresponding to inputted conditions\n",
    "def itemCounter(df, responseType, changeType, t, d):\n",
    "    count = float(len(df[responseType & changeType & t & d]))\n",
    "    return count"
   ]
  },
  {
   "cell_type": "code",
   "execution_count": 83,
   "metadata": {
    "collapsed": false
   },
   "outputs": [],
   "source": [
    "# calculates K pased on Pashler equation: K = S * ((H - F) / (1 - F))\n",
    "def kCalculation(s, h, f):\n",
    "    k = s * ((h - f) / (1 - f))\n",
    "    return k"
   ]
  },
  {
   "cell_type": "code",
   "execution_count": 84,
   "metadata": {
    "collapsed": false
   },
   "outputs": [],
   "source": [
    "def pashlerK(csv):\n",
    "    # read in csv file\n",
    "    df = pd.read_csv(csv)\n",
    "\n",
    "    # create conditions\n",
    "    resps = df['Response'] == 1\n",
    "    noResps = df['Response'] == 0\n",
    "    changes = df['ChangeTrial'] == 1\n",
    "    noChanges = df['ChangeTrial'] == 0\n",
    "    targ2 = df['nTargets'] == 2\n",
    "    targ4 = df['nTargets'] == 4\n",
    "    dist0 = df['nDistractors'] == 0\n",
    "    dist2 = df['nDistractors'] == 2\n",
    "    dist4 = df['nDistractors'] == 4\n",
    "\n",
    "    # initialize dictionaries\n",
    "    hitRates = OrderedDict()\n",
    "    fAlarmRates = OrderedDict()\n",
    "    Kvals = OrderedDict()\n",
    "    \n",
    "    conds = OrderedDict([('t2d0', (targ2, dist0)), ('t2d2', (targ2, dist2)), ('t2d4', (targ2, dist4)), ('t4d0', (targ4, dist0)), ('t4d2', (targ4, dist2)), ('t4d4', (targ4, dist4))])\n",
    "\n",
    "    # store rate values\n",
    "    for key in conds:\n",
    "        hits = itemCounter(df, resps, changes, conds[key][0], conds[key][1])\n",
    "        misses = itemCounter(df, noResps, changes, conds[key][0], conds[key][1])\n",
    "        falarms = itemCounter(df, resps, noChanges, conds[key][0], conds[key][1])\n",
    "        crejects = itemCounter(df, noResps, noChanges, conds[key][0], conds[key][1])\n",
    "        hitRates[key] = hits/(hits+misses)\n",
    "        fAlarmRates[key] = falarms/(falarms+crejects)\n",
    "        s = 0\n",
    "        if key == 't2d0' or key == 't2d2' or key == 't2d4':\n",
    "            s = 2\n",
    "        else:\n",
    "            s = 4\n",
    "        Kvals[key] = kCalculation(s, hitRates[key], fAlarmRates[key])\n",
    "    return {'Kvals': Kvals, 'hitRates': hitRates, 'fAlarmRates': fAlarmRates}"
   ]
  },
  {
   "cell_type": "code",
   "execution_count": 85,
   "metadata": {
    "collapsed": false
   },
   "outputs": [],
   "source": [
    "def rtCalc(csv):\n",
    "    # read in csv file\n",
    "    df = pd.read_csv(csv)\n",
    "\n",
    "    # create conditions\n",
    "    resps = df['Response'] == 1\n",
    "    targ2 = df['nTargets'] == 2\n",
    "    targ4 = df['nTargets'] == 4\n",
    "    dist0 = df['nDistractors'] == 0\n",
    "    dist2 = df['nDistractors'] == 2\n",
    "    dist4 = df['nDistractors'] == 4\n",
    "\n",
    "    # initialize dictionary\n",
    "    RTRates = OrderedDict()\n",
    "    conds = OrderedDict([('t2d0', (targ2, dist0)), ('t2d2', (targ2, dist2)), ('t2d4', (targ2, dist4)), ('t4d0', (targ4, dist0)), ('t4d2', (targ4, dist2)), ('t4d4', (targ4, dist4))])\n",
    "\n",
    "    # calculate average RT value\n",
    "    for key in conds:\n",
    "        rows = df[conds[key][0] & conds[key][1] & resps]\n",
    "        rts = rows['RT']\n",
    "        meanRT = rts.mean()\n",
    "        RTRates[key] = meanRT\n",
    "    return RTRates"
   ]
  },
  {
   "cell_type": "code",
   "execution_count": 94,
   "metadata": {
    "collapsed": true
   },
   "outputs": [],
   "source": [
    "def dprime(csv):\n",
    "     # read in csv file\n",
    "    df = pd.read_csv(csv)\n",
    "    \n",
    "    # create conditions\n",
    "    resps = df['Response'] == 1\n",
    "    noResps = df['Response'] == 0\n",
    "    changes = df['ChangeTrial'] == 1\n",
    "    noChanges = df['ChangeTrial'] == 0\n",
    "    targ2 = df['nTargets'] == 2\n",
    "    targ4 = df['nTargets'] == 4\n",
    "    dist0 = df['nDistractors'] == 0\n",
    "    dist2 = df['nDistractors'] == 2\n",
    "    dist4 = df['nDistractors'] == 4\n",
    "    \n",
    "    # initialize dict\n",
    "    hits = OrderedDict()\n",
    "    misses = OrderedDict()\n",
    "    falarms = OrderedDict()\n",
    "    crejects = OrderedDict()\n",
    "    dprimes = OrderedDict()\n",
    "      \n",
    "    conds = OrderedDict([('t2d0', (targ2, dist0)), ('t2d2', (targ2, dist2)), ('t2d4', (targ2, dist4)), ('t4d0', (targ4, dist0)), ('t4d2', (targ4, dist2)), ('t4d4', (targ4, dist4))])\n",
    "\n",
    "    # calculate d-primes for each condition\n",
    "    for key in conds:   \n",
    "        hits = itemCounter(df, resps, changes, conds[key][0], conds[key][1])\n",
    "        misses = itemCounter(df, noResps, changes, conds[key][0], conds[key][1])\n",
    "        falarms = itemCounter(df, resps, noChanges, conds[key][0], conds[key][1])\n",
    "        crejects = itemCounter(df, noResps, noChanges, conds[key][0], conds[key][1])\n",
    "        \n",
    "        # Floors an ceilings are replaced by half hits and half FA's\n",
    "        halfHit = 0.5/(hits+misses)\n",
    "        halfFa = 0.5/(falarms+crejects)\n",
    " \n",
    "        # Calculate hitrate and avoid d' infinity\n",
    "        hitRate = hits/(hits+misses)\n",
    "        if hitRate == 1: hitRate = 1-halfHit\n",
    "        if hitRate == 0: hitRate = halfHit\n",
    "\n",
    "        # Calculate false alarm rate and avoid d' infinity\n",
    "        faRate = falarms/(falarms+crejects)\n",
    "        if faRate == 1: faRate = 1-halfFa\n",
    "        if faRate == 0: faRate = halfFa\n",
    "        \n",
    "        # calculate dprime using Z (ppf function in scipy.norm)\n",
    "        dprimes[key]= Z(hitRate) - Z(faRate)\n",
    "    \n",
    "    return dprimes"
   ]
  },
  {
   "cell_type": "code",
   "execution_count": 95,
   "metadata": {
    "collapsed": false
   },
   "outputs": [],
   "source": [
    "Kvals45c = []\n",
    "hitRates45c = []\n",
    "faRates45c = []\n",
    "\n",
    "for sheet in dataSheets45c:\n",
    "    Kvals45c.append(pashlerK(sheet)['Kvals'])\n",
    "    hitRates45c.append(pashlerK(sheet)['hitRates'])\n",
    "    faRates45c.append(pashlerK(sheet)['fAlarmRates'])"
   ]
  },
  {
   "cell_type": "code",
   "execution_count": 102,
   "metadata": {
    "collapsed": false
   },
   "outputs": [
    {
     "data": {
      "text/html": [
       "<div>\n",
       "<table border=\"1\" class=\"dataframe\">\n",
       "  <thead>\n",
       "    <tr style=\"text-align: right;\">\n",
       "      <th></th>\n",
       "      <th>t2d0</th>\n",
       "      <th>t2d2</th>\n",
       "      <th>t2d4</th>\n",
       "      <th>t4d0</th>\n",
       "      <th>t4d2</th>\n",
       "      <th>t4d4</th>\n",
       "    </tr>\n",
       "  </thead>\n",
       "  <tbody>\n",
       "    <tr>\n",
       "      <th>(1, 3)</th>\n",
       "      <td>1.818182</td>\n",
       "      <td>1.617021</td>\n",
       "      <td>2.000000</td>\n",
       "      <td>2.833333</td>\n",
       "      <td>3.135135</td>\n",
       "      <td>2.727273</td>\n",
       "    </tr>\n",
       "    <tr>\n",
       "      <th>(2, 1)</th>\n",
       "      <td>1.900000</td>\n",
       "      <td>1.650000</td>\n",
       "      <td>1.523810</td>\n",
       "      <td>1.454545</td>\n",
       "      <td>2.111111</td>\n",
       "      <td>2.526316</td>\n",
       "    </tr>\n",
       "    <tr>\n",
       "      <th>(3, 2)</th>\n",
       "      <td>1.523810</td>\n",
       "      <td>0.933333</td>\n",
       "      <td>1.272727</td>\n",
       "      <td>2.666667</td>\n",
       "      <td>2.181818</td>\n",
       "      <td>1.523810</td>\n",
       "    </tr>\n",
       "  </tbody>\n",
       "</table>\n",
       "</div>"
      ],
      "text/plain": [
       "            t2d0      t2d2      t2d4      t4d0      t4d2      t4d4\n",
       "(1, 3)  1.818182  1.617021  2.000000  2.833333  3.135135  2.727273\n",
       "(2, 1)  1.900000  1.650000  1.523810  1.454545  2.111111  2.526316\n",
       "(3, 2)  1.523810  0.933333  1.272727  2.666667  2.181818  1.523810"
      ]
     },
     "execution_count": 102,
     "metadata": {},
     "output_type": "execute_result"
    }
   ],
   "source": [
    "Kvals45uc = []\n",
    "hitRates45uc = []\n",
    "faRates45uc = []\n",
    "\n",
    "for sheet in dataSheets45uc:\n",
    "    Kvals45uc.append(pashlerK(sheet)['Kvals'])\n",
    "    hitRates45uc.append(pashlerK(sheet)['hitRates'])\n",
    "    faRates45uc.append(pashlerK(sheet)['fAlarmRates'])\n",
    "    \n",
    "Kchart45uc = pd.DataFrame(Kvals45uc, index=testRuns45uc, columns=conds.keys())\n",
    "Kchart45uc"
   ]
  },
  {
   "cell_type": "code",
   "execution_count": 104,
   "metadata": {
    "collapsed": false
   },
   "outputs": [
    {
     "data": {
      "text/plain": [
       "<matplotlib.axes._subplots.AxesSubplot at 0x10acc9d90>"
      ]
     },
     "execution_count": 104,
     "metadata": {},
     "output_type": "execute_result"
    },
    {
     "data": {
      "image/png": "[encoded data removed]",
      "text/plain": [
       "<matplotlib.figure.Figure at 0x10a103650>"
      ]
     },
     "metadata": {},
     "output_type": "display_data"
    }
   ],
   "source": [
    "sns.barplot(data=Kchart45uc)"
   ]
  },
  {
   "cell_type": "code",
   "execution_count": 103,
   "metadata": {
    "collapsed": false
   },
   "outputs": [
    {
     "data": {
      "text/html": [
       "<div>\n",
       "<table border=\"1\" class=\"dataframe\">\n",
       "  <thead>\n",
       "    <tr style=\"text-align: right;\">\n",
       "      <th></th>\n",
       "      <th>t2d0</th>\n",
       "      <th>t2d2</th>\n",
       "      <th>t2d4</th>\n",
       "      <th>t4d0</th>\n",
       "      <th>t4d2</th>\n",
       "      <th>t4d4</th>\n",
       "    </tr>\n",
       "  </thead>\n",
       "  <tbody>\n",
       "    <tr>\n",
       "      <th>(1, 2)</th>\n",
       "      <td>0.727273</td>\n",
       "      <td>1.458333</td>\n",
       "      <td>1.272727</td>\n",
       "      <td>2.086957</td>\n",
       "      <td>2.117647</td>\n",
       "      <td>1.818182</td>\n",
       "    </tr>\n",
       "    <tr>\n",
       "      <th>(2, 3)</th>\n",
       "      <td>1.428571</td>\n",
       "      <td>1.454545</td>\n",
       "      <td>1.052632</td>\n",
       "      <td>1.818182</td>\n",
       "      <td>1.052632</td>\n",
       "      <td>0.800000</td>\n",
       "    </tr>\n",
       "    <tr>\n",
       "      <th>(3, 1)</th>\n",
       "      <td>0.900000</td>\n",
       "      <td>0.954545</td>\n",
       "      <td>1.000000</td>\n",
       "      <td>2.000000</td>\n",
       "      <td>1.142857</td>\n",
       "      <td>0.000000</td>\n",
       "    </tr>\n",
       "  </tbody>\n",
       "</table>\n",
       "</div>"
      ],
      "text/plain": [
       "            t2d0      t2d2      t2d4      t4d0      t4d2      t4d4\n",
       "(1, 2)  0.727273  1.458333  1.272727  2.086957  2.117647  1.818182\n",
       "(2, 3)  1.428571  1.454545  1.052632  1.818182  1.052632  0.800000\n",
       "(3, 1)  0.900000  0.954545  1.000000  2.000000  1.142857  0.000000"
      ]
     },
     "execution_count": 103,
     "metadata": {},
     "output_type": "execute_result"
    }
   ],
   "source": [
    "Kvals30c = []\n",
    "hitRates30c = []\n",
    "faRates30c = []\n",
    "\n",
    "for sheet in dataSheets30c:\n",
    "    Kvals30c.append(pashlerK(sheet)['Kvals'])\n",
    "    hitRates30c.append(pashlerK(sheet)['hitRates'])\n",
    "    faRates30c.append(pashlerK(sheet)['fAlarmRates'])\n",
    "    \n",
    "Kchart30c = pd.DataFrame(Kvals30c, index=testRuns30c, columns=conds.keys())\n",
    "Kchart30c"
   ]
  },
  {
   "cell_type": "code",
   "execution_count": 105,
   "metadata": {
    "collapsed": false
   },
   "outputs": [
    {
     "data": {
      "text/plain": [
       "<matplotlib.axes._subplots.AxesSubplot at 0x10ad01310>"
      ]
     },
     "execution_count": 105,
     "metadata": {},
     "output_type": "execute_result"
    },
    {
     "data": {
      "image/png": "[encoded data removed]",
      "text/plain": [
       "<matplotlib.figure.Figure at 0x10ad04190>"
      ]
     },
     "metadata": {},
     "output_type": "display_data"
    }
   ],
   "source": [
    "sns.barplot(data=Kchart30c)"
   ]
  },
  {
   "cell_type": "code",
   "execution_count": 98,
   "metadata": {
    "collapsed": false
   },
   "outputs": [
    {
     "data": {
      "text/html": [
       "<div>\n",
       "<table border=\"1\" class=\"dataframe\">\n",
       "  <thead>\n",
       "    <tr style=\"text-align: right;\">\n",
       "      <th></th>\n",
       "      <th>t2d0</th>\n",
       "      <th>t2d2</th>\n",
       "      <th>t2d4</th>\n",
       "      <th>t4d0</th>\n",
       "      <th>t4d2</th>\n",
       "      <th>t4d4</th>\n",
       "    </tr>\n",
       "  </thead>\n",
       "  <tbody>\n",
       "    <tr>\n",
       "      <th>(1, 1)</th>\n",
       "      <td>1.818182</td>\n",
       "      <td>1.872340</td>\n",
       "      <td>1.700000</td>\n",
       "      <td>3.040000</td>\n",
       "      <td>3.000000</td>\n",
       "      <td>2.666667</td>\n",
       "    </tr>\n",
       "    <tr>\n",
       "      <th>(2, 2)</th>\n",
       "      <td>1.714286</td>\n",
       "      <td>1.695652</td>\n",
       "      <td>1.545455</td>\n",
       "      <td>2.363636</td>\n",
       "      <td>2.057143</td>\n",
       "      <td>2.666667</td>\n",
       "    </tr>\n",
       "    <tr>\n",
       "      <th>(3, 3)</th>\n",
       "      <td>1.428571</td>\n",
       "      <td>0.954545</td>\n",
       "      <td>1.300000</td>\n",
       "      <td>2.434783</td>\n",
       "      <td>0.533333</td>\n",
       "      <td>1.555556</td>\n",
       "    </tr>\n",
       "  </tbody>\n",
       "</table>\n",
       "</div>"
      ],
      "text/plain": [
       "            t2d0      t2d2      t2d4      t4d0      t4d2      t4d4\n",
       "(1, 1)  1.818182  1.872340  1.700000  3.040000  3.000000  2.666667\n",
       "(2, 2)  1.714286  1.695652  1.545455  2.363636  2.057143  2.666667\n",
       "(3, 3)  1.428571  0.954545  1.300000  2.434783  0.533333  1.555556"
      ]
     },
     "execution_count": 98,
     "metadata": {},
     "output_type": "execute_result"
    }
   ],
   "source": [
    "Kchart45c = pd.DataFrame(Kvals45c, index=testRuns45c, columns=conds.keys())\n",
    "Kchart45c"
   ]
  },
  {
   "cell_type": "code",
   "execution_count": 106,
   "metadata": {
    "collapsed": false
   },
   "outputs": [
    {
     "data": {
      "text/plain": [
       "<matplotlib.axes._subplots.AxesSubplot at 0x10acfafd0>"
      ]
     },
     "execution_count": 106,
     "metadata": {},
     "output_type": "execute_result"
    },
    {
     "data": {
      "image/png": "[encoded data removed]",
      "text/plain": [
       "<matplotlib.figure.Figure at 0x10aef7610>"
      ]
     },
     "metadata": {},
     "output_type": "display_data"
    }
   ],
   "source": [
    "sns.barplot(data=Kchart45c)"
   ]
  },
  {
   "cell_type": "code",
   "execution_count": 99,
   "metadata": {
    "collapsed": false
   },
   "outputs": [
    {
     "data": {
      "text/html": [
       "<div>\n",
       "<table border=\"1\" class=\"dataframe\">\n",
       "  <thead>\n",
       "    <tr style=\"text-align: right;\">\n",
       "      <th></th>\n",
       "      <th>t2d0</th>\n",
       "      <th>t2d2</th>\n",
       "      <th>t2d4</th>\n",
       "      <th>t4d0</th>\n",
       "      <th>t4d2</th>\n",
       "      <th>t4d4</th>\n",
       "    </tr>\n",
       "  </thead>\n",
       "  <tbody>\n",
       "    <tr>\n",
       "      <th>(1, 1)</th>\n",
       "      <td>0.909091</td>\n",
       "      <td>0.937500</td>\n",
       "      <td>0.863636</td>\n",
       "      <td>0.76</td>\n",
       "      <td>0.809524</td>\n",
       "      <td>0.72</td>\n",
       "    </tr>\n",
       "    <tr>\n",
       "      <th>(2, 2)</th>\n",
       "      <td>0.863636</td>\n",
       "      <td>0.854167</td>\n",
       "      <td>0.772727</td>\n",
       "      <td>0.64</td>\n",
       "      <td>0.595238</td>\n",
       "      <td>0.68</td>\n",
       "    </tr>\n",
       "    <tr>\n",
       "      <th>(3, 3)</th>\n",
       "      <td>0.727273</td>\n",
       "      <td>0.520833</td>\n",
       "      <td>0.681818</td>\n",
       "      <td>0.64</td>\n",
       "      <td>0.380952</td>\n",
       "      <td>0.56</td>\n",
       "    </tr>\n",
       "  </tbody>\n",
       "</table>\n",
       "</div>"
      ],
      "text/plain": [
       "            t2d0      t2d2      t2d4  t4d0      t4d2  t4d4\n",
       "(1, 1)  0.909091  0.937500  0.863636  0.76  0.809524  0.72\n",
       "(2, 2)  0.863636  0.854167  0.772727  0.64  0.595238  0.68\n",
       "(3, 3)  0.727273  0.520833  0.681818  0.64  0.380952  0.56"
      ]
     },
     "execution_count": 99,
     "metadata": {},
     "output_type": "execute_result"
    }
   ],
   "source": [
    "hitChart45c = pd.DataFrame(hitRates45c, index=testRuns45c, columns=conds.keys())\n",
    "hitChart45c"
   ]
  },
  {
   "cell_type": "code",
   "execution_count": 100,
   "metadata": {
    "collapsed": false
   },
   "outputs": [
    {
     "data": {
      "text/html": [
       "<div>\n",
       "<table border=\"1\" class=\"dataframe\">\n",
       "  <thead>\n",
       "    <tr style=\"text-align: right;\">\n",
       "      <th></th>\n",
       "      <th>t2d0</th>\n",
       "      <th>t2d2</th>\n",
       "      <th>t2d4</th>\n",
       "      <th>t4d0</th>\n",
       "      <th>t4d2</th>\n",
       "      <th>t4d4</th>\n",
       "    </tr>\n",
       "  </thead>\n",
       "  <tbody>\n",
       "    <tr>\n",
       "      <th>(1, 1)</th>\n",
       "      <td>0.000000</td>\n",
       "      <td>0.020833</td>\n",
       "      <td>0.090909</td>\n",
       "      <td>0.00</td>\n",
       "      <td>0.238095</td>\n",
       "      <td>0.16</td>\n",
       "    </tr>\n",
       "    <tr>\n",
       "      <th>(2, 2)</th>\n",
       "      <td>0.045455</td>\n",
       "      <td>0.041667</td>\n",
       "      <td>0.000000</td>\n",
       "      <td>0.12</td>\n",
       "      <td>0.166667</td>\n",
       "      <td>0.04</td>\n",
       "    </tr>\n",
       "    <tr>\n",
       "      <th>(3, 3)</th>\n",
       "      <td>0.045455</td>\n",
       "      <td>0.083333</td>\n",
       "      <td>0.090909</td>\n",
       "      <td>0.08</td>\n",
       "      <td>0.285714</td>\n",
       "      <td>0.28</td>\n",
       "    </tr>\n",
       "  </tbody>\n",
       "</table>\n",
       "</div>"
      ],
      "text/plain": [
       "            t2d0      t2d2      t2d4  t4d0      t4d2  t4d4\n",
       "(1, 1)  0.000000  0.020833  0.090909  0.00  0.238095  0.16\n",
       "(2, 2)  0.045455  0.041667  0.000000  0.12  0.166667  0.04\n",
       "(3, 3)  0.045455  0.083333  0.090909  0.08  0.285714  0.28"
      ]
     },
     "execution_count": 100,
     "metadata": {},
     "output_type": "execute_result"
    }
   ],
   "source": [
    "faChart45c = pd.DataFrame(faRates45c, index=testRuns45c, columns=conds.keys())\n",
    "faChart45c"
   ]
  },
  {
   "cell_type": "code",
   "execution_count": 101,
   "metadata": {
    "collapsed": false
   },
   "outputs": [
    {
     "data": {
      "text/html": [
       "<div>\n",
       "<table border=\"1\" class=\"dataframe\">\n",
       "  <thead>\n",
       "    <tr style=\"text-align: right;\">\n",
       "      <th></th>\n",
       "      <th>t2d0</th>\n",
       "      <th>t2d2</th>\n",
       "      <th>t2d4</th>\n",
       "      <th>t4d0</th>\n",
       "      <th>t4d2</th>\n",
       "      <th>t4d4</th>\n",
       "    </tr>\n",
       "  </thead>\n",
       "  <tbody>\n",
       "    <tr>\n",
       "      <th>1</th>\n",
       "      <td>1.753247</td>\n",
       "      <td>1.677536</td>\n",
       "      <td>1.587302</td>\n",
       "      <td>2.585231</td>\n",
       "      <td>2.396159</td>\n",
       "      <td>1.968831</td>\n",
       "    </tr>\n",
       "    <tr>\n",
       "      <th>2</th>\n",
       "      <td>1.787879</td>\n",
       "      <td>1.873522</td>\n",
       "      <td>1.781818</td>\n",
       "      <td>3.013730</td>\n",
       "      <td>3.231217</td>\n",
       "      <td>3.142300</td>\n",
       "    </tr>\n",
       "    <tr>\n",
       "      <th>3</th>\n",
       "      <td>2.000000</td>\n",
       "      <td>1.985185</td>\n",
       "      <td>2.000000</td>\n",
       "      <td>3.381643</td>\n",
       "      <td>3.476756</td>\n",
       "      <td>3.601449</td>\n",
       "    </tr>\n",
       "  </tbody>\n",
       "</table>\n",
       "</div>"
      ],
      "text/plain": [
       "       t2d0      t2d2      t2d4      t4d0      t4d2      t4d4\n",
       "1  1.753247  1.677536  1.587302  2.585231  2.396159  1.968831\n",
       "2  1.787879  1.873522  1.781818  3.013730  3.231217  3.142300\n",
       "3  2.000000  1.985185  2.000000  3.381643  3.476756  3.601449"
      ]
     },
     "execution_count": 101,
     "metadata": {},
     "output_type": "execute_result"
    }
   ],
   "source": [
    "kSubjMeans = []\n",
    "index = 0\n",
    "for subj in subjRunCount.keys():\n",
    "    kSubjMeans.append(Kchart[index:index+subjRunCount[subj]].mean())\n",
    "    index += subjRunCount[subj]\n",
    "kSubjMeans\n",
    "\n",
    "kSubjMeanChart = pd.DataFrame(kSubjMeans, index=subjRunCount.keys(), columns=conds.keys())\n",
    "kSubjMeanChart"
   ]
  },
  {
   "cell_type": "code",
   "execution_count": 19,
   "metadata": {
    "collapsed": false
   },
   "outputs": [
    {
     "data": {
      "text/html": [
       "<div>\n",
       "<table border=\"1\" class=\"dataframe\">\n",
       "  <thead>\n",
       "    <tr style=\"text-align: right;\">\n",
       "      <th></th>\n",
       "      <th>t2d0</th>\n",
       "      <th>t2d2</th>\n",
       "      <th>t2d4</th>\n",
       "      <th>t4d0</th>\n",
       "      <th>t4d2</th>\n",
       "      <th>t4d4</th>\n",
       "    </tr>\n",
       "  </thead>\n",
       "  <tbody>\n",
       "    <tr>\n",
       "      <th>1</th>\n",
       "      <td>0.878788</td>\n",
       "      <td>0.840278</td>\n",
       "      <td>0.803030</td>\n",
       "      <td>0.680000</td>\n",
       "      <td>0.634921</td>\n",
       "      <td>0.546667</td>\n",
       "    </tr>\n",
       "    <tr>\n",
       "      <th>2</th>\n",
       "      <td>0.893939</td>\n",
       "      <td>0.937500</td>\n",
       "      <td>0.893939</td>\n",
       "      <td>0.786667</td>\n",
       "      <td>0.841270</td>\n",
       "      <td>0.840000</td>\n",
       "    </tr>\n",
       "    <tr>\n",
       "      <th>3</th>\n",
       "      <td>1.000000</td>\n",
       "      <td>0.993056</td>\n",
       "      <td>1.000000</td>\n",
       "      <td>0.880000</td>\n",
       "      <td>0.873016</td>\n",
       "      <td>0.906667</td>\n",
       "    </tr>\n",
       "    <tr>\n",
       "      <th>4</th>\n",
       "      <td>1.000000</td>\n",
       "      <td>0.968750</td>\n",
       "      <td>1.000000</td>\n",
       "      <td>0.880000</td>\n",
       "      <td>0.773810</td>\n",
       "      <td>0.680000</td>\n",
       "    </tr>\n",
       "  </tbody>\n",
       "</table>\n",
       "</div>"
      ],
      "text/plain": [
       "       t2d0      t2d2      t2d4      t4d0      t4d2      t4d4\n",
       "1  0.878788  0.840278  0.803030  0.680000  0.634921  0.546667\n",
       "2  0.893939  0.937500  0.893939  0.786667  0.841270  0.840000\n",
       "3  1.000000  0.993056  1.000000  0.880000  0.873016  0.906667\n",
       "4  1.000000  0.968750  1.000000  0.880000  0.773810  0.680000"
      ]
     },
     "execution_count": 19,
     "metadata": {},
     "output_type": "execute_result"
    }
   ],
   "source": [
    "hitSubjMeans = []\n",
    "index = 0\n",
    "for subj in subjRunCount.keys():\n",
    "    hitSubjMeans.append(hitChart[index:index+subjRunCount[subj]].mean())\n",
    "    index += subjRunCount[subj]\n",
    "hitSubjMeans\n",
    "\n",
    "hitSubjMeanChart = pd.DataFrame(hitSubjMeans, index=subjRunCount.keys(), columns=conds.keys())\n",
    "hitSubjMeanChart"
   ]
  },
  {
   "cell_type": "code",
   "execution_count": 20,
   "metadata": {
    "collapsed": false
   },
   "outputs": [
    {
     "data": {
      "text/html": [
       "<div>\n",
       "<table border=\"1\" class=\"dataframe\">\n",
       "  <thead>\n",
       "    <tr style=\"text-align: right;\">\n",
       "      <th></th>\n",
       "      <th>t2d0</th>\n",
       "      <th>t2d2</th>\n",
       "      <th>t2d4</th>\n",
       "      <th>t4d0</th>\n",
       "      <th>t4d2</th>\n",
       "      <th>t4d4</th>\n",
       "    </tr>\n",
       "  </thead>\n",
       "  <tbody>\n",
       "    <tr>\n",
       "      <th>1</th>\n",
       "      <td>0.015152</td>\n",
       "      <td>0.013889</td>\n",
       "      <td>0.045455</td>\n",
       "      <td>0.093333</td>\n",
       "      <td>0.087302</td>\n",
       "      <td>0.093333</td>\n",
       "    </tr>\n",
       "    <tr>\n",
       "      <th>2</th>\n",
       "      <td>0.000000</td>\n",
       "      <td>0.027778</td>\n",
       "      <td>0.030303</td>\n",
       "      <td>0.120000</td>\n",
       "      <td>0.182540</td>\n",
       "      <td>0.253333</td>\n",
       "    </tr>\n",
       "    <tr>\n",
       "      <th>3</th>\n",
       "      <td>0.060606</td>\n",
       "      <td>0.027778</td>\n",
       "      <td>0.015152</td>\n",
       "      <td>0.160000</td>\n",
       "      <td>0.031746</td>\n",
       "      <td>0.066667</td>\n",
       "    </tr>\n",
       "    <tr>\n",
       "      <th>4</th>\n",
       "      <td>0.022727</td>\n",
       "      <td>0.041667</td>\n",
       "      <td>0.113636</td>\n",
       "      <td>0.060000</td>\n",
       "      <td>0.083333</td>\n",
       "      <td>0.160000</td>\n",
       "    </tr>\n",
       "  </tbody>\n",
       "</table>\n",
       "</div>"
      ],
      "text/plain": [
       "       t2d0      t2d2      t2d4      t4d0      t4d2      t4d4\n",
       "1  0.015152  0.013889  0.045455  0.093333  0.087302  0.093333\n",
       "2  0.000000  0.027778  0.030303  0.120000  0.182540  0.253333\n",
       "3  0.060606  0.027778  0.015152  0.160000  0.031746  0.066667\n",
       "4  0.022727  0.041667  0.113636  0.060000  0.083333  0.160000"
      ]
     },
     "execution_count": 20,
     "metadata": {},
     "output_type": "execute_result"
    }
   ],
   "source": [
    "faSubjMeans = []\n",
    "index = 0\n",
    "for subj in subjRunCount.keys():\n",
    "    faSubjMeans.append(faChart[index:index+subjRunCount[subj]].mean())\n",
    "    index += subjRunCount[subj]\n",
    "faSubjMeans\n",
    "\n",
    "faSubjMeanChart = pd.DataFrame(faSubjMeans, index=subjRunCount.keys(), columns=conds.keys())\n",
    "faSubjMeanChart"
   ]
  },
  {
   "cell_type": "code",
   "execution_count": 27,
   "metadata": {
    "collapsed": false
   },
   "outputs": [],
   "source": [
    "kMeans = []\n",
    "kMeanArray = [\"K Value Mean\"]\n",
    "hitMeans = []\n",
    "hitMeanArray = [\"Hit Rate Mean\"]\n",
    "faMeans = []\n",
    "faMeanArray = [\"FA Rate Mean\"]\n",
    "\n",
    "for key in conds:\n",
    "    kMeans.append(Kchart[key].mean())\n",
    "    hitMeans.append(hitChart[key].mean())\n",
    "    faMeans.append(faChart[key].mean())"
   ]
  },
  {
   "cell_type": "code",
   "execution_count": 28,
   "metadata": {
    "collapsed": false
   },
   "outputs": [
    {
     "data": {
      "text/html": [
       "<div>\n",
       "<table border=\"1\" class=\"dataframe\">\n",
       "  <thead>\n",
       "    <tr style=\"text-align: right;\">\n",
       "      <th></th>\n",
       "      <th>K Value Mean</th>\n",
       "    </tr>\n",
       "  </thead>\n",
       "  <tbody>\n",
       "    <tr>\n",
       "      <th>t2d0</th>\n",
       "      <td>1.874852</td>\n",
       "    </tr>\n",
       "    <tr>\n",
       "      <th>t2d2</th>\n",
       "      <td>1.861744</td>\n",
       "    </tr>\n",
       "    <tr>\n",
       "      <th>t2d4</th>\n",
       "      <td>1.827942</td>\n",
       "    </tr>\n",
       "    <tr>\n",
       "      <th>t4d0</th>\n",
       "      <td>3.081322</td>\n",
       "    </tr>\n",
       "    <tr>\n",
       "      <th>t4d2</th>\n",
       "      <td>3.030853</td>\n",
       "    </tr>\n",
       "    <tr>\n",
       "      <th>t4d4</th>\n",
       "      <td>2.826375</td>\n",
       "    </tr>\n",
       "  </tbody>\n",
       "</table>\n",
       "</div>"
      ],
      "text/plain": [
       "      K Value Mean\n",
       "t2d0      1.874852\n",
       "t2d2      1.861744\n",
       "t2d4      1.827942\n",
       "t4d0      3.081322\n",
       "t4d2      3.030853\n",
       "t4d4      2.826375"
      ]
     },
     "execution_count": 28,
     "metadata": {},
     "output_type": "execute_result"
    }
   ],
   "source": [
    "kMeanChart = pd.DataFrame(kMeans, index=conds.keys(), columns=kMeanArray)\n",
    "kMeanChart"
   ]
  },
  {
   "cell_type": "code",
   "execution_count": 29,
   "metadata": {
    "collapsed": false
   },
   "outputs": [
    {
     "data": {
      "text/html": [
       "<div>\n",
       "<table border=\"1\" class=\"dataframe\">\n",
       "  <thead>\n",
       "    <tr style=\"text-align: right;\">\n",
       "      <th></th>\n",
       "      <th>Hit Rate Mean</th>\n",
       "    </tr>\n",
       "  </thead>\n",
       "  <tbody>\n",
       "    <tr>\n",
       "      <th>t2d0</th>\n",
       "      <td>0.938017</td>\n",
       "    </tr>\n",
       "    <tr>\n",
       "      <th>t2d2</th>\n",
       "      <td>0.931818</td>\n",
       "    </tr>\n",
       "    <tr>\n",
       "      <th>t2d4</th>\n",
       "      <td>0.917355</td>\n",
       "    </tr>\n",
       "    <tr>\n",
       "      <th>t4d0</th>\n",
       "      <td>0.800000</td>\n",
       "    </tr>\n",
       "    <tr>\n",
       "      <th>t4d2</th>\n",
       "      <td>0.781385</td>\n",
       "    </tr>\n",
       "    <tr>\n",
       "      <th>t4d4</th>\n",
       "      <td>0.749091</td>\n",
       "    </tr>\n",
       "  </tbody>\n",
       "</table>\n",
       "</div>"
      ],
      "text/plain": [
       "      Hit Rate Mean\n",
       "t2d0       0.938017\n",
       "t2d2       0.931818\n",
       "t2d4       0.917355\n",
       "t4d0       0.800000\n",
       "t4d2       0.781385\n",
       "t4d4       0.749091"
      ]
     },
     "execution_count": 29,
     "metadata": {},
     "output_type": "execute_result"
    }
   ],
   "source": [
    "hitMeanChart = pd.DataFrame(hitMeans, index=conds.keys(), columns=hitMeanArray)\n",
    "hitMeanChart"
   ]
  },
  {
   "cell_type": "code",
   "execution_count": 30,
   "metadata": {
    "collapsed": false
   },
   "outputs": [
    {
     "data": {
      "text/html": [
       "<div>\n",
       "<table border=\"1\" class=\"dataframe\">\n",
       "  <thead>\n",
       "    <tr style=\"text-align: right;\">\n",
       "      <th></th>\n",
       "      <th>FA Rate Mean</th>\n",
       "    </tr>\n",
       "  </thead>\n",
       "  <tbody>\n",
       "    <tr>\n",
       "      <th>t2d0</th>\n",
       "      <td>0.024793</td>\n",
       "    </tr>\n",
       "    <tr>\n",
       "      <th>t2d2</th>\n",
       "      <td>0.026515</td>\n",
       "    </tr>\n",
       "    <tr>\n",
       "      <th>t2d4</th>\n",
       "      <td>0.045455</td>\n",
       "    </tr>\n",
       "    <tr>\n",
       "      <th>t4d0</th>\n",
       "      <td>0.112727</td>\n",
       "    </tr>\n",
       "    <tr>\n",
       "      <th>t4d2</th>\n",
       "      <td>0.097403</td>\n",
       "    </tr>\n",
       "    <tr>\n",
       "      <th>t4d4</th>\n",
       "      <td>0.141818</td>\n",
       "    </tr>\n",
       "  </tbody>\n",
       "</table>\n",
       "</div>"
      ],
      "text/plain": [
       "      FA Rate Mean\n",
       "t2d0      0.024793\n",
       "t2d2      0.026515\n",
       "t2d4      0.045455\n",
       "t4d0      0.112727\n",
       "t4d2      0.097403\n",
       "t4d4      0.141818"
      ]
     },
     "execution_count": 30,
     "metadata": {},
     "output_type": "execute_result"
    }
   ],
   "source": [
    "faMeanChart = pd.DataFrame(faMeans, index=conds.keys(), columns=faMeanArray)\n",
    "faMeanChart"
   ]
  },
  {
   "cell_type": "code",
   "execution_count": 109,
   "metadata": {
    "collapsed": false
   },
   "outputs": [
    {
     "data": {
      "text/html": [
       "<div>\n",
       "<table border=\"1\" class=\"dataframe\">\n",
       "  <thead>\n",
       "    <tr style=\"text-align: right;\">\n",
       "      <th></th>\n",
       "      <th>t2d0</th>\n",
       "      <th>t2d2</th>\n",
       "      <th>t2d4</th>\n",
       "      <th>t4d0</th>\n",
       "      <th>t4d2</th>\n",
       "      <th>t4d4</th>\n",
       "    </tr>\n",
       "  </thead>\n",
       "  <tbody>\n",
       "    <tr>\n",
       "      <th>(1, 1)</th>\n",
       "      <td>0.574747</td>\n",
       "      <td>0.572350</td>\n",
       "      <td>0.644610</td>\n",
       "      <td>0.627789</td>\n",
       "      <td>0.618730</td>\n",
       "      <td>0.562695</td>\n",
       "    </tr>\n",
       "    <tr>\n",
       "      <th>(2, 2)</th>\n",
       "      <td>0.722870</td>\n",
       "      <td>0.693994</td>\n",
       "      <td>0.784007</td>\n",
       "      <td>0.723869</td>\n",
       "      <td>0.707966</td>\n",
       "      <td>0.796429</td>\n",
       "    </tr>\n",
       "    <tr>\n",
       "      <th>(3, 3)</th>\n",
       "      <td>0.584385</td>\n",
       "      <td>0.584791</td>\n",
       "      <td>0.635360</td>\n",
       "      <td>0.581585</td>\n",
       "      <td>0.620637</td>\n",
       "      <td>0.553202</td>\n",
       "    </tr>\n",
       "  </tbody>\n",
       "</table>\n",
       "</div>"
      ],
      "text/plain": [
       "            t2d0      t2d2      t2d4      t4d0      t4d2      t4d4\n",
       "(1, 1)  0.574747  0.572350  0.644610  0.627789  0.618730  0.562695\n",
       "(2, 2)  0.722870  0.693994  0.784007  0.723869  0.707966  0.796429\n",
       "(3, 3)  0.584385  0.584791  0.635360  0.581585  0.620637  0.553202"
      ]
     },
     "execution_count": 109,
     "metadata": {},
     "output_type": "execute_result"
    }
   ],
   "source": [
    "RTvals45c = []\n",
    "\n",
    "for sheet in dataSheets45c:\n",
    "    RTvals45c.append(rtCalc(sheet))\n",
    "\n",
    "RTchart45c = pd.DataFrame(RTvals45c, index=testRuns45c, columns=conds.keys())\n",
    "RTchart45c"
   ]
  },
  {
   "cell_type": "code",
   "execution_count": 112,
   "metadata": {
    "collapsed": false
   },
   "outputs": [
    {
     "data": {
      "text/plain": [
       "<matplotlib.axes._subplots.AxesSubplot at 0x10b91bcd0>"
      ]
     },
     "execution_count": 112,
     "metadata": {},
     "output_type": "execute_result"
    },
    {
     "data": {
      "image/png": "[encoded data removed]",
      "text/plain": [
       "<matplotlib.figure.Figure at 0x10a522750>"
      ]
     },
     "metadata": {},
     "output_type": "display_data"
    }
   ],
   "source": [
    "sns.barplot(data=RTchart45c)"
   ]
  },
  {
   "cell_type": "code",
   "execution_count": 110,
   "metadata": {
    "collapsed": false
   },
   "outputs": [
    {
     "data": {
      "text/html": [
       "<div>\n",
       "<table border=\"1\" class=\"dataframe\">\n",
       "  <thead>\n",
       "    <tr style=\"text-align: right;\">\n",
       "      <th></th>\n",
       "      <th>t2d0</th>\n",
       "      <th>t2d2</th>\n",
       "      <th>t2d4</th>\n",
       "      <th>t4d0</th>\n",
       "      <th>t4d2</th>\n",
       "      <th>t4d4</th>\n",
       "    </tr>\n",
       "  </thead>\n",
       "  <tbody>\n",
       "    <tr>\n",
       "      <th>(1, 3)</th>\n",
       "      <td>0.508622</td>\n",
       "      <td>0.526160</td>\n",
       "      <td>0.580501</td>\n",
       "      <td>0.532159</td>\n",
       "      <td>0.578542</td>\n",
       "      <td>0.594394</td>\n",
       "    </tr>\n",
       "    <tr>\n",
       "      <th>(2, 1)</th>\n",
       "      <td>0.773095</td>\n",
       "      <td>0.772773</td>\n",
       "      <td>0.803784</td>\n",
       "      <td>0.877950</td>\n",
       "      <td>0.864367</td>\n",
       "      <td>0.841620</td>\n",
       "    </tr>\n",
       "    <tr>\n",
       "      <th>(3, 2)</th>\n",
       "      <td>0.581511</td>\n",
       "      <td>0.592442</td>\n",
       "      <td>0.582520</td>\n",
       "      <td>0.633583</td>\n",
       "      <td>0.544039</td>\n",
       "      <td>0.557774</td>\n",
       "    </tr>\n",
       "  </tbody>\n",
       "</table>\n",
       "</div>"
      ],
      "text/plain": [
       "            t2d0      t2d2      t2d4      t4d0      t4d2      t4d4\n",
       "(1, 3)  0.508622  0.526160  0.580501  0.532159  0.578542  0.594394\n",
       "(2, 1)  0.773095  0.772773  0.803784  0.877950  0.864367  0.841620\n",
       "(3, 2)  0.581511  0.592442  0.582520  0.633583  0.544039  0.557774"
      ]
     },
     "execution_count": 110,
     "metadata": {},
     "output_type": "execute_result"
    }
   ],
   "source": [
    "RTvals45uc = []\n",
    "\n",
    "for sheet in dataSheets45uc:\n",
    "    RTvals45uc.append(rtCalc(sheet))\n",
    "\n",
    "RTchart45uc = pd.DataFrame(RTvals45uc, index=testRuns45uc, columns=conds.keys())\n",
    "RTchart45uc"
   ]
  },
  {
   "cell_type": "code",
   "execution_count": 113,
   "metadata": {
    "collapsed": false
   },
   "outputs": [
    {
     "data": {
      "text/plain": [
       "<matplotlib.axes._subplots.AxesSubplot at 0x10bc21d50>"
      ]
     },
     "execution_count": 113,
     "metadata": {},
     "output_type": "execute_result"
    },
    {
     "data": {
      "image/png": "[encoded data removed]",
      "text/plain": [
       "<matplotlib.figure.Figure at 0x10bcf7090>"
      ]
     },
     "metadata": {},
     "output_type": "display_data"
    }
   ],
   "source": [
    "sns.barplot(data=RTchart45uc)"
   ]
  },
  {
   "cell_type": "code",
   "execution_count": 111,
   "metadata": {
    "collapsed": false
   },
   "outputs": [
    {
     "data": {
      "text/html": [
       "<div>\n",
       "<table border=\"1\" class=\"dataframe\">\n",
       "  <thead>\n",
       "    <tr style=\"text-align: right;\">\n",
       "      <th></th>\n",
       "      <th>t2d0</th>\n",
       "      <th>t2d2</th>\n",
       "      <th>t2d4</th>\n",
       "      <th>t4d0</th>\n",
       "      <th>t4d2</th>\n",
       "      <th>t4d4</th>\n",
       "    </tr>\n",
       "  </thead>\n",
       "  <tbody>\n",
       "    <tr>\n",
       "      <th>(1, 2)</th>\n",
       "      <td>0.513881</td>\n",
       "      <td>0.547409</td>\n",
       "      <td>0.585790</td>\n",
       "      <td>0.536963</td>\n",
       "      <td>0.573434</td>\n",
       "      <td>0.651079</td>\n",
       "    </tr>\n",
       "    <tr>\n",
       "      <th>(2, 3)</th>\n",
       "      <td>0.715562</td>\n",
       "      <td>0.695718</td>\n",
       "      <td>0.767225</td>\n",
       "      <td>0.782107</td>\n",
       "      <td>0.795750</td>\n",
       "      <td>0.758134</td>\n",
       "    </tr>\n",
       "    <tr>\n",
       "      <th>(3, 1)</th>\n",
       "      <td>0.623195</td>\n",
       "      <td>0.680713</td>\n",
       "      <td>0.720138</td>\n",
       "      <td>0.622263</td>\n",
       "      <td>0.694311</td>\n",
       "      <td>0.676851</td>\n",
       "    </tr>\n",
       "  </tbody>\n",
       "</table>\n",
       "</div>"
      ],
      "text/plain": [
       "            t2d0      t2d2      t2d4      t4d0      t4d2      t4d4\n",
       "(1, 2)  0.513881  0.547409  0.585790  0.536963  0.573434  0.651079\n",
       "(2, 3)  0.715562  0.695718  0.767225  0.782107  0.795750  0.758134\n",
       "(3, 1)  0.623195  0.680713  0.720138  0.622263  0.694311  0.676851"
      ]
     },
     "execution_count": 111,
     "metadata": {},
     "output_type": "execute_result"
    }
   ],
   "source": [
    "RTvals30c = []\n",
    "\n",
    "for sheet in dataSheets30c:\n",
    "    RTvals30c.append(rtCalc(sheet))\n",
    "\n",
    "RTchart30c = pd.DataFrame(RTvals30c, index=testRuns30c, columns=conds.keys())\n",
    "RTchart30c"
   ]
  },
  {
   "cell_type": "code",
   "execution_count": 114,
   "metadata": {
    "collapsed": false
   },
   "outputs": [
    {
     "data": {
      "text/plain": [
       "<matplotlib.axes._subplots.AxesSubplot at 0x10be6af50>"
      ]
     },
     "execution_count": 114,
     "metadata": {},
     "output_type": "execute_result"
    },
    {
     "data": {
      "image/png": "[encoded data removed]",
      "text/plain": [
       "<matplotlib.figure.Figure at 0x10c0182d0>"
      ]
     },
     "metadata": {},
     "output_type": "display_data"
    }
   ],
   "source": [
    "sns.barplot(data=RTchart30c)"
   ]
  },
  {
   "cell_type": "code",
   "execution_count": 32,
   "metadata": {
    "collapsed": false
   },
   "outputs": [
    {
     "data": {
      "text/html": [
       "<div>\n",
       "<table border=\"1\" class=\"dataframe\">\n",
       "  <thead>\n",
       "    <tr style=\"text-align: right;\">\n",
       "      <th></th>\n",
       "      <th>t2d0</th>\n",
       "      <th>t2d2</th>\n",
       "      <th>t2d4</th>\n",
       "      <th>t4d0</th>\n",
       "      <th>t4d2</th>\n",
       "      <th>t4d4</th>\n",
       "    </tr>\n",
       "  </thead>\n",
       "  <tbody>\n",
       "    <tr>\n",
       "      <th>1</th>\n",
       "      <td>0.665072</td>\n",
       "      <td>0.667985</td>\n",
       "      <td>0.684072</td>\n",
       "      <td>0.694717</td>\n",
       "      <td>0.714754</td>\n",
       "      <td>0.684609</td>\n",
       "    </tr>\n",
       "    <tr>\n",
       "      <th>2</th>\n",
       "      <td>0.497482</td>\n",
       "      <td>0.517131</td>\n",
       "      <td>0.511526</td>\n",
       "      <td>0.548096</td>\n",
       "      <td>0.549750</td>\n",
       "      <td>0.591466</td>\n",
       "    </tr>\n",
       "    <tr>\n",
       "      <th>3</th>\n",
       "      <td>0.501411</td>\n",
       "      <td>0.519883</td>\n",
       "      <td>0.531617</td>\n",
       "      <td>0.562029</td>\n",
       "      <td>0.574005</td>\n",
       "      <td>0.598451</td>\n",
       "    </tr>\n",
       "    <tr>\n",
       "      <th>4</th>\n",
       "      <td>0.491929</td>\n",
       "      <td>0.549255</td>\n",
       "      <td>0.569890</td>\n",
       "      <td>0.629236</td>\n",
       "      <td>0.644616</td>\n",
       "      <td>0.655324</td>\n",
       "    </tr>\n",
       "  </tbody>\n",
       "</table>\n",
       "</div>"
      ],
      "text/plain": [
       "       t2d0      t2d2      t2d4      t4d0      t4d2      t4d4\n",
       "1  0.665072  0.667985  0.684072  0.694717  0.714754  0.684609\n",
       "2  0.497482  0.517131  0.511526  0.548096  0.549750  0.591466\n",
       "3  0.501411  0.519883  0.531617  0.562029  0.574005  0.598451\n",
       "4  0.491929  0.549255  0.569890  0.629236  0.644616  0.655324"
      ]
     },
     "execution_count": 32,
     "metadata": {},
     "output_type": "execute_result"
    }
   ],
   "source": [
    "rtSubjMeans = []\n",
    "index = 0\n",
    "for subj in subjRunCount.keys():\n",
    "    rtSubjMeans.append(RTchart[index:index+subjRunCount[subj]].mean())\n",
    "    index += subjRunCount[subj]\n",
    "\n",
    "rtSubjMeanChart = pd.DataFrame(rtSubjMeans, index=subjRunCount.keys(), columns=conds.keys())\n",
    "rtSubjMeanChart"
   ]
  },
  {
   "cell_type": "code",
   "execution_count": 33,
   "metadata": {
    "collapsed": false
   },
   "outputs": [
    {
     "data": {
      "text/html": [
       "<div>\n",
       "<table border=\"1\" class=\"dataframe\">\n",
       "  <thead>\n",
       "    <tr style=\"text-align: right;\">\n",
       "      <th></th>\n",
       "      <th>RT Mean</th>\n",
       "    </tr>\n",
       "  </thead>\n",
       "  <tbody>\n",
       "    <tr>\n",
       "      <th>t2d0</th>\n",
       "      <td>0.543251</td>\n",
       "    </tr>\n",
       "    <tr>\n",
       "      <th>t2d2</th>\n",
       "      <td>0.564864</td>\n",
       "    </tr>\n",
       "    <tr>\n",
       "      <th>t2d4</th>\n",
       "      <td>0.574675</td>\n",
       "    </tr>\n",
       "    <tr>\n",
       "      <th>t4d0</th>\n",
       "      <td>0.606636</td>\n",
       "    </tr>\n",
       "    <tr>\n",
       "      <th>t4d2</th>\n",
       "      <td>0.618614</td>\n",
       "    </tr>\n",
       "    <tr>\n",
       "      <th>t4d4</th>\n",
       "      <td>0.630384</td>\n",
       "    </tr>\n",
       "  </tbody>\n",
       "</table>\n",
       "</div>"
      ],
      "text/plain": [
       "       RT Mean\n",
       "t2d0  0.543251\n",
       "t2d2  0.564864\n",
       "t2d4  0.574675\n",
       "t4d0  0.606636\n",
       "t4d2  0.618614\n",
       "t4d4  0.630384"
      ]
     },
     "execution_count": 33,
     "metadata": {},
     "output_type": "execute_result"
    }
   ],
   "source": [
    "rtMeanArray = [\"RT Mean\"]\n",
    "\n",
    "rtMeans = []\n",
    "\n",
    "for key in conds:\n",
    "    rtMeans.append(RTchart[key].mean())\n",
    "    \n",
    "rtMeanChart = pd.DataFrame(rtMeans, index=conds.keys(), columns=rtMeanArray)\n",
    "rtMeanChart"
   ]
  },
  {
   "cell_type": "code",
   "execution_count": 115,
   "metadata": {
    "collapsed": false
   },
   "outputs": [
    {
     "data": {
      "text/html": [
       "<div>\n",
       "<table border=\"1\" class=\"dataframe\">\n",
       "  <thead>\n",
       "    <tr style=\"text-align: right;\">\n",
       "      <th></th>\n",
       "      <th>t2d0</th>\n",
       "      <th>t2d2</th>\n",
       "      <th>t2d4</th>\n",
       "      <th>t4d0</th>\n",
       "      <th>t4d2</th>\n",
       "      <th>t4d4</th>\n",
       "    </tr>\n",
       "  </thead>\n",
       "  <tbody>\n",
       "    <tr>\n",
       "      <th>(1, 1)</th>\n",
       "      <td>3.335601</td>\n",
       "      <td>3.570955</td>\n",
       "      <td>2.431981</td>\n",
       "      <td>2.760051</td>\n",
       "      <td>1.588586</td>\n",
       "      <td>1.577299</td>\n",
       "    </tr>\n",
       "    <tr>\n",
       "      <th>(2, 2)</th>\n",
       "      <td>2.787425</td>\n",
       "      <td>2.786137</td>\n",
       "      <td>2.748282</td>\n",
       "      <td>1.533446</td>\n",
       "      <td>1.208462</td>\n",
       "      <td>2.218385</td>\n",
       "    </tr>\n",
       "    <tr>\n",
       "      <th>(3, 3)</th>\n",
       "      <td>2.295207</td>\n",
       "      <td>1.435239</td>\n",
       "      <td>1.807967</td>\n",
       "      <td>1.763530</td>\n",
       "      <td>0.262968</td>\n",
       "      <td>0.733811</td>\n",
       "    </tr>\n",
       "  </tbody>\n",
       "</table>\n",
       "</div>"
      ],
      "text/plain": [
       "            t2d0      t2d2      t2d4      t4d0      t4d2      t4d4\n",
       "(1, 1)  3.335601  3.570955  2.431981  2.760051  1.588586  1.577299\n",
       "(2, 2)  2.787425  2.786137  2.748282  1.533446  1.208462  2.218385\n",
       "(3, 3)  2.295207  1.435239  1.807967  1.763530  0.262968  0.733811"
      ]
     },
     "execution_count": 115,
     "metadata": {},
     "output_type": "execute_result"
    }
   ],
   "source": [
    "dPrimes45c = []\n",
    "\n",
    "for sheet in dataSheets45c:\n",
    "    dPrimes45c.append(dprime(sheet))\n",
    "\n",
    "dpChart45c = pd.DataFrame(dPrimes45c, index=testRuns45c, columns=conds.keys())\n",
    "dpChart45c"
   ]
  },
  {
   "cell_type": "code",
   "execution_count": 118,
   "metadata": {
    "collapsed": false
   },
   "outputs": [
    {
     "data": {
      "text/plain": [
       "<matplotlib.axes._subplots.AxesSubplot at 0x10c1ddc50>"
      ]
     },
     "execution_count": 118,
     "metadata": {},
     "output_type": "execute_result"
    },
    {
     "data": {
      "image/png": "[encoded data removed]",
      "text/plain": [
       "<matplotlib.figure.Figure at 0x10bc58810>"
      ]
     },
     "metadata": {},
     "output_type": "display_data"
    }
   ],
   "source": [
    "sns.barplot(data=dpChart45c)"
   ]
  },
  {
   "cell_type": "code",
   "execution_count": 116,
   "metadata": {
    "collapsed": false
   },
   "outputs": [
    {
     "data": {
      "text/html": [
       "<div>\n",
       "<table border=\"1\" class=\"dataframe\">\n",
       "  <thead>\n",
       "    <tr style=\"text-align: right;\">\n",
       "      <th></th>\n",
       "      <th>t2d0</th>\n",
       "      <th>t2d2</th>\n",
       "      <th>t2d4</th>\n",
       "      <th>t4d0</th>\n",
       "      <th>t4d2</th>\n",
       "      <th>t4d4</th>\n",
       "    </tr>\n",
       "  </thead>\n",
       "  <tbody>\n",
       "    <tr>\n",
       "      <th>(1, 3)</th>\n",
       "      <td>3.335601</td>\n",
       "      <td>2.923981</td>\n",
       "      <td>4.000847</td>\n",
       "      <td>2.333528</td>\n",
       "      <td>2.055904</td>\n",
       "      <td>1.757828</td>\n",
       "    </tr>\n",
       "    <tr>\n",
       "      <th>(2, 1)</th>\n",
       "      <td>3.025799</td>\n",
       "      <td>2.021894</td>\n",
       "      <td>2.438480</td>\n",
       "      <td>1.024018</td>\n",
       "      <td>1.308611</td>\n",
       "      <td>1.289144</td>\n",
       "    </tr>\n",
       "    <tr>\n",
       "      <th>(3, 2)</th>\n",
       "      <td>2.438480</td>\n",
       "      <td>1.534121</td>\n",
       "      <td>2.349179</td>\n",
       "      <td>1.289144</td>\n",
       "      <td>1.157745</td>\n",
       "      <td>0.944304</td>\n",
       "    </tr>\n",
       "  </tbody>\n",
       "</table>\n",
       "</div>"
      ],
      "text/plain": [
       "            t2d0      t2d2      t2d4      t4d0      t4d2      t4d4\n",
       "(1, 3)  3.335601  2.923981  4.000847  2.333528  2.055904  1.757828\n",
       "(2, 1)  3.025799  2.021894  2.438480  1.024018  1.308611  1.289144\n",
       "(3, 2)  2.438480  1.534121  2.349179  1.289144  1.157745  0.944304"
      ]
     },
     "execution_count": 116,
     "metadata": {},
     "output_type": "execute_result"
    }
   ],
   "source": [
    "dPrimes45uc = []\n",
    "\n",
    "for sheet in dataSheets45uc:\n",
    "    dPrimes45uc.append(dprime(sheet))\n",
    "\n",
    "dpChart45uc = pd.DataFrame(dPrimes45uc, index=testRuns45uc, columns=conds.keys())\n",
    "dpChart45uc"
   ]
  },
  {
   "cell_type": "code",
   "execution_count": 119,
   "metadata": {
    "collapsed": false
   },
   "outputs": [
    {
     "data": {
      "text/plain": [
       "<matplotlib.axes._subplots.AxesSubplot at 0x10c5640d0>"
      ]
     },
     "execution_count": 119,
     "metadata": {},
     "output_type": "execute_result"
    },
    {
     "data": {
      "image/png": "[encoded data removed]",
      "text/plain": [
       "<matplotlib.figure.Figure at 0x10c006650>"
      ]
     },
     "metadata": {},
     "output_type": "display_data"
    }
   ],
   "source": [
    "sns.barplot(data=dpChart45uc)"
   ]
  },
  {
   "cell_type": "code",
   "execution_count": 117,
   "metadata": {
    "collapsed": false
   },
   "outputs": [
    {
     "data": {
      "text/html": [
       "<div>\n",
       "<table border=\"1\" class=\"dataframe\">\n",
       "  <thead>\n",
       "    <tr style=\"text-align: right;\">\n",
       "      <th></th>\n",
       "      <th>t2d0</th>\n",
       "      <th>t2d2</th>\n",
       "      <th>t2d4</th>\n",
       "      <th>t4d0</th>\n",
       "      <th>t4d2</th>\n",
       "      <th>t4d4</th>\n",
       "    </tr>\n",
       "  </thead>\n",
       "  <tbody>\n",
       "    <tr>\n",
       "      <th>(1, 2)</th>\n",
       "      <td>1.651668</td>\n",
       "      <td>2.921286</td>\n",
       "      <td>2.349179</td>\n",
       "      <td>1.556041</td>\n",
       "      <td>1.179123</td>\n",
       "      <td>1.225140</td>\n",
       "    </tr>\n",
       "    <tr>\n",
       "      <th>(2, 3)</th>\n",
       "      <td>2.295207</td>\n",
       "      <td>2.057484</td>\n",
       "      <td>1.326688</td>\n",
       "      <td>1.225140</td>\n",
       "      <td>0.878444</td>\n",
       "      <td>0.483162</td>\n",
       "    </tr>\n",
       "    <tr>\n",
       "      <th>(3, 1)</th>\n",
       "      <td>1.335178</td>\n",
       "      <td>1.435239</td>\n",
       "      <td>1.449363</td>\n",
       "      <td>0.941300</td>\n",
       "      <td>0.490444</td>\n",
       "      <td>0.000000</td>\n",
       "    </tr>\n",
       "  </tbody>\n",
       "</table>\n",
       "</div>"
      ],
      "text/plain": [
       "            t2d0      t2d2      t2d4      t4d0      t4d2      t4d4\n",
       "(1, 2)  1.651668  2.921286  2.349179  1.556041  1.179123  1.225140\n",
       "(2, 3)  2.295207  2.057484  1.326688  1.225140  0.878444  0.483162\n",
       "(3, 1)  1.335178  1.435239  1.449363  0.941300  0.490444  0.000000"
      ]
     },
     "execution_count": 117,
     "metadata": {},
     "output_type": "execute_result"
    }
   ],
   "source": [
    "dPrimes30c = []\n",
    "\n",
    "for sheet in dataSheets30c:\n",
    "    dPrimes30c.append(dprime(sheet))\n",
    "\n",
    "dpChart30c = pd.DataFrame(dPrimes30c, index=testRuns30c, columns=conds.keys())\n",
    "dpChart30c"
   ]
  },
  {
   "cell_type": "code",
   "execution_count": 120,
   "metadata": {
    "collapsed": false
   },
   "outputs": [
    {
     "data": {
      "text/plain": [
       "<matplotlib.axes._subplots.AxesSubplot at 0x10c85d650>"
      ]
     },
     "execution_count": 120,
     "metadata": {},
     "output_type": "execute_result"
    },
    {
     "data": {
      "image/png": "[encoded data removed]",
      "text/plain": [
       "<matplotlib.figure.Figure at 0x10c018f50>"
      ]
     },
     "metadata": {},
     "output_type": "display_data"
    }
   ],
   "source": [
    "sns.barplot(data=dpChart30c)"
   ]
  },
  {
   "cell_type": "code",
   "execution_count": 35,
   "metadata": {
    "collapsed": false
   },
   "outputs": [
    {
     "data": {
      "text/html": [
       "<div>\n",
       "<table border=\"1\" class=\"dataframe\">\n",
       "  <thead>\n",
       "    <tr style=\"text-align: right;\">\n",
       "      <th></th>\n",
       "      <th>t2d0</th>\n",
       "      <th>t2d2</th>\n",
       "      <th>t2d4</th>\n",
       "      <th>t4d0</th>\n",
       "      <th>t4d2</th>\n",
       "      <th>t4d4</th>\n",
       "    </tr>\n",
       "  </thead>\n",
       "  <tbody>\n",
       "    <tr>\n",
       "      <th>1</th>\n",
       "      <td>3.073418</td>\n",
       "      <td>3.135958</td>\n",
       "      <td>2.554795</td>\n",
       "      <td>1.900002</td>\n",
       "      <td>1.731733</td>\n",
       "      <td>1.527217</td>\n",
       "    </tr>\n",
       "    <tr>\n",
       "      <th>2</th>\n",
       "      <td>3.335652</td>\n",
       "      <td>3.611364</td>\n",
       "      <td>3.034395</td>\n",
       "      <td>2.089708</td>\n",
       "      <td>1.938556</td>\n",
       "      <td>1.668838</td>\n",
       "    </tr>\n",
       "    <tr>\n",
       "      <th>3</th>\n",
       "      <td>3.557350</td>\n",
       "      <td>4.180254</td>\n",
       "      <td>3.897580</td>\n",
       "      <td>2.362911</td>\n",
       "      <td>3.054177</td>\n",
       "      <td>2.887163</td>\n",
       "    </tr>\n",
       "    <tr>\n",
       "      <th>4</th>\n",
       "      <td>3.845946</td>\n",
       "      <td>3.669727</td>\n",
       "      <td>3.374565</td>\n",
       "      <td>2.814133</td>\n",
       "      <td>2.139244</td>\n",
       "      <td>1.474283</td>\n",
       "    </tr>\n",
       "  </tbody>\n",
       "</table>\n",
       "</div>"
      ],
      "text/plain": [
       "       t2d0      t2d2      t2d4      t4d0      t4d2      t4d4\n",
       "1  3.073418  3.135958  2.554795  1.900002  1.731733  1.527217\n",
       "2  3.335652  3.611364  3.034395  2.089708  1.938556  1.668838\n",
       "3  3.557350  4.180254  3.897580  2.362911  3.054177  2.887163\n",
       "4  3.845946  3.669727  3.374565  2.814133  2.139244  1.474283"
      ]
     },
     "execution_count": 35,
     "metadata": {},
     "output_type": "execute_result"
    }
   ],
   "source": [
    "dpSubjMeans = []\n",
    "index = 0\n",
    "for subj in subjRunCount.keys():\n",
    "    dpSubjMeans.append(dpChart[index:index+subjRunCount[subj]].mean())\n",
    "    index += subjRunCount[subj]\n",
    "\n",
    "dpSubjMeanChart = pd.DataFrame(dpSubjMeans, index=subjRunCount.keys(), columns=conds.keys())\n",
    "dpSubjMeanChart"
   ]
  },
  {
   "cell_type": "code",
   "execution_count": 36,
   "metadata": {
    "collapsed": false
   },
   "outputs": [
    {
     "data": {
      "text/html": [
       "<div>\n",
       "<table border=\"1\" class=\"dataframe\">\n",
       "  <thead>\n",
       "    <tr style=\"text-align: right;\">\n",
       "      <th></th>\n",
       "      <th>d' Mean</th>\n",
       "    </tr>\n",
       "  </thead>\n",
       "  <tbody>\n",
       "    <tr>\n",
       "      <th>t2d0</th>\n",
       "      <td>3.417377</td>\n",
       "    </tr>\n",
       "    <tr>\n",
       "      <th>t2d2</th>\n",
       "      <td>3.647471</td>\n",
       "    </tr>\n",
       "    <tr>\n",
       "      <th>t2d4</th>\n",
       "      <td>3.200858</td>\n",
       "    </tr>\n",
       "    <tr>\n",
       "      <th>t4d0</th>\n",
       "      <td>2.244193</td>\n",
       "    </tr>\n",
       "    <tr>\n",
       "      <th>t4d2</th>\n",
       "      <td>2.222898</td>\n",
       "    </tr>\n",
       "    <tr>\n",
       "      <th>t4d4</th>\n",
       "      <td>1.927111</td>\n",
       "    </tr>\n",
       "  </tbody>\n",
       "</table>\n",
       "</div>"
      ],
      "text/plain": [
       "       d' Mean\n",
       "t2d0  3.417377\n",
       "t2d2  3.647471\n",
       "t2d4  3.200858\n",
       "t4d0  2.244193\n",
       "t4d2  2.222898\n",
       "t4d4  1.927111"
      ]
     },
     "execution_count": 36,
     "metadata": {},
     "output_type": "execute_result"
    }
   ],
   "source": [
    "dpMeanArray = [\"d' Mean\"]\n",
    "\n",
    "dpMeans = []\n",
    "\n",
    "for key in conds:\n",
    "    dpMeans.append(dpChart[key].mean())\n",
    "    \n",
    "dpMeanChart = pd.DataFrame(dpMeans, index=conds.keys(), columns=dpMeanArray)\n",
    "dpMeanChart"
   ]
  },
  {
   "cell_type": "code",
   "execution_count": 43,
   "metadata": {
    "collapsed": false
   },
   "outputs": [
    {
     "data": {
      "text/plain": [
       "<matplotlib.axes._subplots.AxesSubplot at 0x10974f190>"
      ]
     },
     "execution_count": 43,
     "metadata": {},
     "output_type": "execute_result"
    },
    {
     "data": {
      "image/png": "[encoded data removed]",
      "text/plain": [
       "<matplotlib.figure.Figure at 0x109a18850>"
      ]
     },
     "metadata": {},
     "output_type": "display_data"
    }
   ],
   "source": [
    "sns.barplot(data=kSubjMeanChart)"
   ]
  },
  {
   "cell_type": "code",
   "execution_count": 44,
   "metadata": {
    "collapsed": false
   },
   "outputs": [
    {
     "data": {
      "text/plain": [
       "<matplotlib.axes._subplots.AxesSubplot at 0x1097c58d0>"
      ]
     },
     "execution_count": 44,
     "metadata": {},
     "output_type": "execute_result"
    },
    {
     "data": {
      "image/png": "[encoded data removed]",
      "text/plain": [
       "<matplotlib.figure.Figure at 0x109a60610>"
      ]
     },
     "metadata": {},
     "output_type": "display_data"
    }
   ],
   "source": [
    "sns.stripplot(data=Kchart, jitter=True)"
   ]
  },
  {
   "cell_type": "code",
   "execution_count": 45,
   "metadata": {
    "collapsed": false
   },
   "outputs": [
    {
     "data": {
      "text/plain": [
       "<matplotlib.axes._subplots.AxesSubplot at 0x109c750d0>"
      ]
     },
     "execution_count": 45,
     "metadata": {},
     "output_type": "execute_result"
    },
    {
     "data": {
      "image/png": "[encoded data removed]",
      "text/plain": [
       "<matplotlib.figure.Figure at 0x109cc1750>"
      ]
     },
     "metadata": {},
     "output_type": "display_data"
    }
   ],
   "source": [
    "sns.barplot(data = hitSubjMeanChart)"
   ]
  },
  {
   "cell_type": "code",
   "execution_count": 46,
   "metadata": {
    "collapsed": false
   },
   "outputs": [
    {
     "data": {
      "text/plain": [
       "<matplotlib.axes._subplots.AxesSubplot at 0x109c6d690>"
      ]
     },
     "execution_count": 46,
     "metadata": {},
     "output_type": "execute_result"
    },
    {
     "data": {
      "image/png": "[encoded data removed]",
      "text/plain": [
       "<matplotlib.figure.Figure at 0x109e3b810>"
      ]
     },
     "metadata": {},
     "output_type": "display_data"
    }
   ],
   "source": [
    "sns.barplot(data = rtSubjMeanChart)"
   ]
  },
  {
   "cell_type": "code",
   "execution_count": 49,
   "metadata": {
    "collapsed": false
   },
   "outputs": [
    {
     "data": {
      "text/plain": [
       "<matplotlib.axes._subplots.AxesSubplot at 0x10a568950>"
      ]
     },
     "execution_count": 49,
     "metadata": {},
     "output_type": "execute_result"
    },
    {
     "data": {
      "image/png": "[encoded data removed]",
      "text/plain": [
       "<matplotlib.figure.Figure at 0x10a73db90>"
      ]
     },
     "metadata": {},
     "output_type": "display_data"
    }
   ],
   "source": [
    "sns.barplot(data = dpSubjMeanChart)"
   ]
  },
  {
   "cell_type": "code",
   "execution_count": 42,
   "metadata": {
    "collapsed": false
   },
   "outputs": [
    {
     "data": {
      "text/plain": [
       "<matplotlib.axes._subplots.AxesSubplot at 0x1094176d0>"
      ]
     },
     "execution_count": 42,
     "metadata": {},
     "output_type": "execute_result"
    },
    {
     "data": {
      "image/png": "[encoded data removed]",
      "text/plain": [
       "<matplotlib.figure.Figure at 0x1091f4410>"
      ]
     },
     "metadata": {},
     "output_type": "display_data"
    }
   ],
   "source": [
    "sns.stripplot(data=dpChart, jitter=True)"
   ]
  },
  {
   "cell_type": "code",
   "execution_count": 136,
   "metadata": {
    "collapsed": false
   },
   "outputs": [
    {
     "data": {
      "text/html": [
       "<div>\n",
       "<table border=\"1\" class=\"dataframe\">\n",
       "  <thead>\n",
       "    <tr style=\"text-align: right;\">\n",
       "      <th></th>\n",
       "      <th>t2d0</th>\n",
       "      <th>t2d2</th>\n",
       "      <th>t2d4</th>\n",
       "      <th>t4d0</th>\n",
       "      <th>t4d2</th>\n",
       "      <th>t4d4</th>\n",
       "    </tr>\n",
       "  </thead>\n",
       "  <tbody>\n",
       "    <tr>\n",
       "      <th>(1, 2)</th>\n",
       "      <td>0.363636</td>\n",
       "      <td>0.729167</td>\n",
       "      <td>0.636364</td>\n",
       "      <td>0.56</td>\n",
       "      <td>0.619048</td>\n",
       "      <td>0.52</td>\n",
       "    </tr>\n",
       "    <tr>\n",
       "      <th>(2, 3)</th>\n",
       "      <td>0.727273</td>\n",
       "      <td>0.750000</td>\n",
       "      <td>0.590909</td>\n",
       "      <td>0.52</td>\n",
       "      <td>0.333333</td>\n",
       "      <td>0.36</td>\n",
       "    </tr>\n",
       "    <tr>\n",
       "      <th>(3, 1)</th>\n",
       "      <td>0.500000</td>\n",
       "      <td>0.520833</td>\n",
       "      <td>0.545455</td>\n",
       "      <td>0.64</td>\n",
       "      <td>0.523810</td>\n",
       "      <td>0.40</td>\n",
       "    </tr>\n",
       "  </tbody>\n",
       "</table>\n",
       "</div>"
      ],
      "text/plain": [
       "            t2d0      t2d2      t2d4  t4d0      t4d2  t4d4\n",
       "(1, 2)  0.363636  0.729167  0.636364  0.56  0.619048  0.52\n",
       "(2, 3)  0.727273  0.750000  0.590909  0.52  0.333333  0.36\n",
       "(3, 1)  0.500000  0.520833  0.545455  0.64  0.523810  0.40"
      ]
     },
     "execution_count": 136,
     "metadata": {},
     "output_type": "execute_result"
    }
   ],
   "source": [
    "hitChart30c = pd.DataFrame(hitRates30c, index=testRuns30c, columns=conds.keys())\n",
    "hitChart30c"
   ]
  },
  {
   "cell_type": "code",
   "execution_count": 137,
   "metadata": {
    "collapsed": false
   },
   "outputs": [
    {
     "data": {
      "text/html": [
       "<div>\n",
       "<table border=\"1\" class=\"dataframe\">\n",
       "  <thead>\n",
       "    <tr style=\"text-align: right;\">\n",
       "      <th></th>\n",
       "      <th>t2d0</th>\n",
       "      <th>t2d2</th>\n",
       "      <th>t2d4</th>\n",
       "      <th>t4d0</th>\n",
       "      <th>t4d2</th>\n",
       "      <th>t4d4</th>\n",
       "    </tr>\n",
       "  </thead>\n",
       "  <tbody>\n",
       "    <tr>\n",
       "      <th>(1, 1)</th>\n",
       "      <td>0.909091</td>\n",
       "      <td>0.937500</td>\n",
       "      <td>0.863636</td>\n",
       "      <td>0.76</td>\n",
       "      <td>0.809524</td>\n",
       "      <td>0.72</td>\n",
       "    </tr>\n",
       "    <tr>\n",
       "      <th>(2, 2)</th>\n",
       "      <td>0.863636</td>\n",
       "      <td>0.854167</td>\n",
       "      <td>0.772727</td>\n",
       "      <td>0.64</td>\n",
       "      <td>0.595238</td>\n",
       "      <td>0.68</td>\n",
       "    </tr>\n",
       "    <tr>\n",
       "      <th>(3, 3)</th>\n",
       "      <td>0.727273</td>\n",
       "      <td>0.520833</td>\n",
       "      <td>0.681818</td>\n",
       "      <td>0.64</td>\n",
       "      <td>0.380952</td>\n",
       "      <td>0.56</td>\n",
       "    </tr>\n",
       "  </tbody>\n",
       "</table>\n",
       "</div>"
      ],
      "text/plain": [
       "            t2d0      t2d2      t2d4  t4d0      t4d2  t4d4\n",
       "(1, 1)  0.909091  0.937500  0.863636  0.76  0.809524  0.72\n",
       "(2, 2)  0.863636  0.854167  0.772727  0.64  0.595238  0.68\n",
       "(3, 3)  0.727273  0.520833  0.681818  0.64  0.380952  0.56"
      ]
     },
     "execution_count": 137,
     "metadata": {},
     "output_type": "execute_result"
    }
   ],
   "source": [
    "hitChart45c = pd.DataFrame(hitRates45c, index=testRuns45c, columns=conds.keys())\n",
    "hitChart45c"
   ]
  },
  {
   "cell_type": "code",
   "execution_count": 138,
   "metadata": {
    "collapsed": false
   },
   "outputs": [
    {
     "data": {
      "text/html": [
       "<div>\n",
       "<table border=\"1\" class=\"dataframe\">\n",
       "  <thead>\n",
       "    <tr style=\"text-align: right;\">\n",
       "      <th></th>\n",
       "      <th>t2d0</th>\n",
       "      <th>t2d2</th>\n",
       "      <th>t2d4</th>\n",
       "      <th>t4d0</th>\n",
       "      <th>t4d2</th>\n",
       "      <th>t4d4</th>\n",
       "    </tr>\n",
       "  </thead>\n",
       "  <tbody>\n",
       "    <tr>\n",
       "      <th>(1, 3)</th>\n",
       "      <td>0.909091</td>\n",
       "      <td>0.812500</td>\n",
       "      <td>1.000000</td>\n",
       "      <td>0.72</td>\n",
       "      <td>0.809524</td>\n",
       "      <td>0.72</td>\n",
       "    </tr>\n",
       "    <tr>\n",
       "      <th>(2, 1)</th>\n",
       "      <td>0.954545</td>\n",
       "      <td>0.854167</td>\n",
       "      <td>0.772727</td>\n",
       "      <td>0.44</td>\n",
       "      <td>0.595238</td>\n",
       "      <td>0.72</td>\n",
       "    </tr>\n",
       "    <tr>\n",
       "      <th>(3, 2)</th>\n",
       "      <td>0.772727</td>\n",
       "      <td>0.500000</td>\n",
       "      <td>0.636364</td>\n",
       "      <td>0.76</td>\n",
       "      <td>0.642857</td>\n",
       "      <td>0.48</td>\n",
       "    </tr>\n",
       "  </tbody>\n",
       "</table>\n",
       "</div>"
      ],
      "text/plain": [
       "            t2d0      t2d2      t2d4  t4d0      t4d2  t4d4\n",
       "(1, 3)  0.909091  0.812500  1.000000  0.72  0.809524  0.72\n",
       "(2, 1)  0.954545  0.854167  0.772727  0.44  0.595238  0.72\n",
       "(3, 2)  0.772727  0.500000  0.636364  0.76  0.642857  0.48"
      ]
     },
     "execution_count": 138,
     "metadata": {},
     "output_type": "execute_result"
    }
   ],
   "source": [
    "hitChart45uc = pd.DataFrame(hitRates45uc, index=testRuns45uc, columns=conds.keys())\n",
    "hitChart45uc"
   ]
  },
  {
   "cell_type": "code",
   "execution_count": 139,
   "metadata": {
    "collapsed": false
   },
   "outputs": [
    {
     "data": {
      "text/plain": [
       "<matplotlib.axes._subplots.AxesSubplot at 0x10d19d110>"
      ]
     },
     "execution_count": 139,
     "metadata": {},
     "output_type": "execute_result"
    },
    {
     "data": {
      "image/png": "[encoded data removed]",
      "text/plain": [
       "<matplotlib.figure.Figure at 0x10c883d10>"
      ]
     },
     "metadata": {},
     "output_type": "display_data"
    }
   ],
   "source": [
    "sns.barplot(data=hitChart30c)"
   ]
  },
  {
   "cell_type": "code",
   "execution_count": 140,
   "metadata": {
    "collapsed": false
   },
   "outputs": [
    {
     "data": {
      "text/plain": [
       "<matplotlib.axes._subplots.AxesSubplot at 0x10da28fd0>"
      ]
     },
     "execution_count": 140,
     "metadata": {},
     "output_type": "execute_result"
    },
    {
     "data": {
      "image/png": "[encoded data removed]",
      "text/plain": [
       "<matplotlib.figure.Figure at 0x10d7c3290>"
      ]
     },
     "metadata": {},
     "output_type": "display_data"
    }
   ],
   "source": [
    "sns.stripplot(data=hitChart30c, jitter=True)"
   ]
  },
  {
   "cell_type": "code",
   "execution_count": 132,
   "metadata": {
    "collapsed": false
   },
   "outputs": [
    {
     "data": {
      "text/plain": [
       "<matplotlib.axes._subplots.AxesSubplot at 0x10cde2190>"
      ]
     },
     "execution_count": 132,
     "metadata": {},
     "output_type": "execute_result"
    },
    {
     "data": {
      "image/png": "[encoded data removed]",
      "text/plain": [
       "<matplotlib.figure.Figure at 0x10ca79550>"
      ]
     },
     "metadata": {},
     "output_type": "display_data"
    }
   ],
   "source": [
    "sns.barplot(data=hitChart45c)"
   ]
  },
  {
   "cell_type": "code",
   "execution_count": 134,
   "metadata": {
    "collapsed": false
   },
   "outputs": [
    {
     "data": {
      "text/plain": [
       "<matplotlib.axes._subplots.AxesSubplot at 0x10ce38e10>"
      ]
     },
     "execution_count": 134,
     "metadata": {},
     "output_type": "execute_result"
    },
    {
     "data": {
      "image/png": "[encoded data removed]",
      "text/plain": [
       "<matplotlib.figure.Figure at 0x10c37ba90>"
      ]
     },
     "metadata": {},
     "output_type": "display_data"
    }
   ],
   "source": [
    "sns.barplot(data=hitChart45uc)"
   ]
  },
  {
   "cell_type": "code",
   "execution_count": null,
   "metadata": {
    "collapsed": true
   },
   "outputs": [],
   "source": []
  }
 ],
 "metadata": {
  "kernelspec": {
   "display_name": "Python 2",
   "language": "python",
   "name": "python2"
  },
  "language_info": {
   "codemirror_mode": {
    "name": "ipython",
    "version": 2
   },
   "file_extension": ".py",
   "mimetype": "text/x-python",
   "name": "python",
   "nbconvert_exporter": "python",
   "pygments_lexer": "ipython2",
   "version": "2.7.11"
  }
 },
 "nbformat": 4,
 "nbformat_minor": 0
}
