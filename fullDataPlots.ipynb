{
 "cells": [
  {
   "cell_type": "code",
   "execution_count": 1,
   "metadata": {
    "collapsed": true
   },
   "outputs": [],
   "source": [
    "%matplotlib inline"
   ]
  },
  {
   "cell_type": "code",
   "execution_count": 2,
   "metadata": {
    "collapsed": false
   },
   "outputs": [
    {
     "name": "stderr",
     "output_type": "stream",
     "text": [
      "/Library/Frameworks/Python.framework/Versions/2.7/lib/python2.7/site-packages/IPython/html.py:14: ShimWarning: The `IPython.html` package has been deprecated. You should import from `notebook` instead. `IPython.html.widgets` has moved to `ipywidgets`.\n",
      "  \"`IPython.html.widgets` has moved to `ipywidgets`.\", ShimWarning)\n"
     ]
    }
   ],
   "source": [
    "import sys\n",
    "sys.dont_write_bytecode = True\n",
    "import seaborn as sns\n",
    "sns.set(style=\"whitegrid\", color_codes=True, font_scale=1.3)\n",
    "from ggplot import *\n",
    "from dataMethods import *\n",
    "from testRuns import *\n",
    "import pandas as pd\n",
    "import matplotlib.pyplot as plt"
   ]
  },
  {
   "cell_type": "code",
   "execution_count": 3,
   "metadata": {
    "collapsed": true
   },
   "outputs": [],
   "source": [
    "dataColumns = ['lHR', 'rHR', 'wHR', 'lK', 'rK', 'wK', 'lfaR', 'rfaR', 'wfaR', 'lHitRT', 'rHitRT', 'wHitRT', 'lFaRT'\n",
    "               , 'rFaRT', 'wFaRT', 'ldP', 'rdP', 'wdP', 'lCrit', 'rCrit', 'wCrit']"
   ]
  },
  {
   "cell_type": "code",
   "execution_count": 4,
   "metadata": {
    "collapsed": false
   },
   "outputs": [],
   "source": [
    "def createDF(testRuns):\n",
    "    data = pd.DataFrame()\n",
    "    i = 0\n",
    "    for (s,r) in testRuns:\n",
    "        stats = extractPerformance(s,r,'stim1')\n",
    "        leftHRs = stats['lHRs']\n",
    "        rightHRs = stats['rHRs']\n",
    "        wholeHRs = stats['wHRs']\n",
    "        leftKs = stats['lKs']\n",
    "        rightKs = stats['rKs']\n",
    "        wholeKs = stats['wKs']\n",
    "        leftfaRates = stats['lfaRates']\n",
    "        rightfaRates = stats['rfaRates']\n",
    "        wholefaRates = stats['wfaRates']\n",
    "        leftHitRTs = stats['lHitRTs']\n",
    "        rightHitRTs = stats['rHitRTs']\n",
    "        wholeHitRTs = stats['wHitRTs']\n",
    "        leftFaRTs = stats['lFaRTs']\n",
    "        rightFaRTs = stats['rFaRTs']\n",
    "        wholeFaRTs = stats['wFaRTs']\n",
    "        leftdPs = stats['ldPs']\n",
    "        rightdPs = stats['rdPs']\n",
    "        wholedPs = stats['wdPs']\n",
    "        leftCrits = stats['lCrits']\n",
    "        rightCrits = stats['rCrits']\n",
    "        wholeCrits = stats['wCrits']\n",
    "        for key in HFconds:\n",
    "            row = pd.Series([leftHRs[key],rightHRs[key], wholeHRs[key], leftKs[key], rightKs[key],\n",
    "                             wholeKs[key], leftfaRates[key], rightfaRates[key], wholefaRates[key],\n",
    "                            leftHitRTs[key], rightHitRTs[key], wholeHitRTs[key], leftFaRTs[key], \n",
    "                              rightFaRTs[key], wholeFaRTs[key], leftdPs[key], rightdPs[key], \n",
    "                              wholedPs[key], leftCrits[key], rightCrits[key], wholeCrits[key]],\n",
    "                            name = str(i), index=dataColumns)\n",
    "            row['targs'] = str(HFconds[key][0])\n",
    "            row['dists'] = str(HFconds[key][1])\n",
    "            row['subj'] = int(s)\n",
    "            row['run'] = int(r)\n",
    "            data = data.append(row)\n",
    "            i += 1\n",
    "    return data   "
   ]
  },
  {
   "cell_type": "code",
   "execution_count": 5,
   "metadata": {
    "collapsed": false
   },
   "outputs": [
    {
     "ename": "ZeroDivisionError",
     "evalue": "float division by zero",
     "output_type": "error",
     "traceback": [
      "\u001b[0;31m---------------------------------------------------------------------------\u001b[0m",
      "\u001b[0;31mZeroDivisionError\u001b[0m                         Traceback (most recent call last)",
      "\u001b[0;32m<ipython-input-5-c0a0e28cbc74>\u001b[0m in \u001b[0;36m<module>\u001b[0;34m()\u001b[0m\n\u001b[1;32m      2\u001b[0m \u001b[0;31m# rstimData = createDF(rstimTestRuns)\u001b[0m\u001b[0;34m\u001b[0m\u001b[0;34m\u001b[0m\u001b[0m\n\u001b[1;32m      3\u001b[0m \u001b[0;31m# shamData = createDF(shamTestRuns)\u001b[0m\u001b[0;34m\u001b[0m\u001b[0;34m\u001b[0m\u001b[0m\n\u001b[0;32m----> 4\u001b[0;31m \u001b[0mpilotData\u001b[0m \u001b[0;34m=\u001b[0m \u001b[0mcreateDF\u001b[0m\u001b[0;34m(\u001b[0m\u001b[0mpilotTestRuns\u001b[0m\u001b[0;34m)\u001b[0m\u001b[0;34m\u001b[0m\u001b[0m\n\u001b[0m\u001b[1;32m      5\u001b[0m \u001b[0;31m#TODO combine these data sets, have stim condition as column\u001b[0m\u001b[0;34m\u001b[0m\u001b[0;34m\u001b[0m\u001b[0m\n",
      "\u001b[0;32m<ipython-input-4-52ab3ef18a91>\u001b[0m in \u001b[0;36mcreateDF\u001b[0;34m(testRuns)\u001b[0m\n\u001b[1;32m      3\u001b[0m     \u001b[0mi\u001b[0m \u001b[0;34m=\u001b[0m \u001b[0;36m0\u001b[0m\u001b[0;34m\u001b[0m\u001b[0m\n\u001b[1;32m      4\u001b[0m     \u001b[0;32mfor\u001b[0m \u001b[0;34m(\u001b[0m\u001b[0ms\u001b[0m\u001b[0;34m,\u001b[0m\u001b[0mr\u001b[0m\u001b[0;34m)\u001b[0m \u001b[0;32min\u001b[0m \u001b[0mtestRuns\u001b[0m\u001b[0;34m:\u001b[0m\u001b[0;34m\u001b[0m\u001b[0m\n\u001b[0;32m----> 5\u001b[0;31m         \u001b[0mstats\u001b[0m \u001b[0;34m=\u001b[0m \u001b[0mextractPerformance\u001b[0m\u001b[0;34m(\u001b[0m\u001b[0ms\u001b[0m\u001b[0;34m,\u001b[0m\u001b[0mr\u001b[0m\u001b[0;34m,\u001b[0m\u001b[0;34m'behav6'\u001b[0m\u001b[0;34m)\u001b[0m\u001b[0;34m\u001b[0m\u001b[0m\n\u001b[0m\u001b[1;32m      6\u001b[0m         \u001b[0mleftHRs\u001b[0m \u001b[0;34m=\u001b[0m \u001b[0mstats\u001b[0m\u001b[0;34m[\u001b[0m\u001b[0;34m'lHRs'\u001b[0m\u001b[0;34m]\u001b[0m\u001b[0;34m\u001b[0m\u001b[0m\n\u001b[1;32m      7\u001b[0m         \u001b[0mrightHRs\u001b[0m \u001b[0;34m=\u001b[0m \u001b[0mstats\u001b[0m\u001b[0;34m[\u001b[0m\u001b[0;34m'rHRs'\u001b[0m\u001b[0;34m]\u001b[0m\u001b[0;34m\u001b[0m\u001b[0m\n",
      "\u001b[0;32m/Users/jonaheisenberg/Documents/Stanford/tacs_vmw_alpha/dataMethods.py\u001b[0m in \u001b[0;36mextractPerformance\u001b[0;34m(subj, run, testRound)\u001b[0m\n\u001b[1;32m    161\u001b[0m         \u001b[0mwFaRTs\u001b[0m\u001b[0;34m[\u001b[0m\u001b[0mkey\u001b[0m\u001b[0;34m]\u001b[0m \u001b[0;34m=\u001b[0m \u001b[0mrt\u001b[0m\u001b[0;34m(\u001b[0m\u001b[0mdf\u001b[0m\u001b[0;34m,\u001b[0m \u001b[0mresps\u001b[0m\u001b[0;34m,\u001b[0m \u001b[0mnoChanges\u001b[0m\u001b[0;34m,\u001b[0m \u001b[0mHFconds\u001b[0m\u001b[0;34m[\u001b[0m\u001b[0mkey\u001b[0m\u001b[0;34m]\u001b[0m\u001b[0;34m)\u001b[0m\u001b[0;34m\u001b[0m\u001b[0m\n\u001b[1;32m    162\u001b[0m \u001b[0;34m\u001b[0m\u001b[0m\n\u001b[0;32m--> 163\u001b[0;31m         \u001b[0mlPashler\u001b[0m \u001b[0;34m=\u001b[0m \u001b[0mpashlerK\u001b[0m\u001b[0;34m(\u001b[0m\u001b[0mlHits\u001b[0m\u001b[0;34m[\u001b[0m\u001b[0mkey\u001b[0m\u001b[0;34m]\u001b[0m\u001b[0;34m,\u001b[0m\u001b[0mlMisses\u001b[0m\u001b[0;34m[\u001b[0m\u001b[0mkey\u001b[0m\u001b[0;34m]\u001b[0m\u001b[0;34m,\u001b[0m\u001b[0mlFAs\u001b[0m\u001b[0;34m[\u001b[0m\u001b[0mkey\u001b[0m\u001b[0;34m]\u001b[0m\u001b[0;34m,\u001b[0m \u001b[0mlCRs\u001b[0m\u001b[0;34m[\u001b[0m\u001b[0mkey\u001b[0m\u001b[0;34m]\u001b[0m\u001b[0;34m,\u001b[0m \u001b[0mkey\u001b[0m\u001b[0;34m)\u001b[0m\u001b[0;34m\u001b[0m\u001b[0m\n\u001b[0m\u001b[1;32m    164\u001b[0m         \u001b[0mrPashler\u001b[0m \u001b[0;34m=\u001b[0m \u001b[0mpashlerK\u001b[0m\u001b[0;34m(\u001b[0m\u001b[0mrHits\u001b[0m\u001b[0;34m[\u001b[0m\u001b[0mkey\u001b[0m\u001b[0;34m]\u001b[0m\u001b[0;34m,\u001b[0m\u001b[0mrMisses\u001b[0m\u001b[0;34m[\u001b[0m\u001b[0mkey\u001b[0m\u001b[0;34m]\u001b[0m\u001b[0;34m,\u001b[0m\u001b[0mrFAs\u001b[0m\u001b[0;34m[\u001b[0m\u001b[0mkey\u001b[0m\u001b[0;34m]\u001b[0m\u001b[0;34m,\u001b[0m \u001b[0mrCRs\u001b[0m\u001b[0;34m[\u001b[0m\u001b[0mkey\u001b[0m\u001b[0;34m]\u001b[0m\u001b[0;34m,\u001b[0m \u001b[0mkey\u001b[0m\u001b[0;34m)\u001b[0m\u001b[0;34m\u001b[0m\u001b[0m\n\u001b[1;32m    165\u001b[0m         \u001b[0mwPashler\u001b[0m \u001b[0;34m=\u001b[0m \u001b[0mpashlerK\u001b[0m\u001b[0;34m(\u001b[0m\u001b[0mwHits\u001b[0m\u001b[0;34m[\u001b[0m\u001b[0mkey\u001b[0m\u001b[0;34m]\u001b[0m\u001b[0;34m,\u001b[0m\u001b[0mwMisses\u001b[0m\u001b[0;34m[\u001b[0m\u001b[0mkey\u001b[0m\u001b[0;34m]\u001b[0m\u001b[0;34m,\u001b[0m\u001b[0mwFAs\u001b[0m\u001b[0;34m[\u001b[0m\u001b[0mkey\u001b[0m\u001b[0;34m]\u001b[0m\u001b[0;34m,\u001b[0m \u001b[0mwCRs\u001b[0m\u001b[0;34m[\u001b[0m\u001b[0mkey\u001b[0m\u001b[0;34m]\u001b[0m\u001b[0;34m,\u001b[0m \u001b[0mkey\u001b[0m\u001b[0;34m)\u001b[0m\u001b[0;34m\u001b[0m\u001b[0m\n",
      "\u001b[0;32m/Users/jonaheisenberg/Documents/Stanford/tacs_vmw_alpha/dataMethods.py\u001b[0m in \u001b[0;36mpashlerK\u001b[0;34m(hits, misses, falarms, crejects, cond)\u001b[0m\n\u001b[1;32m     21\u001b[0m     \u001b[0mhitRate\u001b[0m \u001b[0;34m=\u001b[0m \u001b[0mhits\u001b[0m\u001b[0;34m/\u001b[0m\u001b[0;34m(\u001b[0m\u001b[0mhits\u001b[0m\u001b[0;34m+\u001b[0m\u001b[0mmisses\u001b[0m\u001b[0;34m)\u001b[0m\u001b[0;34m\u001b[0m\u001b[0m\n\u001b[1;32m     22\u001b[0m     \u001b[0mfaRate\u001b[0m \u001b[0;34m=\u001b[0m \u001b[0mfalarms\u001b[0m\u001b[0;34m/\u001b[0m\u001b[0;34m(\u001b[0m\u001b[0mfalarms\u001b[0m\u001b[0;34m+\u001b[0m\u001b[0mcrejects\u001b[0m\u001b[0;34m)\u001b[0m\u001b[0;34m\u001b[0m\u001b[0m\n\u001b[0;32m---> 23\u001b[0;31m     \u001b[0mK\u001b[0m \u001b[0;34m=\u001b[0m \u001b[0mint\u001b[0m\u001b[0;34m(\u001b[0m\u001b[0mS\u001b[0m\u001b[0;34m)\u001b[0m \u001b[0;34m*\u001b[0m \u001b[0;34m(\u001b[0m\u001b[0;34m(\u001b[0m\u001b[0mhitRate\u001b[0m \u001b[0;34m-\u001b[0m \u001b[0mfaRate\u001b[0m\u001b[0;34m)\u001b[0m \u001b[0;34m/\u001b[0m \u001b[0;34m(\u001b[0m\u001b[0;36m1\u001b[0m \u001b[0;34m-\u001b[0m \u001b[0mfaRate\u001b[0m\u001b[0;34m)\u001b[0m\u001b[0;34m)\u001b[0m\u001b[0;34m\u001b[0m\u001b[0m\n\u001b[0m\u001b[1;32m     24\u001b[0m     \u001b[0;32mreturn\u001b[0m \u001b[0;34m{\u001b[0m\u001b[0;34m'K'\u001b[0m\u001b[0;34m:\u001b[0m \u001b[0mK\u001b[0m\u001b[0;34m,\u001b[0m \u001b[0;34m'hitRate'\u001b[0m\u001b[0;34m:\u001b[0m \u001b[0mhitRate\u001b[0m\u001b[0;34m,\u001b[0m \u001b[0;34m'faRate'\u001b[0m\u001b[0;34m:\u001b[0m \u001b[0mfaRate\u001b[0m\u001b[0;34m}\u001b[0m\u001b[0;34m\u001b[0m\u001b[0m\n\u001b[1;32m     25\u001b[0m \u001b[0;34m\u001b[0m\u001b[0m\n",
      "\u001b[0;31mZeroDivisionError\u001b[0m: float division by zero"
     ]
    }
   ],
   "source": [
    "lstimData = createDF(lstimTestRuns)\n",
    "rstimData = createDF(rstimTestRuns)\n",
    "shamData = createDF(shamTestRuns)\n",
    "#TODO combine these data sets, have stim condition as column"
   ]
  },
  {
   "cell_type": "code",
   "execution_count": null,
   "metadata": {
    "collapsed": false
   },
   "outputs": [],
   "source": [
    "lstimData"
   ]
  },
  {
   "cell_type": "code",
   "execution_count": null,
   "metadata": {
    "collapsed": false
   },
   "outputs": [],
   "source": [
    "lstimWKPlot = sns.factorplot(data=lstimData,x='dists',y='wK',hue='targs')\n",
    "lstimWKPlot.fig.suptitle('whole-K under lstim')\n",
    "lstimWKPlot.set_axis_labels('dists', 'K')\n",
    "lstimWKPlot.fig.subplots_adjust(top=.9)\n",
    "plt.ylim(0, 1.8)"
   ]
  },
  {
   "cell_type": "code",
   "execution_count": null,
   "metadata": {
    "collapsed": false
   },
   "outputs": [],
   "source": [
    "lstimLKPlot = sns.factorplot(data=lstimData,x='dists',y='lK',hue='targs')\n",
    "lstimLKPlot.fig.suptitle('left-K under lstim')\n",
    "lstimLKPlot.set_axis_labels('dists', 'K')\n",
    "lstimLKPlot.fig.subplots_adjust(top=.9)\n",
    "plt.ylim(0, 1.8)"
   ]
  },
  {
   "cell_type": "code",
   "execution_count": null,
   "metadata": {
    "collapsed": false
   },
   "outputs": [],
   "source": [
    "lstimRKPlot = sns.factorplot(data=lstimData,x='dists',y='rK',hue='targs')\n",
    "lstimRKPlot.fig.suptitle('right-K under lstim')\n",
    "lstimRKPlot.set_axis_labels('dists', 'K')\n",
    "lstimRKPlot.fig.subplots_adjust(top=.9)\n",
    "plt.ylim(0, 1.8)"
   ]
  },
  {
   "cell_type": "code",
   "execution_count": null,
   "metadata": {
    "collapsed": false
   },
   "outputs": [],
   "source": [
    "lstimWdPPlot = sns.factorplot(data=lstimData,x='dists',y='wdP',hue='targs')\n",
    "lstimWdPPlot.fig.suptitle('whole-dP under lstim')\n",
    "lstimWdPPlot.set_axis_labels('dists', 'dP')\n",
    "lstimWdPPlot.fig.subplots_adjust(top=.9)\n",
    "plt.ylim(1, 3.5)"
   ]
  },
  {
   "cell_type": "code",
   "execution_count": null,
   "metadata": {
    "collapsed": false
   },
   "outputs": [],
   "source": [
    "lstimLdPPlot = sns.factorplot(data=lstimData,x='dists',y='ldP',hue='targs')\n",
    "lstimLdPPlot.fig.suptitle('left-dP under lstim')\n",
    "lstimLdPPlot.set_axis_labels('dists', 'dP')\n",
    "lstimLdPPlot.fig.subplots_adjust(top=.9)\n",
    "plt.ylim(0, 2.5)"
   ]
  },
  {
   "cell_type": "code",
   "execution_count": null,
   "metadata": {
    "collapsed": false
   },
   "outputs": [],
   "source": [
    "lstimRdPPlot = sns.factorplot(data=lstimData,x='dists',y='rdP',hue='targs')\n",
    "lstimRdPPlot.fig.suptitle('right-dP under lstim')\n",
    "lstimRdPPlot.set_axis_labels('dists', 'dP')\n",
    "lstimRdPPlot.fig.subplots_adjust(top=.9)\n",
    "plt.ylim(0, 2.5)"
   ]
  },
  {
   "cell_type": "code",
   "execution_count": null,
   "metadata": {
    "collapsed": false
   },
   "outputs": [],
   "source": [
    "rstimWKPlot = sns.factorplot(data=rstimData,x='dists',y='wK',hue='targs')\n",
    "rstimWKPlot.fig.suptitle('whole-K under rstim')\n",
    "rstimWKPlot.set_axis_labels('dists', 'K')\n",
    "rstimWKPlot.fig.subplots_adjust(top=.9)\n",
    "plt.ylim(0, 1.8)"
   ]
  },
  {
   "cell_type": "code",
   "execution_count": null,
   "metadata": {
    "collapsed": false
   },
   "outputs": [],
   "source": [
    "rstimLKPlot = sns.factorplot(data=rstimData,x='dists',y='lK',hue='targs')\n",
    "rstimLKPlot.fig.suptitle('left-K under rstim')\n",
    "rstimLKPlot.set_axis_labels('dists', 'K')\n",
    "rstimLKPlot.fig.subplots_adjust(top=.9)\n",
    "plt.ylim(0, 1.8)"
   ]
  },
  {
   "cell_type": "code",
   "execution_count": null,
   "metadata": {
    "collapsed": false
   },
   "outputs": [],
   "source": [
    "rstimRKPlot = sns.factorplot(data=rstimData,x='dists',y='rK',hue='targs')\n",
    "rstimRKPlot.fig.suptitle('right-K under rstim')\n",
    "rstimRKPlot.set_axis_labels('dists', 'K')\n",
    "rstimRKPlot.fig.subplots_adjust(top=.9)\n",
    "plt.ylim(0, 1.8)"
   ]
  },
  {
   "cell_type": "code",
   "execution_count": null,
   "metadata": {
    "collapsed": false
   },
   "outputs": [],
   "source": [
    "rstimWdPPlot = sns.factorplot(data=rstimData,x='dists',y='wdP',hue='targs')\n",
    "rstimWdPPlot.fig.suptitle('whole-dP under rstim')\n",
    "rstimWdPPlot.set_axis_labels('dists', 'dP')\n",
    "rstimWdPPlot.fig.subplots_adjust(top=.9)\n",
    "plt.ylim(1, 3.5)"
   ]
  },
  {
   "cell_type": "code",
   "execution_count": null,
   "metadata": {
    "collapsed": false
   },
   "outputs": [],
   "source": [
    "rstimLdPPlot = sns.factorplot(data=rstimData,x='dists',y='ldP',hue='targs')\n",
    "rstimLdPPlot.fig.suptitle('left-dP under rstim')\n",
    "rstimLdPPlot.set_axis_labels('dists', 'dP')\n",
    "rstimLdPPlot.fig.subplots_adjust(top=.9)\n",
    "plt.ylim(0, 2.5)"
   ]
  },
  {
   "cell_type": "code",
   "execution_count": null,
   "metadata": {
    "collapsed": false
   },
   "outputs": [],
   "source": [
    "rstimRdPPlot = sns.factorplot(data=rstimData,x='dists',y='rdP',hue='targs')\n",
    "rstimRdPPlot.fig.suptitle('right-dP under rstim')\n",
    "rstimRdPPlot.set_axis_labels('dists', 'dP')\n",
    "rstimRdPPlot.fig.subplots_adjust(top=.9)\n",
    "plt.ylim(0, 2.5)"
   ]
  },
  {
   "cell_type": "code",
   "execution_count": null,
   "metadata": {
    "collapsed": false
   },
   "outputs": [],
   "source": [
    "shamWdPPlot = sns.factorplot(data=shamData,x='dists',y='wdP',hue='targs')\n",
    "shamWdPPlot.fig.suptitle('whole-dP under sham')\n",
    "shamWdPPlot.set_axis_labels('dists', 'dP')\n",
    "shamWdPPlot.fig.subplots_adjust(top=.9)\n",
    "plt.ylim(1, 3.5)"
   ]
  },
  {
   "cell_type": "code",
   "execution_count": null,
   "metadata": {
    "collapsed": false
   },
   "outputs": [],
   "source": [
    "shamLdPPlot = sns.factorplot(data=shamData,x='dists',y='ldP',hue='targs')\n",
    "shamLdPPlot.fig.suptitle('left-dP under sham')\n",
    "shamLdPPlot.set_axis_labels('dists', 'dP')\n",
    "shamLdPPlot.fig.subplots_adjust(top=.9)\n",
    "plt.ylim(0, 2.5)"
   ]
  },
  {
   "cell_type": "code",
   "execution_count": null,
   "metadata": {
    "collapsed": false
   },
   "outputs": [],
   "source": [
    "shamRdPPlot = sns.factorplot(data=shamData,x='dists',y='rdP',hue='targs')\n",
    "shamRdPPlot.fig.suptitle('right-dP under sham')\n",
    "shamRdPPlot.set_axis_labels('dists', 'dP')\n",
    "shamRdPPlot.fig.subplots_adjust(top=.9)\n",
    "plt.ylim(0, 2.5)"
   ]
  },
  {
   "cell_type": "code",
   "execution_count": null,
   "metadata": {
    "collapsed": false
   },
   "outputs": [],
   "source": [
    "leftLHRPlot = sns.factorplot(data=lstimData,x='dists',y='lHR',hue='targs')\n",
    "leftLHRPlot.fig.suptitle('left-HR under lstim')\n",
    "leftLHRPlot.set_axis_labels('dists', 'HR')\n",
    "leftLHRPlot.fig.subplots_adjust(top=.9)\n",
    "plt.ylim(0, 1)"
   ]
  },
  {
   "cell_type": "code",
   "execution_count": null,
   "metadata": {
    "collapsed": false
   },
   "outputs": [],
   "source": [
    "leftRHRPlot = sns.factorplot(data=lstimData,x='dists',y='rHR',hue='targs')\n",
    "leftRHRPlot.fig.suptitle('right-HR under lstim')\n",
    "leftRHRPlot.set_axis_labels('dists', 'HR')\n",
    "leftRHRPlot.fig.subplots_adjust(top=.9)\n",
    "plt.ylim(0, 1)"
   ]
  },
  {
   "cell_type": "code",
   "execution_count": null,
   "metadata": {
    "collapsed": false
   },
   "outputs": [],
   "source": [
    "rightLHRPlot = sns.factorplot(data=rstimData,x='dists',y='lHR',hue='targs')\n",
    "rightLHRPlot.fig.suptitle('left-HR under rstim')\n",
    "rightLHRPlot.set_axis_labels('dists', 'HR')\n",
    "rightLHRPlot.fig.subplots_adjust(top=.9)\n",
    "plt.ylim(0, 1)"
   ]
  },
  {
   "cell_type": "code",
   "execution_count": null,
   "metadata": {
    "collapsed": false
   },
   "outputs": [],
   "source": [
    "rightRHRPlot = sns.factorplot(data=rstimData,x='dists',y='rHR',hue='targs')\n",
    "rightRHRPlot.fig.suptitle('right-HR under rstim')\n",
    "rightRHRPlot.set_axis_labels('dists', 'HR')\n",
    "rightRHRPlot.fig.subplots_adjust(top=.9)\n",
    "plt.ylim(0, 1)"
   ]
  },
  {
   "cell_type": "code",
   "execution_count": null,
   "metadata": {
    "collapsed": false
   },
   "outputs": [],
   "source": [
    "shamLHRPlot = sns.factorplot(data=shamData,x='dists',y='lHR',hue='targs')\n",
    "shamLHRPlot.fig.suptitle('left-HR under sham')\n",
    "shamLHRPlot.set_axis_labels('dists', 'HR')\n",
    "shamLHRPlot.fig.subplots_adjust(top=.9)\n",
    "plt.ylim(0, 1)"
   ]
  },
  {
   "cell_type": "code",
   "execution_count": null,
   "metadata": {
    "collapsed": false
   },
   "outputs": [],
   "source": [
    "shamRHRPlot = sns.factorplot(data=shamData,x='dists',y='rHR',hue='targs')\n",
    "shamRHRPlot.fig.suptitle('right-HR under sham')\n",
    "shamRHRPlot.set_axis_labels('dists', 'HR')\n",
    "shamRHRPlot.fig.subplots_adjust(top=.9)\n",
    "plt.ylim(0, 1)"
   ]
  },
  {
   "cell_type": "code",
   "execution_count": null,
   "metadata": {
    "collapsed": false
   },
   "outputs": [],
   "source": [
    "leftLRTPlot = sns.factorplot(data=lstimData,x='dists',y='lHitRT',hue='targs')\n",
    "leftLRTPlot.fig.suptitle('left-RT under lstim')\n",
    "leftLRTPlot.set_axis_labels('dists', 'RT')\n",
    "leftLRTPlot.fig.subplots_adjust(top=.9)\n",
    "plt.ylim(0, 1)"
   ]
  },
  {
   "cell_type": "code",
   "execution_count": null,
   "metadata": {
    "collapsed": false
   },
   "outputs": [],
   "source": [
    "leftRRTPlot = sns.factorplot(data=lstimData,x='dists',y='rHitRT',hue='targs')\n",
    "leftRRTPlot.fig.suptitle('right-RT under lstim')\n",
    "leftRRTPlot.set_axis_labels('dists', 'RT')\n",
    "leftRRTPlot.fig.subplots_adjust(top=.9)\n",
    "plt.ylim(0, 1)"
   ]
  },
  {
   "cell_type": "code",
   "execution_count": null,
   "metadata": {
    "collapsed": false
   },
   "outputs": [],
   "source": [
    "rightLRTPlot = sns.factorplot(data=rstimData,x='dists',y='lHitRT',hue='targs')\n",
    "rightLRTPlot.fig.suptitle('left-RT under rstim')\n",
    "rightLRTPlot.set_axis_labels('dists', 'RT')\n",
    "rightLRTPlot.fig.subplots_adjust(top=.9)\n",
    "plt.ylim(0, 1)"
   ]
  },
  {
   "cell_type": "code",
   "execution_count": null,
   "metadata": {
    "collapsed": false
   },
   "outputs": [],
   "source": [
    "rightRRTPlot = sns.factorplot(data=rstimData,x='dists',y='rHitRT',hue='targs')\n",
    "rightRRTPlot.fig.suptitle('right-RT under rstim')\n",
    "rightRRTPlot.set_axis_labels('dists', 'RT')\n",
    "rightRRTPlot.fig.subplots_adjust(top=.9)\n",
    "plt.ylim(0, 1)"
   ]
  },
  {
   "cell_type": "code",
   "execution_count": null,
   "metadata": {
    "collapsed": false
   },
   "outputs": [],
   "source": [
    "shamLRTPlot = sns.factorplot(data=shamData,x='dists',y='lHitRT',hue='targs')\n",
    "shamLRTPlot.fig.suptitle('left-RT under sham')\n",
    "shamLRTPlot.set_axis_labels('dists', 'RT')\n",
    "shamLRTPlot.fig.subplots_adjust(top=.9)\n",
    "plt.ylim(0, 1)"
   ]
  },
  {
   "cell_type": "code",
   "execution_count": null,
   "metadata": {
    "collapsed": false
   },
   "outputs": [],
   "source": [
    "shamRRTPlot = sns.factorplot(data=shamData,x='dists',y='rHitRT',hue='targs')\n",
    "shamRRTPlot.fig.suptitle('right-RT under sham')\n",
    "shamRRTPlot.set_axis_labels('dists', 'RT')\n",
    "shamRRTPlot.fig.subplots_adjust(top=.9)\n",
    "plt.ylim(0, 1)"
   ]
  },
  {
   "cell_type": "code",
   "execution_count": null,
   "metadata": {
    "collapsed": false
   },
   "outputs": [],
   "source": [
    "lData = lstimData.reset_index()\n",
    "rData = rstimData.reset_index()\n",
    "sData = shamData.reset_index()\n",
    "normData = pd.DataFrame()\n",
    "normData['lstimLK'] = lData['lK'].sub(sData['lK'], axis=0)\n",
    "normData['lstimRK'] = lData['rK'].sub(sData['rK'], axis=0)\n",
    "normData['rstimLK'] = rData['lK'].sub(sData['lK'], axis=0)\n",
    "normData['rstimRK'] = rData['rK'].sub(sData['rK'], axis=0)\n",
    "normData['lstimLdP'] = lData['ldP'].sub(sData['ldP'], axis=0)\n",
    "normData['lstimRdP'] = lData['rdP'].sub(sData['rdP'], axis=0)\n",
    "normData['rstimLdP'] = rData['ldP'].sub(sData['ldP'], axis=0)\n",
    "normData['rstimRdP'] = rData['rdP'].sub(sData['rdP'], axis=0)\n",
    "normData['targs'] = rData['targs']\n",
    "normData['dists'] = rData['dists']"
   ]
  },
  {
   "cell_type": "code",
   "execution_count": null,
   "metadata": {
    "collapsed": false
   },
   "outputs": [],
   "source": [
    "lnormLdPPlot = sns.factorplot(data=normData,x='dists',y='lstimLdP',hue='targs')\n",
    "lnormLdPPlot.fig.suptitle('left-dP normalized under lstim')\n",
    "lnormLdPPlot.set_axis_labels('dists', 'dP')\n",
    "lnormLdPPlot.fig.subplots_adjust(top=.9)\n",
    "plt.ylim(-1, 1)"
   ]
  },
  {
   "cell_type": "code",
   "execution_count": null,
   "metadata": {
    "collapsed": false
   },
   "outputs": [],
   "source": [
    "lnormRdPPlot = sns.factorplot(data=normData,x='dists',y='lstimRdP',hue='targs')\n",
    "lnormRdPPlot.fig.suptitle('right-dP normalized under lstim')\n",
    "lnormRdPPlot.set_axis_labels('dists', 'dP')\n",
    "lnormRdPPlot.fig.subplots_adjust(top=.9)\n",
    "plt.ylim(-1, 1)"
   ]
  },
  {
   "cell_type": "code",
   "execution_count": null,
   "metadata": {
    "collapsed": false
   },
   "outputs": [],
   "source": [
    "rnormLdPPlot = sns.factorplot(data=normData,x='dists',y='rstimLdP',hue='targs')\n",
    "rnormLdPPlot.fig.suptitle('left-dP normalized under rstim')\n",
    "rnormLdPPlot.set_axis_labels('dists', 'dP')\n",
    "rnormLdPPlot.fig.subplots_adjust(top=.9)\n",
    "plt.ylim(-1, 1)"
   ]
  },
  {
   "cell_type": "code",
   "execution_count": null,
   "metadata": {
    "collapsed": false
   },
   "outputs": [],
   "source": [
    "rnormRdPPlot = sns.factorplot(data=normData,x='dists',y='rstimRdP',hue='targs')\n",
    "rnormRdPPlot.fig.suptitle('right-dP normalized under rstim')\n",
    "rnormRdPPlot.set_axis_labels('dists', 'dP')\n",
    "rnormRdPPlot.fig.subplots_adjust(top=.9)\n",
    "plt.ylim(-1, 1)"
   ]
  },
  {
   "cell_type": "code",
   "execution_count": null,
   "metadata": {
    "collapsed": false
   },
   "outputs": [],
   "source": [
    "lnormLHRPlot = sns.factorplot(data=normData,x='dists',y='lstimLK',hue='targs')\n",
    "lnormLHRPlot.fig.suptitle('left-K normalized under lstim')\n",
    "lnormLHRPlot.set_axis_labels('dists', 'K')\n",
    "lnormLHRPlot.fig.subplots_adjust(top=.9)\n",
    "plt.ylim(-1, 1)"
   ]
  },
  {
   "cell_type": "code",
   "execution_count": null,
   "metadata": {
    "collapsed": false
   },
   "outputs": [],
   "source": [
    "lnormRKPlot = sns.factorplot(data=normData,x='dists',y='lstimRK',hue='targs')\n",
    "lnormRKPlot.fig.suptitle('right-K normalized under lstim')\n",
    "lnormRKPlot.set_axis_labels('dists', 'K')\n",
    "lnormRKPlot.fig.subplots_adjust(top=.9)\n",
    "plt.ylim(-1, 1)"
   ]
  },
  {
   "cell_type": "code",
   "execution_count": null,
   "metadata": {
    "collapsed": false
   },
   "outputs": [],
   "source": [
    "rnormLKPlot = sns.factorplot(data=normData,x='dists',y='rstimLK',hue='targs')\n",
    "rnormLKPlot.fig.suptitle('left-K normalized under rstim')\n",
    "rnormLKPlot.set_axis_labels('dists', 'K')\n",
    "rnormLKPlot.fig.subplots_adjust(top=.9)\n",
    "plt.ylim(-1, 1)"
   ]
  },
  {
   "cell_type": "code",
   "execution_count": null,
   "metadata": {
    "collapsed": false
   },
   "outputs": [],
   "source": [
    "rnormRKPlot = sns.factorplot(data=normData,x='dists',y='rstimRK',hue='targs')\n",
    "rnormRKPlot.fig.suptitle('right-K normalized under rstim')\n",
    "rnormRKPlot.set_axis_labels('dists', 'K')\n",
    "rnormRKPlot.fig.subplots_adjust(top=.9)\n",
    "plt.ylim(-1, 1)"
   ]
  },
  {
   "cell_type": "code",
   "execution_count": null,
   "metadata": {
    "collapsed": true
   },
   "outputs": [],
   "source": []
  }
 ],
 "metadata": {
  "kernelspec": {
   "display_name": "Python 2",
   "language": "python",
   "name": "python2"
  },
  "language_info": {
   "codemirror_mode": {
    "name": "ipython",
    "version": 2
   },
   "file_extension": ".py",
   "mimetype": "text/x-python",
   "name": "python",
   "nbconvert_exporter": "python",
   "pygments_lexer": "ipython2",
   "version": "2.7.11"
  }
 },
 "nbformat": 4,
 "nbformat_minor": 0
}
