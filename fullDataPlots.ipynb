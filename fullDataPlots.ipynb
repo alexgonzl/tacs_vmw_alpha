{
 "cells": [
  {
   "cell_type": "code",
   "execution_count": 1,
   "metadata": {
    "collapsed": true
   },
   "outputs": [],
   "source": [
    "%matplotlib inline"
   ]
  },
  {
   "cell_type": "code",
   "execution_count": 2,
   "metadata": {
    "collapsed": false
   },
   "outputs": [
    {
     "name": "stderr",
     "output_type": "stream",
     "text": [
      "/Library/Frameworks/Python.framework/Versions/2.7/lib/python2.7/site-packages/IPython/html.py:14: ShimWarning: The `IPython.html` package has been deprecated. You should import from `notebook` instead. `IPython.html.widgets` has moved to `ipywidgets`.\n",
      "  \"`IPython.html.widgets` has moved to `ipywidgets`.\", ShimWarning)\n"
     ]
    }
   ],
   "source": [
    "import sys\n",
    "sys.dont_write_bytecode = True\n",
    "import seaborn as sns\n",
    "sns.set(style=\"whitegrid\", color_codes=True, font_scale=1.3)\n",
    "from ggplot import *\n",
    "from dataMethods import *\n",
    "from testRuns import *\n",
    "import pandas as pd\n",
    "import matplotlib.pyplot as plt"
   ]
  },
  {
   "cell_type": "code",
   "execution_count": 3,
   "metadata": {
    "collapsed": true
   },
   "outputs": [],
   "source": [
    "dataColumns = ['lHR', 'rHR', 'wHR', 'lK', 'rK', 'wK', 'lfaR', 'rfaR', 'wfaR', 'lHitRT', 'rHitRT', 'wHitRT', 'lFaRT'\n",
    "               , 'rFaRT', 'wFaRT', 'ldP', 'rdP', 'wdP', 'lCrit', 'rCrit', 'wCrit']"
   ]
  },
  {
   "cell_type": "code",
   "execution_count": 4,
   "metadata": {
    "collapsed": false
   },
   "outputs": [],
   "source": [
    "def createDF(testRuns):\n",
    "    data = pd.DataFrame()\n",
    "    i = 0\n",
    "    for (s,r) in testRuns:\n",
    "        stats = extractPerformance(s,r,'stim1')\n",
    "        leftHRs = stats['lHRs']\n",
    "        rightHRs = stats['rHRs']\n",
    "        wholeHRs = stats['wHRs']\n",
    "        leftKs = stats['lKs']\n",
    "        rightKs = stats['rKs']\n",
    "        wholeKs = stats['wKs']\n",
    "        leftfaRates = stats['lfaRates']\n",
    "        rightfaRates = stats['rfaRates']\n",
    "        wholefaRates = stats['wfaRates']\n",
    "        leftHitRTs = stats['lHitRTs']\n",
    "        rightHitRTs = stats['rHitRTs']\n",
    "        wholeHitRTs = stats['wHitRTs']\n",
    "        leftFaRTs = stats['lFaRTs']\n",
    "        rightFaRTs = stats['rFaRTs']\n",
    "        wholeFaRTs = stats['wFaRTs']\n",
    "        leftdPs = stats['ldPs']\n",
    "        rightdPs = stats['rdPs']\n",
    "        wholedPs = stats['wdPs']\n",
    "        leftCrits = stats['lCrits']\n",
    "        rightCrits = stats['rCrits']\n",
    "        wholeCrits = stats['wCrits']\n",
    "        for key in HFconds:\n",
    "            row = pd.Series([leftHRs[key],rightHRs[key], wholeHRs[key], leftKs[key], rightKs[key],\n",
    "                             wholeKs[key], leftfaRates[key], rightfaRates[key], wholefaRates[key],\n",
    "                            leftHitRTs[key], rightHitRTs[key], wholeHitRTs[key], leftFaRTs[key], \n",
    "                              rightFaRTs[key], wholeFaRTs[key], leftdPs[key], rightdPs[key], \n",
    "                              wholedPs[key], leftCrits[key], rightCrits[key], wholeCrits[key]],\n",
    "                            name = str(i), index=dataColumns)\n",
    "            row['targs'] = str(HFconds[key][0])\n",
    "            row['dists'] = str(HFconds[key][1])\n",
    "            row['subj'] = int(s)\n",
    "            row['run'] = int(r)\n",
    "            data = data.append(row)\n",
    "            i += 1\n",
    "    return data   "
   ]
  },
  {
   "cell_type": "code",
   "execution_count": 5,
   "metadata": {
    "collapsed": false
   },
   "outputs": [],
   "source": [
    "lstimData = createDF(lstimTestRuns)\n",
    "rstimData = createDF(rstimTestRuns)\n",
    "shamData = createDF(shamTestRuns)"
   ]
  },
  {
   "cell_type": "code",
   "execution_count": 6,
   "metadata": {
    "collapsed": false
   },
   "outputs": [
    {
     "data": {
      "text/html": [
       "<div>\n",
       "<table border=\"1\" class=\"dataframe\">\n",
       "  <thead>\n",
       "    <tr style=\"text-align: right;\">\n",
       "      <th></th>\n",
       "      <th>dists</th>\n",
       "      <th>lCrit</th>\n",
       "      <th>lFaRT</th>\n",
       "      <th>lHR</th>\n",
       "      <th>lHitRT</th>\n",
       "      <th>lK</th>\n",
       "      <th>ldP</th>\n",
       "      <th>lfaR</th>\n",
       "      <th>rCrit</th>\n",
       "      <th>rFaRT</th>\n",
       "      <th>...</th>\n",
       "      <th>run</th>\n",
       "      <th>subj</th>\n",
       "      <th>targs</th>\n",
       "      <th>wCrit</th>\n",
       "      <th>wFaRT</th>\n",
       "      <th>wHR</th>\n",
       "      <th>wHitRT</th>\n",
       "      <th>wK</th>\n",
       "      <th>wdP</th>\n",
       "      <th>wfaR</th>\n",
       "    </tr>\n",
       "  </thead>\n",
       "  <tbody>\n",
       "    <tr>\n",
       "      <th>6</th>\n",
       "      <td>0</td>\n",
       "      <td>-0.169312</td>\n",
       "      <td>0.484797</td>\n",
       "      <td>0.8125</td>\n",
       "      <td>0.501730</td>\n",
       "      <td>0.735294</td>\n",
       "      <td>1.435669</td>\n",
       "      <td>0.291667</td>\n",
       "      <td>-0.270027</td>\n",
       "      <td>0.501730</td>\n",
       "      <td>...</td>\n",
       "      <td>2.0</td>\n",
       "      <td>3.0</td>\n",
       "      <td>1</td>\n",
       "      <td>0.571942</td>\n",
       "      <td>NaN</td>\n",
       "      <td>0.84375</td>\n",
       "      <td>0.501293</td>\n",
       "      <td>0.843750</td>\n",
       "      <td>3.163865</td>\n",
       "      <td>0.0000</td>\n",
       "    </tr>\n",
       "    <tr>\n",
       "      <th>7</th>\n",
       "      <td>1</td>\n",
       "      <td>0.040138</td>\n",
       "      <td>0.484340</td>\n",
       "      <td>0.8125</td>\n",
       "      <td>0.484860</td>\n",
       "      <td>0.775000</td>\n",
       "      <td>1.854568</td>\n",
       "      <td>0.166667</td>\n",
       "      <td>0.305147</td>\n",
       "      <td>0.484860</td>\n",
       "      <td>...</td>\n",
       "      <td>2.0</td>\n",
       "      <td>3.0</td>\n",
       "      <td>1</td>\n",
       "      <td>0.875812</td>\n",
       "      <td>NaN</td>\n",
       "      <td>0.65625</td>\n",
       "      <td>0.484860</td>\n",
       "      <td>0.656250</td>\n",
       "      <td>2.556125</td>\n",
       "      <td>0.0000</td>\n",
       "    </tr>\n",
       "    <tr>\n",
       "      <th>8</th>\n",
       "      <td>2</td>\n",
       "      <td>0.291836</td>\n",
       "      <td>0.451533</td>\n",
       "      <td>0.7500</td>\n",
       "      <td>0.518307</td>\n",
       "      <td>0.720930</td>\n",
       "      <td>1.932651</td>\n",
       "      <td>0.104167</td>\n",
       "      <td>0.581633</td>\n",
       "      <td>0.518307</td>\n",
       "      <td>...</td>\n",
       "      <td>2.0</td>\n",
       "      <td>3.0</td>\n",
       "      <td>1</td>\n",
       "      <td>1.037731</td>\n",
       "      <td>NaN</td>\n",
       "      <td>0.53125</td>\n",
       "      <td>0.501503</td>\n",
       "      <td>0.531250</td>\n",
       "      <td>2.232287</td>\n",
       "      <td>0.0000</td>\n",
       "    </tr>\n",
       "    <tr>\n",
       "      <th>9</th>\n",
       "      <td>0</td>\n",
       "      <td>0.258590</td>\n",
       "      <td>0.551152</td>\n",
       "      <td>0.5625</td>\n",
       "      <td>0.501665</td>\n",
       "      <td>0.833333</td>\n",
       "      <td>0.831800</td>\n",
       "      <td>0.250000</td>\n",
       "      <td>0.211477</td>\n",
       "      <td>0.517500</td>\n",
       "      <td>...</td>\n",
       "      <td>2.0</td>\n",
       "      <td>3.0</td>\n",
       "      <td>2</td>\n",
       "      <td>0.648459</td>\n",
       "      <td>0.659774</td>\n",
       "      <td>0.59375</td>\n",
       "      <td>0.501665</td>\n",
       "      <td>1.133333</td>\n",
       "      <td>1.771323</td>\n",
       "      <td>0.0625</td>\n",
       "    </tr>\n",
       "    <tr>\n",
       "      <th>10</th>\n",
       "      <td>1</td>\n",
       "      <td>0.443573</td>\n",
       "      <td>0.468140</td>\n",
       "      <td>0.5000</td>\n",
       "      <td>0.593161</td>\n",
       "      <td>0.769231</td>\n",
       "      <td>0.887147</td>\n",
       "      <td>0.187500</td>\n",
       "      <td>0.405055</td>\n",
       "      <td>0.593161</td>\n",
       "      <td>...</td>\n",
       "      <td>2.0</td>\n",
       "      <td>3.0</td>\n",
       "      <td>2</td>\n",
       "      <td>1.037731</td>\n",
       "      <td>NaN</td>\n",
       "      <td>0.53125</td>\n",
       "      <td>0.518135</td>\n",
       "      <td>1.062500</td>\n",
       "      <td>2.232287</td>\n",
       "      <td>0.0000</td>\n",
       "    </tr>\n",
       "    <tr>\n",
       "      <th>11</th>\n",
       "      <td>2</td>\n",
       "      <td>0.367917</td>\n",
       "      <td>0.551606</td>\n",
       "      <td>0.6250</td>\n",
       "      <td>0.526449</td>\n",
       "      <td>1.121951</td>\n",
       "      <td>1.373112</td>\n",
       "      <td>0.145833</td>\n",
       "      <td>0.484764</td>\n",
       "      <td>0.526449</td>\n",
       "      <td>...</td>\n",
       "      <td>2.0</td>\n",
       "      <td>3.0</td>\n",
       "      <td>2</td>\n",
       "      <td>1.037731</td>\n",
       "      <td>NaN</td>\n",
       "      <td>0.53125</td>\n",
       "      <td>0.534661</td>\n",
       "      <td>1.062500</td>\n",
       "      <td>2.232287</td>\n",
       "      <td>0.0000</td>\n",
       "    </tr>\n",
       "  </tbody>\n",
       "</table>\n",
       "<p>6 rows × 25 columns</p>\n",
       "</div>"
      ],
      "text/plain": [
       "   dists     lCrit     lFaRT     lHR    lHitRT        lK       ldP      lfaR  \\\n",
       "6      0 -0.169312  0.484797  0.8125  0.501730  0.735294  1.435669  0.291667   \n",
       "7      1  0.040138  0.484340  0.8125  0.484860  0.775000  1.854568  0.166667   \n",
       "8      2  0.291836  0.451533  0.7500  0.518307  0.720930  1.932651  0.104167   \n",
       "9      0  0.258590  0.551152  0.5625  0.501665  0.833333  0.831800  0.250000   \n",
       "10     1  0.443573  0.468140  0.5000  0.593161  0.769231  0.887147  0.187500   \n",
       "11     2  0.367917  0.551606  0.6250  0.526449  1.121951  1.373112  0.145833   \n",
       "\n",
       "       rCrit     rFaRT   ...    run  subj  targs     wCrit     wFaRT      wHR  \\\n",
       "6  -0.270027  0.501730   ...    2.0   3.0      1  0.571942       NaN  0.84375   \n",
       "7   0.305147  0.484860   ...    2.0   3.0      1  0.875812       NaN  0.65625   \n",
       "8   0.581633  0.518307   ...    2.0   3.0      1  1.037731       NaN  0.53125   \n",
       "9   0.211477  0.517500   ...    2.0   3.0      2  0.648459  0.659774  0.59375   \n",
       "10  0.405055  0.593161   ...    2.0   3.0      2  1.037731       NaN  0.53125   \n",
       "11  0.484764  0.526449   ...    2.0   3.0      2  1.037731       NaN  0.53125   \n",
       "\n",
       "      wHitRT        wK       wdP    wfaR  \n",
       "6   0.501293  0.843750  3.163865  0.0000  \n",
       "7   0.484860  0.656250  2.556125  0.0000  \n",
       "8   0.501503  0.531250  2.232287  0.0000  \n",
       "9   0.501665  1.133333  1.771323  0.0625  \n",
       "10  0.518135  1.062500  2.232287  0.0000  \n",
       "11  0.534661  1.062500  2.232287  0.0000  \n",
       "\n",
       "[6 rows x 25 columns]"
      ]
     },
     "execution_count": 6,
     "metadata": {},
     "output_type": "execute_result"
    }
   ],
   "source": [
    "lstimData[lstimData['subj']==3]"
   ]
  },
  {
   "cell_type": "code",
   "execution_count": 7,
   "metadata": {
    "collapsed": false
   },
   "outputs": [
    {
     "data": {
      "text/html": [
       "<div>\n",
       "<table border=\"1\" class=\"dataframe\">\n",
       "  <thead>\n",
       "    <tr style=\"text-align: right;\">\n",
       "      <th></th>\n",
       "      <th>dists</th>\n",
       "      <th>lCrit</th>\n",
       "      <th>lFaRT</th>\n",
       "      <th>lHR</th>\n",
       "      <th>lHitRT</th>\n",
       "      <th>lK</th>\n",
       "      <th>ldP</th>\n",
       "      <th>lfaR</th>\n",
       "      <th>rCrit</th>\n",
       "      <th>rFaRT</th>\n",
       "      <th>...</th>\n",
       "      <th>run</th>\n",
       "      <th>subj</th>\n",
       "      <th>targs</th>\n",
       "      <th>wCrit</th>\n",
       "      <th>wFaRT</th>\n",
       "      <th>wHR</th>\n",
       "      <th>wHitRT</th>\n",
       "      <th>wK</th>\n",
       "      <th>wdP</th>\n",
       "      <th>wfaR</th>\n",
       "    </tr>\n",
       "  </thead>\n",
       "  <tbody>\n",
       "    <tr>\n",
       "      <th>0</th>\n",
       "      <td>0</td>\n",
       "      <td>-0.469960</td>\n",
       "      <td>0.509806</td>\n",
       "      <td>0.8750</td>\n",
       "      <td>0.501179</td>\n",
       "      <td>0.785714</td>\n",
       "      <td>1.360778</td>\n",
       "      <td>0.416667</td>\n",
       "      <td>-0.772046</td>\n",
       "      <td>0.501179</td>\n",
       "      <td>...</td>\n",
       "      <td>1.0</td>\n",
       "      <td>2.0</td>\n",
       "      <td>1</td>\n",
       "      <td>-0.191886</td>\n",
       "      <td>0.518106</td>\n",
       "      <td>0.93750</td>\n",
       "      <td>0.501523</td>\n",
       "      <td>0.928571</td>\n",
       "      <td>2.684470</td>\n",
       "      <td>0.12500</td>\n",
       "    </tr>\n",
       "    <tr>\n",
       "      <th>1</th>\n",
       "      <td>1</td>\n",
       "      <td>-0.000000</td>\n",
       "      <td>0.484763</td>\n",
       "      <td>0.8125</td>\n",
       "      <td>0.468147</td>\n",
       "      <td>0.769231</td>\n",
       "      <td>1.774293</td>\n",
       "      <td>0.187500</td>\n",
       "      <td>0.274261</td>\n",
       "      <td>0.493160</td>\n",
       "      <td>...</td>\n",
       "      <td>1.0</td>\n",
       "      <td>2.0</td>\n",
       "      <td>1</td>\n",
       "      <td>0.730241</td>\n",
       "      <td>0.717696</td>\n",
       "      <td>0.65625</td>\n",
       "      <td>0.484716</td>\n",
       "      <td>0.645161</td>\n",
       "      <td>2.264982</td>\n",
       "      <td>0.03125</td>\n",
       "    </tr>\n",
       "    <tr>\n",
       "      <th>2</th>\n",
       "      <td>2</td>\n",
       "      <td>-0.131601</td>\n",
       "      <td>0.501460</td>\n",
       "      <td>0.8750</td>\n",
       "      <td>0.542718</td>\n",
       "      <td>0.846154</td>\n",
       "      <td>2.037496</td>\n",
       "      <td>0.187500</td>\n",
       "      <td>0.244388</td>\n",
       "      <td>0.550848</td>\n",
       "      <td>...</td>\n",
       "      <td>1.0</td>\n",
       "      <td>2.0</td>\n",
       "      <td>1</td>\n",
       "      <td>0.686978</td>\n",
       "      <td>0.751481</td>\n",
       "      <td>0.68750</td>\n",
       "      <td>0.526285</td>\n",
       "      <td>0.677419</td>\n",
       "      <td>2.351508</td>\n",
       "      <td>0.03125</td>\n",
       "    </tr>\n",
       "    <tr>\n",
       "      <th>3</th>\n",
       "      <td>0</td>\n",
       "      <td>-0.150197</td>\n",
       "      <td>0.534814</td>\n",
       "      <td>0.7500</td>\n",
       "      <td>0.542987</td>\n",
       "      <td>1.225806</td>\n",
       "      <td>1.048585</td>\n",
       "      <td>0.354167</td>\n",
       "      <td>-0.492799</td>\n",
       "      <td>0.542987</td>\n",
       "      <td>...</td>\n",
       "      <td>1.0</td>\n",
       "      <td>2.0</td>\n",
       "      <td>2</td>\n",
       "      <td>0.262065</td>\n",
       "      <td>0.496651</td>\n",
       "      <td>0.84375</td>\n",
       "      <td>0.534814</td>\n",
       "      <td>1.666667</td>\n",
       "      <td>2.544111</td>\n",
       "      <td>0.06250</td>\n",
       "    </tr>\n",
       "    <tr>\n",
       "      <th>4</th>\n",
       "      <td>1</td>\n",
       "      <td>-0.330786</td>\n",
       "      <td>0.584838</td>\n",
       "      <td>0.8750</td>\n",
       "      <td>0.484819</td>\n",
       "      <td>1.636364</td>\n",
       "      <td>1.639126</td>\n",
       "      <td>0.312500</td>\n",
       "      <td>-0.228210</td>\n",
       "      <td>0.493193</td>\n",
       "      <td>...</td>\n",
       "      <td>1.0</td>\n",
       "      <td>2.0</td>\n",
       "      <td>2</td>\n",
       "      <td>0.262065</td>\n",
       "      <td>0.743492</td>\n",
       "      <td>0.84375</td>\n",
       "      <td>0.501448</td>\n",
       "      <td>1.666667</td>\n",
       "      <td>2.544111</td>\n",
       "      <td>0.06250</td>\n",
       "    </tr>\n",
       "    <tr>\n",
       "      <th>5</th>\n",
       "      <td>2</td>\n",
       "      <td>-0.092857</td>\n",
       "      <td>0.551539</td>\n",
       "      <td>0.7500</td>\n",
       "      <td>0.509621</td>\n",
       "      <td>1.272727</td>\n",
       "      <td>1.163266</td>\n",
       "      <td>0.312500</td>\n",
       "      <td>-0.270027</td>\n",
       "      <td>0.517983</td>\n",
       "      <td>...</td>\n",
       "      <td>1.0</td>\n",
       "      <td>2.0</td>\n",
       "      <td>2</td>\n",
       "      <td>0.487793</td>\n",
       "      <td>0.935153</td>\n",
       "      <td>0.81250</td>\n",
       "      <td>0.542768</td>\n",
       "      <td>1.612903</td>\n",
       "      <td>2.749878</td>\n",
       "      <td>0.03125</td>\n",
       "    </tr>\n",
       "    <tr>\n",
       "      <th>6</th>\n",
       "      <td>0</td>\n",
       "      <td>-0.169312</td>\n",
       "      <td>0.484797</td>\n",
       "      <td>0.8125</td>\n",
       "      <td>0.501730</td>\n",
       "      <td>0.735294</td>\n",
       "      <td>1.435669</td>\n",
       "      <td>0.291667</td>\n",
       "      <td>-0.270027</td>\n",
       "      <td>0.501730</td>\n",
       "      <td>...</td>\n",
       "      <td>2.0</td>\n",
       "      <td>3.0</td>\n",
       "      <td>1</td>\n",
       "      <td>0.571942</td>\n",
       "      <td>NaN</td>\n",
       "      <td>0.84375</td>\n",
       "      <td>0.501293</td>\n",
       "      <td>0.843750</td>\n",
       "      <td>3.163865</td>\n",
       "      <td>0.00000</td>\n",
       "    </tr>\n",
       "    <tr>\n",
       "      <th>7</th>\n",
       "      <td>1</td>\n",
       "      <td>0.040138</td>\n",
       "      <td>0.484340</td>\n",
       "      <td>0.8125</td>\n",
       "      <td>0.484860</td>\n",
       "      <td>0.775000</td>\n",
       "      <td>1.854568</td>\n",
       "      <td>0.166667</td>\n",
       "      <td>0.305147</td>\n",
       "      <td>0.484860</td>\n",
       "      <td>...</td>\n",
       "      <td>2.0</td>\n",
       "      <td>3.0</td>\n",
       "      <td>1</td>\n",
       "      <td>0.875812</td>\n",
       "      <td>NaN</td>\n",
       "      <td>0.65625</td>\n",
       "      <td>0.484860</td>\n",
       "      <td>0.656250</td>\n",
       "      <td>2.556125</td>\n",
       "      <td>0.00000</td>\n",
       "    </tr>\n",
       "    <tr>\n",
       "      <th>8</th>\n",
       "      <td>2</td>\n",
       "      <td>0.291836</td>\n",
       "      <td>0.451533</td>\n",
       "      <td>0.7500</td>\n",
       "      <td>0.518307</td>\n",
       "      <td>0.720930</td>\n",
       "      <td>1.932651</td>\n",
       "      <td>0.104167</td>\n",
       "      <td>0.581633</td>\n",
       "      <td>0.518307</td>\n",
       "      <td>...</td>\n",
       "      <td>2.0</td>\n",
       "      <td>3.0</td>\n",
       "      <td>1</td>\n",
       "      <td>1.037731</td>\n",
       "      <td>NaN</td>\n",
       "      <td>0.53125</td>\n",
       "      <td>0.501503</td>\n",
       "      <td>0.531250</td>\n",
       "      <td>2.232287</td>\n",
       "      <td>0.00000</td>\n",
       "    </tr>\n",
       "    <tr>\n",
       "      <th>9</th>\n",
       "      <td>0</td>\n",
       "      <td>0.258590</td>\n",
       "      <td>0.551152</td>\n",
       "      <td>0.5625</td>\n",
       "      <td>0.501665</td>\n",
       "      <td>0.833333</td>\n",
       "      <td>0.831800</td>\n",
       "      <td>0.250000</td>\n",
       "      <td>0.211477</td>\n",
       "      <td>0.517500</td>\n",
       "      <td>...</td>\n",
       "      <td>2.0</td>\n",
       "      <td>3.0</td>\n",
       "      <td>2</td>\n",
       "      <td>0.648459</td>\n",
       "      <td>0.659774</td>\n",
       "      <td>0.59375</td>\n",
       "      <td>0.501665</td>\n",
       "      <td>1.133333</td>\n",
       "      <td>1.771323</td>\n",
       "      <td>0.06250</td>\n",
       "    </tr>\n",
       "    <tr>\n",
       "      <th>10</th>\n",
       "      <td>1</td>\n",
       "      <td>0.443573</td>\n",
       "      <td>0.468140</td>\n",
       "      <td>0.5000</td>\n",
       "      <td>0.593161</td>\n",
       "      <td>0.769231</td>\n",
       "      <td>0.887147</td>\n",
       "      <td>0.187500</td>\n",
       "      <td>0.405055</td>\n",
       "      <td>0.593161</td>\n",
       "      <td>...</td>\n",
       "      <td>2.0</td>\n",
       "      <td>3.0</td>\n",
       "      <td>2</td>\n",
       "      <td>1.037731</td>\n",
       "      <td>NaN</td>\n",
       "      <td>0.53125</td>\n",
       "      <td>0.518135</td>\n",
       "      <td>1.062500</td>\n",
       "      <td>2.232287</td>\n",
       "      <td>0.00000</td>\n",
       "    </tr>\n",
       "    <tr>\n",
       "      <th>11</th>\n",
       "      <td>2</td>\n",
       "      <td>0.367917</td>\n",
       "      <td>0.551606</td>\n",
       "      <td>0.6250</td>\n",
       "      <td>0.526449</td>\n",
       "      <td>1.121951</td>\n",
       "      <td>1.373112</td>\n",
       "      <td>0.145833</td>\n",
       "      <td>0.484764</td>\n",
       "      <td>0.526449</td>\n",
       "      <td>...</td>\n",
       "      <td>2.0</td>\n",
       "      <td>3.0</td>\n",
       "      <td>2</td>\n",
       "      <td>1.037731</td>\n",
       "      <td>NaN</td>\n",
       "      <td>0.53125</td>\n",
       "      <td>0.534661</td>\n",
       "      <td>1.062500</td>\n",
       "      <td>2.232287</td>\n",
       "      <td>0.00000</td>\n",
       "    </tr>\n",
       "    <tr>\n",
       "      <th>12</th>\n",
       "      <td>0</td>\n",
       "      <td>-0.799292</td>\n",
       "      <td>0.367961</td>\n",
       "      <td>1.0000</td>\n",
       "      <td>0.359348</td>\n",
       "      <td>1.000000</td>\n",
       "      <td>2.126879</td>\n",
       "      <td>0.395833</td>\n",
       "      <td>-0.799292</td>\n",
       "      <td>0.368047</td>\n",
       "      <td>...</td>\n",
       "      <td>3.0</td>\n",
       "      <td>4.0</td>\n",
       "      <td>1</td>\n",
       "      <td>-0.417932</td>\n",
       "      <td>0.400650</td>\n",
       "      <td>1.00000</td>\n",
       "      <td>0.351412</td>\n",
       "      <td>1.000000</td>\n",
       "      <td>3.471886</td>\n",
       "      <td>0.09375</td>\n",
       "    </tr>\n",
       "    <tr>\n",
       "      <th>13</th>\n",
       "      <td>1</td>\n",
       "      <td>-0.852711</td>\n",
       "      <td>0.367972</td>\n",
       "      <td>1.0000</td>\n",
       "      <td>0.343040</td>\n",
       "      <td>1.000000</td>\n",
       "      <td>2.020043</td>\n",
       "      <td>0.437500</td>\n",
       "      <td>-0.237975</td>\n",
       "      <td>0.351437</td>\n",
       "      <td>...</td>\n",
       "      <td>3.0</td>\n",
       "      <td>4.0</td>\n",
       "      <td>1</td>\n",
       "      <td>-0.242448</td>\n",
       "      <td>0.400621</td>\n",
       "      <td>0.81250</td>\n",
       "      <td>0.351368</td>\n",
       "      <td>0.714286</td>\n",
       "      <td>1.289397</td>\n",
       "      <td>0.34375</td>\n",
       "    </tr>\n",
       "    <tr>\n",
       "      <th>14</th>\n",
       "      <td>2</td>\n",
       "      <td>-0.688405</td>\n",
       "      <td>0.367890</td>\n",
       "      <td>0.9375</td>\n",
       "      <td>0.367950</td>\n",
       "      <td>0.888889</td>\n",
       "      <td>1.691431</td>\n",
       "      <td>0.437500</td>\n",
       "      <td>-0.337245</td>\n",
       "      <td>0.368002</td>\n",
       "      <td>...</td>\n",
       "      <td>3.0</td>\n",
       "      <td>4.0</td>\n",
       "      <td>1</td>\n",
       "      <td>-0.215429</td>\n",
       "      <td>0.368026</td>\n",
       "      <td>0.84375</td>\n",
       "      <td>0.351628</td>\n",
       "      <td>0.782609</td>\n",
       "      <td>1.589122</td>\n",
       "      <td>0.28125</td>\n",
       "    </tr>\n",
       "    <tr>\n",
       "      <th>15</th>\n",
       "      <td>0</td>\n",
       "      <td>-0.852711</td>\n",
       "      <td>0.384678</td>\n",
       "      <td>1.0000</td>\n",
       "      <td>0.359414</td>\n",
       "      <td>2.000000</td>\n",
       "      <td>2.020043</td>\n",
       "      <td>0.437500</td>\n",
       "      <td>-0.714744</td>\n",
       "      <td>0.376449</td>\n",
       "      <td>...</td>\n",
       "      <td>3.0</td>\n",
       "      <td>4.0</td>\n",
       "      <td>2</td>\n",
       "      <td>-0.487793</td>\n",
       "      <td>0.442731</td>\n",
       "      <td>0.96875</td>\n",
       "      <td>0.367348</td>\n",
       "      <td>1.923077</td>\n",
       "      <td>2.749878</td>\n",
       "      <td>0.18750</td>\n",
       "    </tr>\n",
       "    <tr>\n",
       "      <th>16</th>\n",
       "      <td>1</td>\n",
       "      <td>-0.767060</td>\n",
       "      <td>0.359391</td>\n",
       "      <td>0.9375</td>\n",
       "      <td>0.334920</td>\n",
       "      <td>1.750000</td>\n",
       "      <td>1.534121</td>\n",
       "      <td>0.500000</td>\n",
       "      <td>-0.905243</td>\n",
       "      <td>0.351208</td>\n",
       "      <td>...</td>\n",
       "      <td>3.0</td>\n",
       "      <td>4.0</td>\n",
       "      <td>2</td>\n",
       "      <td>-0.594121</td>\n",
       "      <td>0.359348</td>\n",
       "      <td>0.96875</td>\n",
       "      <td>0.351329</td>\n",
       "      <td>1.916667</td>\n",
       "      <td>2.537222</td>\n",
       "      <td>0.25000</td>\n",
       "    </tr>\n",
       "    <tr>\n",
       "      <th>17</th>\n",
       "      <td>2</td>\n",
       "      <td>-0.957489</td>\n",
       "      <td>0.384530</td>\n",
       "      <td>1.0000</td>\n",
       "      <td>0.343077</td>\n",
       "      <td>2.000000</td>\n",
       "      <td>1.810487</td>\n",
       "      <td>0.520833</td>\n",
       "      <td>-0.819377</td>\n",
       "      <td>0.367925</td>\n",
       "      <td>...</td>\n",
       "      <td>3.0</td>\n",
       "      <td>4.0</td>\n",
       "      <td>2</td>\n",
       "      <td>-0.686978</td>\n",
       "      <td>0.384672</td>\n",
       "      <td>0.96875</td>\n",
       "      <td>0.367399</td>\n",
       "      <td>1.909091</td>\n",
       "      <td>2.351508</td>\n",
       "      <td>0.31250</td>\n",
       "    </tr>\n",
       "    <tr>\n",
       "      <th>18</th>\n",
       "      <td>0</td>\n",
       "      <td>-0.391257</td>\n",
       "      <td>0.543011</td>\n",
       "      <td>0.8125</td>\n",
       "      <td>0.518050</td>\n",
       "      <td>0.653846</td>\n",
       "      <td>0.991780</td>\n",
       "      <td>0.458333</td>\n",
       "      <td>-0.799292</td>\n",
       "      <td>0.551321</td>\n",
       "      <td>...</td>\n",
       "      <td>2.0</td>\n",
       "      <td>5.0</td>\n",
       "      <td>1</td>\n",
       "      <td>-0.215432</td>\n",
       "      <td>0.701587</td>\n",
       "      <td>0.90625</td>\n",
       "      <td>0.518050</td>\n",
       "      <td>0.884615</td>\n",
       "      <td>2.205157</td>\n",
       "      <td>0.18750</td>\n",
       "    </tr>\n",
       "    <tr>\n",
       "      <th>19</th>\n",
       "      <td>1</td>\n",
       "      <td>-0.594121</td>\n",
       "      <td>0.601445</td>\n",
       "      <td>1.0000</td>\n",
       "      <td>0.568012</td>\n",
       "      <td>1.000000</td>\n",
       "      <td>2.537222</td>\n",
       "      <td>0.250000</td>\n",
       "      <td>0.105214</td>\n",
       "      <td>0.568036</td>\n",
       "      <td>...</td>\n",
       "      <td>2.0</td>\n",
       "      <td>5.0</td>\n",
       "      <td>1</td>\n",
       "      <td>0.237930</td>\n",
       "      <td>0.576427</td>\n",
       "      <td>0.75000</td>\n",
       "      <td>0.584707</td>\n",
       "      <td>0.714286</td>\n",
       "      <td>1.824839</td>\n",
       "      <td>0.12500</td>\n",
       "    </tr>\n",
       "    <tr>\n",
       "      <th>20</th>\n",
       "      <td>2</td>\n",
       "      <td>-0.360951</td>\n",
       "      <td>0.517980</td>\n",
       "      <td>0.9375</td>\n",
       "      <td>0.534688</td>\n",
       "      <td>0.921053</td>\n",
       "      <td>2.346338</td>\n",
       "      <td>0.208333</td>\n",
       "      <td>0.187048</td>\n",
       "      <td>0.534688</td>\n",
       "      <td>...</td>\n",
       "      <td>2.0</td>\n",
       "      <td>5.0</td>\n",
       "      <td>1</td>\n",
       "      <td>0.477494</td>\n",
       "      <td>0.734865</td>\n",
       "      <td>0.71875</td>\n",
       "      <td>0.534685</td>\n",
       "      <td>0.700000</td>\n",
       "      <td>2.113253</td>\n",
       "      <td>0.06250</td>\n",
       "    </tr>\n",
       "    <tr>\n",
       "      <th>21</th>\n",
       "      <td>0</td>\n",
       "      <td>-0.311500</td>\n",
       "      <td>0.568007</td>\n",
       "      <td>0.8125</td>\n",
       "      <td>0.617988</td>\n",
       "      <td>1.379310</td>\n",
       "      <td>1.151294</td>\n",
       "      <td>0.395833</td>\n",
       "      <td>-0.107003</td>\n",
       "      <td>0.618003</td>\n",
       "      <td>...</td>\n",
       "      <td>2.0</td>\n",
       "      <td>5.0</td>\n",
       "      <td>2</td>\n",
       "      <td>-0.000000</td>\n",
       "      <td>0.634791</td>\n",
       "      <td>0.71875</td>\n",
       "      <td>0.584732</td>\n",
       "      <td>1.217391</td>\n",
       "      <td>1.158264</td>\n",
       "      <td>0.28125</td>\n",
       "    </tr>\n",
       "    <tr>\n",
       "      <th>22</th>\n",
       "      <td>1</td>\n",
       "      <td>0.053418</td>\n",
       "      <td>0.818264</td>\n",
       "      <td>0.5625</td>\n",
       "      <td>0.651434</td>\n",
       "      <td>0.551724</td>\n",
       "      <td>0.421458</td>\n",
       "      <td>0.395833</td>\n",
       "      <td>-0.199185</td>\n",
       "      <td>0.851606</td>\n",
       "      <td>...</td>\n",
       "      <td>2.0</td>\n",
       "      <td>5.0</td>\n",
       "      <td>2</td>\n",
       "      <td>0.199185</td>\n",
       "      <td>0.884977</td>\n",
       "      <td>0.68750</td>\n",
       "      <td>0.576348</td>\n",
       "      <td>1.230769</td>\n",
       "      <td>1.375923</td>\n",
       "      <td>0.18750</td>\n",
       "    </tr>\n",
       "    <tr>\n",
       "      <th>23</th>\n",
       "      <td>2</td>\n",
       "      <td>0.053418</td>\n",
       "      <td>0.601384</td>\n",
       "      <td>0.5625</td>\n",
       "      <td>0.634725</td>\n",
       "      <td>0.551724</td>\n",
       "      <td>0.421458</td>\n",
       "      <td>0.395833</td>\n",
       "      <td>-0.000000</td>\n",
       "      <td>0.634425</td>\n",
       "      <td>...</td>\n",
       "      <td>2.0</td>\n",
       "      <td>5.0</td>\n",
       "      <td>2</td>\n",
       "      <td>0.170965</td>\n",
       "      <td>0.634124</td>\n",
       "      <td>0.59375</td>\n",
       "      <td>0.601384</td>\n",
       "      <td>0.869565</td>\n",
       "      <td>0.816334</td>\n",
       "      <td>0.28125</td>\n",
       "    </tr>\n",
       "    <tr>\n",
       "      <th>24</th>\n",
       "      <td>0</td>\n",
       "      <td>0.029873</td>\n",
       "      <td>0.584698</td>\n",
       "      <td>0.6875</td>\n",
       "      <td>0.501282</td>\n",
       "      <td>0.558824</td>\n",
       "      <td>1.037299</td>\n",
       "      <td>0.291667</td>\n",
       "      <td>-0.032098</td>\n",
       "      <td>0.517922</td>\n",
       "      <td>...</td>\n",
       "      <td>3.0</td>\n",
       "      <td>6.0</td>\n",
       "      <td>1</td>\n",
       "      <td>0.477494</td>\n",
       "      <td>1.118503</td>\n",
       "      <td>0.71875</td>\n",
       "      <td>0.517922</td>\n",
       "      <td>0.700000</td>\n",
       "      <td>2.113253</td>\n",
       "      <td>0.06250</td>\n",
       "    </tr>\n",
       "    <tr>\n",
       "      <th>25</th>\n",
       "      <td>1</td>\n",
       "      <td>0.405055</td>\n",
       "      <td>0.543044</td>\n",
       "      <td>0.5625</td>\n",
       "      <td>0.601283</td>\n",
       "      <td>0.475000</td>\n",
       "      <td>1.124732</td>\n",
       "      <td>0.166667</td>\n",
       "      <td>0.581633</td>\n",
       "      <td>0.543216</td>\n",
       "      <td>...</td>\n",
       "      <td>3.0</td>\n",
       "      <td>6.0</td>\n",
       "      <td>1</td>\n",
       "      <td>0.737661</td>\n",
       "      <td>0.451431</td>\n",
       "      <td>0.43750</td>\n",
       "      <td>0.601363</td>\n",
       "      <td>0.379310</td>\n",
       "      <td>1.160700</td>\n",
       "      <td>0.09375</td>\n",
       "    </tr>\n",
       "    <tr>\n",
       "      <th>26</th>\n",
       "      <td>2</td>\n",
       "      <td>0.688405</td>\n",
       "      <td>0.534663</td>\n",
       "      <td>0.5625</td>\n",
       "      <td>0.701464</td>\n",
       "      <td>0.533333</td>\n",
       "      <td>1.691431</td>\n",
       "      <td>0.062500</td>\n",
       "      <td>0.887147</td>\n",
       "      <td>0.701464</td>\n",
       "      <td>...</td>\n",
       "      <td>3.0</td>\n",
       "      <td>6.0</td>\n",
       "      <td>1</td>\n",
       "      <td>1.236257</td>\n",
       "      <td>NaN</td>\n",
       "      <td>0.37500</td>\n",
       "      <td>0.676482</td>\n",
       "      <td>0.375000</td>\n",
       "      <td>1.835235</td>\n",
       "      <td>0.00000</td>\n",
       "    </tr>\n",
       "    <tr>\n",
       "      <th>27</th>\n",
       "      <td>0</td>\n",
       "      <td>0.126409</td>\n",
       "      <td>0.509319</td>\n",
       "      <td>0.6875</td>\n",
       "      <td>0.601321</td>\n",
       "      <td>1.189189</td>\n",
       "      <td>1.230370</td>\n",
       "      <td>0.229167</td>\n",
       "      <td>0.226492</td>\n",
       "      <td>0.568058</td>\n",
       "      <td>...</td>\n",
       "      <td>3.0</td>\n",
       "      <td>6.0</td>\n",
       "      <td>2</td>\n",
       "      <td>0.607741</td>\n",
       "      <td>0.459590</td>\n",
       "      <td>0.62500</td>\n",
       "      <td>0.609648</td>\n",
       "      <td>1.200000</td>\n",
       "      <td>1.852760</td>\n",
       "      <td>0.06250</td>\n",
       "    </tr>\n",
       "    <tr>\n",
       "      <th>28</th>\n",
       "      <td>1</td>\n",
       "      <td>0.370797</td>\n",
       "      <td>0.534639</td>\n",
       "      <td>0.5000</td>\n",
       "      <td>0.509688</td>\n",
       "      <td>0.702703</td>\n",
       "      <td>0.741594</td>\n",
       "      <td>0.229167</td>\n",
       "      <td>0.327454</td>\n",
       "      <td>0.526363</td>\n",
       "      <td>...</td>\n",
       "      <td>3.0</td>\n",
       "      <td>6.0</td>\n",
       "      <td>2</td>\n",
       "      <td>0.727854</td>\n",
       "      <td>0.726557</td>\n",
       "      <td>0.53125</td>\n",
       "      <td>0.518070</td>\n",
       "      <td>1.000000</td>\n",
       "      <td>1.612533</td>\n",
       "      <td>0.06250</td>\n",
       "    </tr>\n",
       "    <tr>\n",
       "      <th>29</th>\n",
       "      <td>2</td>\n",
       "      <td>0.161721</td>\n",
       "      <td>0.626328</td>\n",
       "      <td>0.6875</td>\n",
       "      <td>0.551313</td>\n",
       "      <td>1.210526</td>\n",
       "      <td>1.300994</td>\n",
       "      <td>0.208333</td>\n",
       "      <td>0.211477</td>\n",
       "      <td>0.551313</td>\n",
       "      <td>...</td>\n",
       "      <td>3.0</td>\n",
       "      <td>6.0</td>\n",
       "      <td>2</td>\n",
       "      <td>0.875812</td>\n",
       "      <td>NaN</td>\n",
       "      <td>0.65625</td>\n",
       "      <td>0.551326</td>\n",
       "      <td>1.312500</td>\n",
       "      <td>2.556125</td>\n",
       "      <td>0.00000</td>\n",
       "    </tr>\n",
       "    <tr>\n",
       "      <th>30</th>\n",
       "      <td>0</td>\n",
       "      <td>-0.388127</td>\n",
       "      <td>0.518119</td>\n",
       "      <td>0.8750</td>\n",
       "      <td>0.468148</td>\n",
       "      <td>0.806452</td>\n",
       "      <td>1.524445</td>\n",
       "      <td>0.354167</td>\n",
       "      <td>-0.686978</td>\n",
       "      <td>0.468309</td>\n",
       "      <td>...</td>\n",
       "      <td>1.0</td>\n",
       "      <td>7.0</td>\n",
       "      <td>1</td>\n",
       "      <td>0.164306</td>\n",
       "      <td>0.518047</td>\n",
       "      <td>0.93750</td>\n",
       "      <td>0.501503</td>\n",
       "      <td>0.935484</td>\n",
       "      <td>3.396852</td>\n",
       "      <td>0.03125</td>\n",
       "    </tr>\n",
       "    <tr>\n",
       "      <th>31</th>\n",
       "      <td>1</td>\n",
       "      <td>0.131601</td>\n",
       "      <td>0.484902</td>\n",
       "      <td>0.8125</td>\n",
       "      <td>0.518240</td>\n",
       "      <td>0.785714</td>\n",
       "      <td>2.037496</td>\n",
       "      <td>0.125000</td>\n",
       "      <td>0.464467</td>\n",
       "      <td>0.518240</td>\n",
       "      <td>...</td>\n",
       "      <td>1.0</td>\n",
       "      <td>7.0</td>\n",
       "      <td>1</td>\n",
       "      <td>0.958336</td>\n",
       "      <td>NaN</td>\n",
       "      <td>0.59375</td>\n",
       "      <td>0.518087</td>\n",
       "      <td>0.593750</td>\n",
       "      <td>2.391077</td>\n",
       "      <td>0.00000</td>\n",
       "    </tr>\n",
       "    <tr>\n",
       "      <th>32</th>\n",
       "      <td>2</td>\n",
       "      <td>-0.131601</td>\n",
       "      <td>0.534638</td>\n",
       "      <td>0.8750</td>\n",
       "      <td>0.551479</td>\n",
       "      <td>0.846154</td>\n",
       "      <td>2.037496</td>\n",
       "      <td>0.187500</td>\n",
       "      <td>0.294019</td>\n",
       "      <td>0.568248</td>\n",
       "      <td>...</td>\n",
       "      <td>1.0</td>\n",
       "      <td>7.0</td>\n",
       "      <td>1</td>\n",
       "      <td>0.565935</td>\n",
       "      <td>0.793355</td>\n",
       "      <td>0.65625</td>\n",
       "      <td>0.534638</td>\n",
       "      <td>0.633333</td>\n",
       "      <td>1.936371</td>\n",
       "      <td>0.06250</td>\n",
       "    </tr>\n",
       "    <tr>\n",
       "      <th>33</th>\n",
       "      <td>0</td>\n",
       "      <td>0.114941</td>\n",
       "      <td>0.568396</td>\n",
       "      <td>0.6250</td>\n",
       "      <td>0.484786</td>\n",
       "      <td>0.941176</td>\n",
       "      <td>0.867162</td>\n",
       "      <td>0.291667</td>\n",
       "      <td>-0.000000</td>\n",
       "      <td>0.493291</td>\n",
       "      <td>...</td>\n",
       "      <td>1.0</td>\n",
       "      <td>7.0</td>\n",
       "      <td>2</td>\n",
       "      <td>0.522672</td>\n",
       "      <td>0.717901</td>\n",
       "      <td>0.68750</td>\n",
       "      <td>0.518161</td>\n",
       "      <td>1.333333</td>\n",
       "      <td>2.022897</td>\n",
       "      <td>0.06250</td>\n",
       "    </tr>\n",
       "    <tr>\n",
       "      <th>34</th>\n",
       "      <td>1</td>\n",
       "      <td>0.195606</td>\n",
       "      <td>0.593287</td>\n",
       "      <td>0.5625</td>\n",
       "      <td>0.651527</td>\n",
       "      <td>0.764706</td>\n",
       "      <td>0.705833</td>\n",
       "      <td>0.291667</td>\n",
       "      <td>0.145828</td>\n",
       "      <td>0.684915</td>\n",
       "      <td>...</td>\n",
       "      <td>1.0</td>\n",
       "      <td>7.0</td>\n",
       "      <td>2</td>\n",
       "      <td>0.456574</td>\n",
       "      <td>0.735094</td>\n",
       "      <td>0.59375</td>\n",
       "      <td>0.618239</td>\n",
       "      <td>1.071429</td>\n",
       "      <td>1.387551</td>\n",
       "      <td>0.12500</td>\n",
       "    </tr>\n",
       "    <tr>\n",
       "      <th>35</th>\n",
       "      <td>2</td>\n",
       "      <td>0.092857</td>\n",
       "      <td>0.605372</td>\n",
       "      <td>0.6875</td>\n",
       "      <td>0.634760</td>\n",
       "      <td>1.166667</td>\n",
       "      <td>1.163266</td>\n",
       "      <td>0.250000</td>\n",
       "      <td>0.145828</td>\n",
       "      <td>0.634766</td>\n",
       "      <td>...</td>\n",
       "      <td>1.0</td>\n",
       "      <td>7.0</td>\n",
       "      <td>2</td>\n",
       "      <td>0.565935</td>\n",
       "      <td>0.835029</td>\n",
       "      <td>0.65625</td>\n",
       "      <td>0.593090</td>\n",
       "      <td>1.266667</td>\n",
       "      <td>1.936371</td>\n",
       "      <td>0.06250</td>\n",
       "    </tr>\n",
       "  </tbody>\n",
       "</table>\n",
       "<p>36 rows × 25 columns</p>\n",
       "</div>"
      ],
      "text/plain": [
       "   dists     lCrit     lFaRT     lHR    lHitRT        lK       ldP      lfaR  \\\n",
       "0      0 -0.469960  0.509806  0.8750  0.501179  0.785714  1.360778  0.416667   \n",
       "1      1 -0.000000  0.484763  0.8125  0.468147  0.769231  1.774293  0.187500   \n",
       "2      2 -0.131601  0.501460  0.8750  0.542718  0.846154  2.037496  0.187500   \n",
       "3      0 -0.150197  0.534814  0.7500  0.542987  1.225806  1.048585  0.354167   \n",
       "4      1 -0.330786  0.584838  0.8750  0.484819  1.636364  1.639126  0.312500   \n",
       "5      2 -0.092857  0.551539  0.7500  0.509621  1.272727  1.163266  0.312500   \n",
       "6      0 -0.169312  0.484797  0.8125  0.501730  0.735294  1.435669  0.291667   \n",
       "7      1  0.040138  0.484340  0.8125  0.484860  0.775000  1.854568  0.166667   \n",
       "8      2  0.291836  0.451533  0.7500  0.518307  0.720930  1.932651  0.104167   \n",
       "9      0  0.258590  0.551152  0.5625  0.501665  0.833333  0.831800  0.250000   \n",
       "10     1  0.443573  0.468140  0.5000  0.593161  0.769231  0.887147  0.187500   \n",
       "11     2  0.367917  0.551606  0.6250  0.526449  1.121951  1.373112  0.145833   \n",
       "12     0 -0.799292  0.367961  1.0000  0.359348  1.000000  2.126879  0.395833   \n",
       "13     1 -0.852711  0.367972  1.0000  0.343040  1.000000  2.020043  0.437500   \n",
       "14     2 -0.688405  0.367890  0.9375  0.367950  0.888889  1.691431  0.437500   \n",
       "15     0 -0.852711  0.384678  1.0000  0.359414  2.000000  2.020043  0.437500   \n",
       "16     1 -0.767060  0.359391  0.9375  0.334920  1.750000  1.534121  0.500000   \n",
       "17     2 -0.957489  0.384530  1.0000  0.343077  2.000000  1.810487  0.520833   \n",
       "18     0 -0.391257  0.543011  0.8125  0.518050  0.653846  0.991780  0.458333   \n",
       "19     1 -0.594121  0.601445  1.0000  0.568012  1.000000  2.537222  0.250000   \n",
       "20     2 -0.360951  0.517980  0.9375  0.534688  0.921053  2.346338  0.208333   \n",
       "21     0 -0.311500  0.568007  0.8125  0.617988  1.379310  1.151294  0.395833   \n",
       "22     1  0.053418  0.818264  0.5625  0.651434  0.551724  0.421458  0.395833   \n",
       "23     2  0.053418  0.601384  0.5625  0.634725  0.551724  0.421458  0.395833   \n",
       "24     0  0.029873  0.584698  0.6875  0.501282  0.558824  1.037299  0.291667   \n",
       "25     1  0.405055  0.543044  0.5625  0.601283  0.475000  1.124732  0.166667   \n",
       "26     2  0.688405  0.534663  0.5625  0.701464  0.533333  1.691431  0.062500   \n",
       "27     0  0.126409  0.509319  0.6875  0.601321  1.189189  1.230370  0.229167   \n",
       "28     1  0.370797  0.534639  0.5000  0.509688  0.702703  0.741594  0.229167   \n",
       "29     2  0.161721  0.626328  0.6875  0.551313  1.210526  1.300994  0.208333   \n",
       "30     0 -0.388127  0.518119  0.8750  0.468148  0.806452  1.524445  0.354167   \n",
       "31     1  0.131601  0.484902  0.8125  0.518240  0.785714  2.037496  0.125000   \n",
       "32     2 -0.131601  0.534638  0.8750  0.551479  0.846154  2.037496  0.187500   \n",
       "33     0  0.114941  0.568396  0.6250  0.484786  0.941176  0.867162  0.291667   \n",
       "34     1  0.195606  0.593287  0.5625  0.651527  0.764706  0.705833  0.291667   \n",
       "35     2  0.092857  0.605372  0.6875  0.634760  1.166667  1.163266  0.250000   \n",
       "\n",
       "       rCrit     rFaRT   ...     run  subj  targs     wCrit     wFaRT  \\\n",
       "0  -0.772046  0.501179   ...     1.0   2.0      1 -0.191886  0.518106   \n",
       "1   0.274261  0.493160   ...     1.0   2.0      1  0.730241  0.717696   \n",
       "2   0.244388  0.550848   ...     1.0   2.0      1  0.686978  0.751481   \n",
       "3  -0.492799  0.542987   ...     1.0   2.0      2  0.262065  0.496651   \n",
       "4  -0.228210  0.493193   ...     1.0   2.0      2  0.262065  0.743492   \n",
       "5  -0.270027  0.517983   ...     1.0   2.0      2  0.487793  0.935153   \n",
       "6  -0.270027  0.501730   ...     2.0   3.0      1  0.571942       NaN   \n",
       "7   0.305147  0.484860   ...     2.0   3.0      1  0.875812       NaN   \n",
       "8   0.581633  0.518307   ...     2.0   3.0      1  1.037731       NaN   \n",
       "9   0.211477  0.517500   ...     2.0   3.0      2  0.648459  0.659774   \n",
       "10  0.405055  0.593161   ...     2.0   3.0      2  1.037731       NaN   \n",
       "11  0.484764  0.526449   ...     2.0   3.0      2  1.037731       NaN   \n",
       "12 -0.799292  0.368047   ...     3.0   4.0      1 -0.417932  0.400650   \n",
       "13 -0.237975  0.351437   ...     3.0   4.0      1 -0.242448  0.400621   \n",
       "14 -0.337245  0.368002   ...     3.0   4.0      1 -0.215429  0.368026   \n",
       "15 -0.714744  0.376449   ...     3.0   4.0      2 -0.487793  0.442731   \n",
       "16 -0.905243  0.351208   ...     3.0   4.0      2 -0.594121  0.359348   \n",
       "17 -0.819377  0.367925   ...     3.0   4.0      2 -0.686978  0.384672   \n",
       "18 -0.799292  0.551321   ...     2.0   5.0      1 -0.215432  0.701587   \n",
       "19  0.105214  0.568036   ...     2.0   5.0      1  0.237930  0.576427   \n",
       "20  0.187048  0.534688   ...     2.0   5.0      1  0.477494  0.734865   \n",
       "21 -0.107003  0.618003   ...     2.0   5.0      2 -0.000000  0.634791   \n",
       "22 -0.199185  0.851606   ...     2.0   5.0      2  0.199185  0.884977   \n",
       "23 -0.000000  0.634425   ...     2.0   5.0      2  0.170965  0.634124   \n",
       "24 -0.032098  0.517922   ...     3.0   6.0      1  0.477494  1.118503   \n",
       "25  0.581633  0.543216   ...     3.0   6.0      1  0.737661  0.451431   \n",
       "26  0.887147  0.701464   ...     3.0   6.0      1  1.236257       NaN   \n",
       "27  0.226492  0.568058   ...     3.0   6.0      2  0.607741  0.459590   \n",
       "28  0.327454  0.526363   ...     3.0   6.0      2  0.727854  0.726557   \n",
       "29  0.211477  0.551313   ...     3.0   6.0      2  0.875812       NaN   \n",
       "30 -0.686978  0.468309   ...     1.0   7.0      1  0.164306  0.518047   \n",
       "31  0.464467  0.518240   ...     1.0   7.0      1  0.958336       NaN   \n",
       "32  0.294019  0.568248   ...     1.0   7.0      1  0.565935  0.793355   \n",
       "33 -0.000000  0.493291   ...     1.0   7.0      2  0.522672  0.717901   \n",
       "34  0.145828  0.684915   ...     1.0   7.0      2  0.456574  0.735094   \n",
       "35  0.145828  0.634766   ...     1.0   7.0      2  0.565935  0.835029   \n",
       "\n",
       "        wHR    wHitRT        wK       wdP     wfaR  \n",
       "0   0.93750  0.501523  0.928571  2.684470  0.12500  \n",
       "1   0.65625  0.484716  0.645161  2.264982  0.03125  \n",
       "2   0.68750  0.526285  0.677419  2.351508  0.03125  \n",
       "3   0.84375  0.534814  1.666667  2.544111  0.06250  \n",
       "4   0.84375  0.501448  1.666667  2.544111  0.06250  \n",
       "5   0.81250  0.542768  1.612903  2.749878  0.03125  \n",
       "6   0.84375  0.501293  0.843750  3.163865  0.00000  \n",
       "7   0.65625  0.484860  0.656250  2.556125  0.00000  \n",
       "8   0.53125  0.501503  0.531250  2.232287  0.00000  \n",
       "9   0.59375  0.501665  1.133333  1.771323  0.06250  \n",
       "10  0.53125  0.518135  1.062500  2.232287  0.00000  \n",
       "11  0.53125  0.534661  1.062500  2.232287  0.00000  \n",
       "12  1.00000  0.351412  1.000000  3.471886  0.09375  \n",
       "13  0.81250  0.351368  0.714286  1.289397  0.34375  \n",
       "14  0.84375  0.351628  0.782609  1.589122  0.28125  \n",
       "15  0.96875  0.367348  1.923077  2.749878  0.18750  \n",
       "16  0.96875  0.351329  1.916667  2.537222  0.25000  \n",
       "17  0.96875  0.367399  1.909091  2.351508  0.31250  \n",
       "18  0.90625  0.518050  0.884615  2.205157  0.18750  \n",
       "19  0.75000  0.584707  0.714286  1.824839  0.12500  \n",
       "20  0.71875  0.534685  0.700000  2.113253  0.06250  \n",
       "21  0.71875  0.584732  1.217391  1.158264  0.28125  \n",
       "22  0.68750  0.576348  1.230769  1.375923  0.18750  \n",
       "23  0.59375  0.601384  0.869565  0.816334  0.28125  \n",
       "24  0.71875  0.517922  0.700000  2.113253  0.06250  \n",
       "25  0.43750  0.601363  0.379310  1.160700  0.09375  \n",
       "26  0.37500  0.676482  0.375000  1.835235  0.00000  \n",
       "27  0.62500  0.609648  1.200000  1.852760  0.06250  \n",
       "28  0.53125  0.518070  1.000000  1.612533  0.06250  \n",
       "29  0.65625  0.551326  1.312500  2.556125  0.00000  \n",
       "30  0.93750  0.501503  0.935484  3.396852  0.03125  \n",
       "31  0.59375  0.518087  0.593750  2.391077  0.00000  \n",
       "32  0.65625  0.534638  0.633333  1.936371  0.06250  \n",
       "33  0.68750  0.518161  1.333333  2.022897  0.06250  \n",
       "34  0.59375  0.618239  1.071429  1.387551  0.12500  \n",
       "35  0.65625  0.593090  1.266667  1.936371  0.06250  \n",
       "\n",
       "[36 rows x 25 columns]"
      ]
     },
     "execution_count": 7,
     "metadata": {},
     "output_type": "execute_result"
    }
   ],
   "source": [
    "lstimData"
   ]
  },
  {
   "cell_type": "code",
   "execution_count": 8,
   "metadata": {
    "collapsed": false
   },
   "outputs": [
    {
     "data": {
      "text/plain": [
       "(0, 1.8)"
      ]
     },
     "execution_count": 8,
     "metadata": {},
     "output_type": "execute_result"
    },
    {
     "data": {
      "image/png": "[encoded data removed]",
      "text/plain": [
       "<matplotlib.figure.Figure at 0x1054b6d50>"
      ]
     },
     "metadata": {},
     "output_type": "display_data"
    }
   ],
   "source": [
    "lstimWKPlot = sns.factorplot(data=lstimData,x='dists',y='wK',hue='targs')\n",
    "lstimWKPlot.fig.suptitle('whole-K under lstim')\n",
    "lstimWKPlot.set_axis_labels('dists', 'K')\n",
    "lstimWKPlot.fig.subplots_adjust(top=.9)\n",
    "plt.ylim(0, 1.8)"
   ]
  },
  {
   "cell_type": "code",
   "execution_count": 9,
   "metadata": {
    "collapsed": false
   },
   "outputs": [
    {
     "data": {
      "text/plain": [
       "(0, 1.8)"
      ]
     },
     "execution_count": 9,
     "metadata": {},
     "output_type": "execute_result"
    },
    {
     "data": {
      "image/png": "[encoded data removed]",
      "text/plain": [
       "<matplotlib.figure.Figure at 0x1092a68d0>"
      ]
     },
     "metadata": {},
     "output_type": "display_data"
    }
   ],
   "source": [
    "lstimLKPlot = sns.factorplot(data=lstimData,x='dists',y='lK',hue='targs')\n",
    "lstimLKPlot.fig.suptitle('left-K under lstim')\n",
    "lstimLKPlot.set_axis_labels('dists', 'K')\n",
    "lstimLKPlot.fig.subplots_adjust(top=.9)\n",
    "plt.ylim(0, 1.8)"
   ]
  },
  {
   "cell_type": "code",
   "execution_count": 10,
   "metadata": {
    "collapsed": false
   },
   "outputs": [
    {
     "data": {
      "text/plain": [
       "(0, 1.8)"
      ]
     },
     "execution_count": 10,
     "metadata": {},
     "output_type": "execute_result"
    },
    {
     "data": {
      "image/png": "[encoded data removed]",
      "text/plain": [
       "<matplotlib.figure.Figure at 0x10a10a750>"
      ]
     },
     "metadata": {},
     "output_type": "display_data"
    }
   ],
   "source": [
    "lstimRKPlot = sns.factorplot(data=lstimData,x='dists',y='rK',hue='targs')\n",
    "lstimRKPlot.fig.suptitle('right-K under lstim')\n",
    "lstimRKPlot.set_axis_labels('dists', 'K')\n",
    "lstimRKPlot.fig.subplots_adjust(top=.9)\n",
    "plt.ylim(0, 1.8)"
   ]
  },
  {
   "cell_type": "code",
   "execution_count": 11,
   "metadata": {
    "collapsed": false
   },
   "outputs": [
    {
     "data": {
      "text/plain": [
       "(1, 3.5)"
      ]
     },
     "execution_count": 11,
     "metadata": {},
     "output_type": "execute_result"
    },
    {
     "data": {
      "image/png": "[encoded data removed]",
      "text/plain": [
       "<matplotlib.figure.Figure at 0x109d6a490>"
      ]
     },
     "metadata": {},
     "output_type": "display_data"
    }
   ],
   "source": [
    "lstimWdPPlot = sns.factorplot(data=lstimData,x='dists',y='wdP',hue='targs')\n",
    "lstimWdPPlot.fig.suptitle('whole-dP under lstim')\n",
    "lstimWdPPlot.set_axis_labels('dists', 'dP')\n",
    "lstimWdPPlot.fig.subplots_adjust(top=.9)\n",
    "plt.ylim(1, 3.5)"
   ]
  },
  {
   "cell_type": "code",
   "execution_count": 12,
   "metadata": {
    "collapsed": false
   },
   "outputs": [
    {
     "data": {
      "text/plain": [
       "(0, 2.5)"
      ]
     },
     "execution_count": 12,
     "metadata": {},
     "output_type": "execute_result"
    },
    {
     "data": {
      "image/png": "[encoded data removed]",
      "text/plain": [
       "<matplotlib.figure.Figure at 0x10a1e9490>"
      ]
     },
     "metadata": {},
     "output_type": "display_data"
    }
   ],
   "source": [
    "lstimLdPPlot = sns.factorplot(data=lstimData,x='dists',y='ldP',hue='targs')\n",
    "lstimLdPPlot.fig.suptitle('left-dP under lstim')\n",
    "lstimLdPPlot.set_axis_labels('dists', 'dP')\n",
    "lstimLdPPlot.fig.subplots_adjust(top=.9)\n",
    "plt.ylim(0, 2.5)"
   ]
  },
  {
   "cell_type": "code",
   "execution_count": 13,
   "metadata": {
    "collapsed": false
   },
   "outputs": [
    {
     "data": {
      "text/plain": [
       "(0, 2.5)"
      ]
     },
     "execution_count": 13,
     "metadata": {},
     "output_type": "execute_result"
    },
    {
     "data": {
      "image/png": "[encoded data removed]",
      "text/plain": [
       "<matplotlib.figure.Figure at 0x109d6a310>"
      ]
     },
     "metadata": {},
     "output_type": "display_data"
    }
   ],
   "source": [
    "lstimRdPPlot = sns.factorplot(data=lstimData,x='dists',y='rdP',hue='targs')\n",
    "lstimRdPPlot.fig.suptitle('right-dP under lstim')\n",
    "lstimRdPPlot.set_axis_labels('dists', 'dP')\n",
    "lstimRdPPlot.fig.subplots_adjust(top=.9)\n",
    "plt.ylim(0, 2.5)"
   ]
  },
  {
   "cell_type": "code",
   "execution_count": 14,
   "metadata": {
    "collapsed": false
   },
   "outputs": [
    {
     "data": {
      "text/plain": [
       "(0, 1.8)"
      ]
     },
     "execution_count": 14,
     "metadata": {},
     "output_type": "execute_result"
    },
    {
     "data": {
      "image/png": "[encoded data removed]",
      "text/plain": [
       "<matplotlib.figure.Figure at 0x10a7edb10>"
      ]
     },
     "metadata": {},
     "output_type": "display_data"
    }
   ],
   "source": [
    "rstimWKPlot = sns.factorplot(data=rstimData,x='dists',y='wK',hue='targs')\n",
    "rstimWKPlot.fig.suptitle('whole-K under rstim')\n",
    "rstimWKPlot.set_axis_labels('dists', 'K')\n",
    "rstimWKPlot.fig.subplots_adjust(top=.9)\n",
    "plt.ylim(0, 1.8)"
   ]
  },
  {
   "cell_type": "code",
   "execution_count": 15,
   "metadata": {
    "collapsed": false
   },
   "outputs": [
    {
     "data": {
      "text/plain": [
       "(0, 1.8)"
      ]
     },
     "execution_count": 15,
     "metadata": {},
     "output_type": "execute_result"
    },
    {
     "data": {
      "image/png": "[encoded data removed]",
      "text/plain": [
       "<matplotlib.figure.Figure at 0x10a6700d0>"
      ]
     },
     "metadata": {},
     "output_type": "display_data"
    }
   ],
   "source": [
    "rstimLKPlot = sns.factorplot(data=rstimData,x='dists',y='lK',hue='targs')\n",
    "rstimLKPlot.fig.suptitle('left-K under rstim')\n",
    "rstimLKPlot.set_axis_labels('dists', 'K')\n",
    "rstimLKPlot.fig.subplots_adjust(top=.9)\n",
    "plt.ylim(0, 1.8)"
   ]
  },
  {
   "cell_type": "code",
   "execution_count": 16,
   "metadata": {
    "collapsed": false
   },
   "outputs": [
    {
     "data": {
      "text/plain": [
       "(0, 1.8)"
      ]
     },
     "execution_count": 16,
     "metadata": {},
     "output_type": "execute_result"
    },
    {
     "data": {
      "image/png": "[encoded data removed]",
      "text/plain": [
       "<matplotlib.figure.Figure at 0x10b83a450>"
      ]
     },
     "metadata": {},
     "output_type": "display_data"
    }
   ],
   "source": [
    "rstimRKPlot = sns.factorplot(data=rstimData,x='dists',y='rK',hue='targs')\n",
    "rstimRKPlot.fig.suptitle('right-K under rstim')\n",
    "rstimRKPlot.set_axis_labels('dists', 'K')\n",
    "rstimRKPlot.fig.subplots_adjust(top=.9)\n",
    "plt.ylim(0, 1.8)"
   ]
  },
  {
   "cell_type": "code",
   "execution_count": 17,
   "metadata": {
    "collapsed": false
   },
   "outputs": [
    {
     "data": {
      "text/plain": [
       "(1, 3.5)"
      ]
     },
     "execution_count": 17,
     "metadata": {},
     "output_type": "execute_result"
    },
    {
     "data": {
      "image/png": "[encoded data removed]",
      "text/plain": [
       "<matplotlib.figure.Figure at 0x10b9b22d0>"
      ]
     },
     "metadata": {},
     "output_type": "display_data"
    }
   ],
   "source": [
    "rstimWdPPlot = sns.factorplot(data=rstimData,x='dists',y='wdP',hue='targs')\n",
    "rstimWdPPlot.fig.suptitle('whole-dP under rstim')\n",
    "rstimWdPPlot.set_axis_labels('dists', 'dP')\n",
    "rstimWdPPlot.fig.subplots_adjust(top=.9)\n",
    "plt.ylim(1, 3.5)"
   ]
  },
  {
   "cell_type": "code",
   "execution_count": 18,
   "metadata": {
    "collapsed": false
   },
   "outputs": [
    {
     "data": {
      "text/plain": [
       "(0, 2.5)"
      ]
     },
     "execution_count": 18,
     "metadata": {},
     "output_type": "execute_result"
    },
    {
     "data": {
      "image/png": "[encoded data removed]",
      "text/plain": [
       "<matplotlib.figure.Figure at 0x10b6433d0>"
      ]
     },
     "metadata": {},
     "output_type": "display_data"
    }
   ],
   "source": [
    "rstimLdPPlot = sns.factorplot(data=rstimData,x='dists',y='ldP',hue='targs')\n",
    "rstimLdPPlot.fig.suptitle('left-dP under rstim')\n",
    "rstimLdPPlot.set_axis_labels('dists', 'dP')\n",
    "rstimLdPPlot.fig.subplots_adjust(top=.9)\n",
    "plt.ylim(0, 2.5)"
   ]
  },
  {
   "cell_type": "code",
   "execution_count": 19,
   "metadata": {
    "collapsed": false
   },
   "outputs": [
    {
     "data": {
      "text/plain": [
       "(0, 2.5)"
      ]
     },
     "execution_count": 19,
     "metadata": {},
     "output_type": "execute_result"
    },
    {
     "data": {
      "image/png": "[encoded data removed]",
      "text/plain": [
       "<matplotlib.figure.Figure at 0x10c919090>"
      ]
     },
     "metadata": {},
     "output_type": "display_data"
    }
   ],
   "source": [
    "rstimRdPPlot = sns.factorplot(data=rstimData,x='dists',y='rdP',hue='targs')\n",
    "rstimRdPPlot.fig.suptitle('right-dP under rstim')\n",
    "rstimRdPPlot.set_axis_labels('dists', 'dP')\n",
    "rstimRdPPlot.fig.subplots_adjust(top=.9)\n",
    "plt.ylim(0, 2.5)"
   ]
  },
  {
   "cell_type": "code",
   "execution_count": 20,
   "metadata": {
    "collapsed": false
   },
   "outputs": [
    {
     "data": {
      "text/plain": [
       "(1, 3.5)"
      ]
     },
     "execution_count": 20,
     "metadata": {},
     "output_type": "execute_result"
    },
    {
     "data": {
      "image/png": "[encoded data removed]",
      "text/plain": [
       "<matplotlib.figure.Figure at 0x10cc9a350>"
      ]
     },
     "metadata": {},
     "output_type": "display_data"
    }
   ],
   "source": [
    "shamWdPPlot = sns.factorplot(data=shamData,x='dists',y='wdP',hue='targs')\n",
    "shamWdPPlot.fig.suptitle('whole-dP under sham')\n",
    "shamWdPPlot.set_axis_labels('dists', 'dP')\n",
    "shamWdPPlot.fig.subplots_adjust(top=.9)\n",
    "plt.ylim(1, 3.5)"
   ]
  },
  {
   "cell_type": "code",
   "execution_count": 21,
   "metadata": {
    "collapsed": false
   },
   "outputs": [
    {
     "data": {
      "text/plain": [
       "(0, 2.5)"
      ]
     },
     "execution_count": 21,
     "metadata": {},
     "output_type": "execute_result"
    },
    {
     "data": {
      "image/png": "[encoded data removed]",
      "text/plain": [
       "<matplotlib.figure.Figure at 0x10cf958d0>"
      ]
     },
     "metadata": {},
     "output_type": "display_data"
    }
   ],
   "source": [
    "shamLdPPlot = sns.factorplot(data=shamData,x='dists',y='ldP',hue='targs')\n",
    "shamLdPPlot.fig.suptitle('left-dP under sham')\n",
    "shamLdPPlot.set_axis_labels('dists', 'dP')\n",
    "shamLdPPlot.fig.subplots_adjust(top=.9)\n",
    "plt.ylim(0, 2.5)"
   ]
  },
  {
   "cell_type": "code",
   "execution_count": 22,
   "metadata": {
    "collapsed": false
   },
   "outputs": [
    {
     "data": {
      "text/plain": [
       "(0, 2.5)"
      ]
     },
     "execution_count": 22,
     "metadata": {},
     "output_type": "execute_result"
    },
    {
     "data": {
      "image/png": "[encoded data removed]",
      "text/plain": [
       "<matplotlib.figure.Figure at 0x10bc28d10>"
      ]
     },
     "metadata": {},
     "output_type": "display_data"
    }
   ],
   "source": [
    "shamRdPPlot = sns.factorplot(data=shamData,x='dists',y='rdP',hue='targs')\n",
    "shamRdPPlot.fig.suptitle('right-dP under sham')\n",
    "shamRdPPlot.set_axis_labels('dists', 'dP')\n",
    "shamRdPPlot.fig.subplots_adjust(top=.9)\n",
    "plt.ylim(0, 2.5)"
   ]
  },
  {
   "cell_type": "code",
   "execution_count": 23,
   "metadata": {
    "collapsed": false
   },
   "outputs": [],
   "source": [
    "lData = lstimData.reset_index()\n",
    "rData = rstimData.reset_index()\n",
    "sData = shamData.reset_index()\n",
    "normData = pd.DataFrame()\n",
    "normData['lstimLK'] = lData['lK'].sub(sData['lK'], axis=0)\n",
    "normData['lstimRK'] = lData['rK'].sub(sData['rK'], axis=0)\n",
    "normData['rstimLK'] = rData['lK'].sub(sData['lK'], axis=0)\n",
    "normData['rstimRK'] = rData['rK'].sub(sData['rK'], axis=0)\n",
    "normData['lstimLdP'] = lData['ldP'].sub(sData['ldP'], axis=0)\n",
    "normData['lstimRdP'] = lData['rdP'].sub(sData['rdP'], axis=0)\n",
    "normData['rstimLdP'] = rData['ldP'].sub(sData['ldP'], axis=0)\n",
    "normData['rstimRdP'] = rData['rdP'].sub(sData['rdP'], axis=0)\n",
    "normData['targs'] = rData['targs']\n",
    "normData['dists'] = rData['dists']"
   ]
  },
  {
   "cell_type": "code",
   "execution_count": 24,
   "metadata": {
    "collapsed": false
   },
   "outputs": [
    {
     "data": {
      "text/plain": [
       "(-1, 1)"
      ]
     },
     "execution_count": 24,
     "metadata": {},
     "output_type": "execute_result"
    },
    {
     "data": {
      "image/png": "[encoded data removed]",
      "text/plain": [
       "<matplotlib.figure.Figure at 0x10d3447d0>"
      ]
     },
     "metadata": {},
     "output_type": "display_data"
    }
   ],
   "source": [
    "lnormLdPPlot = sns.factorplot(data=normData,x='dists',y='lstimLdP',hue='targs')\n",
    "lnormLdPPlot.fig.suptitle('left-dP normalized under lstim')\n",
    "lnormLdPPlot.set_axis_labels('dists', 'dP')\n",
    "lnormLdPPlot.fig.subplots_adjust(top=.9)\n",
    "plt.ylim(-1, 1)"
   ]
  },
  {
   "cell_type": "code",
   "execution_count": 25,
   "metadata": {
    "collapsed": false
   },
   "outputs": [
    {
     "data": {
      "text/plain": [
       "(-1, 1)"
      ]
     },
     "execution_count": 25,
     "metadata": {},
     "output_type": "execute_result"
    },
    {
     "data": {
      "image/png": "[encoded data removed]",
      "text/plain": [
       "<matplotlib.figure.Figure at 0x10cfa0790>"
      ]
     },
     "metadata": {},
     "output_type": "display_data"
    }
   ],
   "source": [
    "lnormRdPPlot = sns.factorplot(data=normData,x='dists',y='lstimRdP',hue='targs')\n",
    "lnormRdPPlot.fig.suptitle('right-dP normalized under lstim')\n",
    "lnormRdPPlot.set_axis_labels('dists', 'dP')\n",
    "lnormRdPPlot.fig.subplots_adjust(top=.9)\n",
    "plt.ylim(-1, 1)"
   ]
  },
  {
   "cell_type": "code",
   "execution_count": 26,
   "metadata": {
    "collapsed": false
   },
   "outputs": [
    {
     "data": {
      "text/plain": [
       "(-1, 1)"
      ]
     },
     "execution_count": 26,
     "metadata": {},
     "output_type": "execute_result"
    },
    {
     "data": {
      "image/png": "[encoded data removed]",
      "text/plain": [
       "<matplotlib.figure.Figure at 0x10d788250>"
      ]
     },
     "metadata": {},
     "output_type": "display_data"
    }
   ],
   "source": [
    "rnormLdPPlot = sns.factorplot(data=normData,x='dists',y='rstimLdP',hue='targs')\n",
    "rnormLdPPlot.fig.suptitle('left-dP normalized under rstim')\n",
    "rnormLdPPlot.set_axis_labels('dists', 'dP')\n",
    "rnormLdPPlot.fig.subplots_adjust(top=.9)\n",
    "plt.ylim(-1, 1)"
   ]
  },
  {
   "cell_type": "code",
   "execution_count": 27,
   "metadata": {
    "collapsed": false
   },
   "outputs": [
    {
     "data": {
      "text/plain": [
       "(-1, 1)"
      ]
     },
     "execution_count": 27,
     "metadata": {},
     "output_type": "execute_result"
    },
    {
     "data": {
      "image/png": "[encoded data removed]",
      "text/plain": [
       "<matplotlib.figure.Figure at 0x10dae72d0>"
      ]
     },
     "metadata": {},
     "output_type": "display_data"
    }
   ],
   "source": [
    "rnormRdPPlot = sns.factorplot(data=normData,x='dists',y='rstimRdP',hue='targs')\n",
    "rnormRdPPlot.fig.suptitle('right-dP normalized under rstim')\n",
    "rnormRdPPlot.set_axis_labels('dists', 'dP')\n",
    "rnormRdPPlot.fig.subplots_adjust(top=.9)\n",
    "plt.ylim(-1, 1)"
   ]
  },
  {
   "cell_type": "code",
   "execution_count": null,
   "metadata": {
    "collapsed": true
   },
   "outputs": [],
   "source": []
  }
 ],
 "metadata": {
  "kernelspec": {
   "display_name": "Python 2",
   "language": "python",
   "name": "python2"
  },
  "language_info": {
   "codemirror_mode": {
    "name": "ipython",
    "version": 2
   },
   "file_extension": ".py",
   "mimetype": "text/x-python",
   "name": "python",
   "nbconvert_exporter": "python",
   "pygments_lexer": "ipython2",
   "version": "2.7.11"
  }
 },
 "nbformat": 4,
 "nbformat_minor": 0
}
