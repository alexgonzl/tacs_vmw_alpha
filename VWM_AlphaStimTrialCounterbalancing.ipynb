{
 "cells": [
  {
   "cell_type": "code",
   "execution_count": 1,
   "metadata": {
    "collapsed": true
   },
   "outputs": [],
   "source": [
    "import numpy as np"
   ]
  },
  {
   "cell_type": "code",
   "execution_count": 2,
   "metadata": {
    "collapsed": false
   },
   "outputs": [],
   "source": [
    "## Set number of conditions and \n",
    "TargetSets      = np.array([2,4])\n",
    "DistractorSets  = np.array([0,2,4])\n",
    "nConds = TargetSets.size*DistractorSets.size\n",
    "nTrials = 720\n",
    "nTrialsPerCond = nTrials/nConds\n",
    "assert nTrials%nConds==0, 'Error, unequal trials per condition'\n"
   ]
  },
  {
   "cell_type": "code",
   "execution_count": 3,
   "metadata": {
    "collapsed": false
   },
   "outputs": [],
   "source": [
    "## set condition names and store\n",
    "conds = {};\n",
    "nTotalItemsPerCond = np.zeros(nConds)\n",
    "cnt = 1;\n",
    "for ts in range(TargetSets.size):\n",
    "    for ds in range(DistractorSets.size):\n",
    "        conds[cnt] = 'nT' + str(TargetSets[ts]) + 'nD' + str(DistractorSets[ds])\n",
    "        nTotalItemsPerCond[cnt-1] = int(TargetSets[ts]+DistractorSets[ds])\n",
    "        cnt += 1\n"
   ]
  },
  {
   "cell_type": "code",
   "execution_count": 4,
   "metadata": {
    "collapsed": false
   },
   "outputs": [],
   "source": [
    "# Set trial conditions and counter balance\n",
    "TrialIDs = np.arange(nTrials)        # trial IDs: ZERO INDEX\n",
    "AvailableTrials = np.array(TrialIDs) \n",
    "TrialCondIDs   = np.zeros(nTrials)   # individual trial condition\n",
    "ChangeTrialIDs = np.zeros(nTrials)   # test array changes at test\n",
    "nTrialItems    = np.zeros(nTrials,int)   # total number of items per trials\n",
    "\n",
    "for cond in range(nConds):\n",
    "    trials = np.random.choice(AvailableTrials,nTrialsPerCond,replace=False)\n",
    "    TrialCondIDs[trials] = cond+1\n",
    "    AvailableTrials = np.setxor1d(AvailableTrials,trials)\n",
    "    ChangeTrialIDs[np.random.choice(trials,nTrialsPerCond/2,replace=False)]=True\n",
    "    nTrialItems[trials] = nTotalItemsPerCond[cond]\n",
    "    \n",
    "assert AvailableTrials.size==0, 'Error Assigning Trials'\n",
    "hist=np.histogram(TrialCondIDs,range(1,nConds+2))[0]\n",
    "assert sum(hist==nTrialsPerCond)==nConds, 'Uneven Trials'"
   ]
  },
  {
   "cell_type": "code",
   "execution_count": 60,
   "metadata": {
    "collapsed": false
   },
   "outputs": [],
   "source": [
    "from AppKit import NSScreen\n",
    "\n",
    "MonWidth=NSScreen.mainScreen().frame().size.width\n",
    "MonHeight=NSScreen.mainScreen().frame().size.height"
   ]
  },
  {
   "cell_type": "code",
   "execution_count": 57,
   "metadata": {
    "collapsed": false
   },
   "outputs": [],
   "source": [
    "from psychopy import visual,monitors,tools"
   ]
  },
  {
   "cell_type": "code",
   "execution_count": 68,
   "metadata": {
    "collapsed": false
   },
   "outputs": [],
   "source": [
    "mon = monitors.Monitor('alexMBP')\n",
    "mon.setDistance(90.0)\n",
    "mon.setSizePix([MonWidth,MonHeight])\n",
    "mon.setWidth([27.94])\n",
    "#win = visual.Window(size=[1024,768], monitor=mon)\n",
    "mon.saveMon()\n"
   ]
  },
  {
   "cell_type": "code",
   "execution_count": 74,
   "metadata": {
    "collapsed": false
   },
   "outputs": [
    {
     "data": {
      "text/plain": [
       "1.5709499999999998"
      ]
     },
     "execution_count": 74,
     "metadata": {},
     "output_type": "execute_result"
    }
   ],
   "source": []
  },
  {
   "cell_type": "code",
   "execution_count": 65,
   "metadata": {
    "collapsed": false
   },
   "outputs": [
    {
     "data": {
      "text/plain": [
       "11"
      ]
     },
     "execution_count": 65,
     "metadata": {},
     "output_type": "execute_result"
    }
   ],
   "source": [
    "?Mo"
   ]
  },
  {
   "cell_type": "code",
   "execution_count": 50,
   "metadata": {
    "collapsed": false
   },
   "outputs": [],
   "source": [
    "\n"
   ]
  },
  {
   "cell_type": "code",
   "execution_count": 5,
   "metadata": {
    "collapsed": false,
    "scrolled": true
   },
   "outputs": [
    {
     "ename": "TypeError",
     "evalue": "Required argument 'seq' (pos 1) not found",
     "output_type": "error",
     "traceback": [
      "\u001b[0;31m---------------------------------------------------------------------------\u001b[0m",
      "\u001b[0;31mTypeError\u001b[0m                                 Traceback (most recent call last)",
      "\u001b[0;32m<ipython-input-5-92283265156b>\u001b[0m in \u001b[0;36m<module>\u001b[0;34m()\u001b[0m\n\u001b[1;32m      1\u001b[0m \u001b[0;31m# Set orientations and location for each item\u001b[0m\u001b[0;34m\u001b[0m\u001b[0;34m\u001b[0m\u001b[0m\n\u001b[1;32m      2\u001b[0m \u001b[0mPossibleOrientations\u001b[0m  \u001b[0;34m=\u001b[0m \u001b[0mnp\u001b[0m\u001b[0;34m.\u001b[0m\u001b[0mconcatenate\u001b[0m\u001b[0;34m(\u001b[0m\u001b[0;34m(\u001b[0m\u001b[0mnp\u001b[0m\u001b[0;34m.\u001b[0m\u001b[0marange\u001b[0m\u001b[0;34m(\u001b[0m\u001b[0;36m10\u001b[0m\u001b[0;34m,\u001b[0m\u001b[0;36m81\u001b[0m\u001b[0;34m)\u001b[0m\u001b[0;34m,\u001b[0m\u001b[0mnp\u001b[0m\u001b[0;34m.\u001b[0m\u001b[0marange\u001b[0m\u001b[0;34m(\u001b[0m\u001b[0;36m100\u001b[0m\u001b[0;34m,\u001b[0m\u001b[0;36m171\u001b[0m\u001b[0;34m)\u001b[0m\u001b[0;34m)\u001b[0m\u001b[0;34m)\u001b[0m\u001b[0;34m;\u001b[0m \u001b[0;31m# in degrees\u001b[0m\u001b[0;34m\u001b[0m\u001b[0m\n\u001b[0;32m----> 3\u001b[0;31m \u001b[0mPossibleLocations\u001b[0m     \u001b[0;34m=\u001b[0m \u001b[0mnp\u001b[0m\u001b[0;34m.\u001b[0m\u001b[0mconcatenate\u001b[0m\u001b[0;34m(\u001b[0m\u001b[0;34m)\u001b[0m\u001b[0;34m\u001b[0m\u001b[0m\n\u001b[0m\u001b[1;32m      4\u001b[0m \u001b[0mOrientTrialItems\u001b[0m \u001b[0;34m=\u001b[0m \u001b[0;34m{\u001b[0m\u001b[0;34m}\u001b[0m\u001b[0;34m\u001b[0m\u001b[0m\n\u001b[1;32m      5\u001b[0m \u001b[0;32mfor\u001b[0m \u001b[0mtt\u001b[0m \u001b[0;32min\u001b[0m \u001b[0mrange\u001b[0m\u001b[0;34m(\u001b[0m\u001b[0mnTrials\u001b[0m\u001b[0;34m)\u001b[0m\u001b[0;34m:\u001b[0m\u001b[0;34m\u001b[0m\u001b[0m\n",
      "\u001b[0;31mTypeError\u001b[0m: Required argument 'seq' (pos 1) not found"
     ]
    }
   ],
   "source": [
    "# Set orientations and location for each item \n",
    "PossibleOrientations  = np.concatenate((np.arange(10,81),np.arange(100,171))); # in degrees\n",
    "PossibleLocations     = np.concatenate()\n",
    "OrientTrialItems = {}\n",
    "for tt in range(nTrials):\n",
    "    OrientTrialItems[tt] = np.random.choice(PossibleOrientations,nTrialItems[tt])\n",
    "        \n"
   ]
  }
 ],
 "metadata": {
  "kernelspec": {
   "display_name": "Python 2",
   "language": "python",
   "name": "python2"
  },
  "language_info": {
   "codemirror_mode": {
    "name": "ipython",
    "version": 2
   },
   "file_extension": ".py",
   "mimetype": "text/x-python",
   "name": "python",
   "nbconvert_exporter": "python",
   "pygments_lexer": "ipython2",
   "version": "2.7.11"
  }
 },
 "nbformat": 4,
 "nbformat_minor": 0
}
