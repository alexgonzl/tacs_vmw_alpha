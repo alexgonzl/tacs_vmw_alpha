{
 "cells": [
  {
   "cell_type": "code",
   "execution_count": 1,
   "metadata": {
    "collapsed": true
   },
   "outputs": [],
   "source": [
    "%matplotlib inline"
   ]
  },
  {
   "cell_type": "code",
   "execution_count": 2,
   "metadata": {
    "collapsed": false
   },
   "outputs": [
    {
     "name": "stderr",
     "output_type": "stream",
     "text": [
      "/Library/Frameworks/Python.framework/Versions/2.7/lib/python2.7/site-packages/IPython/html.py:14: ShimWarning: The `IPython.html` package has been deprecated. You should import from `notebook` instead. `IPython.html.widgets` has moved to `ipywidgets`.\n",
      "  \"`IPython.html.widgets` has moved to `ipywidgets`.\", ShimWarning)\n"
     ]
    }
   ],
   "source": [
    "import sys\n",
    "sys.dont_write_bytecode = True\n",
    "import seaborn as sns\n",
    "sns.set(style=\"whitegrid\", color_codes=True, font_scale=1.3)\n",
    "from ggplot import *\n",
    "from dataMethods import *\n",
    "from testRuns import *\n",
    "import pandas as pd\n",
    "import matplotlib.pyplot as plt"
   ]
  },
  {
   "cell_type": "code",
   "execution_count": 3,
   "metadata": {
    "collapsed": true
   },
   "outputs": [],
   "source": [
    "dataColumns = ['lHR', 'rHR', 'wHR', 'lK', 'rK', 'wK', 'lfaR', 'rfaR', 'wfaR', 'lHitRT', 'rHitRT', 'wHitRT', 'lFaRT'\n",
    "               , 'rFaRT', 'wFaRT', 'ldP', 'rdP', 'wdP', 'lCrit', 'rCrit', 'wCrit']"
   ]
  },
  {
   "cell_type": "code",
   "execution_count": 4,
   "metadata": {
    "collapsed": false
   },
   "outputs": [],
   "source": [
    "def createDF(testRuns):\n",
    "    data = pd.DataFrame()\n",
    "    i = 0\n",
    "    for (s,r) in testRuns:\n",
    "        stats = extractPerformance(s,r,'behav6')\n",
    "        leftHRs = stats['lHRs']\n",
    "        rightHRs = stats['rHRs']\n",
    "        wholeHRs = stats['wHRs']\n",
    "        leftKs = stats['lKs']\n",
    "        rightKs = stats['rKs']\n",
    "        wholeKs = stats['wKs']\n",
    "        leftfaRates = stats['lfaRates']\n",
    "        rightfaRates = stats['rfaRates']\n",
    "        wholefaRates = stats['wfaRates']\n",
    "        leftHitRTs = stats['lHitRTs']\n",
    "        rightHitRTs = stats['rHitRTs']\n",
    "        wholeHitRTs = stats['wHitRTs']\n",
    "        leftFaRTs = stats['lFaRTs']\n",
    "        rightFaRTs = stats['rFaRTs']\n",
    "        wholeFaRTs = stats['wFaRTs']\n",
    "        leftdPs = stats['ldPs']\n",
    "        rightdPs = stats['rdPs']\n",
    "        wholedPs = stats['wdPs']\n",
    "        leftCrits = stats['lCrits']\n",
    "        rightCrits = stats['rCrits']\n",
    "        wholeCrits = stats['wCrits']\n",
    "        for key in HFconds:\n",
    "            row = pd.Series([leftHRs[key],rightHRs[key], wholeHRs[key], leftKs[key], rightKs[key],\n",
    "                             wholeKs[key], leftfaRates[key], rightfaRates[key], wholefaRates[key],\n",
    "                            leftHitRTs[key], rightHitRTs[key], wholeHitRTs[key], leftFaRTs[key], \n",
    "                              rightFaRTs[key], wholeFaRTs[key], leftdPs[key], rightdPs[key], \n",
    "                              wholedPs[key], leftCrits[key], rightCrits[key], wholeCrits[key]],\n",
    "                            name = str(i), index=dataColumns)\n",
    "            row['targs'] = str(HFconds[key][0])\n",
    "            row['dists'] = str(HFconds[key][1])\n",
    "            row['subj'] = int(s)\n",
    "            row['run'] = int(r)\n",
    "            data = data.append(row)\n",
    "            i += 1\n",
    "    return data"
   ]
  },
  {
   "cell_type": "code",
   "execution_count": 5,
   "metadata": {
    "collapsed": false
   },
   "outputs": [],
   "source": [
    "pilotData = createDF(pilotTestRuns)"
   ]
  },
  {
   "cell_type": "code",
   "execution_count": 6,
   "metadata": {
    "collapsed": false
   },
   "outputs": [
    {
     "data": {
      "text/plain": [
       "0     0.705747\n",
       "1     0.733333\n",
       "2     0.750000\n",
       "3     0.708333\n",
       "4     0.625000\n",
       "5     0.396552\n",
       "6     0.870968\n",
       "7     0.733333\n",
       "8     0.812500\n",
       "9     0.933333\n",
       "10    0.896552\n",
       "11    1.000000\n",
       "Name: rK, dtype: float64"
      ]
     },
     "execution_count": 6,
     "metadata": {},
     "output_type": "execute_result"
    }
   ],
   "source": [
    "pilotData['rK']"
   ]
  },
  {
   "cell_type": "code",
   "execution_count": 7,
   "metadata": {
    "collapsed": false
   },
   "outputs": [
    {
     "data": {
      "text/plain": [
       "0     0.9375\n",
       "1     0.9375\n",
       "2     0.9375\n",
       "3     0.8125\n",
       "4     0.6875\n",
       "5     0.6250\n",
       "6     0.8750\n",
       "7     0.9375\n",
       "8     0.8125\n",
       "9     0.8125\n",
       "10    1.0000\n",
       "11    0.5625\n",
       "Name: lHR, dtype: float64"
      ]
     },
     "execution_count": 7,
     "metadata": {},
     "output_type": "execute_result"
    }
   ],
   "source": [
    "pilotData['lHR']"
   ]
  },
  {
   "cell_type": "code",
   "execution_count": 8,
   "metadata": {
    "collapsed": false
   },
   "outputs": [
    {
     "data": {
      "text/plain": [
       "0     0.733333\n",
       "1     0.750000\n",
       "2     0.750000\n",
       "3     0.375000\n",
       "4     0.312500\n",
       "5     0.250000\n",
       "6     0.875000\n",
       "7     0.750000\n",
       "8     0.812500\n",
       "9     0.500000\n",
       "10    0.500000\n",
       "11    0.500000\n",
       "Name: rHR, dtype: float64"
      ]
     },
     "execution_count": 8,
     "metadata": {},
     "output_type": "execute_result"
    }
   ],
   "source": [
    "pilotData['rHR']"
   ]
  },
  {
   "cell_type": "code",
   "execution_count": 9,
   "metadata": {
    "collapsed": false
   },
   "outputs": [
    {
     "data": {
      "text/plain": [
       "0     0.093750\n",
       "1     0.062500\n",
       "2     0.000000\n",
       "3     0.032258\n",
       "4     0.000000\n",
       "5     0.064516\n",
       "6     0.031250\n",
       "7     0.062500\n",
       "8     0.000000\n",
       "9     0.062500\n",
       "10    0.093750\n",
       "11    0.000000\n",
       "Name: lfaR, dtype: float64"
      ]
     },
     "execution_count": 9,
     "metadata": {},
     "output_type": "execute_result"
    }
   ],
   "source": [
    "pilotData['lfaR']"
   ]
  },
  {
   "cell_type": "code",
   "execution_count": 10,
   "metadata": {
    "collapsed": false
   },
   "outputs": [
    {
     "data": {
      "text/plain": [
       "0     0.093750\n",
       "1     0.062500\n",
       "2     0.000000\n",
       "3     0.032258\n",
       "4     0.000000\n",
       "5     0.064516\n",
       "6     0.031250\n",
       "7     0.062500\n",
       "8     0.000000\n",
       "9     0.062500\n",
       "10    0.093750\n",
       "11    0.000000\n",
       "Name: rfaR, dtype: float64"
      ]
     },
     "execution_count": 10,
     "metadata": {},
     "output_type": "execute_result"
    }
   ],
   "source": [
    "pilotData['rfaR']"
   ]
  },
  {
   "cell_type": "code",
   "execution_count": 11,
   "metadata": {
    "collapsed": false
   },
   "outputs": [
    {
     "data": {
      "text/html": [
       "<div>\n",
       "<table border=\"1\" class=\"dataframe\">\n",
       "  <thead>\n",
       "    <tr style=\"text-align: right;\">\n",
       "      <th></th>\n",
       "      <th>dists</th>\n",
       "      <th>lCrit</th>\n",
       "      <th>lFaRT</th>\n",
       "      <th>lHR</th>\n",
       "      <th>lHitRT</th>\n",
       "      <th>lK</th>\n",
       "      <th>ldP</th>\n",
       "      <th>lfaR</th>\n",
       "      <th>rCrit</th>\n",
       "      <th>rFaRT</th>\n",
       "      <th>...</th>\n",
       "      <th>run</th>\n",
       "      <th>subj</th>\n",
       "      <th>targs</th>\n",
       "      <th>wCrit</th>\n",
       "      <th>wFaRT</th>\n",
       "      <th>wHR</th>\n",
       "      <th>wHitRT</th>\n",
       "      <th>wK</th>\n",
       "      <th>wdP</th>\n",
       "      <th>wfaR</th>\n",
       "    </tr>\n",
       "  </thead>\n",
       "  <tbody>\n",
       "    <tr>\n",
       "      <th>0</th>\n",
       "      <td>0</td>\n",
       "      <td>-0.108055</td>\n",
       "      <td>0.518386</td>\n",
       "      <td>0.9375</td>\n",
       "      <td>0.519150</td>\n",
       "      <td>0.931034</td>\n",
       "      <td>2.852131</td>\n",
       "      <td>0.093750</td>\n",
       "      <td>0.347543</td>\n",
       "      <td>0.527468</td>\n",
       "      <td>...</td>\n",
       "      <td>1.0</td>\n",
       "      <td>2.0</td>\n",
       "      <td>1</td>\n",
       "      <td>0.164421</td>\n",
       "      <td>0.767935</td>\n",
       "      <td>0.83871</td>\n",
       "      <td>0.518610</td>\n",
       "      <td>0.822024</td>\n",
       "      <td>2.307180</td>\n",
       "      <td>0.093750</td>\n",
       "    </tr>\n",
       "    <tr>\n",
       "      <th>1</th>\n",
       "      <td>1</td>\n",
       "      <td>-0.000000</td>\n",
       "      <td>0.568246</td>\n",
       "      <td>0.9375</td>\n",
       "      <td>0.534299</td>\n",
       "      <td>0.933333</td>\n",
       "      <td>3.068241</td>\n",
       "      <td>0.062500</td>\n",
       "      <td>0.429815</td>\n",
       "      <td>0.534299</td>\n",
       "      <td>...</td>\n",
       "      <td>1.0</td>\n",
       "      <td>2.0</td>\n",
       "      <td>1</td>\n",
       "      <td>0.262065</td>\n",
       "      <td>0.675352</td>\n",
       "      <td>0.84375</td>\n",
       "      <td>0.551627</td>\n",
       "      <td>0.833333</td>\n",
       "      <td>2.544111</td>\n",
       "      <td>0.062500</td>\n",
       "    </tr>\n",
       "    <tr>\n",
       "      <th>2</th>\n",
       "      <td>2</td>\n",
       "      <td>0.309877</td>\n",
       "      <td>0.666591</td>\n",
       "      <td>0.9375</td>\n",
       "      <td>0.566061</td>\n",
       "      <td>0.937500</td>\n",
       "      <td>3.687995</td>\n",
       "      <td>0.000000</td>\n",
       "      <td>0.739692</td>\n",
       "      <td>0.566061</td>\n",
       "      <td>...</td>\n",
       "      <td>1.0</td>\n",
       "      <td>2.0</td>\n",
       "      <td>1</td>\n",
       "      <td>0.571942</td>\n",
       "      <td>NaN</td>\n",
       "      <td>0.84375</td>\n",
       "      <td>0.615387</td>\n",
       "      <td>0.843750</td>\n",
       "      <td>3.163865</td>\n",
       "      <td>0.000000</td>\n",
       "    </tr>\n",
       "    <tr>\n",
       "      <th>3</th>\n",
       "      <td>0</td>\n",
       "      <td>0.480725</td>\n",
       "      <td>0.631776</td>\n",
       "      <td>0.8125</td>\n",
       "      <td>0.585273</td>\n",
       "      <td>1.612500</td>\n",
       "      <td>2.735743</td>\n",
       "      <td>0.032258</td>\n",
       "      <td>1.083618</td>\n",
       "      <td>0.601731</td>\n",
       "      <td>...</td>\n",
       "      <td>1.0</td>\n",
       "      <td>2.0</td>\n",
       "      <td>2</td>\n",
       "      <td>0.805697</td>\n",
       "      <td>0.631776</td>\n",
       "      <td>0.59375</td>\n",
       "      <td>0.585273</td>\n",
       "      <td>1.160417</td>\n",
       "      <td>2.085798</td>\n",
       "      <td>0.032258</td>\n",
       "    </tr>\n",
       "    <tr>\n",
       "      <th>4</th>\n",
       "      <td>1</td>\n",
       "      <td>0.832549</td>\n",
       "      <td>0.782170</td>\n",
       "      <td>0.6875</td>\n",
       "      <td>0.598347</td>\n",
       "      <td>1.375000</td>\n",
       "      <td>2.642651</td>\n",
       "      <td>0.000000</td>\n",
       "      <td>1.321326</td>\n",
       "      <td>0.598347</td>\n",
       "      <td>...</td>\n",
       "      <td>1.0</td>\n",
       "      <td>2.0</td>\n",
       "      <td>2</td>\n",
       "      <td>1.076937</td>\n",
       "      <td>NaN</td>\n",
       "      <td>0.50000</td>\n",
       "      <td>0.657394</td>\n",
       "      <td>1.000000</td>\n",
       "      <td>2.153875</td>\n",
       "      <td>0.000000</td>\n",
       "    </tr>\n",
       "    <tr>\n",
       "      <th>5</th>\n",
       "      <td>2</td>\n",
       "      <td>0.599645</td>\n",
       "      <td>0.614811</td>\n",
       "      <td>0.6250</td>\n",
       "      <td>0.561545</td>\n",
       "      <td>1.198276</td>\n",
       "      <td>1.836569</td>\n",
       "      <td>0.064516</td>\n",
       "      <td>1.096209</td>\n",
       "      <td>0.568267</td>\n",
       "      <td>...</td>\n",
       "      <td>1.0</td>\n",
       "      <td>2.0</td>\n",
       "      <td>2</td>\n",
       "      <td>0.837620</td>\n",
       "      <td>0.706940</td>\n",
       "      <td>0.43750</td>\n",
       "      <td>0.561545</td>\n",
       "      <td>0.797414</td>\n",
       "      <td>1.360618</td>\n",
       "      <td>0.064516</td>\n",
       "    </tr>\n",
       "    <tr>\n",
       "      <th>6</th>\n",
       "      <td>0</td>\n",
       "      <td>0.356191</td>\n",
       "      <td>0.567652</td>\n",
       "      <td>0.8750</td>\n",
       "      <td>0.493146</td>\n",
       "      <td>0.870968</td>\n",
       "      <td>3.013081</td>\n",
       "      <td>0.031250</td>\n",
       "      <td>0.356191</td>\n",
       "      <td>0.501128</td>\n",
       "      <td>...</td>\n",
       "      <td>2.0</td>\n",
       "      <td>2.0</td>\n",
       "      <td>1</td>\n",
       "      <td>0.356191</td>\n",
       "      <td>0.631748</td>\n",
       "      <td>0.87500</td>\n",
       "      <td>0.517963</td>\n",
       "      <td>0.870968</td>\n",
       "      <td>3.013081</td>\n",
       "      <td>0.031250</td>\n",
       "    </tr>\n",
       "    <tr>\n",
       "      <th>7</th>\n",
       "      <td>1</td>\n",
       "      <td>-0.000000</td>\n",
       "      <td>0.617920</td>\n",
       "      <td>0.9375</td>\n",
       "      <td>0.501822</td>\n",
       "      <td>0.933333</td>\n",
       "      <td>3.068241</td>\n",
       "      <td>0.062500</td>\n",
       "      <td>0.429815</td>\n",
       "      <td>0.534459</td>\n",
       "      <td>...</td>\n",
       "      <td>2.0</td>\n",
       "      <td>2.0</td>\n",
       "      <td>1</td>\n",
       "      <td>0.262065</td>\n",
       "      <td>0.701259</td>\n",
       "      <td>0.84375</td>\n",
       "      <td>0.536047</td>\n",
       "      <td>0.833333</td>\n",
       "      <td>2.544111</td>\n",
       "      <td>0.062500</td>\n",
       "    </tr>\n",
       "    <tr>\n",
       "      <th>8</th>\n",
       "      <td>2</td>\n",
       "      <td>0.633364</td>\n",
       "      <td>0.564952</td>\n",
       "      <td>0.8125</td>\n",
       "      <td>0.498493</td>\n",
       "      <td>0.812500</td>\n",
       "      <td>3.041021</td>\n",
       "      <td>0.000000</td>\n",
       "      <td>0.633364</td>\n",
       "      <td>0.498493</td>\n",
       "      <td>...</td>\n",
       "      <td>2.0</td>\n",
       "      <td>2.0</td>\n",
       "      <td>1</td>\n",
       "      <td>0.633364</td>\n",
       "      <td>NaN</td>\n",
       "      <td>0.81250</td>\n",
       "      <td>0.516701</td>\n",
       "      <td>0.812500</td>\n",
       "      <td>3.041021</td>\n",
       "      <td>0.000000</td>\n",
       "    </tr>\n",
       "    <tr>\n",
       "      <th>9</th>\n",
       "      <td>0</td>\n",
       "      <td>0.323487</td>\n",
       "      <td>0.609842</td>\n",
       "      <td>0.8125</td>\n",
       "      <td>0.600977</td>\n",
       "      <td>1.600000</td>\n",
       "      <td>2.421267</td>\n",
       "      <td>0.062500</td>\n",
       "      <td>0.767060</td>\n",
       "      <td>0.600977</td>\n",
       "      <td>...</td>\n",
       "      <td>2.0</td>\n",
       "      <td>2.0</td>\n",
       "      <td>2</td>\n",
       "      <td>0.565935</td>\n",
       "      <td>0.594031</td>\n",
       "      <td>0.65625</td>\n",
       "      <td>0.601105</td>\n",
       "      <td>1.266667</td>\n",
       "      <td>1.936371</td>\n",
       "      <td>0.062500</td>\n",
       "    </tr>\n",
       "    <tr>\n",
       "      <th>10</th>\n",
       "      <td>1</td>\n",
       "      <td>-0.272360</td>\n",
       "      <td>0.598524</td>\n",
       "      <td>1.0000</td>\n",
       "      <td>0.592319</td>\n",
       "      <td>2.000000</td>\n",
       "      <td>3.180743</td>\n",
       "      <td>0.093750</td>\n",
       "      <td>0.659005</td>\n",
       "      <td>0.599555</td>\n",
       "      <td>...</td>\n",
       "      <td>2.0</td>\n",
       "      <td>2.0</td>\n",
       "      <td>2</td>\n",
       "      <td>0.321761</td>\n",
       "      <td>0.649133</td>\n",
       "      <td>0.75000</td>\n",
       "      <td>0.591804</td>\n",
       "      <td>1.448276</td>\n",
       "      <td>1.992501</td>\n",
       "      <td>0.093750</td>\n",
       "    </tr>\n",
       "    <tr>\n",
       "      <th>11</th>\n",
       "      <td>2</td>\n",
       "      <td>0.998282</td>\n",
       "      <td>0.615203</td>\n",
       "      <td>0.5625</td>\n",
       "      <td>0.482579</td>\n",
       "      <td>1.125000</td>\n",
       "      <td>2.311185</td>\n",
       "      <td>0.000000</td>\n",
       "      <td>1.076937</td>\n",
       "      <td>0.482579</td>\n",
       "      <td>...</td>\n",
       "      <td>2.0</td>\n",
       "      <td>2.0</td>\n",
       "      <td>2</td>\n",
       "      <td>1.037731</td>\n",
       "      <td>NaN</td>\n",
       "      <td>0.53125</td>\n",
       "      <td>0.548604</td>\n",
       "      <td>1.062500</td>\n",
       "      <td>2.232287</td>\n",
       "      <td>0.000000</td>\n",
       "    </tr>\n",
       "  </tbody>\n",
       "</table>\n",
       "<p>12 rows × 25 columns</p>\n",
       "</div>"
      ],
      "text/plain": [
       "   dists     lCrit     lFaRT     lHR    lHitRT        lK       ldP      lfaR  \\\n",
       "0      0 -0.108055  0.518386  0.9375  0.519150  0.931034  2.852131  0.093750   \n",
       "1      1 -0.000000  0.568246  0.9375  0.534299  0.933333  3.068241  0.062500   \n",
       "2      2  0.309877  0.666591  0.9375  0.566061  0.937500  3.687995  0.000000   \n",
       "3      0  0.480725  0.631776  0.8125  0.585273  1.612500  2.735743  0.032258   \n",
       "4      1  0.832549  0.782170  0.6875  0.598347  1.375000  2.642651  0.000000   \n",
       "5      2  0.599645  0.614811  0.6250  0.561545  1.198276  1.836569  0.064516   \n",
       "6      0  0.356191  0.567652  0.8750  0.493146  0.870968  3.013081  0.031250   \n",
       "7      1 -0.000000  0.617920  0.9375  0.501822  0.933333  3.068241  0.062500   \n",
       "8      2  0.633364  0.564952  0.8125  0.498493  0.812500  3.041021  0.000000   \n",
       "9      0  0.323487  0.609842  0.8125  0.600977  1.600000  2.421267  0.062500   \n",
       "10     1 -0.272360  0.598524  1.0000  0.592319  2.000000  3.180743  0.093750   \n",
       "11     2  0.998282  0.615203  0.5625  0.482579  1.125000  2.311185  0.000000   \n",
       "\n",
       "       rCrit     rFaRT    ...     run  subj  targs     wCrit     wFaRT  \\\n",
       "0   0.347543  0.527468    ...     1.0   2.0      1  0.164421  0.767935   \n",
       "1   0.429815  0.534299    ...     1.0   2.0      1  0.262065  0.675352   \n",
       "2   0.739692  0.566061    ...     1.0   2.0      1  0.571942       NaN   \n",
       "3   1.083618  0.601731    ...     1.0   2.0      2  0.805697  0.631776   \n",
       "4   1.321326  0.598347    ...     1.0   2.0      2  1.076937       NaN   \n",
       "5   1.096209  0.568267    ...     1.0   2.0      2  0.837620  0.706940   \n",
       "6   0.356191  0.501128    ...     2.0   2.0      1  0.356191  0.631748   \n",
       "7   0.429815  0.534459    ...     2.0   2.0      1  0.262065  0.701259   \n",
       "8   0.633364  0.498493    ...     2.0   2.0      1  0.633364       NaN   \n",
       "9   0.767060  0.600977    ...     2.0   2.0      2  0.565935  0.594031   \n",
       "10  0.659005  0.599555    ...     2.0   2.0      2  0.321761  0.649133   \n",
       "11  1.076937  0.482579    ...     2.0   2.0      2  1.037731       NaN   \n",
       "\n",
       "        wHR    wHitRT        wK       wdP      wfaR  \n",
       "0   0.83871  0.518610  0.822024  2.307180  0.093750  \n",
       "1   0.84375  0.551627  0.833333  2.544111  0.062500  \n",
       "2   0.84375  0.615387  0.843750  3.163865  0.000000  \n",
       "3   0.59375  0.585273  1.160417  2.085798  0.032258  \n",
       "4   0.50000  0.657394  1.000000  2.153875  0.000000  \n",
       "5   0.43750  0.561545  0.797414  1.360618  0.064516  \n",
       "6   0.87500  0.517963  0.870968  3.013081  0.031250  \n",
       "7   0.84375  0.536047  0.833333  2.544111  0.062500  \n",
       "8   0.81250  0.516701  0.812500  3.041021  0.000000  \n",
       "9   0.65625  0.601105  1.266667  1.936371  0.062500  \n",
       "10  0.75000  0.591804  1.448276  1.992501  0.093750  \n",
       "11  0.53125  0.548604  1.062500  2.232287  0.000000  \n",
       "\n",
       "[12 rows x 25 columns]"
      ]
     },
     "execution_count": 11,
     "metadata": {},
     "output_type": "execute_result"
    }
   ],
   "source": [
    "pilotData"
   ]
  },
  {
   "cell_type": "code",
   "execution_count": 12,
   "metadata": {
    "collapsed": false
   },
   "outputs": [
    {
     "data": {
      "text/plain": [
       "(0, 2)"
      ]
     },
     "execution_count": 12,
     "metadata": {},
     "output_type": "execute_result"
    },
    {
     "data": {
      "image/png": "[encoded data removed]",
      "text/plain": [
       "<matplotlib.figure.Figure at 0x1052bad10>"
      ]
     },
     "metadata": {},
     "output_type": "display_data"
    }
   ],
   "source": [
    "pilotWKPlot = sns.factorplot(data=pilotData,x='dists',y='wK',hue='targs')\n",
    "pilotWKPlot.fig.suptitle('whole-K under pilot')\n",
    "pilotWKPlot.set_axis_labels('dists', 'K')\n",
    "pilotWKPlot.fig.subplots_adjust(top=.9)\n",
    "plt.ylim(0, 2)"
   ]
  },
  {
   "cell_type": "code",
   "execution_count": 13,
   "metadata": {
    "collapsed": false
   },
   "outputs": [
    {
     "data": {
      "text/plain": [
       "(0, 2)"
      ]
     },
     "execution_count": 13,
     "metadata": {},
     "output_type": "execute_result"
    },
    {
     "data": {
      "image/png": "[encoded data removed]",
      "text/plain": [
       "<matplotlib.figure.Figure at 0x1052bac90>"
      ]
     },
     "metadata": {},
     "output_type": "display_data"
    }
   ],
   "source": [
    "pilotLKPlot = sns.factorplot(data=pilotData,x='dists',y='lK',hue='targs')\n",
    "pilotLKPlot.fig.suptitle('left-K under pilot')\n",
    "pilotLKPlot.set_axis_labels('dists', 'K')\n",
    "pilotLKPlot.fig.subplots_adjust(top=.9)\n",
    "plt.ylim(0, 2)"
   ]
  },
  {
   "cell_type": "code",
   "execution_count": 14,
   "metadata": {
    "collapsed": false
   },
   "outputs": [
    {
     "data": {
      "text/plain": [
       "(0, 2)"
      ]
     },
     "execution_count": 14,
     "metadata": {},
     "output_type": "execute_result"
    },
    {
     "data": {
      "image/png": "[encoded data removed]",
      "text/plain": [
       "<matplotlib.figure.Figure at 0x109e31310>"
      ]
     },
     "metadata": {},
     "output_type": "display_data"
    }
   ],
   "source": [
    "pilotRKPlot = sns.factorplot(data=pilotData,x='dists',y='rK',hue='targs')\n",
    "pilotRKPlot.fig.suptitle('right-K under pilot')\n",
    "pilotRKPlot.set_axis_labels('dists', 'K')\n",
    "pilotRKPlot.fig.subplots_adjust(top=.9)\n",
    "plt.ylim(0, 2)"
   ]
  },
  {
   "cell_type": "code",
   "execution_count": 15,
   "metadata": {
    "collapsed": false
   },
   "outputs": [
    {
     "data": {
      "text/plain": [
       "(0.5, 3.5)"
      ]
     },
     "execution_count": 15,
     "metadata": {},
     "output_type": "execute_result"
    },
    {
     "data": {
      "image/png": "[encoded data removed]",
      "text/plain": [
       "<matplotlib.figure.Figure at 0x1095c36d0>"
      ]
     },
     "metadata": {},
     "output_type": "display_data"
    }
   ],
   "source": [
    "pilotWdPPlot = sns.factorplot(data=pilotData,x='dists',y='wdP',hue='targs')\n",
    "pilotWdPPlot.fig.suptitle('whole-dP under pilot')\n",
    "pilotWdPPlot.set_axis_labels('dists', 'dP')\n",
    "pilotWdPPlot.fig.subplots_adjust(top=.9)\n",
    "plt.ylim(0.5, 3.5)"
   ]
  },
  {
   "cell_type": "code",
   "execution_count": 16,
   "metadata": {
    "collapsed": false
   },
   "outputs": [
    {
     "data": {
      "text/plain": [
       "(0, 3.5)"
      ]
     },
     "execution_count": 16,
     "metadata": {},
     "output_type": "execute_result"
    },
    {
     "data": {
      "image/png": "[encoded data removed]",
      "text/plain": [
       "<matplotlib.figure.Figure at 0x109e99810>"
      ]
     },
     "metadata": {},
     "output_type": "display_data"
    }
   ],
   "source": [
    "pilotLdPPlot = sns.factorplot(data=pilotData,x='dists',y='ldP',hue='targs')\n",
    "pilotLdPPlot.fig.suptitle('left-dP under pilot')\n",
    "pilotLdPPlot.set_axis_labels('dists', 'dP')\n",
    "pilotLdPPlot.fig.subplots_adjust(top=.9)\n",
    "plt.ylim(0, 3.5)"
   ]
  },
  {
   "cell_type": "code",
   "execution_count": 17,
   "metadata": {
    "collapsed": false
   },
   "outputs": [
    {
     "data": {
      "text/plain": [
       "(0, 3.5)"
      ]
     },
     "execution_count": 17,
     "metadata": {},
     "output_type": "execute_result"
    },
    {
     "data": {
      "image/png": "[encoded data removed]",
      "text/plain": [
       "<matplotlib.figure.Figure at 0x1088f9810>"
      ]
     },
     "metadata": {},
     "output_type": "display_data"
    }
   ],
   "source": [
    "pilotRdPPlot = sns.factorplot(data=pilotData,x='dists',y='rdP',hue='targs')\n",
    "pilotRdPPlot.fig.suptitle('right-dP under pilot')\n",
    "pilotRdPPlot.set_axis_labels('dists', 'dP')\n",
    "pilotRdPPlot.fig.subplots_adjust(top=.9)\n",
    "plt.ylim(0, 3.5)"
   ]
  },
  {
   "cell_type": "code",
   "execution_count": null,
   "metadata": {
    "collapsed": true
   },
   "outputs": [],
   "source": []
  }
 ],
 "metadata": {
  "kernelspec": {
   "display_name": "Python 2",
   "language": "python",
   "name": "python2"
  },
  "language_info": {
   "codemirror_mode": {
    "name": "ipython",
    "version": 2
   },
   "file_extension": ".py",
   "mimetype": "text/x-python",
   "name": "python",
   "nbconvert_exporter": "python",
   "pygments_lexer": "ipython2",
   "version": "2.7.11"
  }
 },
 "nbformat": 4,
 "nbformat_minor": 0
}
