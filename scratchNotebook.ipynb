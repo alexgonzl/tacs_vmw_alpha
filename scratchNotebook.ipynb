{
 "cells": [
  {
   "cell_type": "code",
   "execution_count": 15,
   "metadata": {
    "collapsed": false
   },
   "outputs": [
    {
     "name": "stdout",
     "output_type": "stream",
     "text": [
      "203.0107 \tWARNING \tMonitor specification not found. Creating a temporary one...\n",
      "203.0111 \tWARNING \tMonitor specification not found. Creating a temporary one...\n"
     ]
    }
   ],
   "source": [
    "import numpy as np\n",
    "from math import atan2, degrees\n",
    "from AppKit import NSScreen\n",
    "from psychopy import visual,monitors,tools\n",
    "from psychopy.tools import coordinatetools as coord\n",
    "import random\n",
    "\n",
    "# Constants\n",
    "SubjDistance \t= 100.0  # in cm\n",
    "MonitorWidthCM \t= 27.94  # in cm\n",
    "nTrials  \t \t= 720 \n",
    "# Targets and distractors sets\n",
    "TargetSets      = np.array([2,4])\n",
    "DistractorSets  = np.array([0,2,4])\n",
    "# Set orientations and location for each item \n",
    "PossibleObjOrientations  = np.concatenate((np.arange(10,81),np.arange(100,171))); \n",
    "PossibleObjRadix \t\t = np.array([0.2, 0.4])\n",
    "PossibleObjTheta         = np.concatenate((np.arange(20,71),np.arange(110,161), \\\n",
    "\t\t\t\tnp.arange(200,251),np.arange(290,341))); \n",
    "\n",
    "# get monitor dimensions in pixels\n",
    "MonitorWidth =  NSScreen.mainScreen().frame().size.width\n",
    "MonitorHeight = NSScreen.mainScreen().frame().size.height\n",
    "mon = monitors.Monitor('VWMTaskMonitor')\n",
    "mon.setDistance(SubjDistance) # centimeters of between monitor and subject\n",
    "mon.setSizePix([MonitorWidth,MonitorHeight])\n",
    "mon.setWidth(MonitorWidthCM) # widht in pixels of the monitor.\n",
    "\n",
    "# set window\n",
    "win = visual.Window(size=(500, 500), fullscr=False, screen=0, allowGUI=False, allowStencil=False,\n",
    "    monitor='VWMTaskMonitor', color=[0,0,0], colorSpace='rgb', blendMode='avg')"
   ]
  },
  {
   "cell_type": "code",
   "execution_count": 8,
   "metadata": {
    "collapsed": true
   },
   "outputs": [],
   "source": [
    "nConds = TargetSets.size*DistractorSets.size\n",
    "nTrialsPerCond = nTrials/nConds\n",
    "\n",
    "# condition dictionaries\n",
    "conds \t\t\t\t= {}\n",
    "nTotalObjsPerCond \t= {}\n",
    "nTargetsInCond \t\t= {}\n",
    "nDistractorsInCond \t= {}\n",
    "cnt = 1;\n",
    "for ts in range(TargetSets.size):\n",
    "    for ds in range(DistractorSets.size):\n",
    "        conds[cnt] \t\t\t\t= 'nT' + str(TargetSets[ts]) + 'nD' + str(DistractorSets[ds])\n",
    "        nTargetsInCond[cnt] \t= TargetSets[ts]\n",
    "        nDistractorsInCond[cnt] = DistractorSets[ds]\n",
    "        nTotalObjsPerCond[cnt] \t= int(nTargetsInCond[cnt]+nDistractorsInCond[cnt])\n",
    "        cnt += 1\n"
   ]
  },
  {
   "cell_type": "code",
   "execution_count": 49,
   "metadata": {
    "collapsed": false
   },
   "outputs": [],
   "source": [
    "# all measures are in degrees\n",
    "class VWMObj():\n",
    "    \"\"\" Trial objects. \"\"\"\n",
    "    size = (0.1, 0.4) \n",
    "    def __init__(self, objtype, objID , centerLoc = (0,0), orientation = 0):       \n",
    "        # center location tuple: (radii in deg from center of screen, theta from median)\n",
    "            if objtype=='target':\n",
    "                self.color      = 'red'\n",
    "            elif objtype=='distractor':\n",
    "                self.color      = 'blue'\n",
    "            else:\n",
    "                self.color      = 'black'\n",
    "\n",
    "            self.centerLoc      = centerLoc \n",
    "            self.orientation    = orientation\n",
    "            self.objID          = objID\n",
    "            self.objType        = objtype\n",
    "            self.rect           = visual.Rect(win=win, name=None,\n",
    "                    width=self.size[0], height=self.size[1], ori=orientation, \n",
    "                    pos=centerLoc, lineWidth=1, lineColor=[1,1,1], lineColorSpace='rgb',\n",
    "                    fillColor=self.color, fillColorSpace='rgb', opacity=1,depth=-1.0,)\n",
    "    def getLoc(self):\n",
    "        return self.centerLoc\n",
    "\n",
    "    def getOrientation(self):\n",
    "        return self.orientation\n",
    "\n",
    "    def getObjID(self):\n",
    "        return self.objID\n",
    "    \n",
    "    def getColor(self):\n",
    "        return self.color\n",
    "\n",
    "    def objType(self):\n",
    "        return self.objtype      \n",
    "\n",
    "# define trial class\n",
    "class VWMTrial():    \n",
    "    \"\"\"trial properties for VWM alpha tACS \"\"\"\n",
    "    def __init__(self, trialID, condNum, Change):        \n",
    "        self.trialID    \t= trialID        \n",
    "        self.condNum \t\t= condNum \n",
    "        self.nTargets \t\t= nTargetsInCond[condNum] \n",
    "        self.nDistractors \t= nDistractorsInCond[condNum] \n",
    "        self.nTotalItems \t= self.nDistractors + self.nTargets\n",
    "        self.ChangeTrial \t= Change \n",
    "        self.Objects        = []\n",
    "        cnt = 0\n",
    "        for obj in range(self.nTargets):\n",
    "            self.Objects.append(VWMObj('target',cnt))\n",
    "            cnt+=1\n",
    "        for obj in range(self.nDistractors):\n",
    "            self.Objects.append(VWMObj('distractor',cnt))\n",
    "            cnt+=1\n"
   ]
  },
  {
   "cell_type": "code",
   "execution_count": 65,
   "metadata": {
    "collapsed": false
   },
   "outputs": [],
   "source": [
    "# Set trial conditions and counterbalance\n",
    "TrialIDs \t\t= np.arange(nTrials)  # trial IDs\n",
    "AvailableTrials = np.array(TrialIDs) \n",
    "TrialCondIDs   \t= np.zeros(nTrials)   # individual trial condition\n",
    "ChangeTrialIDs \t= np.zeros(nTrials)   # test array changes at test\n",
    "nTrialObjs    \t= np.zeros(nTrials,int)   # total number of trials per item\n",
    "\n",
    "for cond in conds:\n",
    "    trials = np.random.choice(AvailableTrials,nTrialsPerCond,replace=False)\n",
    "    TrialCondIDs[trials] = cond\n",
    "    AvailableTrials = np.setxor1d(AvailableTrials,trials)\n",
    "    ChangeTrialIDs[np.random.choice(trials,nTrialsPerCond/2,replace=False)]=1\n",
    "    nTrialObjs[trials] = nTotalObjsPerCond[cond]"
   ]
  },
  {
   "cell_type": "code",
   "execution_count": 67,
   "metadata": {
    "collapsed": false
   },
   "outputs": [],
   "source": [
    "assert AvailableTrials.size==0, 'Error Assigning Trials'\n",
    "hist=np.histogram(TrialCondIDs,range(1,nConds+2))[0]\n",
    "assert sum(hist==nTrialsPerCond)==nConds, 'Uneven Trials'"
   ]
  },
  {
   "cell_type": "code",
   "execution_count": 88,
   "metadata": {
    "collapsed": false
   },
   "outputs": [],
   "source": [
    "def getQuadrant(theta):\n",
    "    theta = theta%360        \n",
    "    if (theta>=0 and theta<90):\n",
    "        return 1\n",
    "    elif (theta>=90 and theta<180):\n",
    "        return 2\n",
    "    elif (theta>=180 and theta<270):\n",
    "        return 3\n",
    "    elif (theta>=270 and theta<360):\n",
    "        return 4"
   ]
  },
  {
   "cell_type": "code",
   "execution_count": 89,
   "metadata": {
    "collapsed": false
   },
   "outputs": [
    {
     "data": {
      "text/plain": [
       "2"
      ]
     },
     "execution_count": 89,
     "metadata": {},
     "output_type": "execute_result"
    }
   ],
   "source": [
    "getQuadrant(theta)"
   ]
  },
  {
   "cell_type": "code",
   "execution_count": null,
   "metadata": {
    "collapsed": true
   },
   "outputs": [],
   "source": []
  }
 ],
 "metadata": {
  "kernelspec": {
   "display_name": "Python 2",
   "language": "python",
   "name": "python2"
  },
  "language_info": {
   "codemirror_mode": {
    "name": "ipython",
    "version": 2
   },
   "file_extension": ".py",
   "mimetype": "text/x-python",
   "name": "python",
   "nbconvert_exporter": "python",
   "pygments_lexer": "ipython2",
   "version": "2.7.11"
  }
 },
 "nbformat": 4,
 "nbformat_minor": 0
}
