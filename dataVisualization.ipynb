{
 "cells": [
  {
   "cell_type": "code",
   "execution_count": 1,
   "metadata": {
    "collapsed": true
   },
   "outputs": [],
   "source": [
    "%matplotlib inline"
   ]
  },
  {
   "cell_type": "code",
   "execution_count": 2,
   "metadata": {
    "collapsed": false
   },
   "outputs": [
    {
     "name": "stderr",
     "output_type": "stream",
     "text": [
      "/Library/Frameworks/Python.framework/Versions/2.7/lib/python2.7/site-packages/IPython/core/interactiveshell.py:2885: FutureWarning: \n",
      "mpl_style had been deprecated and will be removed in a future version.\n",
      "Use `matplotlib.pyplot.style.use` instead.\n",
      "\n",
      "  exec(code_obj, self.user_global_ns, self.user_ns)\n",
      "/Library/Frameworks/Python.framework/Versions/2.7/lib/python2.7/site-packages/IPython/html.py:14: ShimWarning: The `IPython.html` package has been deprecated. You should import from `notebook` instead. `IPython.html.widgets` has moved to `ipywidgets`.\n",
      "  \"`IPython.html.widgets` has moved to `ipywidgets`.\", ShimWarning)\n"
     ]
    }
   ],
   "source": [
    "from __future__ import division\n",
    "import pandas as pd\n",
    "pd.set_option('display.mpl_style', 'default') # Make the graphs a bit prettier\n",
    "from collections import OrderedDict\n",
    "from scipy.stats import norm\n",
    "Z = norm.ppf\n",
    "import numpy as np\n",
    "import matplotlib as mpl\n",
    "import matplotlib.pyplot as plt\n",
    "import seaborn as sns\n",
    "sns.set(style=\"whitegrid\", color_codes=True)\n",
    "np.random.seed(sum(map(ord, \"categorical\")))"
   ]
  },
  {
   "cell_type": "code",
   "execution_count": 3,
   "metadata": {
    "collapsed": true
   },
   "outputs": [],
   "source": [
    "import os\n",
    "from os.path import expanduser"
   ]
  },
  {
   "cell_type": "code",
   "execution_count": 4,
   "metadata": {
    "collapsed": false
   },
   "outputs": [],
   "source": [
    "homeDirectory = expanduser(\"~\")\n",
    "dataDirectory = homeDirectory + os.sep + 'Google Drive/tACS_VWM_ALPHA/data/behav3/'"
   ]
  },
  {
   "cell_type": "code",
   "execution_count": 5,
   "metadata": {
    "collapsed": true
   },
   "outputs": [],
   "source": [
    "dataSheets = [dataDirectory + 's1/runData/run1_2016_Jul_01_0903.csv', dataDirectory + 's1/runData/run2_2016_Jul_01_0922.csv', dataDirectory + 's1/runData/run3_2016_Jul_01_0942.csv', \n",
    "              dataDirectory + 's2/runData/run1_2016_Jul_01_1006.csv', dataDirectory + 's2/runData/run2_2016_Jul_01_1025.csv', dataDirectory + 's2/runData/run3_2016_Jul_01_1044.csv', \n",
    "              dataDirectory + 's3/runData/run1_2016_Jul_01_1106.csv', dataDirectory + 's3/runData/run2_2016_Jul_01_1125.csv', dataDirectory + 's3/runData/run3_2016_Jul_01_1144.csv', \n",
    "              dataDirectory + 's4/runData/run1_2016_Jul_01_1314.csv', dataDirectory + 's4/runData/run2_2016_Jul_01_1336.csv']"
   ]
  },
  {
   "cell_type": "code",
   "execution_count": 24,
   "metadata": {
    "collapsed": true
   },
   "outputs": [],
   "source": [
    "testRuns = [(1,1), (1,2), (1,3), (2,1), (2,2), (2,3), (3,1), (3,2), (3,3), (4,1), (4,2)]"
   ]
  },
  {
   "cell_type": "code",
   "execution_count": 25,
   "metadata": {
    "collapsed": false
   },
   "outputs": [],
   "source": [
    "conds = OrderedDict([('t2d0', (2, 0)), ('t2d2', (2, 2)), ('t2d4', (2, 4)), ('t4d0', (4, 0)), ('t4d2', (4, 2)), ('t4d4', (4, 4))])"
   ]
  },
  {
   "cell_type": "code",
   "execution_count": 26,
   "metadata": {
    "collapsed": true
   },
   "outputs": [],
   "source": [
    "# counts number of trials corresponding to inputted conditions\n",
    "def itemCounter(df, responseType, changeType, t, d):\n",
    "    count = float(len(df[responseType & changeType & t & d]))\n",
    "    return count"
   ]
  },
  {
   "cell_type": "code",
   "execution_count": 27,
   "metadata": {
    "collapsed": false
   },
   "outputs": [],
   "source": [
    "# calculates K pased on Pashler equation: K = S * ((H - F) / (1 - F))\n",
    "def kCalculation(s, h, f):\n",
    "    k = s * ((h - f) / (1 - f))\n",
    "    return k"
   ]
  },
  {
   "cell_type": "code",
   "execution_count": 28,
   "metadata": {
    "collapsed": false
   },
   "outputs": [],
   "source": [
    "def pashlerK(csv):\n",
    "    # read in csv file\n",
    "    df = pd.read_csv(csv)\n",
    "\n",
    "    # create conditions\n",
    "    resps = df['Response'] == 1\n",
    "    noResps = df['Response'] == 0\n",
    "    changes = df['ChangeTrial'] == 1\n",
    "    noChanges = df['ChangeTrial'] == 0\n",
    "    targ2 = df['nTargets'] == 2\n",
    "    targ4 = df['nTargets'] == 4\n",
    "    dist0 = df['nDistractors'] == 0\n",
    "    dist2 = df['nDistractors'] == 2\n",
    "    dist4 = df['nDistractors'] == 4\n",
    "\n",
    "    # initialize dictionaries\n",
    "    hitRates = OrderedDict()\n",
    "    fAlarmRates = OrderedDict()\n",
    "    Kvals = OrderedDict()\n",
    "    \n",
    "    conds = OrderedDict([('t2d0', (targ2, dist0)), ('t2d2', (targ2, dist2)), ('t2d4', (targ2, dist4)), ('t4d0', (targ4, dist0)), ('t4d2', (targ4, dist2)), ('t4d4', (targ4, dist4))])\n",
    "\n",
    "    # store rate values\n",
    "    for key in conds:\n",
    "        hits = itemCounter(df, resps, changes, conds[key][0], conds[key][1])\n",
    "        misses = itemCounter(df, noResps, changes, conds[key][0], conds[key][1])\n",
    "        falarms = itemCounter(df, resps, noChanges, conds[key][0], conds[key][1])\n",
    "        crejects = itemCounter(df, noResps, noChanges, conds[key][0], conds[key][1])\n",
    "        hitRates[key] = hits/(hits+misses)\n",
    "        fAlarmRates[key] = falarms/(falarms+crejects)\n",
    "        s = 0\n",
    "        if key == 't2d0' or key == 't2d2' or key == 't2d4':\n",
    "            s = 2\n",
    "        else:\n",
    "            s = 4\n",
    "        Kvals[key] = kCalculation(s, hitRates[key], fAlarmRates[key])\n",
    "    return {'Kvals': Kvals, 'hitRates': hitRates, 'fAlarmRates': fAlarmRates}"
   ]
  },
  {
   "cell_type": "code",
   "execution_count": 29,
   "metadata": {
    "collapsed": false
   },
   "outputs": [],
   "source": [
    "def rtCalc(csv):\n",
    "    # read in csv file\n",
    "    df = pd.read_csv(csv)\n",
    "\n",
    "    # create conditions\n",
    "    resps = df['Response'] == 1\n",
    "    targ2 = df['nTargets'] == 2\n",
    "    targ4 = df['nTargets'] == 4\n",
    "    dist0 = df['nDistractors'] == 0\n",
    "    dist2 = df['nDistractors'] == 2\n",
    "    dist4 = df['nDistractors'] == 4\n",
    "\n",
    "    # initialize dictionary\n",
    "    RTRates = OrderedDict()\n",
    "    conds = OrderedDict([('t2d0', (targ2, dist0)), ('t2d2', (targ2, dist2)), ('t2d4', (targ2, dist4)), ('t4d0', (targ4, dist0)), ('t4d2', (targ4, dist2)), ('t4d4', (targ4, dist4))])\n",
    "\n",
    "    # calculate average RT value\n",
    "    for key in conds:\n",
    "        rows = df[conds[key][0] & conds[key][1] & resps]\n",
    "        rts = rows['RT']\n",
    "        meanRT = rts.mean()\n",
    "        RTRates[key] = meanRT\n",
    "    return RTRates"
   ]
  },
  {
   "cell_type": "code",
   "execution_count": 30,
   "metadata": {
    "collapsed": true
   },
   "outputs": [],
   "source": [
    "def dprime(csv):\n",
    "     # read in csv file\n",
    "    df = pd.read_csv(csv)\n",
    "    \n",
    "    # create conditions\n",
    "    resps = df['Response'] == 1\n",
    "    noResps = df['Response'] == 0\n",
    "    changes = df['ChangeTrial'] == 1\n",
    "    noChanges = df['ChangeTrial'] == 0\n",
    "    targ2 = df['nTargets'] == 2\n",
    "    targ4 = df['nTargets'] == 4\n",
    "    dist0 = df['nDistractors'] == 0\n",
    "    dist2 = df['nDistractors'] == 2\n",
    "    dist4 = df['nDistractors'] == 4\n",
    "    \n",
    "    # initialize dict\n",
    "    hits = OrderedDict()\n",
    "    misses = OrderedDict()\n",
    "    falarms = OrderedDict()\n",
    "    crejects = OrderedDict()\n",
    "    dprimes = OrderedDict()\n",
    "      \n",
    "    conds = OrderedDict([('t2d0', (targ2, dist0)), ('t2d2', (targ2, dist2)), ('t2d4', (targ2, dist4)), ('t4d0', (targ4, dist0)), ('t4d2', (targ4, dist2)), ('t4d4', (targ4, dist4))])\n",
    "\n",
    "    # calculate d-primes for each condition\n",
    "    for key in conds:   \n",
    "        hits = itemCounter(df, resps, changes, conds[key][0], conds[key][1])\n",
    "        misses = itemCounter(df, noResps, changes, conds[key][0], conds[key][1])\n",
    "        falarms = itemCounter(df, resps, noChanges, conds[key][0], conds[key][1])\n",
    "        crejects = itemCounter(df, noResps, noChanges, conds[key][0], conds[key][1])\n",
    "        \n",
    "        # Floors an ceilings are replaced by half hits and half FA's\n",
    "        halfHit = 0.5/(hits+misses)\n",
    "        halfFa = 0.5/(falarms+crejects)\n",
    " \n",
    "        # Calculate hitrate and avoid d' infinity\n",
    "        hitRate = hits/(hits+misses)\n",
    "        if hitRate == 1: hitRate = 1-halfHit\n",
    "        if hitRate == 0: hitRate = halfHit\n",
    "\n",
    "        # Calculate false alarm rate and avoid d' infinity\n",
    "        faRate = falarms/(falarms+crejects)\n",
    "        if faRate == 1: faRate = 1-halfFa\n",
    "        if faRate == 0: faRate = halfFa\n",
    "        \n",
    "        # calculate dprime using Z (ppf function in scipy.norm)\n",
    "        dprimes[key]= Z(hitRate) - Z(faRate)\n",
    "    \n",
    "    return dprimes"
   ]
  },
  {
   "cell_type": "code",
   "execution_count": 31,
   "metadata": {
    "collapsed": false
   },
   "outputs": [],
   "source": [
    "Kvals = []\n",
    "hitRates = []\n",
    "faRates = []\n",
    "\n",
    "for sheet in dataSheets:\n",
    "    Kvals.append(pashlerK(sheet)['Kvals'])\n",
    "    hitRates.append(pashlerK(sheet)['hitRates'])\n",
    "    faRates.append(pashlerK(sheet)['fAlarmRates'])"
   ]
  },
  {
   "cell_type": "code",
   "execution_count": 32,
   "metadata": {
    "collapsed": false
   },
   "outputs": [
    {
     "data": {
      "text/html": [
       "<div>\n",
       "<table border=\"1\" class=\"dataframe\">\n",
       "  <thead>\n",
       "    <tr style=\"text-align: right;\">\n",
       "      <th></th>\n",
       "      <th>t2d0</th>\n",
       "      <th>t2d2</th>\n",
       "      <th>t2d4</th>\n",
       "      <th>t4d0</th>\n",
       "      <th>t4d2</th>\n",
       "      <th>t4d4</th>\n",
       "    </tr>\n",
       "  </thead>\n",
       "  <tbody>\n",
       "    <tr>\n",
       "      <th>(1, 1)</th>\n",
       "      <td>1.714286</td>\n",
       "      <td>1.782609</td>\n",
       "      <td>1.714286</td>\n",
       "      <td>1.565217</td>\n",
       "      <td>2.500000</td>\n",
       "      <td>1.142857</td>\n",
       "    </tr>\n",
       "    <tr>\n",
       "      <th>(1, 2)</th>\n",
       "      <td>1.727273</td>\n",
       "      <td>1.541667</td>\n",
       "      <td>1.523810</td>\n",
       "      <td>3.333333</td>\n",
       "      <td>2.526316</td>\n",
       "      <td>2.363636</td>\n",
       "    </tr>\n",
       "    <tr>\n",
       "      <th>(1, 3)</th>\n",
       "      <td>1.818182</td>\n",
       "      <td>1.708333</td>\n",
       "      <td>1.523810</td>\n",
       "      <td>2.857143</td>\n",
       "      <td>2.162162</td>\n",
       "      <td>2.400000</td>\n",
       "    </tr>\n",
       "    <tr>\n",
       "      <th>(2, 1)</th>\n",
       "      <td>2.000000</td>\n",
       "      <td>2.000000</td>\n",
       "      <td>1.800000</td>\n",
       "      <td>2.736842</td>\n",
       "      <td>3.222222</td>\n",
       "      <td>3.368421</td>\n",
       "    </tr>\n",
       "    <tr>\n",
       "      <th>(2, 2)</th>\n",
       "      <td>1.727273</td>\n",
       "      <td>1.833333</td>\n",
       "      <td>1.818182</td>\n",
       "      <td>3.304348</td>\n",
       "      <td>3.500000</td>\n",
       "      <td>3.111111</td>\n",
       "    </tr>\n",
       "    <tr>\n",
       "      <th>(2, 3)</th>\n",
       "      <td>1.636364</td>\n",
       "      <td>1.787234</td>\n",
       "      <td>1.727273</td>\n",
       "      <td>3.000000</td>\n",
       "      <td>2.971429</td>\n",
       "      <td>2.947368</td>\n",
       "    </tr>\n",
       "    <tr>\n",
       "      <th>(3, 1)</th>\n",
       "      <td>2.000000</td>\n",
       "      <td>1.955556</td>\n",
       "      <td>2.000000</td>\n",
       "      <td>3.000000</td>\n",
       "      <td>3.487179</td>\n",
       "      <td>3.500000</td>\n",
       "    </tr>\n",
       "    <tr>\n",
       "      <th>(3, 2)</th>\n",
       "      <td>2.000000</td>\n",
       "      <td>2.000000</td>\n",
       "      <td>2.000000</td>\n",
       "      <td>3.478261</td>\n",
       "      <td>3.333333</td>\n",
       "      <td>3.478261</td>\n",
       "    </tr>\n",
       "    <tr>\n",
       "      <th>(3, 3)</th>\n",
       "      <td>2.000000</td>\n",
       "      <td>2.000000</td>\n",
       "      <td>2.000000</td>\n",
       "      <td>3.666667</td>\n",
       "      <td>3.609756</td>\n",
       "      <td>3.826087</td>\n",
       "    </tr>\n",
       "    <tr>\n",
       "      <th>(4, 1)</th>\n",
       "      <td>2.000000</td>\n",
       "      <td>1.914894</td>\n",
       "      <td>2.000000</td>\n",
       "      <td>3.272727</td>\n",
       "      <td>2.974359</td>\n",
       "      <td>2.857143</td>\n",
       "    </tr>\n",
       "    <tr>\n",
       "      <th>(4, 2)</th>\n",
       "      <td>2.000000</td>\n",
       "      <td>1.955556</td>\n",
       "      <td>2.000000</td>\n",
       "      <td>3.680000</td>\n",
       "      <td>3.052632</td>\n",
       "      <td>2.095238</td>\n",
       "    </tr>\n",
       "  </tbody>\n",
       "</table>\n",
       "</div>"
      ],
      "text/plain": [
       "            t2d0      t2d2      t2d4      t4d0      t4d2      t4d4\n",
       "(1, 1)  1.714286  1.782609  1.714286  1.565217  2.500000  1.142857\n",
       "(1, 2)  1.727273  1.541667  1.523810  3.333333  2.526316  2.363636\n",
       "(1, 3)  1.818182  1.708333  1.523810  2.857143  2.162162  2.400000\n",
       "(2, 1)  2.000000  2.000000  1.800000  2.736842  3.222222  3.368421\n",
       "(2, 2)  1.727273  1.833333  1.818182  3.304348  3.500000  3.111111\n",
       "(2, 3)  1.636364  1.787234  1.727273  3.000000  2.971429  2.947368\n",
       "(3, 1)  2.000000  1.955556  2.000000  3.000000  3.487179  3.500000\n",
       "(3, 2)  2.000000  2.000000  2.000000  3.478261  3.333333  3.478261\n",
       "(3, 3)  2.000000  2.000000  2.000000  3.666667  3.609756  3.826087\n",
       "(4, 1)  2.000000  1.914894  2.000000  3.272727  2.974359  2.857143\n",
       "(4, 2)  2.000000  1.955556  2.000000  3.680000  3.052632  2.095238"
      ]
     },
     "execution_count": 32,
     "metadata": {},
     "output_type": "execute_result"
    }
   ],
   "source": [
    "Kchart = pd.DataFrame(Kvals, index=testRuns, columns=conds.keys())\n",
    "Kchart"
   ]
  },
  {
   "cell_type": "code",
   "execution_count": 33,
   "metadata": {
    "collapsed": false
   },
   "outputs": [
    {
     "data": {
      "text/html": [
       "<div>\n",
       "<table border=\"1\" class=\"dataframe\">\n",
       "  <thead>\n",
       "    <tr style=\"text-align: right;\">\n",
       "      <th></th>\n",
       "      <th>t2d0</th>\n",
       "      <th>t2d2</th>\n",
       "      <th>t2d4</th>\n",
       "      <th>t4d0</th>\n",
       "      <th>t4d2</th>\n",
       "      <th>t4d4</th>\n",
       "    </tr>\n",
       "  </thead>\n",
       "  <tbody>\n",
       "    <tr>\n",
       "      <th>(1, 1)</th>\n",
       "      <td>0.863636</td>\n",
       "      <td>0.895833</td>\n",
       "      <td>0.863636</td>\n",
       "      <td>0.44</td>\n",
       "      <td>0.642857</td>\n",
       "      <td>0.40</td>\n",
       "    </tr>\n",
       "    <tr>\n",
       "      <th>(1, 2)</th>\n",
       "      <td>0.863636</td>\n",
       "      <td>0.770833</td>\n",
       "      <td>0.772727</td>\n",
       "      <td>0.84</td>\n",
       "      <td>0.666667</td>\n",
       "      <td>0.64</td>\n",
       "    </tr>\n",
       "    <tr>\n",
       "      <th>(1, 3)</th>\n",
       "      <td>0.909091</td>\n",
       "      <td>0.854167</td>\n",
       "      <td>0.772727</td>\n",
       "      <td>0.76</td>\n",
       "      <td>0.595238</td>\n",
       "      <td>0.60</td>\n",
       "    </tr>\n",
       "    <tr>\n",
       "      <th>(2, 1)</th>\n",
       "      <td>1.000000</td>\n",
       "      <td>1.000000</td>\n",
       "      <td>0.909091</td>\n",
       "      <td>0.76</td>\n",
       "      <td>0.833333</td>\n",
       "      <td>0.88</td>\n",
       "    </tr>\n",
       "    <tr>\n",
       "      <th>(2, 2)</th>\n",
       "      <td>0.863636</td>\n",
       "      <td>0.916667</td>\n",
       "      <td>0.909091</td>\n",
       "      <td>0.84</td>\n",
       "      <td>0.904762</td>\n",
       "      <td>0.84</td>\n",
       "    </tr>\n",
       "    <tr>\n",
       "      <th>(2, 3)</th>\n",
       "      <td>0.818182</td>\n",
       "      <td>0.895833</td>\n",
       "      <td>0.863636</td>\n",
       "      <td>0.76</td>\n",
       "      <td>0.785714</td>\n",
       "      <td>0.80</td>\n",
       "    </tr>\n",
       "    <tr>\n",
       "      <th>(3, 1)</th>\n",
       "      <td>1.000000</td>\n",
       "      <td>0.979167</td>\n",
       "      <td>1.000000</td>\n",
       "      <td>0.84</td>\n",
       "      <td>0.880952</td>\n",
       "      <td>0.88</td>\n",
       "    </tr>\n",
       "    <tr>\n",
       "      <th>(3, 2)</th>\n",
       "      <td>1.000000</td>\n",
       "      <td>1.000000</td>\n",
       "      <td>1.000000</td>\n",
       "      <td>0.88</td>\n",
       "      <td>0.833333</td>\n",
       "      <td>0.88</td>\n",
       "    </tr>\n",
       "    <tr>\n",
       "      <th>(3, 3)</th>\n",
       "      <td>1.000000</td>\n",
       "      <td>1.000000</td>\n",
       "      <td>1.000000</td>\n",
       "      <td>0.92</td>\n",
       "      <td>0.904762</td>\n",
       "      <td>0.96</td>\n",
       "    </tr>\n",
       "    <tr>\n",
       "      <th>(4, 1)</th>\n",
       "      <td>1.000000</td>\n",
       "      <td>0.958333</td>\n",
       "      <td>1.000000</td>\n",
       "      <td>0.84</td>\n",
       "      <td>0.761905</td>\n",
       "      <td>0.76</td>\n",
       "    </tr>\n",
       "    <tr>\n",
       "      <th>(4, 2)</th>\n",
       "      <td>1.000000</td>\n",
       "      <td>0.979167</td>\n",
       "      <td>1.000000</td>\n",
       "      <td>0.92</td>\n",
       "      <td>0.785714</td>\n",
       "      <td>0.60</td>\n",
       "    </tr>\n",
       "  </tbody>\n",
       "</table>\n",
       "</div>"
      ],
      "text/plain": [
       "            t2d0      t2d2      t2d4  t4d0      t4d2  t4d4\n",
       "(1, 1)  0.863636  0.895833  0.863636  0.44  0.642857  0.40\n",
       "(1, 2)  0.863636  0.770833  0.772727  0.84  0.666667  0.64\n",
       "(1, 3)  0.909091  0.854167  0.772727  0.76  0.595238  0.60\n",
       "(2, 1)  1.000000  1.000000  0.909091  0.76  0.833333  0.88\n",
       "(2, 2)  0.863636  0.916667  0.909091  0.84  0.904762  0.84\n",
       "(2, 3)  0.818182  0.895833  0.863636  0.76  0.785714  0.80\n",
       "(3, 1)  1.000000  0.979167  1.000000  0.84  0.880952  0.88\n",
       "(3, 2)  1.000000  1.000000  1.000000  0.88  0.833333  0.88\n",
       "(3, 3)  1.000000  1.000000  1.000000  0.92  0.904762  0.96\n",
       "(4, 1)  1.000000  0.958333  1.000000  0.84  0.761905  0.76\n",
       "(4, 2)  1.000000  0.979167  1.000000  0.92  0.785714  0.60"
      ]
     },
     "execution_count": 33,
     "metadata": {},
     "output_type": "execute_result"
    }
   ],
   "source": [
    "hitChart = pd.DataFrame(hitRates, index=testRuns, columns=conds.keys())\n",
    "hitChart"
   ]
  },
  {
   "cell_type": "code",
   "execution_count": 34,
   "metadata": {
    "collapsed": false
   },
   "outputs": [
    {
     "data": {
      "text/html": [
       "<div>\n",
       "<table border=\"1\" class=\"dataframe\">\n",
       "  <thead>\n",
       "    <tr style=\"text-align: right;\">\n",
       "      <th></th>\n",
       "      <th>t2d0</th>\n",
       "      <th>t2d2</th>\n",
       "      <th>t2d4</th>\n",
       "      <th>t4d0</th>\n",
       "      <th>t4d2</th>\n",
       "      <th>t4d4</th>\n",
       "    </tr>\n",
       "  </thead>\n",
       "  <tbody>\n",
       "    <tr>\n",
       "      <th>(1, 1)</th>\n",
       "      <td>0.045455</td>\n",
       "      <td>0.041667</td>\n",
       "      <td>0.045455</td>\n",
       "      <td>0.08</td>\n",
       "      <td>0.047619</td>\n",
       "      <td>0.16</td>\n",
       "    </tr>\n",
       "    <tr>\n",
       "      <th>(1, 2)</th>\n",
       "      <td>0.000000</td>\n",
       "      <td>0.000000</td>\n",
       "      <td>0.045455</td>\n",
       "      <td>0.04</td>\n",
       "      <td>0.095238</td>\n",
       "      <td>0.12</td>\n",
       "    </tr>\n",
       "    <tr>\n",
       "      <th>(1, 3)</th>\n",
       "      <td>0.000000</td>\n",
       "      <td>0.000000</td>\n",
       "      <td>0.045455</td>\n",
       "      <td>0.16</td>\n",
       "      <td>0.119048</td>\n",
       "      <td>0.00</td>\n",
       "    </tr>\n",
       "    <tr>\n",
       "      <th>(2, 1)</th>\n",
       "      <td>0.000000</td>\n",
       "      <td>0.062500</td>\n",
       "      <td>0.090909</td>\n",
       "      <td>0.24</td>\n",
       "      <td>0.142857</td>\n",
       "      <td>0.24</td>\n",
       "    </tr>\n",
       "    <tr>\n",
       "      <th>(2, 2)</th>\n",
       "      <td>0.000000</td>\n",
       "      <td>0.000000</td>\n",
       "      <td>0.000000</td>\n",
       "      <td>0.08</td>\n",
       "      <td>0.238095</td>\n",
       "      <td>0.28</td>\n",
       "    </tr>\n",
       "    <tr>\n",
       "      <th>(2, 3)</th>\n",
       "      <td>0.000000</td>\n",
       "      <td>0.020833</td>\n",
       "      <td>0.000000</td>\n",
       "      <td>0.04</td>\n",
       "      <td>0.166667</td>\n",
       "      <td>0.24</td>\n",
       "    </tr>\n",
       "    <tr>\n",
       "      <th>(3, 1)</th>\n",
       "      <td>0.090909</td>\n",
       "      <td>0.062500</td>\n",
       "      <td>0.045455</td>\n",
       "      <td>0.36</td>\n",
       "      <td>0.071429</td>\n",
       "      <td>0.04</td>\n",
       "    </tr>\n",
       "    <tr>\n",
       "      <th>(3, 2)</th>\n",
       "      <td>0.090909</td>\n",
       "      <td>0.020833</td>\n",
       "      <td>0.000000</td>\n",
       "      <td>0.08</td>\n",
       "      <td>0.000000</td>\n",
       "      <td>0.08</td>\n",
       "    </tr>\n",
       "    <tr>\n",
       "      <th>(3, 3)</th>\n",
       "      <td>0.000000</td>\n",
       "      <td>0.000000</td>\n",
       "      <td>0.000000</td>\n",
       "      <td>0.04</td>\n",
       "      <td>0.023810</td>\n",
       "      <td>0.08</td>\n",
       "    </tr>\n",
       "    <tr>\n",
       "      <th>(4, 1)</th>\n",
       "      <td>0.045455</td>\n",
       "      <td>0.020833</td>\n",
       "      <td>0.227273</td>\n",
       "      <td>0.12</td>\n",
       "      <td>0.071429</td>\n",
       "      <td>0.16</td>\n",
       "    </tr>\n",
       "    <tr>\n",
       "      <th>(4, 2)</th>\n",
       "      <td>0.000000</td>\n",
       "      <td>0.062500</td>\n",
       "      <td>0.000000</td>\n",
       "      <td>0.00</td>\n",
       "      <td>0.095238</td>\n",
       "      <td>0.16</td>\n",
       "    </tr>\n",
       "  </tbody>\n",
       "</table>\n",
       "</div>"
      ],
      "text/plain": [
       "            t2d0      t2d2      t2d4  t4d0      t4d2  t4d4\n",
       "(1, 1)  0.045455  0.041667  0.045455  0.08  0.047619  0.16\n",
       "(1, 2)  0.000000  0.000000  0.045455  0.04  0.095238  0.12\n",
       "(1, 3)  0.000000  0.000000  0.045455  0.16  0.119048  0.00\n",
       "(2, 1)  0.000000  0.062500  0.090909  0.24  0.142857  0.24\n",
       "(2, 2)  0.000000  0.000000  0.000000  0.08  0.238095  0.28\n",
       "(2, 3)  0.000000  0.020833  0.000000  0.04  0.166667  0.24\n",
       "(3, 1)  0.090909  0.062500  0.045455  0.36  0.071429  0.04\n",
       "(3, 2)  0.090909  0.020833  0.000000  0.08  0.000000  0.08\n",
       "(3, 3)  0.000000  0.000000  0.000000  0.04  0.023810  0.08\n",
       "(4, 1)  0.045455  0.020833  0.227273  0.12  0.071429  0.16\n",
       "(4, 2)  0.000000  0.062500  0.000000  0.00  0.095238  0.16"
      ]
     },
     "execution_count": 34,
     "metadata": {},
     "output_type": "execute_result"
    }
   ],
   "source": [
    "faChart = pd.DataFrame(faRates, index=testRuns, columns=conds.keys())\n",
    "faChart"
   ]
  },
  {
   "cell_type": "code",
   "execution_count": 35,
   "metadata": {
    "collapsed": false
   },
   "outputs": [],
   "source": [
    "kMeans = []\n",
    "kMeanArray = [\"K Value Mean\"]\n",
    "hitMeans = []\n",
    "hitMeanArray = [\"Hit Rate Mean\"]\n",
    "faMeans = []\n",
    "faMeanArray = [\"FA Rate Mean\"]\n",
    "\n",
    "for key in conds:\n",
    "    kMeans.append(Kchart[key].mean())\n",
    "    hitMeans.append(hitChart[key].mean())\n",
    "    faMeans.append(faChart[key].mean())"
   ]
  },
  {
   "cell_type": "code",
   "execution_count": 36,
   "metadata": {
    "collapsed": false
   },
   "outputs": [
    {
     "data": {
      "text/html": [
       "<div>\n",
       "<table border=\"1\" class=\"dataframe\">\n",
       "  <thead>\n",
       "    <tr style=\"text-align: right;\">\n",
       "      <th></th>\n",
       "      <th>K Value Mean</th>\n",
       "    </tr>\n",
       "  </thead>\n",
       "  <tbody>\n",
       "    <tr>\n",
       "      <th>t2d0</th>\n",
       "      <td>1.874852</td>\n",
       "    </tr>\n",
       "    <tr>\n",
       "      <th>t2d2</th>\n",
       "      <td>1.861744</td>\n",
       "    </tr>\n",
       "    <tr>\n",
       "      <th>t2d4</th>\n",
       "      <td>1.827942</td>\n",
       "    </tr>\n",
       "    <tr>\n",
       "      <th>t4d0</th>\n",
       "      <td>3.081322</td>\n",
       "    </tr>\n",
       "    <tr>\n",
       "      <th>t4d2</th>\n",
       "      <td>3.030853</td>\n",
       "    </tr>\n",
       "    <tr>\n",
       "      <th>t4d4</th>\n",
       "      <td>2.826375</td>\n",
       "    </tr>\n",
       "  </tbody>\n",
       "</table>\n",
       "</div>"
      ],
      "text/plain": [
       "      K Value Mean\n",
       "t2d0      1.874852\n",
       "t2d2      1.861744\n",
       "t2d4      1.827942\n",
       "t4d0      3.081322\n",
       "t4d2      3.030853\n",
       "t4d4      2.826375"
      ]
     },
     "execution_count": 36,
     "metadata": {},
     "output_type": "execute_result"
    }
   ],
   "source": [
    "kMeanChart = pd.DataFrame(kMeans, index=conds.keys(), columns=kMeanArray)\n",
    "kMeanChart"
   ]
  },
  {
   "cell_type": "code",
   "execution_count": 37,
   "metadata": {
    "collapsed": false
   },
   "outputs": [
    {
     "data": {
      "text/html": [
       "<div>\n",
       "<table border=\"1\" class=\"dataframe\">\n",
       "  <thead>\n",
       "    <tr style=\"text-align: right;\">\n",
       "      <th></th>\n",
       "      <th>Hit Rate Mean</th>\n",
       "    </tr>\n",
       "  </thead>\n",
       "  <tbody>\n",
       "    <tr>\n",
       "      <th>t2d0</th>\n",
       "      <td>0.938017</td>\n",
       "    </tr>\n",
       "    <tr>\n",
       "      <th>t2d2</th>\n",
       "      <td>0.931818</td>\n",
       "    </tr>\n",
       "    <tr>\n",
       "      <th>t2d4</th>\n",
       "      <td>0.917355</td>\n",
       "    </tr>\n",
       "    <tr>\n",
       "      <th>t4d0</th>\n",
       "      <td>0.800000</td>\n",
       "    </tr>\n",
       "    <tr>\n",
       "      <th>t4d2</th>\n",
       "      <td>0.781385</td>\n",
       "    </tr>\n",
       "    <tr>\n",
       "      <th>t4d4</th>\n",
       "      <td>0.749091</td>\n",
       "    </tr>\n",
       "  </tbody>\n",
       "</table>\n",
       "</div>"
      ],
      "text/plain": [
       "      Hit Rate Mean\n",
       "t2d0       0.938017\n",
       "t2d2       0.931818\n",
       "t2d4       0.917355\n",
       "t4d0       0.800000\n",
       "t4d2       0.781385\n",
       "t4d4       0.749091"
      ]
     },
     "execution_count": 37,
     "metadata": {},
     "output_type": "execute_result"
    }
   ],
   "source": [
    "hitMeanChart = pd.DataFrame(hitMeans, index=conds.keys(), columns=hitMeanArray)\n",
    "hitMeanChart"
   ]
  },
  {
   "cell_type": "code",
   "execution_count": 38,
   "metadata": {
    "collapsed": false
   },
   "outputs": [
    {
     "data": {
      "text/html": [
       "<div>\n",
       "<table border=\"1\" class=\"dataframe\">\n",
       "  <thead>\n",
       "    <tr style=\"text-align: right;\">\n",
       "      <th></th>\n",
       "      <th>FA Rate Mean</th>\n",
       "    </tr>\n",
       "  </thead>\n",
       "  <tbody>\n",
       "    <tr>\n",
       "      <th>t2d0</th>\n",
       "      <td>0.024793</td>\n",
       "    </tr>\n",
       "    <tr>\n",
       "      <th>t2d2</th>\n",
       "      <td>0.026515</td>\n",
       "    </tr>\n",
       "    <tr>\n",
       "      <th>t2d4</th>\n",
       "      <td>0.045455</td>\n",
       "    </tr>\n",
       "    <tr>\n",
       "      <th>t4d0</th>\n",
       "      <td>0.112727</td>\n",
       "    </tr>\n",
       "    <tr>\n",
       "      <th>t4d2</th>\n",
       "      <td>0.097403</td>\n",
       "    </tr>\n",
       "    <tr>\n",
       "      <th>t4d4</th>\n",
       "      <td>0.141818</td>\n",
       "    </tr>\n",
       "  </tbody>\n",
       "</table>\n",
       "</div>"
      ],
      "text/plain": [
       "      FA Rate Mean\n",
       "t2d0      0.024793\n",
       "t2d2      0.026515\n",
       "t2d4      0.045455\n",
       "t4d0      0.112727\n",
       "t4d2      0.097403\n",
       "t4d4      0.141818"
      ]
     },
     "execution_count": 38,
     "metadata": {},
     "output_type": "execute_result"
    }
   ],
   "source": [
    "faMeanChart = pd.DataFrame(faMeans, index=conds.keys(), columns=faMeanArray)\n",
    "faMeanChart"
   ]
  },
  {
   "cell_type": "code",
   "execution_count": 39,
   "metadata": {
    "collapsed": false
   },
   "outputs": [
    {
     "data": {
      "text/html": [
       "<div>\n",
       "<table border=\"1\" class=\"dataframe\">\n",
       "  <thead>\n",
       "    <tr style=\"text-align: right;\">\n",
       "      <th></th>\n",
       "      <th>t2d0</th>\n",
       "      <th>t2d2</th>\n",
       "      <th>t2d4</th>\n",
       "      <th>t4d0</th>\n",
       "      <th>t4d2</th>\n",
       "      <th>t4d4</th>\n",
       "    </tr>\n",
       "  </thead>\n",
       "  <tbody>\n",
       "    <tr>\n",
       "      <th>(1, 1)</th>\n",
       "      <td>0.637493</td>\n",
       "      <td>0.654477</td>\n",
       "      <td>0.703478</td>\n",
       "      <td>0.701837</td>\n",
       "      <td>0.706522</td>\n",
       "      <td>0.710319</td>\n",
       "    </tr>\n",
       "    <tr>\n",
       "      <th>(1, 2)</th>\n",
       "      <td>0.690982</td>\n",
       "      <td>0.709291</td>\n",
       "      <td>0.692680</td>\n",
       "      <td>0.704243</td>\n",
       "      <td>0.738436</td>\n",
       "      <td>0.700682</td>\n",
       "    </tr>\n",
       "    <tr>\n",
       "      <th>(1, 3)</th>\n",
       "      <td>0.666742</td>\n",
       "      <td>0.640186</td>\n",
       "      <td>0.656058</td>\n",
       "      <td>0.678070</td>\n",
       "      <td>0.699304</td>\n",
       "      <td>0.642825</td>\n",
       "    </tr>\n",
       "    <tr>\n",
       "      <th>(2, 1)</th>\n",
       "      <td>0.442636</td>\n",
       "      <td>0.497059</td>\n",
       "      <td>0.494429</td>\n",
       "      <td>0.551755</td>\n",
       "      <td>0.550347</td>\n",
       "      <td>0.561065</td>\n",
       "    </tr>\n",
       "    <tr>\n",
       "      <th>(2, 2)</th>\n",
       "      <td>0.509931</td>\n",
       "      <td>0.522996</td>\n",
       "      <td>0.519740</td>\n",
       "      <td>0.530390</td>\n",
       "      <td>0.567396</td>\n",
       "      <td>0.662009</td>\n",
       "    </tr>\n",
       "    <tr>\n",
       "      <th>(2, 3)</th>\n",
       "      <td>0.539879</td>\n",
       "      <td>0.531338</td>\n",
       "      <td>0.520407</td>\n",
       "      <td>0.562142</td>\n",
       "      <td>0.531506</td>\n",
       "      <td>0.551324</td>\n",
       "    </tr>\n",
       "    <tr>\n",
       "      <th>(3, 1)</th>\n",
       "      <td>0.503505</td>\n",
       "      <td>0.543791</td>\n",
       "      <td>0.533318</td>\n",
       "      <td>0.662082</td>\n",
       "      <td>0.620149</td>\n",
       "      <td>0.605238</td>\n",
       "    </tr>\n",
       "    <tr>\n",
       "      <th>(3, 2)</th>\n",
       "      <td>0.528438</td>\n",
       "      <td>0.523392</td>\n",
       "      <td>0.549930</td>\n",
       "      <td>0.518965</td>\n",
       "      <td>0.573212</td>\n",
       "      <td>0.581224</td>\n",
       "    </tr>\n",
       "    <tr>\n",
       "      <th>(3, 3)</th>\n",
       "      <td>0.472290</td>\n",
       "      <td>0.492467</td>\n",
       "      <td>0.511603</td>\n",
       "      <td>0.505042</td>\n",
       "      <td>0.528654</td>\n",
       "      <td>0.608892</td>\n",
       "    </tr>\n",
       "    <tr>\n",
       "      <th>(4, 1)</th>\n",
       "      <td>0.499216</td>\n",
       "      <td>0.559524</td>\n",
       "      <td>0.576475</td>\n",
       "      <td>0.629846</td>\n",
       "      <td>0.645975</td>\n",
       "      <td>0.654013</td>\n",
       "    </tr>\n",
       "    <tr>\n",
       "      <th>(4, 2)</th>\n",
       "      <td>0.484642</td>\n",
       "      <td>0.538986</td>\n",
       "      <td>0.563306</td>\n",
       "      <td>0.628626</td>\n",
       "      <td>0.643258</td>\n",
       "      <td>0.656636</td>\n",
       "    </tr>\n",
       "  </tbody>\n",
       "</table>\n",
       "</div>"
      ],
      "text/plain": [
       "            t2d0      t2d2      t2d4      t4d0      t4d2      t4d4\n",
       "(1, 1)  0.637493  0.654477  0.703478  0.701837  0.706522  0.710319\n",
       "(1, 2)  0.690982  0.709291  0.692680  0.704243  0.738436  0.700682\n",
       "(1, 3)  0.666742  0.640186  0.656058  0.678070  0.699304  0.642825\n",
       "(2, 1)  0.442636  0.497059  0.494429  0.551755  0.550347  0.561065\n",
       "(2, 2)  0.509931  0.522996  0.519740  0.530390  0.567396  0.662009\n",
       "(2, 3)  0.539879  0.531338  0.520407  0.562142  0.531506  0.551324\n",
       "(3, 1)  0.503505  0.543791  0.533318  0.662082  0.620149  0.605238\n",
       "(3, 2)  0.528438  0.523392  0.549930  0.518965  0.573212  0.581224\n",
       "(3, 3)  0.472290  0.492467  0.511603  0.505042  0.528654  0.608892\n",
       "(4, 1)  0.499216  0.559524  0.576475  0.629846  0.645975  0.654013\n",
       "(4, 2)  0.484642  0.538986  0.563306  0.628626  0.643258  0.656636"
      ]
     },
     "execution_count": 39,
     "metadata": {},
     "output_type": "execute_result"
    }
   ],
   "source": [
    "RTvals = []\n",
    "\n",
    "for sheet in dataSheets:\n",
    "    RTvals.append(rtCalc(sheet))\n",
    "\n",
    "RTchart = pd.DataFrame(RTvals, index=testRuns, columns=conds.keys())\n",
    "RTchart"
   ]
  },
  {
   "cell_type": "code",
   "execution_count": 40,
   "metadata": {
    "collapsed": false
   },
   "outputs": [
    {
     "data": {
      "text/html": [
       "<div>\n",
       "<table border=\"1\" class=\"dataframe\">\n",
       "  <thead>\n",
       "    <tr style=\"text-align: right;\">\n",
       "      <th></th>\n",
       "      <th>RT Mean</th>\n",
       "    </tr>\n",
       "  </thead>\n",
       "  <tbody>\n",
       "    <tr>\n",
       "      <th>t2d0</th>\n",
       "      <td>0.543251</td>\n",
       "    </tr>\n",
       "    <tr>\n",
       "      <th>t2d2</th>\n",
       "      <td>0.564864</td>\n",
       "    </tr>\n",
       "    <tr>\n",
       "      <th>t2d4</th>\n",
       "      <td>0.574675</td>\n",
       "    </tr>\n",
       "    <tr>\n",
       "      <th>t4d0</th>\n",
       "      <td>0.606636</td>\n",
       "    </tr>\n",
       "    <tr>\n",
       "      <th>t4d2</th>\n",
       "      <td>0.618614</td>\n",
       "    </tr>\n",
       "    <tr>\n",
       "      <th>t4d4</th>\n",
       "      <td>0.630384</td>\n",
       "    </tr>\n",
       "  </tbody>\n",
       "</table>\n",
       "</div>"
      ],
      "text/plain": [
       "       RT Mean\n",
       "t2d0  0.543251\n",
       "t2d2  0.564864\n",
       "t2d4  0.574675\n",
       "t4d0  0.606636\n",
       "t4d2  0.618614\n",
       "t4d4  0.630384"
      ]
     },
     "execution_count": 40,
     "metadata": {},
     "output_type": "execute_result"
    }
   ],
   "source": [
    "rtMeanArray = [\"RT Mean\"]\n",
    "\n",
    "rtMeans = []\n",
    "\n",
    "for key in conds:\n",
    "    rtMeans.append(RTchart[key].mean())\n",
    "    \n",
    "rtMeanChart = pd.DataFrame(rtMeans, index=conds.keys(), columns=rtMeanArray)\n",
    "rtMeanChart"
   ]
  },
  {
   "cell_type": "code",
   "execution_count": 41,
   "metadata": {
    "collapsed": false
   },
   "outputs": [
    {
     "data": {
      "text/html": [
       "<div>\n",
       "<table border=\"1\" class=\"dataframe\">\n",
       "  <thead>\n",
       "    <tr style=\"text-align: right;\">\n",
       "      <th></th>\n",
       "      <th>t2d0</th>\n",
       "      <th>t2d2</th>\n",
       "      <th>t2d4</th>\n",
       "      <th>t4d0</th>\n",
       "      <th>t4d2</th>\n",
       "      <th>t4d4</th>\n",
       "    </tr>\n",
       "  </thead>\n",
       "  <tbody>\n",
       "    <tr>\n",
       "      <th>(1, 1)</th>\n",
       "      <td>2.787425</td>\n",
       "      <td>2.989826</td>\n",
       "      <td>2.787425</td>\n",
       "      <td>1.254102</td>\n",
       "      <td>2.034498</td>\n",
       "      <td>0.741111</td>\n",
       "    </tr>\n",
       "    <tr>\n",
       "      <th>(1, 2)</th>\n",
       "      <td>3.097227</td>\n",
       "      <td>3.052585</td>\n",
       "      <td>2.438480</td>\n",
       "      <td>2.745144</td>\n",
       "      <td>1.739899</td>\n",
       "      <td>1.533446</td>\n",
       "    </tr>\n",
       "    <tr>\n",
       "      <th>(1, 3)</th>\n",
       "      <td>3.335601</td>\n",
       "      <td>3.365464</td>\n",
       "      <td>2.438480</td>\n",
       "      <td>1.700760</td>\n",
       "      <td>1.420802</td>\n",
       "      <td>2.307096</td>\n",
       "    </tr>\n",
       "    <tr>\n",
       "      <th>(2, 1)</th>\n",
       "      <td>4.000847</td>\n",
       "      <td>3.845112</td>\n",
       "      <td>2.670355</td>\n",
       "      <td>1.412605</td>\n",
       "      <td>2.034992</td>\n",
       "      <td>1.881289</td>\n",
       "    </tr>\n",
       "    <tr>\n",
       "      <th>(2, 2)</th>\n",
       "      <td>3.097227</td>\n",
       "      <td>3.693985</td>\n",
       "      <td>3.335601</td>\n",
       "      <td>2.399529</td>\n",
       "      <td>2.021615</td>\n",
       "      <td>1.577299</td>\n",
       "    </tr>\n",
       "    <tr>\n",
       "      <th>(2, 3)</th>\n",
       "      <td>2.908881</td>\n",
       "      <td>3.294996</td>\n",
       "      <td>3.097227</td>\n",
       "      <td>2.456989</td>\n",
       "      <td>1.759060</td>\n",
       "      <td>1.547924</td>\n",
       "    </tr>\n",
       "    <tr>\n",
       "      <th>(3, 1)</th>\n",
       "      <td>3.335601</td>\n",
       "      <td>3.570955</td>\n",
       "      <td>3.691045</td>\n",
       "      <td>1.352917</td>\n",
       "      <td>2.644995</td>\n",
       "      <td>2.925673</td>\n",
       "    </tr>\n",
       "    <tr>\n",
       "      <th>(3, 2)</th>\n",
       "      <td>3.335601</td>\n",
       "      <td>4.347825</td>\n",
       "      <td>4.000847</td>\n",
       "      <td>2.580058</td>\n",
       "      <td>3.227611</td>\n",
       "      <td>2.580058</td>\n",
       "    </tr>\n",
       "    <tr>\n",
       "      <th>(3, 3)</th>\n",
       "      <td>4.000847</td>\n",
       "      <td>4.621983</td>\n",
       "      <td>4.000847</td>\n",
       "      <td>3.155758</td>\n",
       "      <td>3.289924</td>\n",
       "      <td>3.155758</td>\n",
       "    </tr>\n",
       "    <tr>\n",
       "      <th>(4, 1)</th>\n",
       "      <td>3.691045</td>\n",
       "      <td>3.768499</td>\n",
       "      <td>2.748282</td>\n",
       "      <td>2.169445</td>\n",
       "      <td>2.177677</td>\n",
       "      <td>1.700760</td>\n",
       "    </tr>\n",
       "    <tr>\n",
       "      <th>(4, 2)</th>\n",
       "      <td>4.000847</td>\n",
       "      <td>3.570955</td>\n",
       "      <td>4.000847</td>\n",
       "      <td>3.458820</td>\n",
       "      <td>2.100810</td>\n",
       "      <td>1.247805</td>\n",
       "    </tr>\n",
       "  </tbody>\n",
       "</table>\n",
       "</div>"
      ],
      "text/plain": [
       "            t2d0      t2d2      t2d4      t4d0      t4d2      t4d4\n",
       "(1, 1)  2.787425  2.989826  2.787425  1.254102  2.034498  0.741111\n",
       "(1, 2)  3.097227  3.052585  2.438480  2.745144  1.739899  1.533446\n",
       "(1, 3)  3.335601  3.365464  2.438480  1.700760  1.420802  2.307096\n",
       "(2, 1)  4.000847  3.845112  2.670355  1.412605  2.034992  1.881289\n",
       "(2, 2)  3.097227  3.693985  3.335601  2.399529  2.021615  1.577299\n",
       "(2, 3)  2.908881  3.294996  3.097227  2.456989  1.759060  1.547924\n",
       "(3, 1)  3.335601  3.570955  3.691045  1.352917  2.644995  2.925673\n",
       "(3, 2)  3.335601  4.347825  4.000847  2.580058  3.227611  2.580058\n",
       "(3, 3)  4.000847  4.621983  4.000847  3.155758  3.289924  3.155758\n",
       "(4, 1)  3.691045  3.768499  2.748282  2.169445  2.177677  1.700760\n",
       "(4, 2)  4.000847  3.570955  4.000847  3.458820  2.100810  1.247805"
      ]
     },
     "execution_count": 41,
     "metadata": {},
     "output_type": "execute_result"
    }
   ],
   "source": [
    "dPrimes = []\n",
    "\n",
    "for sheet in dataSheets:\n",
    "    dPrimes.append(dprime(sheet))\n",
    "\n",
    "dpChart = pd.DataFrame(dPrimes, index=testRuns, columns=conds.keys())\n",
    "dpChart"
   ]
  },
  {
   "cell_type": "code",
   "execution_count": 42,
   "metadata": {
    "collapsed": false
   },
   "outputs": [
    {
     "data": {
      "text/html": [
       "<div>\n",
       "<table border=\"1\" class=\"dataframe\">\n",
       "  <thead>\n",
       "    <tr style=\"text-align: right;\">\n",
       "      <th></th>\n",
       "      <th>d' Mean</th>\n",
       "    </tr>\n",
       "  </thead>\n",
       "  <tbody>\n",
       "    <tr>\n",
       "      <th>t2d0</th>\n",
       "      <td>3.417377</td>\n",
       "    </tr>\n",
       "    <tr>\n",
       "      <th>t2d2</th>\n",
       "      <td>3.647471</td>\n",
       "    </tr>\n",
       "    <tr>\n",
       "      <th>t2d4</th>\n",
       "      <td>3.200858</td>\n",
       "    </tr>\n",
       "    <tr>\n",
       "      <th>t4d0</th>\n",
       "      <td>2.244193</td>\n",
       "    </tr>\n",
       "    <tr>\n",
       "      <th>t4d2</th>\n",
       "      <td>2.222898</td>\n",
       "    </tr>\n",
       "    <tr>\n",
       "      <th>t4d4</th>\n",
       "      <td>1.927111</td>\n",
       "    </tr>\n",
       "  </tbody>\n",
       "</table>\n",
       "</div>"
      ],
      "text/plain": [
       "       d' Mean\n",
       "t2d0  3.417377\n",
       "t2d2  3.647471\n",
       "t2d4  3.200858\n",
       "t4d0  2.244193\n",
       "t4d2  2.222898\n",
       "t4d4  1.927111"
      ]
     },
     "execution_count": 42,
     "metadata": {},
     "output_type": "execute_result"
    }
   ],
   "source": [
    "dpMeanArray = [\"d' Mean\"]\n",
    "\n",
    "dpMeans = []\n",
    "\n",
    "for key in conds:\n",
    "    dpMeans.append(dpChart[key].mean())\n",
    "    \n",
    "dpMeanChart = pd.DataFrame(dpMeans, index=conds.keys(), columns=dpMeanArray)\n",
    "dpMeanChart"
   ]
  },
  {
   "cell_type": "code",
   "execution_count": 43,
   "metadata": {
    "collapsed": false
   },
   "outputs": [
    {
     "data": {
      "text/plain": [
       "<matplotlib.axes._subplots.AxesSubplot at 0x108c28e10>"
      ]
     },
     "execution_count": 43,
     "metadata": {},
     "output_type": "execute_result"
    },
    {
     "data": {
      "image/png": "[encoded data removed]",
      "text/plain": [
       "<matplotlib.figure.Figure at 0x103afced0>"
      ]
     },
     "metadata": {},
     "output_type": "display_data"
    }
   ],
   "source": [
    "sns.barplot(data=Kchart)"
   ]
  },
  {
   "cell_type": "code",
   "execution_count": 44,
   "metadata": {
    "collapsed": false
   },
   "outputs": [
    {
     "data": {
      "text/plain": [
       "<matplotlib.axes._subplots.AxesSubplot at 0x108d4afd0>"
      ]
     },
     "execution_count": 44,
     "metadata": {},
     "output_type": "execute_result"
    },
    {
     "data": {
      "image/png": "[encoded data removed]",
      "text/plain": [
       "<matplotlib.figure.Figure at 0x108c28410>"
      ]
     },
     "metadata": {},
     "output_type": "display_data"
    }
   ],
   "source": [
    "sns.stripplot(data=Kchart, jitter=True)"
   ]
  },
  {
   "cell_type": "code",
   "execution_count": 45,
   "metadata": {
    "collapsed": false
   },
   "outputs": [
    {
     "data": {
      "text/plain": [
       "<matplotlib.axes._subplots.AxesSubplot at 0x108ee2950>"
      ]
     },
     "execution_count": 45,
     "metadata": {},
     "output_type": "execute_result"
    },
    {
     "data": {
      "image/png": "[encoded data removed]",
      "text/plain": [
       "<matplotlib.figure.Figure at 0x108ef5050>"
      ]
     },
     "metadata": {},
     "output_type": "display_data"
    }
   ],
   "source": [
    "sns.barplot(data = hitChart)"
   ]
  },
  {
   "cell_type": "code",
   "execution_count": 46,
   "metadata": {
    "collapsed": false
   },
   "outputs": [
    {
     "data": {
      "text/plain": [
       "<matplotlib.axes._subplots.AxesSubplot at 0x108d3e890>"
      ]
     },
     "execution_count": 46,
     "metadata": {},
     "output_type": "execute_result"
    },
    {
     "data": {
      "image/png": "[encoded data removed]",
      "text/plain": [
       "<matplotlib.figure.Figure at 0x108d4af50>"
      ]
     },
     "metadata": {},
     "output_type": "display_data"
    }
   ],
   "source": [
    "sns.barplot(data = RTchart)"
   ]
  },
  {
   "cell_type": "code",
   "execution_count": 47,
   "metadata": {
    "collapsed": false
   },
   "outputs": [
    {
     "data": {
      "text/plain": [
       "<matplotlib.axes._subplots.AxesSubplot at 0x1091bf690>"
      ]
     },
     "execution_count": 47,
     "metadata": {},
     "output_type": "execute_result"
    },
    {
     "data": {
      "image/png": "[encoded data removed]",
      "text/plain": [
       "<matplotlib.figure.Figure at 0x1094add10>"
      ]
     },
     "metadata": {},
     "output_type": "display_data"
    }
   ],
   "source": [
    "sns.barplot(data = dpChart)"
   ]
  },
  {
   "cell_type": "code",
   "execution_count": 48,
   "metadata": {
    "collapsed": false
   },
   "outputs": [
    {
     "data": {
      "text/plain": [
       "<matplotlib.axes._subplots.AxesSubplot at 0x109605750>"
      ]
     },
     "execution_count": 48,
     "metadata": {},
     "output_type": "execute_result"
    },
    {
     "data": {
      "image/png": "[encoded data removed]",
      "text/plain": [
       "<matplotlib.figure.Figure at 0x1095e2a50>"
      ]
     },
     "metadata": {},
     "output_type": "display_data"
    }
   ],
   "source": [
    "sns.stripplot(data=dpChart, jitter=True)"
   ]
  },
  {
   "cell_type": "code",
   "execution_count": null,
   "metadata": {
    "collapsed": true
   },
   "outputs": [],
   "source": []
  }
 ],
 "metadata": {
  "kernelspec": {
   "display_name": "Python 2",
   "language": "python",
   "name": "python2"
  },
  "language_info": {
   "codemirror_mode": {
    "name": "ipython",
    "version": 2
   },
   "file_extension": ".py",
   "mimetype": "text/x-python",
   "name": "python",
   "nbconvert_exporter": "python",
   "pygments_lexer": "ipython2",
   "version": "2.7.11"
  }
 },
 "nbformat": 4,
 "nbformat_minor": 0
}
