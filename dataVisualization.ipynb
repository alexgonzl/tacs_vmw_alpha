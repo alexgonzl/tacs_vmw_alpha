{
 "cells": [
  {
   "cell_type": "code",
   "execution_count": 2,
   "metadata": {
    "collapsed": true
   },
   "outputs": [],
   "source": [
    "%matplotlib inline"
   ]
  },
  {
   "cell_type": "code",
   "execution_count": 3,
   "metadata": {
    "collapsed": false
   },
   "outputs": [
    {
     "name": "stderr",
     "output_type": "stream",
     "text": [
      "/Library/Frameworks/Python.framework/Versions/2.7/lib/python2.7/site-packages/IPython/core/interactiveshell.py:2885: FutureWarning: \n",
      "mpl_style had been deprecated and will be removed in a future version.\n",
      "Use `matplotlib.pyplot.style.use` instead.\n",
      "\n",
      "  exec(code_obj, self.user_global_ns, self.user_ns)\n",
      "/Library/Frameworks/Python.framework/Versions/2.7/lib/python2.7/site-packages/IPython/html.py:14: ShimWarning: The `IPython.html` package has been deprecated. You should import from `notebook` instead. `IPython.html.widgets` has moved to `ipywidgets`.\n",
      "  \"`IPython.html.widgets` has moved to `ipywidgets`.\", ShimWarning)\n"
     ]
    }
   ],
   "source": [
    "from __future__ import division\n",
    "import pandas as pd\n",
    "pd.set_option('display.mpl_style', 'default') # Make the graphs a bit prettier\n",
    "from collections import OrderedDict\n",
    "from scipy.stats import norm\n",
    "Z = norm.ppf\n",
    "import numpy as np\n",
    "import matplotlib as mpl\n",
    "import matplotlib.pyplot as plt\n",
    "import seaborn as sns\n",
    "sns.set(style=\"whitegrid\", color_codes=True)\n",
    "np.random.seed(sum(map(ord, \"categorical\")))"
   ]
  },
  {
   "cell_type": "code",
   "execution_count": 4,
   "metadata": {
    "collapsed": true
   },
   "outputs": [],
   "source": [
    "dataSheets = ['_tacsVWMAlpha.py_2016_May_26_1504_2.csv', '_tacsVWMAlpha.py_2016_May_26_1600.csv', \n",
    "'_tacsVWMAlpha.py_2016_May_26_1620.csv', '_tacsVWMAlpha.py_2016_May_26_1639.csv', '_tacsVWMAlpha.py_2016_May_26_1700.csv', \n",
    "'_tacsVWMAlpha.py_2016_May_26_1720.csv', '_tacsVWMAlpha.py_2016_May_26_1739.csv']"
   ]
  },
  {
   "cell_type": "code",
   "execution_count": 5,
   "metadata": {
    "collapsed": false
   },
   "outputs": [],
   "source": [
    "conds = OrderedDict([('t2d0', (2, 0)), ('t2d2', (2, 2)), ('t2d4', (2, 4)), ('t4d0', (4, 0)), ('t4d2', (4, 2)), ('t4d4', (4, 4))])"
   ]
  },
  {
   "cell_type": "code",
   "execution_count": 6,
   "metadata": {
    "collapsed": true
   },
   "outputs": [],
   "source": [
    "# counts number of trials corresponding to inputted conditions\n",
    "def itemCounter(df, responseType, changeType, t, d):\n",
    "    count = float(len(df[responseType & changeType & t & d]))\n",
    "    return count"
   ]
  },
  {
   "cell_type": "code",
   "execution_count": 7,
   "metadata": {
    "collapsed": false
   },
   "outputs": [],
   "source": [
    "# calculates K pased on Pashler equation: K = S * ((H - F) / (1 - F))\n",
    "def kCalculation(s, h, f):\n",
    "    k = s * ((h - f) / (1 - f))\n",
    "    return k"
   ]
  },
  {
   "cell_type": "code",
   "execution_count": 8,
   "metadata": {
    "collapsed": false
   },
   "outputs": [],
   "source": [
    "def pashlerK(csv):\n",
    "    # read in csv file\n",
    "    df = pd.read_csv(csv)\n",
    "\n",
    "    # create conditions\n",
    "    resps = df['Response key'] == 1\n",
    "    noResps = df['Response key'] == 0\n",
    "    changes = df['ChangeTrial'] == 1\n",
    "    noChanges = df['ChangeTrial'] == 0\n",
    "    targ2 = df['nTargets'] == 2\n",
    "    targ4 = df['nTargets'] == 4\n",
    "    dist0 = df['nDistractors'] == 0\n",
    "    dist2 = df['nDistractors'] == 2\n",
    "    dist4 = df['nDistractors'] == 4\n",
    "\n",
    "    # initialize dictionaries\n",
    "    hitRates = OrderedDict()\n",
    "    fAlarmRates = OrderedDict()\n",
    "    Kvals = OrderedDict()\n",
    "    \n",
    "    conds = OrderedDict([('t2d0', (targ2, dist0)), ('t2d2', (targ2, dist2)), ('t2d4', (targ2, dist4)), ('t4d0', (targ4, dist0)), ('t4d2', (targ4, dist2)), ('t4d4', (targ4, dist4))])\n",
    "\n",
    "    # store rate values\n",
    "    for key in conds:\n",
    "        hits = itemCounter(df, resps, changes, conds[key][0], conds[key][1])\n",
    "        misses = itemCounter(df, noResps, changes, conds[key][0], conds[key][1])\n",
    "        falarms = itemCounter(df, resps, noChanges, conds[key][0], conds[key][1])\n",
    "        crejects = itemCounter(df, noResps, noChanges, conds[key][0], conds[key][1])\n",
    "        hitRates[key] = hits/(hits+misses)\n",
    "        fAlarmRates[key] = falarms/(falarms+crejects)\n",
    "        s = 0\n",
    "        if key == 't2d0' or key == 't2d2' or key == 't2d4':\n",
    "            s = 2\n",
    "        else:\n",
    "            s = 4\n",
    "        Kvals[key] = kCalculation(s, hitRates[key], fAlarmRates[key])\n",
    "    return {'Kvals': Kvals, 'hitRates': hitRates, 'fAlarmRates': fAlarmRates}"
   ]
  },
  {
   "cell_type": "code",
   "execution_count": 9,
   "metadata": {
    "collapsed": false
   },
   "outputs": [],
   "source": [
    "def rtCalc(csv):\n",
    "    # read in csv file\n",
    "    df = pd.read_csv(csv)\n",
    "\n",
    "    # create conditions\n",
    "    resps = df['Response key'] == 1\n",
    "    targ2 = df['nTargets'] == 2\n",
    "    targ4 = df['nTargets'] == 4\n",
    "    dist0 = df['nDistractors'] == 0\n",
    "    dist2 = df['nDistractors'] == 2\n",
    "    dist4 = df['nDistractors'] == 4\n",
    "\n",
    "    # initialize dictionary\n",
    "    RTRates = OrderedDict()\n",
    "    conds = OrderedDict([('t2d0', (targ2, dist0)), ('t2d2', (targ2, dist2)), ('t2d4', (targ2, dist4)), ('t4d0', (targ4, dist0)), ('t4d2', (targ4, dist2)), ('t4d4', (targ4, dist4))])\n",
    "\n",
    "    # calculate average RT value\n",
    "    for key in conds:\n",
    "        rows = df[conds[key][0] & conds[key][1] & resps]\n",
    "        rts = rows['Response time']\n",
    "        meanRT = rts.mean()\n",
    "        RTRates[key] = meanRT\n",
    "    return RTRates"
   ]
  },
  {
   "cell_type": "code",
   "execution_count": 16,
   "metadata": {
    "collapsed": true
   },
   "outputs": [],
   "source": [
    "def dprime(csv):\n",
    "     # read in csv file\n",
    "    df = pd.read_csv(csv)\n",
    "    \n",
    "    # create conditions\n",
    "    resps = df['Response key'] == 1\n",
    "    noResps = df['Response key'] == 0\n",
    "    changes = df['ChangeTrial'] == 1\n",
    "    noChanges = df['ChangeTrial'] == 0\n",
    "    targ2 = df['nTargets'] == 2\n",
    "    targ4 = df['nTargets'] == 4\n",
    "    dist0 = df['nDistractors'] == 0\n",
    "    dist2 = df['nDistractors'] == 2\n",
    "    dist4 = df['nDistractors'] == 4\n",
    "    \n",
    "    # initialize dict\n",
    "    hits = OrderedDict()\n",
    "    misses = OrderedDict()\n",
    "    falarms = OrderedDict()\n",
    "    crejects = OrderedDict()\n",
    "    dprimes = OrderedDict()\n",
    "      \n",
    "    conds = OrderedDict([('t2d0', (targ2, dist0)), ('t2d2', (targ2, dist2)), ('t2d4', (targ2, dist4)), ('t4d0', (targ4, dist0)), ('t4d2', (targ4, dist2)), ('t4d4', (targ4, dist4))])\n",
    "\n",
    "    # calculate d-primes for each condition\n",
    "    for key in conds:   \n",
    "        hits = itemCounter(df, resps, changes, conds[key][0], conds[key][1])\n",
    "        misses = itemCounter(df, noResps, changes, conds[key][0], conds[key][1])\n",
    "        falarms = itemCounter(df, resps, noChanges, conds[key][0], conds[key][1])\n",
    "        crejects = itemCounter(df, noResps, noChanges, conds[key][0], conds[key][1])\n",
    "        \n",
    "        # Floors an ceilings are replaced by half hits and half FA's\n",
    "        halfHit = 0.5/(hits+misses)\n",
    "        halfFa = 0.5/(falarms+crejects)\n",
    " \n",
    "        # Calculate hitrate and avoid d' infinity\n",
    "        hitRate = hits/(hits+misses)\n",
    "        if hitRate == 1: hitRate = 1-halfHit\n",
    "        if hitRate == 0: hitRate = halfHit\n",
    "\n",
    "        # Calculate false alarm rate and avoid d' infinity\n",
    "        faRate = falarms/(falarms+crejects)\n",
    "        if faRate == 1: faRate = 1-halfFa\n",
    "        if faRate == 0: faRate = halfFa\n",
    "        \n",
    "        # calculate dprime using Z (ppf function in scipy.norm)\n",
    "        dprimes[key]= Z(hitRate) - Z(faRate)\n",
    "    \n",
    "    return dprimes"
   ]
  },
  {
   "cell_type": "code",
   "execution_count": 17,
   "metadata": {
    "collapsed": false
   },
   "outputs": [],
   "source": [
    "Kvals = []\n",
    "hitRates = []\n",
    "faRates = []\n",
    "\n",
    "for sheet in dataSheets:\n",
    "    Kvals.append(pashlerK(sheet)['Kvals'])\n",
    "    hitRates.append(pashlerK(sheet)['hitRates'])\n",
    "    faRates.append(pashlerK(sheet)['fAlarmRates'])"
   ]
  },
  {
   "cell_type": "code",
   "execution_count": 18,
   "metadata": {
    "collapsed": false
   },
   "outputs": [
    {
     "data": {
      "text/html": [
       "<div>\n",
       "<table border=\"1\" class=\"dataframe\">\n",
       "  <thead>\n",
       "    <tr style=\"text-align: right;\">\n",
       "      <th></th>\n",
       "      <th>t2d0</th>\n",
       "      <th>t2d2</th>\n",
       "      <th>t2d4</th>\n",
       "      <th>t4d0</th>\n",
       "      <th>t4d2</th>\n",
       "      <th>t4d4</th>\n",
       "    </tr>\n",
       "  </thead>\n",
       "  <tbody>\n",
       "    <tr>\n",
       "      <th>_tacsVWMAlpha.py_2016_May_26_1504_2.csv</th>\n",
       "      <td>1.714286</td>\n",
       "      <td>1.666667</td>\n",
       "      <td>1.700000</td>\n",
       "      <td>0.695652</td>\n",
       "      <td>1.170732</td>\n",
       "      <td>1.120000</td>\n",
       "    </tr>\n",
       "    <tr>\n",
       "      <th>_tacsVWMAlpha.py_2016_May_26_1600.csv</th>\n",
       "      <td>2.000000</td>\n",
       "      <td>1.619048</td>\n",
       "      <td>1.545455</td>\n",
       "      <td>0.363636</td>\n",
       "      <td>1.170732</td>\n",
       "      <td>0.333333</td>\n",
       "    </tr>\n",
       "    <tr>\n",
       "      <th>_tacsVWMAlpha.py_2016_May_26_1620.csv</th>\n",
       "      <td>1.909091</td>\n",
       "      <td>2.000000</td>\n",
       "      <td>2.000000</td>\n",
       "      <td>1.280000</td>\n",
       "      <td>1.170732</td>\n",
       "      <td>0.500000</td>\n",
       "    </tr>\n",
       "    <tr>\n",
       "      <th>_tacsVWMAlpha.py_2016_May_26_1639.csv</th>\n",
       "      <td>1.909091</td>\n",
       "      <td>1.958333</td>\n",
       "      <td>2.000000</td>\n",
       "      <td>0.833333</td>\n",
       "      <td>1.230769</td>\n",
       "      <td>0.347826</td>\n",
       "    </tr>\n",
       "    <tr>\n",
       "      <th>_tacsVWMAlpha.py_2016_May_26_1700.csv</th>\n",
       "      <td>2.000000</td>\n",
       "      <td>2.000000</td>\n",
       "      <td>2.000000</td>\n",
       "      <td>1.739130</td>\n",
       "      <td>1.142857</td>\n",
       "      <td>2.080000</td>\n",
       "    </tr>\n",
       "    <tr>\n",
       "      <th>_tacsVWMAlpha.py_2016_May_26_1720.csv</th>\n",
       "      <td>2.000000</td>\n",
       "      <td>1.833333</td>\n",
       "      <td>2.000000</td>\n",
       "      <td>1.120000</td>\n",
       "      <td>1.743590</td>\n",
       "      <td>1.666667</td>\n",
       "    </tr>\n",
       "    <tr>\n",
       "      <th>_tacsVWMAlpha.py_2016_May_26_1739.csv</th>\n",
       "      <td>1.909091</td>\n",
       "      <td>1.833333</td>\n",
       "      <td>1.900000</td>\n",
       "      <td>1.000000</td>\n",
       "      <td>1.000000</td>\n",
       "      <td>0.960000</td>\n",
       "    </tr>\n",
       "  </tbody>\n",
       "</table>\n",
       "</div>"
      ],
      "text/plain": [
       "                                             t2d0      t2d2      t2d4  \\\n",
       "_tacsVWMAlpha.py_2016_May_26_1504_2.csv  1.714286  1.666667  1.700000   \n",
       "_tacsVWMAlpha.py_2016_May_26_1600.csv    2.000000  1.619048  1.545455   \n",
       "_tacsVWMAlpha.py_2016_May_26_1620.csv    1.909091  2.000000  2.000000   \n",
       "_tacsVWMAlpha.py_2016_May_26_1639.csv    1.909091  1.958333  2.000000   \n",
       "_tacsVWMAlpha.py_2016_May_26_1700.csv    2.000000  2.000000  2.000000   \n",
       "_tacsVWMAlpha.py_2016_May_26_1720.csv    2.000000  1.833333  2.000000   \n",
       "_tacsVWMAlpha.py_2016_May_26_1739.csv    1.909091  1.833333  1.900000   \n",
       "\n",
       "                                             t4d0      t4d2      t4d4  \n",
       "_tacsVWMAlpha.py_2016_May_26_1504_2.csv  0.695652  1.170732  1.120000  \n",
       "_tacsVWMAlpha.py_2016_May_26_1600.csv    0.363636  1.170732  0.333333  \n",
       "_tacsVWMAlpha.py_2016_May_26_1620.csv    1.280000  1.170732  0.500000  \n",
       "_tacsVWMAlpha.py_2016_May_26_1639.csv    0.833333  1.230769  0.347826  \n",
       "_tacsVWMAlpha.py_2016_May_26_1700.csv    1.739130  1.142857  2.080000  \n",
       "_tacsVWMAlpha.py_2016_May_26_1720.csv    1.120000  1.743590  1.666667  \n",
       "_tacsVWMAlpha.py_2016_May_26_1739.csv    1.000000  1.000000  0.960000  "
      ]
     },
     "execution_count": 18,
     "metadata": {},
     "output_type": "execute_result"
    }
   ],
   "source": [
    "Kchart = pd.DataFrame(Kvals, index=dataSheets, columns=conds.keys())\n",
    "Kchart"
   ]
  },
  {
   "cell_type": "code",
   "execution_count": 19,
   "metadata": {
    "collapsed": false
   },
   "outputs": [
    {
     "data": {
      "text/html": [
       "<div>\n",
       "<table border=\"1\" class=\"dataframe\">\n",
       "  <thead>\n",
       "    <tr style=\"text-align: right;\">\n",
       "      <th></th>\n",
       "      <th>t2d0</th>\n",
       "      <th>t2d2</th>\n",
       "      <th>t2d4</th>\n",
       "      <th>t4d0</th>\n",
       "      <th>t4d2</th>\n",
       "      <th>t4d4</th>\n",
       "    </tr>\n",
       "  </thead>\n",
       "  <tbody>\n",
       "    <tr>\n",
       "      <th>_tacsVWMAlpha.py_2016_May_26_1504_2.csv</th>\n",
       "      <td>0.863636</td>\n",
       "      <td>0.833333</td>\n",
       "      <td>0.863636</td>\n",
       "      <td>0.24</td>\n",
       "      <td>0.309524</td>\n",
       "      <td>0.28</td>\n",
       "    </tr>\n",
       "    <tr>\n",
       "      <th>_tacsVWMAlpha.py_2016_May_26_1600.csv</th>\n",
       "      <td>1.000000</td>\n",
       "      <td>0.833333</td>\n",
       "      <td>0.772727</td>\n",
       "      <td>0.20</td>\n",
       "      <td>0.309524</td>\n",
       "      <td>0.12</td>\n",
       "    </tr>\n",
       "    <tr>\n",
       "      <th>_tacsVWMAlpha.py_2016_May_26_1620.csv</th>\n",
       "      <td>0.954545</td>\n",
       "      <td>1.000000</td>\n",
       "      <td>1.000000</td>\n",
       "      <td>0.32</td>\n",
       "      <td>0.309524</td>\n",
       "      <td>0.16</td>\n",
       "    </tr>\n",
       "    <tr>\n",
       "      <th>_tacsVWMAlpha.py_2016_May_26_1639.csv</th>\n",
       "      <td>0.954545</td>\n",
       "      <td>0.979167</td>\n",
       "      <td>1.000000</td>\n",
       "      <td>0.24</td>\n",
       "      <td>0.357143</td>\n",
       "      <td>0.16</td>\n",
       "    </tr>\n",
       "    <tr>\n",
       "      <th>_tacsVWMAlpha.py_2016_May_26_1700.csv</th>\n",
       "      <td>1.000000</td>\n",
       "      <td>1.000000</td>\n",
       "      <td>1.000000</td>\n",
       "      <td>0.48</td>\n",
       "      <td>0.285714</td>\n",
       "      <td>0.52</td>\n",
       "    </tr>\n",
       "    <tr>\n",
       "      <th>_tacsVWMAlpha.py_2016_May_26_1720.csv</th>\n",
       "      <td>1.000000</td>\n",
       "      <td>0.916667</td>\n",
       "      <td>1.000000</td>\n",
       "      <td>0.28</td>\n",
       "      <td>0.476190</td>\n",
       "      <td>0.44</td>\n",
       "    </tr>\n",
       "    <tr>\n",
       "      <th>_tacsVWMAlpha.py_2016_May_26_1739.csv</th>\n",
       "      <td>0.954545</td>\n",
       "      <td>0.916667</td>\n",
       "      <td>0.954545</td>\n",
       "      <td>0.28</td>\n",
       "      <td>0.285714</td>\n",
       "      <td>0.24</td>\n",
       "    </tr>\n",
       "  </tbody>\n",
       "</table>\n",
       "</div>"
      ],
      "text/plain": [
       "                                             t2d0      t2d2      t2d4  t4d0  \\\n",
       "_tacsVWMAlpha.py_2016_May_26_1504_2.csv  0.863636  0.833333  0.863636  0.24   \n",
       "_tacsVWMAlpha.py_2016_May_26_1600.csv    1.000000  0.833333  0.772727  0.20   \n",
       "_tacsVWMAlpha.py_2016_May_26_1620.csv    0.954545  1.000000  1.000000  0.32   \n",
       "_tacsVWMAlpha.py_2016_May_26_1639.csv    0.954545  0.979167  1.000000  0.24   \n",
       "_tacsVWMAlpha.py_2016_May_26_1700.csv    1.000000  1.000000  1.000000  0.48   \n",
       "_tacsVWMAlpha.py_2016_May_26_1720.csv    1.000000  0.916667  1.000000  0.28   \n",
       "_tacsVWMAlpha.py_2016_May_26_1739.csv    0.954545  0.916667  0.954545  0.28   \n",
       "\n",
       "                                             t4d2  t4d4  \n",
       "_tacsVWMAlpha.py_2016_May_26_1504_2.csv  0.309524  0.28  \n",
       "_tacsVWMAlpha.py_2016_May_26_1600.csv    0.309524  0.12  \n",
       "_tacsVWMAlpha.py_2016_May_26_1620.csv    0.309524  0.16  \n",
       "_tacsVWMAlpha.py_2016_May_26_1639.csv    0.357143  0.16  \n",
       "_tacsVWMAlpha.py_2016_May_26_1700.csv    0.285714  0.52  \n",
       "_tacsVWMAlpha.py_2016_May_26_1720.csv    0.476190  0.44  \n",
       "_tacsVWMAlpha.py_2016_May_26_1739.csv    0.285714  0.24  "
      ]
     },
     "execution_count": 19,
     "metadata": {},
     "output_type": "execute_result"
    }
   ],
   "source": [
    "hitChart = pd.DataFrame(hitRates, index=dataSheets, columns=conds.keys())\n",
    "hitChart"
   ]
  },
  {
   "cell_type": "code",
   "execution_count": 20,
   "metadata": {
    "collapsed": false
   },
   "outputs": [
    {
     "data": {
      "text/html": [
       "<div>\n",
       "<table border=\"1\" class=\"dataframe\">\n",
       "  <thead>\n",
       "    <tr style=\"text-align: right;\">\n",
       "      <th></th>\n",
       "      <th>t2d0</th>\n",
       "      <th>t2d2</th>\n",
       "      <th>t2d4</th>\n",
       "      <th>t4d0</th>\n",
       "      <th>t4d2</th>\n",
       "      <th>t4d4</th>\n",
       "    </tr>\n",
       "  </thead>\n",
       "  <tbody>\n",
       "    <tr>\n",
       "      <th>_tacsVWMAlpha.py_2016_May_26_1504_2.csv</th>\n",
       "      <td>0.045455</td>\n",
       "      <td>0.000000</td>\n",
       "      <td>0.090909</td>\n",
       "      <td>0.08</td>\n",
       "      <td>0.023810</td>\n",
       "      <td>0.00</td>\n",
       "    </tr>\n",
       "    <tr>\n",
       "      <th>_tacsVWMAlpha.py_2016_May_26_1600.csv</th>\n",
       "      <td>0.090909</td>\n",
       "      <td>0.125000</td>\n",
       "      <td>0.000000</td>\n",
       "      <td>0.12</td>\n",
       "      <td>0.023810</td>\n",
       "      <td>0.04</td>\n",
       "    </tr>\n",
       "    <tr>\n",
       "      <th>_tacsVWMAlpha.py_2016_May_26_1620.csv</th>\n",
       "      <td>0.000000</td>\n",
       "      <td>0.083333</td>\n",
       "      <td>0.045455</td>\n",
       "      <td>0.00</td>\n",
       "      <td>0.023810</td>\n",
       "      <td>0.04</td>\n",
       "    </tr>\n",
       "    <tr>\n",
       "      <th>_tacsVWMAlpha.py_2016_May_26_1639.csv</th>\n",
       "      <td>0.000000</td>\n",
       "      <td>0.000000</td>\n",
       "      <td>0.000000</td>\n",
       "      <td>0.04</td>\n",
       "      <td>0.071429</td>\n",
       "      <td>0.08</td>\n",
       "    </tr>\n",
       "    <tr>\n",
       "      <th>_tacsVWMAlpha.py_2016_May_26_1700.csv</th>\n",
       "      <td>0.000000</td>\n",
       "      <td>0.020833</td>\n",
       "      <td>0.045455</td>\n",
       "      <td>0.08</td>\n",
       "      <td>0.000000</td>\n",
       "      <td>0.00</td>\n",
       "    </tr>\n",
       "    <tr>\n",
       "      <th>_tacsVWMAlpha.py_2016_May_26_1720.csv</th>\n",
       "      <td>0.000000</td>\n",
       "      <td>0.000000</td>\n",
       "      <td>0.000000</td>\n",
       "      <td>0.00</td>\n",
       "      <td>0.071429</td>\n",
       "      <td>0.04</td>\n",
       "    </tr>\n",
       "    <tr>\n",
       "      <th>_tacsVWMAlpha.py_2016_May_26_1739.csv</th>\n",
       "      <td>0.000000</td>\n",
       "      <td>0.000000</td>\n",
       "      <td>0.090909</td>\n",
       "      <td>0.04</td>\n",
       "      <td>0.047619</td>\n",
       "      <td>0.00</td>\n",
       "    </tr>\n",
       "  </tbody>\n",
       "</table>\n",
       "</div>"
      ],
      "text/plain": [
       "                                             t2d0      t2d2      t2d4  t4d0  \\\n",
       "_tacsVWMAlpha.py_2016_May_26_1504_2.csv  0.045455  0.000000  0.090909  0.08   \n",
       "_tacsVWMAlpha.py_2016_May_26_1600.csv    0.090909  0.125000  0.000000  0.12   \n",
       "_tacsVWMAlpha.py_2016_May_26_1620.csv    0.000000  0.083333  0.045455  0.00   \n",
       "_tacsVWMAlpha.py_2016_May_26_1639.csv    0.000000  0.000000  0.000000  0.04   \n",
       "_tacsVWMAlpha.py_2016_May_26_1700.csv    0.000000  0.020833  0.045455  0.08   \n",
       "_tacsVWMAlpha.py_2016_May_26_1720.csv    0.000000  0.000000  0.000000  0.00   \n",
       "_tacsVWMAlpha.py_2016_May_26_1739.csv    0.000000  0.000000  0.090909  0.04   \n",
       "\n",
       "                                             t4d2  t4d4  \n",
       "_tacsVWMAlpha.py_2016_May_26_1504_2.csv  0.023810  0.00  \n",
       "_tacsVWMAlpha.py_2016_May_26_1600.csv    0.023810  0.04  \n",
       "_tacsVWMAlpha.py_2016_May_26_1620.csv    0.023810  0.04  \n",
       "_tacsVWMAlpha.py_2016_May_26_1639.csv    0.071429  0.08  \n",
       "_tacsVWMAlpha.py_2016_May_26_1700.csv    0.000000  0.00  \n",
       "_tacsVWMAlpha.py_2016_May_26_1720.csv    0.071429  0.04  \n",
       "_tacsVWMAlpha.py_2016_May_26_1739.csv    0.047619  0.00  "
      ]
     },
     "execution_count": 20,
     "metadata": {},
     "output_type": "execute_result"
    }
   ],
   "source": [
    "faChart = pd.DataFrame(faRates, index=dataSheets, columns=conds.keys())\n",
    "faChart"
   ]
  },
  {
   "cell_type": "code",
   "execution_count": 21,
   "metadata": {
    "collapsed": false
   },
   "outputs": [],
   "source": [
    "kMeans = []\n",
    "kMeanArray = [\"K Value Mean\"]\n",
    "hitMeans = []\n",
    "hitMeanArray = [\"Hit Rate Mean\"]\n",
    "faMeans = []\n",
    "faMeanArray = [\"FA Rate Mean\"]\n",
    "\n",
    "for key in conds:\n",
    "    kMeans.append(Kchart[key].mean())\n",
    "    hitMeans.append(hitChart[key].mean())\n",
    "    faMeans.append(faChart[key].mean())"
   ]
  },
  {
   "cell_type": "code",
   "execution_count": 22,
   "metadata": {
    "collapsed": false
   },
   "outputs": [
    {
     "data": {
      "text/html": [
       "<div>\n",
       "<table border=\"1\" class=\"dataframe\">\n",
       "  <thead>\n",
       "    <tr style=\"text-align: right;\">\n",
       "      <th></th>\n",
       "      <th>K Value Mean</th>\n",
       "    </tr>\n",
       "  </thead>\n",
       "  <tbody>\n",
       "    <tr>\n",
       "      <th>t2d0</th>\n",
       "      <td>1.920223</td>\n",
       "    </tr>\n",
       "    <tr>\n",
       "      <th>t2d2</th>\n",
       "      <td>1.844388</td>\n",
       "    </tr>\n",
       "    <tr>\n",
       "      <th>t2d4</th>\n",
       "      <td>1.877922</td>\n",
       "    </tr>\n",
       "    <tr>\n",
       "      <th>t4d0</th>\n",
       "      <td>1.004536</td>\n",
       "    </tr>\n",
       "    <tr>\n",
       "      <th>t4d2</th>\n",
       "      <td>1.232773</td>\n",
       "    </tr>\n",
       "    <tr>\n",
       "      <th>t4d4</th>\n",
       "      <td>1.001118</td>\n",
       "    </tr>\n",
       "  </tbody>\n",
       "</table>\n",
       "</div>"
      ],
      "text/plain": [
       "      K Value Mean\n",
       "t2d0      1.920223\n",
       "t2d2      1.844388\n",
       "t2d4      1.877922\n",
       "t4d0      1.004536\n",
       "t4d2      1.232773\n",
       "t4d4      1.001118"
      ]
     },
     "execution_count": 22,
     "metadata": {},
     "output_type": "execute_result"
    }
   ],
   "source": [
    "kMeanChart = pd.DataFrame(kMeans, index=conds.keys(), columns=kMeanArray)\n",
    "kMeanChart"
   ]
  },
  {
   "cell_type": "code",
   "execution_count": 23,
   "metadata": {
    "collapsed": false
   },
   "outputs": [
    {
     "data": {
      "text/html": [
       "<div>\n",
       "<table border=\"1\" class=\"dataframe\">\n",
       "  <thead>\n",
       "    <tr style=\"text-align: right;\">\n",
       "      <th></th>\n",
       "      <th>Hit Rate Mean</th>\n",
       "    </tr>\n",
       "  </thead>\n",
       "  <tbody>\n",
       "    <tr>\n",
       "      <th>t2d0</th>\n",
       "      <td>0.961039</td>\n",
       "    </tr>\n",
       "    <tr>\n",
       "      <th>t2d2</th>\n",
       "      <td>0.925595</td>\n",
       "    </tr>\n",
       "    <tr>\n",
       "      <th>t2d4</th>\n",
       "      <td>0.941558</td>\n",
       "    </tr>\n",
       "    <tr>\n",
       "      <th>t4d0</th>\n",
       "      <td>0.291429</td>\n",
       "    </tr>\n",
       "    <tr>\n",
       "      <th>t4d2</th>\n",
       "      <td>0.333333</td>\n",
       "    </tr>\n",
       "    <tr>\n",
       "      <th>t4d4</th>\n",
       "      <td>0.274286</td>\n",
       "    </tr>\n",
       "  </tbody>\n",
       "</table>\n",
       "</div>"
      ],
      "text/plain": [
       "      Hit Rate Mean\n",
       "t2d0       0.961039\n",
       "t2d2       0.925595\n",
       "t2d4       0.941558\n",
       "t4d0       0.291429\n",
       "t4d2       0.333333\n",
       "t4d4       0.274286"
      ]
     },
     "execution_count": 23,
     "metadata": {},
     "output_type": "execute_result"
    }
   ],
   "source": [
    "hitMeanChart = pd.DataFrame(hitMeans, index=conds.keys(), columns=hitMeanArray)\n",
    "hitMeanChart"
   ]
  },
  {
   "cell_type": "code",
   "execution_count": 24,
   "metadata": {
    "collapsed": false
   },
   "outputs": [
    {
     "data": {
      "text/html": [
       "<div>\n",
       "<table border=\"1\" class=\"dataframe\">\n",
       "  <thead>\n",
       "    <tr style=\"text-align: right;\">\n",
       "      <th></th>\n",
       "      <th>FA Rate Mean</th>\n",
       "    </tr>\n",
       "  </thead>\n",
       "  <tbody>\n",
       "    <tr>\n",
       "      <th>t2d0</th>\n",
       "      <td>0.019481</td>\n",
       "    </tr>\n",
       "    <tr>\n",
       "      <th>t2d2</th>\n",
       "      <td>0.032738</td>\n",
       "    </tr>\n",
       "    <tr>\n",
       "      <th>t2d4</th>\n",
       "      <td>0.038961</td>\n",
       "    </tr>\n",
       "    <tr>\n",
       "      <th>t4d0</th>\n",
       "      <td>0.051429</td>\n",
       "    </tr>\n",
       "    <tr>\n",
       "      <th>t4d2</th>\n",
       "      <td>0.037415</td>\n",
       "    </tr>\n",
       "    <tr>\n",
       "      <th>t4d4</th>\n",
       "      <td>0.028571</td>\n",
       "    </tr>\n",
       "  </tbody>\n",
       "</table>\n",
       "</div>"
      ],
      "text/plain": [
       "      FA Rate Mean\n",
       "t2d0      0.019481\n",
       "t2d2      0.032738\n",
       "t2d4      0.038961\n",
       "t4d0      0.051429\n",
       "t4d2      0.037415\n",
       "t4d4      0.028571"
      ]
     },
     "execution_count": 24,
     "metadata": {},
     "output_type": "execute_result"
    }
   ],
   "source": [
    "faMeanChart = pd.DataFrame(faMeans, index=conds.keys(), columns=faMeanArray)\n",
    "faMeanChart"
   ]
  },
  {
   "cell_type": "code",
   "execution_count": 25,
   "metadata": {
    "collapsed": false
   },
   "outputs": [
    {
     "data": {
      "text/html": [
       "<div>\n",
       "<table border=\"1\" class=\"dataframe\">\n",
       "  <thead>\n",
       "    <tr style=\"text-align: right;\">\n",
       "      <th></th>\n",
       "      <th>t2d0</th>\n",
       "      <th>t2d2</th>\n",
       "      <th>t2d4</th>\n",
       "      <th>t4d0</th>\n",
       "      <th>t4d2</th>\n",
       "      <th>t4d4</th>\n",
       "    </tr>\n",
       "  </thead>\n",
       "  <tbody>\n",
       "    <tr>\n",
       "      <th>_tacsVWMAlpha.py_2016_May_26_1504_2.csv</th>\n",
       "      <td>0.555477</td>\n",
       "      <td>0.635171</td>\n",
       "      <td>0.671734</td>\n",
       "      <td>0.691599</td>\n",
       "      <td>0.654040</td>\n",
       "      <td>0.797326</td>\n",
       "    </tr>\n",
       "    <tr>\n",
       "      <th>_tacsVWMAlpha.py_2016_May_26_1600.csv</th>\n",
       "      <td>0.626270</td>\n",
       "      <td>0.663734</td>\n",
       "      <td>0.656180</td>\n",
       "      <td>0.756917</td>\n",
       "      <td>0.681680</td>\n",
       "      <td>0.783795</td>\n",
       "    </tr>\n",
       "    <tr>\n",
       "      <th>_tacsVWMAlpha.py_2016_May_26_1620.csv</th>\n",
       "      <td>0.527521</td>\n",
       "      <td>0.551252</td>\n",
       "      <td>0.568176</td>\n",
       "      <td>0.649541</td>\n",
       "      <td>0.575508</td>\n",
       "      <td>0.570535</td>\n",
       "    </tr>\n",
       "    <tr>\n",
       "      <th>_tacsVWMAlpha.py_2016_May_26_1639.csv</th>\n",
       "      <td>0.457413</td>\n",
       "      <td>0.509921</td>\n",
       "      <td>0.496659</td>\n",
       "      <td>0.590919</td>\n",
       "      <td>0.664213</td>\n",
       "      <td>0.595349</td>\n",
       "    </tr>\n",
       "    <tr>\n",
       "      <th>_tacsVWMAlpha.py_2016_May_26_1700.csv</th>\n",
       "      <td>0.607026</td>\n",
       "      <td>0.546791</td>\n",
       "      <td>0.614951</td>\n",
       "      <td>0.657732</td>\n",
       "      <td>0.650036</td>\n",
       "      <td>0.593625</td>\n",
       "    </tr>\n",
       "    <tr>\n",
       "      <th>_tacsVWMAlpha.py_2016_May_26_1720.csv</th>\n",
       "      <td>0.536067</td>\n",
       "      <td>0.554531</td>\n",
       "      <td>0.523989</td>\n",
       "      <td>0.489186</td>\n",
       "      <td>0.622038</td>\n",
       "      <td>0.683422</td>\n",
       "    </tr>\n",
       "    <tr>\n",
       "      <th>_tacsVWMAlpha.py_2016_May_26_1739.csv</th>\n",
       "      <td>0.475646</td>\n",
       "      <td>0.509392</td>\n",
       "      <td>0.579341</td>\n",
       "      <td>0.551670</td>\n",
       "      <td>0.511809</td>\n",
       "      <td>0.673902</td>\n",
       "    </tr>\n",
       "  </tbody>\n",
       "</table>\n",
       "</div>"
      ],
      "text/plain": [
       "                                             t2d0      t2d2      t2d4  \\\n",
       "_tacsVWMAlpha.py_2016_May_26_1504_2.csv  0.555477  0.635171  0.671734   \n",
       "_tacsVWMAlpha.py_2016_May_26_1600.csv    0.626270  0.663734  0.656180   \n",
       "_tacsVWMAlpha.py_2016_May_26_1620.csv    0.527521  0.551252  0.568176   \n",
       "_tacsVWMAlpha.py_2016_May_26_1639.csv    0.457413  0.509921  0.496659   \n",
       "_tacsVWMAlpha.py_2016_May_26_1700.csv    0.607026  0.546791  0.614951   \n",
       "_tacsVWMAlpha.py_2016_May_26_1720.csv    0.536067  0.554531  0.523989   \n",
       "_tacsVWMAlpha.py_2016_May_26_1739.csv    0.475646  0.509392  0.579341   \n",
       "\n",
       "                                             t4d0      t4d2      t4d4  \n",
       "_tacsVWMAlpha.py_2016_May_26_1504_2.csv  0.691599  0.654040  0.797326  \n",
       "_tacsVWMAlpha.py_2016_May_26_1600.csv    0.756917  0.681680  0.783795  \n",
       "_tacsVWMAlpha.py_2016_May_26_1620.csv    0.649541  0.575508  0.570535  \n",
       "_tacsVWMAlpha.py_2016_May_26_1639.csv    0.590919  0.664213  0.595349  \n",
       "_tacsVWMAlpha.py_2016_May_26_1700.csv    0.657732  0.650036  0.593625  \n",
       "_tacsVWMAlpha.py_2016_May_26_1720.csv    0.489186  0.622038  0.683422  \n",
       "_tacsVWMAlpha.py_2016_May_26_1739.csv    0.551670  0.511809  0.673902  "
      ]
     },
     "execution_count": 25,
     "metadata": {},
     "output_type": "execute_result"
    }
   ],
   "source": [
    "RTvals = []\n",
    "\n",
    "for sheet in dataSheets:\n",
    "    RTvals.append(rtCalc(sheet))\n",
    "\n",
    "RTchart = pd.DataFrame(RTvals, index=dataSheets, columns=conds.keys())\n",
    "RTchart"
   ]
  },
  {
   "cell_type": "code",
   "execution_count": 26,
   "metadata": {
    "collapsed": false
   },
   "outputs": [
    {
     "data": {
      "text/html": [
       "<div>\n",
       "<table border=\"1\" class=\"dataframe\">\n",
       "  <thead>\n",
       "    <tr style=\"text-align: right;\">\n",
       "      <th></th>\n",
       "      <th>RT Mean</th>\n",
       "    </tr>\n",
       "  </thead>\n",
       "  <tbody>\n",
       "    <tr>\n",
       "      <th>t2d0</th>\n",
       "      <td>0.540774</td>\n",
       "    </tr>\n",
       "    <tr>\n",
       "      <th>t2d2</th>\n",
       "      <td>0.567256</td>\n",
       "    </tr>\n",
       "    <tr>\n",
       "      <th>t2d4</th>\n",
       "      <td>0.587290</td>\n",
       "    </tr>\n",
       "    <tr>\n",
       "      <th>t4d0</th>\n",
       "      <td>0.626795</td>\n",
       "    </tr>\n",
       "    <tr>\n",
       "      <th>t4d2</th>\n",
       "      <td>0.622761</td>\n",
       "    </tr>\n",
       "    <tr>\n",
       "      <th>t4d4</th>\n",
       "      <td>0.671136</td>\n",
       "    </tr>\n",
       "  </tbody>\n",
       "</table>\n",
       "</div>"
      ],
      "text/plain": [
       "       RT Mean\n",
       "t2d0  0.540774\n",
       "t2d2  0.567256\n",
       "t2d4  0.587290\n",
       "t4d0  0.626795\n",
       "t4d2  0.622761\n",
       "t4d4  0.671136"
      ]
     },
     "execution_count": 26,
     "metadata": {},
     "output_type": "execute_result"
    }
   ],
   "source": [
    "rtMeanArray = [\"RT Mean\"]\n",
    "\n",
    "rtMeans = []\n",
    "\n",
    "for key in conds:\n",
    "    rtMeans.append(RTchart[key].mean())\n",
    "    \n",
    "rtMeanChart = pd.DataFrame(rtMeans, index=conds.keys(), columns=rtMeanArray)\n",
    "rtMeanChart"
   ]
  },
  {
   "cell_type": "code",
   "execution_count": 27,
   "metadata": {
    "collapsed": false
   },
   "outputs": [
    {
     "data": {
      "text/html": [
       "<div>\n",
       "<table border=\"1\" class=\"dataframe\">\n",
       "  <thead>\n",
       "    <tr style=\"text-align: right;\">\n",
       "      <th></th>\n",
       "      <th>t2d0</th>\n",
       "      <th>t2d2</th>\n",
       "      <th>t2d4</th>\n",
       "      <th>t4d0</th>\n",
       "      <th>t4d2</th>\n",
       "      <th>t4d4</th>\n",
       "    </tr>\n",
       "  </thead>\n",
       "  <tbody>\n",
       "    <tr>\n",
       "      <th>_tacsVWMAlpha.py_2016_May_26_1504_2.csv</th>\n",
       "      <td>2.787425</td>\n",
       "      <td>3.278413</td>\n",
       "      <td>2.431981</td>\n",
       "      <td>0.698769</td>\n",
       "      <td>1.483552</td>\n",
       "      <td>1.470907</td>\n",
       "    </tr>\n",
       "    <tr>\n",
       "      <th>_tacsVWMAlpha.py_2016_May_26_1600.csv</th>\n",
       "      <td>3.335601</td>\n",
       "      <td>2.117771</td>\n",
       "      <td>2.748282</td>\n",
       "      <td>0.333366</td>\n",
       "      <td>1.483552</td>\n",
       "      <td>0.575699</td>\n",
       "    </tr>\n",
       "    <tr>\n",
       "      <th>_tacsVWMAlpha.py_2016_May_26_1620.csv</th>\n",
       "      <td>3.691045</td>\n",
       "      <td>3.693985</td>\n",
       "      <td>3.691045</td>\n",
       "      <td>1.586050</td>\n",
       "      <td>1.483552</td>\n",
       "      <td>0.756228</td>\n",
       "    </tr>\n",
       "    <tr>\n",
       "      <th>_tacsVWMAlpha.py_2016_May_26_1639.csv</th>\n",
       "      <td>3.691045</td>\n",
       "      <td>4.347825</td>\n",
       "      <td>4.000847</td>\n",
       "      <td>1.044384</td>\n",
       "      <td>1.099127</td>\n",
       "      <td>0.410614</td>\n",
       "    </tr>\n",
       "    <tr>\n",
       "      <th>_tacsVWMAlpha.py_2016_May_26_1700.csv</th>\n",
       "      <td>4.000847</td>\n",
       "      <td>4.347825</td>\n",
       "      <td>3.691045</td>\n",
       "      <td>1.354918</td>\n",
       "      <td>1.694240</td>\n",
       "      <td>2.103902</td>\n",
       "    </tr>\n",
       "    <tr>\n",
       "      <th>_tacsVWMAlpha.py_2016_May_26_1720.csv</th>\n",
       "      <td>4.000847</td>\n",
       "      <td>3.693985</td>\n",
       "      <td>4.000847</td>\n",
       "      <td>1.470907</td>\n",
       "      <td>1.405517</td>\n",
       "      <td>1.599717</td>\n",
       "    </tr>\n",
       "    <tr>\n",
       "      <th>_tacsVWMAlpha.py_2016_May_26_1739.csv</th>\n",
       "      <td>3.691045</td>\n",
       "      <td>3.693985</td>\n",
       "      <td>3.025799</td>\n",
       "      <td>1.167845</td>\n",
       "      <td>1.102442</td>\n",
       "      <td>1.347446</td>\n",
       "    </tr>\n",
       "  </tbody>\n",
       "</table>\n",
       "</div>"
      ],
      "text/plain": [
       "                                             t2d0      t2d2      t2d4  \\\n",
       "_tacsVWMAlpha.py_2016_May_26_1504_2.csv  2.787425  3.278413  2.431981   \n",
       "_tacsVWMAlpha.py_2016_May_26_1600.csv    3.335601  2.117771  2.748282   \n",
       "_tacsVWMAlpha.py_2016_May_26_1620.csv    3.691045  3.693985  3.691045   \n",
       "_tacsVWMAlpha.py_2016_May_26_1639.csv    3.691045  4.347825  4.000847   \n",
       "_tacsVWMAlpha.py_2016_May_26_1700.csv    4.000847  4.347825  3.691045   \n",
       "_tacsVWMAlpha.py_2016_May_26_1720.csv    4.000847  3.693985  4.000847   \n",
       "_tacsVWMAlpha.py_2016_May_26_1739.csv    3.691045  3.693985  3.025799   \n",
       "\n",
       "                                             t4d0      t4d2      t4d4  \n",
       "_tacsVWMAlpha.py_2016_May_26_1504_2.csv  0.698769  1.483552  1.470907  \n",
       "_tacsVWMAlpha.py_2016_May_26_1600.csv    0.333366  1.483552  0.575699  \n",
       "_tacsVWMAlpha.py_2016_May_26_1620.csv    1.586050  1.483552  0.756228  \n",
       "_tacsVWMAlpha.py_2016_May_26_1639.csv    1.044384  1.099127  0.410614  \n",
       "_tacsVWMAlpha.py_2016_May_26_1700.csv    1.354918  1.694240  2.103902  \n",
       "_tacsVWMAlpha.py_2016_May_26_1720.csv    1.470907  1.405517  1.599717  \n",
       "_tacsVWMAlpha.py_2016_May_26_1739.csv    1.167845  1.102442  1.347446  "
      ]
     },
     "execution_count": 27,
     "metadata": {},
     "output_type": "execute_result"
    }
   ],
   "source": [
    "dPrimes = []\n",
    "\n",
    "for sheet in dataSheets:\n",
    "    dPrimes.append(dprime(sheet))\n",
    "\n",
    "dpChart = pd.DataFrame(dPrimes, index=dataSheets, columns=conds.keys())\n",
    "dpChart"
   ]
  },
  {
   "cell_type": "code",
   "execution_count": 28,
   "metadata": {
    "collapsed": false
   },
   "outputs": [
    {
     "data": {
      "text/html": [
       "<div>\n",
       "<table border=\"1\" class=\"dataframe\">\n",
       "  <thead>\n",
       "    <tr style=\"text-align: right;\">\n",
       "      <th></th>\n",
       "      <th>d' Mean</th>\n",
       "    </tr>\n",
       "  </thead>\n",
       "  <tbody>\n",
       "    <tr>\n",
       "      <th>t2d0</th>\n",
       "      <td>3.599694</td>\n",
       "    </tr>\n",
       "    <tr>\n",
       "      <th>t2d2</th>\n",
       "      <td>3.596256</td>\n",
       "    </tr>\n",
       "    <tr>\n",
       "      <th>t2d4</th>\n",
       "      <td>3.369978</td>\n",
       "    </tr>\n",
       "    <tr>\n",
       "      <th>t4d0</th>\n",
       "      <td>1.093748</td>\n",
       "    </tr>\n",
       "    <tr>\n",
       "      <th>t4d2</th>\n",
       "      <td>1.393140</td>\n",
       "    </tr>\n",
       "    <tr>\n",
       "      <th>t4d4</th>\n",
       "      <td>1.180645</td>\n",
       "    </tr>\n",
       "  </tbody>\n",
       "</table>\n",
       "</div>"
      ],
      "text/plain": [
       "       d' Mean\n",
       "t2d0  3.599694\n",
       "t2d2  3.596256\n",
       "t2d4  3.369978\n",
       "t4d0  1.093748\n",
       "t4d2  1.393140\n",
       "t4d4  1.180645"
      ]
     },
     "execution_count": 28,
     "metadata": {},
     "output_type": "execute_result"
    }
   ],
   "source": [
    "dpMeanArray = [\"d' Mean\"]\n",
    "\n",
    "dpMeans = []\n",
    "\n",
    "for key in conds:\n",
    "    dpMeans.append(dpChart[key].mean())\n",
    "    \n",
    "dpMeanChart = pd.DataFrame(dpMeans, index=conds.keys(), columns=dpMeanArray)\n",
    "dpMeanChart"
   ]
  },
  {
   "cell_type": "code",
   "execution_count": 29,
   "metadata": {
    "collapsed": false
   },
   "outputs": [
    {
     "data": {
      "text/plain": [
       "<matplotlib.axes._subplots.AxesSubplot at 0x1053dc110>"
      ]
     },
     "execution_count": 29,
     "metadata": {},
     "output_type": "execute_result"
    },
    {
     "data": {
      "image/png": "[encoded data removed]",
      "text/plain": [
       "<matplotlib.figure.Figure at 0x108246cd0>"
      ]
     },
     "metadata": {},
     "output_type": "display_data"
    }
   ],
   "source": [
    "sns.barplot(data=Kchart)"
   ]
  },
  {
   "cell_type": "code",
   "execution_count": 30,
   "metadata": {
    "collapsed": false
   },
   "outputs": [
    {
     "data": {
      "text/plain": [
       "<matplotlib.axes._subplots.AxesSubplot at 0x1087a3890>"
      ]
     },
     "execution_count": 30,
     "metadata": {},
     "output_type": "execute_result"
    },
    {
     "data": {
      "image/png": "[encoded data removed]",
      "text/plain": [
       "<matplotlib.figure.Figure at 0x10866cf90>"
      ]
     },
     "metadata": {},
     "output_type": "display_data"
    }
   ],
   "source": [
    "sns.stripplot(data=Kchart, jitter=True)"
   ]
  },
  {
   "cell_type": "code",
   "execution_count": null,
   "metadata": {
    "collapsed": true
   },
   "outputs": [],
   "source": []
  }
 ],
 "metadata": {
  "kernelspec": {
   "display_name": "Python 2",
   "language": "python",
   "name": "python2"
  },
  "language_info": {
   "codemirror_mode": {
    "name": "ipython",
    "version": 2
   },
   "file_extension": ".py",
   "mimetype": "text/x-python",
   "name": "python",
   "nbconvert_exporter": "python",
   "pygments_lexer": "ipython2",
   "version": "2.7.11"
  }
 },
 "nbformat": 4,
 "nbformat_minor": 0
}
