{
 "cells": [
  {
   "cell_type": "code",
   "execution_count": 2,
   "metadata": {
    "collapsed": true
   },
   "outputs": [],
   "source": [
    "%matplotlib inline"
   ]
  },
  {
   "cell_type": "code",
   "execution_count": 3,
   "metadata": {
    "collapsed": false
   },
   "outputs": [
    {
     "name": "stderr",
     "output_type": "stream",
     "text": [
      "/Library/Frameworks/Python.framework/Versions/2.7/lib/python2.7/site-packages/IPython/core/interactiveshell.py:2885: FutureWarning: \n",
      "mpl_style had been deprecated and will be removed in a future version.\n",
      "Use `matplotlib.pyplot.style.use` instead.\n",
      "\n",
      "  exec(code_obj, self.user_global_ns, self.user_ns)\n",
      "/Library/Frameworks/Python.framework/Versions/2.7/lib/python2.7/site-packages/IPython/html.py:14: ShimWarning: The `IPython.html` package has been deprecated. You should import from `notebook` instead. `IPython.html.widgets` has moved to `ipywidgets`.\n",
      "  \"`IPython.html.widgets` has moved to `ipywidgets`.\", ShimWarning)\n"
     ]
    }
   ],
   "source": [
    "from __future__ import division\n",
    "import pandas as pd\n",
    "pd.set_option('display.mpl_style', 'default') # Make the graphs a bit prettier\n",
    "from collections import OrderedDict\n",
    "from scipy.stats import norm\n",
    "Z = norm.ppf\n",
    "import numpy as np\n",
    "import matplotlib as mpl\n",
    "import matplotlib.pyplot as plt\n",
    "import seaborn as sns\n",
    "sns.set(style=\"whitegrid\", color_codes=True)\n",
    "np.random.seed(sum(map(ord, \"categorical\")))"
   ]
  },
  {
   "cell_type": "code",
   "execution_count": 4,
   "metadata": {
    "collapsed": true
   },
   "outputs": [],
   "source": [
    "import os\n",
    "from os.path import expanduser"
   ]
  },
  {
   "cell_type": "code",
   "execution_count": 5,
   "metadata": {
    "collapsed": false
   },
   "outputs": [],
   "source": [
    "homeDirectory = expanduser(\"~\")\n",
    "dataDirectory = homeDirectory + os.sep + 'vwmtest/data/'"
   ]
  },
  {
   "cell_type": "code",
   "execution_count": 6,
   "metadata": {
    "collapsed": true
   },
   "outputs": [],
   "source": [
    "dataSheets = [dataDirectory + 'vwm_run_2016_Jun_28_1712.csv', dataDirectory + 'vwm_run_2016_Jun_28_1732.csv', \n",
    "dataDirectory + 'vwm_run_2016_Jun_28_1752.csv', dataDirectory + 'vwm_run_2016_Jun_28_1704.csv', dataDirectory + 'vwm_run_2016_Jun_28_1725.csv', \n",
    "dataDirectory + 'vwm_run_2016_Jun_28_1743.csv']"
   ]
  },
  {
   "cell_type": "code",
   "execution_count": 7,
   "metadata": {
    "collapsed": true
   },
   "outputs": [],
   "source": [
    "testRuns = [1, 2, 3, 4, 5, 6]"
   ]
  },
  {
   "cell_type": "code",
   "execution_count": 8,
   "metadata": {
    "collapsed": false
   },
   "outputs": [],
   "source": [
    "conds = OrderedDict([('t2d0', (2, 0)), ('t2d2', (2, 2)), ('t2d4', (2, 4)), ('t4d0', (4, 0)), ('t4d2', (4, 2)), ('t4d4', (4, 4))])"
   ]
  },
  {
   "cell_type": "code",
   "execution_count": 9,
   "metadata": {
    "collapsed": true
   },
   "outputs": [],
   "source": [
    "# counts number of trials corresponding to inputted conditions\n",
    "def itemCounter(df, responseType, changeType, t, d):\n",
    "    count = float(len(df[responseType & changeType & t & d]))\n",
    "    return count"
   ]
  },
  {
   "cell_type": "code",
   "execution_count": 10,
   "metadata": {
    "collapsed": false
   },
   "outputs": [],
   "source": [
    "# calculates K pased on Pashler equation: K = S * ((H - F) / (1 - F))\n",
    "def kCalculation(s, h, f):\n",
    "    k = s * ((h - f) / (1 - f))\n",
    "    return k"
   ]
  },
  {
   "cell_type": "code",
   "execution_count": 11,
   "metadata": {
    "collapsed": false
   },
   "outputs": [],
   "source": [
    "def pashlerK(csv):\n",
    "    # read in csv file\n",
    "    df = pd.read_csv(csv)\n",
    "\n",
    "    # create conditions\n",
    "    resps = df['Response'] == 1\n",
    "    noResps = df['Response'] == 0\n",
    "    changes = df['ChangeTrial'] == 1\n",
    "    noChanges = df['ChangeTrial'] == 0\n",
    "    targ2 = df['nTargets'] == 2\n",
    "    targ4 = df['nTargets'] == 4\n",
    "    dist0 = df['nDistractors'] == 0\n",
    "    dist2 = df['nDistractors'] == 2\n",
    "    dist4 = df['nDistractors'] == 4\n",
    "\n",
    "    # initialize dictionaries\n",
    "    hitRates = OrderedDict()\n",
    "    fAlarmRates = OrderedDict()\n",
    "    Kvals = OrderedDict()\n",
    "    \n",
    "    conds = OrderedDict([('t2d0', (targ2, dist0)), ('t2d2', (targ2, dist2)), ('t2d4', (targ2, dist4)), ('t4d0', (targ4, dist0)), ('t4d2', (targ4, dist2)), ('t4d4', (targ4, dist4))])\n",
    "\n",
    "    # store rate values\n",
    "    for key in conds:\n",
    "        hits = itemCounter(df, resps, changes, conds[key][0], conds[key][1])\n",
    "        misses = itemCounter(df, noResps, changes, conds[key][0], conds[key][1])\n",
    "        falarms = itemCounter(df, resps, noChanges, conds[key][0], conds[key][1])\n",
    "        crejects = itemCounter(df, noResps, noChanges, conds[key][0], conds[key][1])\n",
    "        hitRates[key] = hits/(hits+misses)\n",
    "        fAlarmRates[key] = falarms/(falarms+crejects)\n",
    "        s = 0\n",
    "        if key == 't2d0' or key == 't2d2' or key == 't2d4':\n",
    "            s = 2\n",
    "        else:\n",
    "            s = 4\n",
    "        Kvals[key] = kCalculation(s, hitRates[key], fAlarmRates[key])\n",
    "    return {'Kvals': Kvals, 'hitRates': hitRates, 'fAlarmRates': fAlarmRates}"
   ]
  },
  {
   "cell_type": "code",
   "execution_count": 12,
   "metadata": {
    "collapsed": false
   },
   "outputs": [],
   "source": [
    "def rtCalc(csv):\n",
    "    # read in csv file\n",
    "    df = pd.read_csv(csv)\n",
    "\n",
    "    # create conditions\n",
    "    resps = df['Response'] == 1\n",
    "    targ2 = df['nTargets'] == 2\n",
    "    targ4 = df['nTargets'] == 4\n",
    "    dist0 = df['nDistractors'] == 0\n",
    "    dist2 = df['nDistractors'] == 2\n",
    "    dist4 = df['nDistractors'] == 4\n",
    "\n",
    "    # initialize dictionary\n",
    "    RTRates = OrderedDict()\n",
    "    conds = OrderedDict([('t2d0', (targ2, dist0)), ('t2d2', (targ2, dist2)), ('t2d4', (targ2, dist4)), ('t4d0', (targ4, dist0)), ('t4d2', (targ4, dist2)), ('t4d4', (targ4, dist4))])\n",
    "\n",
    "    # calculate average RT value\n",
    "    for key in conds:\n",
    "        rows = df[conds[key][0] & conds[key][1] & resps]\n",
    "        rts = rows['RT']\n",
    "        meanRT = rts.mean()\n",
    "        RTRates[key] = meanRT\n",
    "    return RTRates"
   ]
  },
  {
   "cell_type": "code",
   "execution_count": 13,
   "metadata": {
    "collapsed": true
   },
   "outputs": [],
   "source": [
    "def dprime(csv):\n",
    "     # read in csv file\n",
    "    df = pd.read_csv(csv)\n",
    "    \n",
    "    # create conditions\n",
    "    resps = df['Response'] == 1\n",
    "    noResps = df['Response'] == 0\n",
    "    changes = df['ChangeTrial'] == 1\n",
    "    noChanges = df['ChangeTrial'] == 0\n",
    "    targ2 = df['nTargets'] == 2\n",
    "    targ4 = df['nTargets'] == 4\n",
    "    dist0 = df['nDistractors'] == 0\n",
    "    dist2 = df['nDistractors'] == 2\n",
    "    dist4 = df['nDistractors'] == 4\n",
    "    \n",
    "    # initialize dict\n",
    "    hits = OrderedDict()\n",
    "    misses = OrderedDict()\n",
    "    falarms = OrderedDict()\n",
    "    crejects = OrderedDict()\n",
    "    dprimes = OrderedDict()\n",
    "      \n",
    "    conds = OrderedDict([('t2d0', (targ2, dist0)), ('t2d2', (targ2, dist2)), ('t2d4', (targ2, dist4)), ('t4d0', (targ4, dist0)), ('t4d2', (targ4, dist2)), ('t4d4', (targ4, dist4))])\n",
    "\n",
    "    # calculate d-primes for each condition\n",
    "    for key in conds:   \n",
    "        hits = itemCounter(df, resps, changes, conds[key][0], conds[key][1])\n",
    "        misses = itemCounter(df, noResps, changes, conds[key][0], conds[key][1])\n",
    "        falarms = itemCounter(df, resps, noChanges, conds[key][0], conds[key][1])\n",
    "        crejects = itemCounter(df, noResps, noChanges, conds[key][0], conds[key][1])\n",
    "        \n",
    "        # Floors an ceilings are replaced by half hits and half FA's\n",
    "        halfHit = 0.5/(hits+misses)\n",
    "        halfFa = 0.5/(falarms+crejects)\n",
    " \n",
    "        # Calculate hitrate and avoid d' infinity\n",
    "        hitRate = hits/(hits+misses)\n",
    "        if hitRate == 1: hitRate = 1-halfHit\n",
    "        if hitRate == 0: hitRate = halfHit\n",
    "\n",
    "        # Calculate false alarm rate and avoid d' infinity\n",
    "        faRate = falarms/(falarms+crejects)\n",
    "        if faRate == 1: faRate = 1-halfFa\n",
    "        if faRate == 0: faRate = halfFa\n",
    "        \n",
    "        # calculate dprime using Z (ppf function in scipy.norm)\n",
    "        dprimes[key]= Z(hitRate) - Z(faRate)\n",
    "    \n",
    "    return dprimes"
   ]
  },
  {
   "cell_type": "code",
   "execution_count": 14,
   "metadata": {
    "collapsed": false
   },
   "outputs": [],
   "source": [
    "Kvals = []\n",
    "hitRates = []\n",
    "faRates = []\n",
    "\n",
    "for sheet in dataSheets:\n",
    "    Kvals.append(pashlerK(sheet)['Kvals'])\n",
    "    hitRates.append(pashlerK(sheet)['hitRates'])\n",
    "    faRates.append(pashlerK(sheet)['fAlarmRates'])"
   ]
  },
  {
   "cell_type": "code",
   "execution_count": 15,
   "metadata": {
    "collapsed": false
   },
   "outputs": [
    {
     "data": {
      "text/html": [
       "<div>\n",
       "<table border=\"1\" class=\"dataframe\">\n",
       "  <thead>\n",
       "    <tr style=\"text-align: right;\">\n",
       "      <th></th>\n",
       "      <th>t2d0</th>\n",
       "      <th>t2d2</th>\n",
       "      <th>t2d4</th>\n",
       "      <th>t4d0</th>\n",
       "      <th>t4d2</th>\n",
       "      <th>t4d4</th>\n",
       "    </tr>\n",
       "  </thead>\n",
       "  <tbody>\n",
       "    <tr>\n",
       "      <th>1</th>\n",
       "      <td>1.909091</td>\n",
       "      <td>1.958333</td>\n",
       "      <td>1.818182</td>\n",
       "      <td>2.400000</td>\n",
       "      <td>1.904762</td>\n",
       "      <td>3.000000</td>\n",
       "    </tr>\n",
       "    <tr>\n",
       "      <th>2</th>\n",
       "      <td>1.909091</td>\n",
       "      <td>1.833333</td>\n",
       "      <td>2.000000</td>\n",
       "      <td>3.200000</td>\n",
       "      <td>2.146341</td>\n",
       "      <td>2.500000</td>\n",
       "    </tr>\n",
       "    <tr>\n",
       "      <th>3</th>\n",
       "      <td>2.000000</td>\n",
       "      <td>2.000000</td>\n",
       "      <td>2.000000</td>\n",
       "      <td>2.400000</td>\n",
       "      <td>2.731707</td>\n",
       "      <td>1.818182</td>\n",
       "    </tr>\n",
       "    <tr>\n",
       "      <th>4</th>\n",
       "      <td>1.904762</td>\n",
       "      <td>1.909091</td>\n",
       "      <td>2.000000</td>\n",
       "      <td>2.800000</td>\n",
       "      <td>2.871795</td>\n",
       "      <td>3.272727</td>\n",
       "    </tr>\n",
       "    <tr>\n",
       "      <th>5</th>\n",
       "      <td>1.818182</td>\n",
       "      <td>1.782609</td>\n",
       "      <td>2.000000</td>\n",
       "      <td>3.333333</td>\n",
       "      <td>3.567568</td>\n",
       "      <td>2.727273</td>\n",
       "    </tr>\n",
       "    <tr>\n",
       "      <th>6</th>\n",
       "      <td>1.909091</td>\n",
       "      <td>1.787234</td>\n",
       "      <td>1.714286</td>\n",
       "      <td>3.360000</td>\n",
       "      <td>2.974359</td>\n",
       "      <td>2.166667</td>\n",
       "    </tr>\n",
       "  </tbody>\n",
       "</table>\n",
       "</div>"
      ],
      "text/plain": [
       "       t2d0      t2d2      t2d4      t4d0      t4d2      t4d4\n",
       "1  1.909091  1.958333  1.818182  2.400000  1.904762  3.000000\n",
       "2  1.909091  1.833333  2.000000  3.200000  2.146341  2.500000\n",
       "3  2.000000  2.000000  2.000000  2.400000  2.731707  1.818182\n",
       "4  1.904762  1.909091  2.000000  2.800000  2.871795  3.272727\n",
       "5  1.818182  1.782609  2.000000  3.333333  3.567568  2.727273\n",
       "6  1.909091  1.787234  1.714286  3.360000  2.974359  2.166667"
      ]
     },
     "execution_count": 15,
     "metadata": {},
     "output_type": "execute_result"
    }
   ],
   "source": [
    "Kchart = pd.DataFrame(Kvals, index=testRuns, columns=conds.keys())\n",
    "Kchart"
   ]
  },
  {
   "cell_type": "code",
   "execution_count": 16,
   "metadata": {
    "collapsed": false
   },
   "outputs": [
    {
     "data": {
      "text/html": [
       "<div>\n",
       "<table border=\"1\" class=\"dataframe\">\n",
       "  <thead>\n",
       "    <tr style=\"text-align: right;\">\n",
       "      <th></th>\n",
       "      <th>t2d0</th>\n",
       "      <th>t2d2</th>\n",
       "      <th>t2d4</th>\n",
       "      <th>t4d0</th>\n",
       "      <th>t4d2</th>\n",
       "      <th>t4d4</th>\n",
       "    </tr>\n",
       "  </thead>\n",
       "  <tbody>\n",
       "    <tr>\n",
       "      <th>1</th>\n",
       "      <td>0.954545</td>\n",
       "      <td>0.979167</td>\n",
       "      <td>0.909091</td>\n",
       "      <td>0.60</td>\n",
       "      <td>0.476190</td>\n",
       "      <td>0.76</td>\n",
       "    </tr>\n",
       "    <tr>\n",
       "      <th>2</th>\n",
       "      <td>0.954545</td>\n",
       "      <td>0.916667</td>\n",
       "      <td>1.000000</td>\n",
       "      <td>0.80</td>\n",
       "      <td>0.547619</td>\n",
       "      <td>0.64</td>\n",
       "    </tr>\n",
       "    <tr>\n",
       "      <th>3</th>\n",
       "      <td>1.000000</td>\n",
       "      <td>1.000000</td>\n",
       "      <td>1.000000</td>\n",
       "      <td>0.60</td>\n",
       "      <td>0.690476</td>\n",
       "      <td>0.52</td>\n",
       "    </tr>\n",
       "    <tr>\n",
       "      <th>4</th>\n",
       "      <td>0.954545</td>\n",
       "      <td>0.958333</td>\n",
       "      <td>1.000000</td>\n",
       "      <td>0.76</td>\n",
       "      <td>0.738095</td>\n",
       "      <td>0.84</td>\n",
       "    </tr>\n",
       "    <tr>\n",
       "      <th>5</th>\n",
       "      <td>0.909091</td>\n",
       "      <td>0.895833</td>\n",
       "      <td>1.000000</td>\n",
       "      <td>0.84</td>\n",
       "      <td>0.904762</td>\n",
       "      <td>0.72</td>\n",
       "    </tr>\n",
       "    <tr>\n",
       "      <th>6</th>\n",
       "      <td>0.954545</td>\n",
       "      <td>0.895833</td>\n",
       "      <td>0.863636</td>\n",
       "      <td>0.84</td>\n",
       "      <td>0.761905</td>\n",
       "      <td>0.56</td>\n",
       "    </tr>\n",
       "  </tbody>\n",
       "</table>\n",
       "</div>"
      ],
      "text/plain": [
       "       t2d0      t2d2      t2d4  t4d0      t4d2  t4d4\n",
       "1  0.954545  0.979167  0.909091  0.60  0.476190  0.76\n",
       "2  0.954545  0.916667  1.000000  0.80  0.547619  0.64\n",
       "3  1.000000  1.000000  1.000000  0.60  0.690476  0.52\n",
       "4  0.954545  0.958333  1.000000  0.76  0.738095  0.84\n",
       "5  0.909091  0.895833  1.000000  0.84  0.904762  0.72\n",
       "6  0.954545  0.895833  0.863636  0.84  0.761905  0.56"
      ]
     },
     "execution_count": 16,
     "metadata": {},
     "output_type": "execute_result"
    }
   ],
   "source": [
    "hitChart = pd.DataFrame(hitRates, index=testRuns, columns=conds.keys())\n",
    "hitChart"
   ]
  },
  {
   "cell_type": "code",
   "execution_count": 17,
   "metadata": {
    "collapsed": false
   },
   "outputs": [
    {
     "data": {
      "text/html": [
       "<div>\n",
       "<table border=\"1\" class=\"dataframe\">\n",
       "  <thead>\n",
       "    <tr style=\"text-align: right;\">\n",
       "      <th></th>\n",
       "      <th>t2d0</th>\n",
       "      <th>t2d2</th>\n",
       "      <th>t2d4</th>\n",
       "      <th>t4d0</th>\n",
       "      <th>t4d2</th>\n",
       "      <th>t4d4</th>\n",
       "    </tr>\n",
       "  </thead>\n",
       "  <tbody>\n",
       "    <tr>\n",
       "      <th>1</th>\n",
       "      <td>0.000000</td>\n",
       "      <td>0.000000</td>\n",
       "      <td>0.000000</td>\n",
       "      <td>0.00</td>\n",
       "      <td>0.000000</td>\n",
       "      <td>0.04</td>\n",
       "    </tr>\n",
       "    <tr>\n",
       "      <th>2</th>\n",
       "      <td>0.000000</td>\n",
       "      <td>0.000000</td>\n",
       "      <td>0.000000</td>\n",
       "      <td>0.00</td>\n",
       "      <td>0.023810</td>\n",
       "      <td>0.04</td>\n",
       "    </tr>\n",
       "    <tr>\n",
       "      <th>3</th>\n",
       "      <td>0.000000</td>\n",
       "      <td>0.000000</td>\n",
       "      <td>0.000000</td>\n",
       "      <td>0.00</td>\n",
       "      <td>0.023810</td>\n",
       "      <td>0.12</td>\n",
       "    </tr>\n",
       "    <tr>\n",
       "      <th>4</th>\n",
       "      <td>0.045455</td>\n",
       "      <td>0.083333</td>\n",
       "      <td>0.000000</td>\n",
       "      <td>0.20</td>\n",
       "      <td>0.071429</td>\n",
       "      <td>0.12</td>\n",
       "    </tr>\n",
       "    <tr>\n",
       "      <th>5</th>\n",
       "      <td>0.000000</td>\n",
       "      <td>0.041667</td>\n",
       "      <td>0.045455</td>\n",
       "      <td>0.04</td>\n",
       "      <td>0.119048</td>\n",
       "      <td>0.12</td>\n",
       "    </tr>\n",
       "    <tr>\n",
       "      <th>6</th>\n",
       "      <td>0.000000</td>\n",
       "      <td>0.020833</td>\n",
       "      <td>0.045455</td>\n",
       "      <td>0.00</td>\n",
       "      <td>0.071429</td>\n",
       "      <td>0.04</td>\n",
       "    </tr>\n",
       "  </tbody>\n",
       "</table>\n",
       "</div>"
      ],
      "text/plain": [
       "       t2d0      t2d2      t2d4  t4d0      t4d2  t4d4\n",
       "1  0.000000  0.000000  0.000000  0.00  0.000000  0.04\n",
       "2  0.000000  0.000000  0.000000  0.00  0.023810  0.04\n",
       "3  0.000000  0.000000  0.000000  0.00  0.023810  0.12\n",
       "4  0.045455  0.083333  0.000000  0.20  0.071429  0.12\n",
       "5  0.000000  0.041667  0.045455  0.04  0.119048  0.12\n",
       "6  0.000000  0.020833  0.045455  0.00  0.071429  0.04"
      ]
     },
     "execution_count": 17,
     "metadata": {},
     "output_type": "execute_result"
    }
   ],
   "source": [
    "faChart = pd.DataFrame(faRates, index=testRuns, columns=conds.keys())\n",
    "faChart"
   ]
  },
  {
   "cell_type": "code",
   "execution_count": 18,
   "metadata": {
    "collapsed": false
   },
   "outputs": [],
   "source": [
    "kMeans = []\n",
    "kMeanArray = [\"K Value Mean\"]\n",
    "hitMeans = []\n",
    "hitMeanArray = [\"Hit Rate Mean\"]\n",
    "faMeans = []\n",
    "faMeanArray = [\"FA Rate Mean\"]\n",
    "\n",
    "for key in conds:\n",
    "    kMeans.append(Kchart[key].mean())\n",
    "    hitMeans.append(hitChart[key].mean())\n",
    "    faMeans.append(faChart[key].mean())"
   ]
  },
  {
   "cell_type": "code",
   "execution_count": 19,
   "metadata": {
    "collapsed": false
   },
   "outputs": [
    {
     "data": {
      "text/html": [
       "<div>\n",
       "<table border=\"1\" class=\"dataframe\">\n",
       "  <thead>\n",
       "    <tr style=\"text-align: right;\">\n",
       "      <th></th>\n",
       "      <th>K Value Mean</th>\n",
       "    </tr>\n",
       "  </thead>\n",
       "  <tbody>\n",
       "    <tr>\n",
       "      <th>t2d0</th>\n",
       "      <td>1.908369</td>\n",
       "    </tr>\n",
       "    <tr>\n",
       "      <th>t2d2</th>\n",
       "      <td>1.878433</td>\n",
       "    </tr>\n",
       "    <tr>\n",
       "      <th>t2d4</th>\n",
       "      <td>1.922078</td>\n",
       "    </tr>\n",
       "    <tr>\n",
       "      <th>t4d0</th>\n",
       "      <td>2.915556</td>\n",
       "    </tr>\n",
       "    <tr>\n",
       "      <th>t4d2</th>\n",
       "      <td>2.699422</td>\n",
       "    </tr>\n",
       "    <tr>\n",
       "      <th>t4d4</th>\n",
       "      <td>2.580808</td>\n",
       "    </tr>\n",
       "  </tbody>\n",
       "</table>\n",
       "</div>"
      ],
      "text/plain": [
       "      K Value Mean\n",
       "t2d0      1.908369\n",
       "t2d2      1.878433\n",
       "t2d4      1.922078\n",
       "t4d0      2.915556\n",
       "t4d2      2.699422\n",
       "t4d4      2.580808"
      ]
     },
     "execution_count": 19,
     "metadata": {},
     "output_type": "execute_result"
    }
   ],
   "source": [
    "kMeanChart = pd.DataFrame(kMeans, index=conds.keys(), columns=kMeanArray)\n",
    "kMeanChart"
   ]
  },
  {
   "cell_type": "code",
   "execution_count": 20,
   "metadata": {
    "collapsed": false
   },
   "outputs": [
    {
     "data": {
      "text/html": [
       "<div>\n",
       "<table border=\"1\" class=\"dataframe\">\n",
       "  <thead>\n",
       "    <tr style=\"text-align: right;\">\n",
       "      <th></th>\n",
       "      <th>Hit Rate Mean</th>\n",
       "    </tr>\n",
       "  </thead>\n",
       "  <tbody>\n",
       "    <tr>\n",
       "      <th>t2d0</th>\n",
       "      <td>0.954545</td>\n",
       "    </tr>\n",
       "    <tr>\n",
       "      <th>t2d2</th>\n",
       "      <td>0.940972</td>\n",
       "    </tr>\n",
       "    <tr>\n",
       "      <th>t2d4</th>\n",
       "      <td>0.962121</td>\n",
       "    </tr>\n",
       "    <tr>\n",
       "      <th>t4d0</th>\n",
       "      <td>0.740000</td>\n",
       "    </tr>\n",
       "    <tr>\n",
       "      <th>t4d2</th>\n",
       "      <td>0.686508</td>\n",
       "    </tr>\n",
       "    <tr>\n",
       "      <th>t4d4</th>\n",
       "      <td>0.673333</td>\n",
       "    </tr>\n",
       "  </tbody>\n",
       "</table>\n",
       "</div>"
      ],
      "text/plain": [
       "      Hit Rate Mean\n",
       "t2d0       0.954545\n",
       "t2d2       0.940972\n",
       "t2d4       0.962121\n",
       "t4d0       0.740000\n",
       "t4d2       0.686508\n",
       "t4d4       0.673333"
      ]
     },
     "execution_count": 20,
     "metadata": {},
     "output_type": "execute_result"
    }
   ],
   "source": [
    "hitMeanChart = pd.DataFrame(hitMeans, index=conds.keys(), columns=hitMeanArray)\n",
    "hitMeanChart"
   ]
  },
  {
   "cell_type": "code",
   "execution_count": 21,
   "metadata": {
    "collapsed": false
   },
   "outputs": [
    {
     "data": {
      "text/html": [
       "<div>\n",
       "<table border=\"1\" class=\"dataframe\">\n",
       "  <thead>\n",
       "    <tr style=\"text-align: right;\">\n",
       "      <th></th>\n",
       "      <th>FA Rate Mean</th>\n",
       "    </tr>\n",
       "  </thead>\n",
       "  <tbody>\n",
       "    <tr>\n",
       "      <th>t2d0</th>\n",
       "      <td>0.007576</td>\n",
       "    </tr>\n",
       "    <tr>\n",
       "      <th>t2d2</th>\n",
       "      <td>0.024306</td>\n",
       "    </tr>\n",
       "    <tr>\n",
       "      <th>t2d4</th>\n",
       "      <td>0.015152</td>\n",
       "    </tr>\n",
       "    <tr>\n",
       "      <th>t4d0</th>\n",
       "      <td>0.040000</td>\n",
       "    </tr>\n",
       "    <tr>\n",
       "      <th>t4d2</th>\n",
       "      <td>0.051587</td>\n",
       "    </tr>\n",
       "    <tr>\n",
       "      <th>t4d4</th>\n",
       "      <td>0.080000</td>\n",
       "    </tr>\n",
       "  </tbody>\n",
       "</table>\n",
       "</div>"
      ],
      "text/plain": [
       "      FA Rate Mean\n",
       "t2d0      0.007576\n",
       "t2d2      0.024306\n",
       "t2d4      0.015152\n",
       "t4d0      0.040000\n",
       "t4d2      0.051587\n",
       "t4d4      0.080000"
      ]
     },
     "execution_count": 21,
     "metadata": {},
     "output_type": "execute_result"
    }
   ],
   "source": [
    "faMeanChart = pd.DataFrame(faMeans, index=conds.keys(), columns=faMeanArray)\n",
    "faMeanChart"
   ]
  },
  {
   "cell_type": "code",
   "execution_count": 22,
   "metadata": {
    "collapsed": false
   },
   "outputs": [
    {
     "data": {
      "text/html": [
       "<div>\n",
       "<table border=\"1\" class=\"dataframe\">\n",
       "  <thead>\n",
       "    <tr style=\"text-align: right;\">\n",
       "      <th></th>\n",
       "      <th>t2d0</th>\n",
       "      <th>t2d2</th>\n",
       "      <th>t2d4</th>\n",
       "      <th>t4d0</th>\n",
       "      <th>t4d2</th>\n",
       "      <th>t4d4</th>\n",
       "    </tr>\n",
       "  </thead>\n",
       "  <tbody>\n",
       "    <tr>\n",
       "      <th>1</th>\n",
       "      <td>0.498757</td>\n",
       "      <td>0.535168</td>\n",
       "      <td>0.551928</td>\n",
       "      <td>0.569245</td>\n",
       "      <td>0.601819</td>\n",
       "      <td>0.623149</td>\n",
       "    </tr>\n",
       "    <tr>\n",
       "      <th>2</th>\n",
       "      <td>0.459129</td>\n",
       "      <td>0.485972</td>\n",
       "      <td>0.550016</td>\n",
       "      <td>0.557587</td>\n",
       "      <td>0.551842</td>\n",
       "      <td>0.604494</td>\n",
       "    </tr>\n",
       "    <tr>\n",
       "      <th>3</th>\n",
       "      <td>0.449602</td>\n",
       "      <td>0.455398</td>\n",
       "      <td>0.480022</td>\n",
       "      <td>0.517446</td>\n",
       "      <td>0.524867</td>\n",
       "      <td>0.549347</td>\n",
       "    </tr>\n",
       "    <tr>\n",
       "      <th>4</th>\n",
       "      <td>0.518111</td>\n",
       "      <td>0.522284</td>\n",
       "      <td>0.552190</td>\n",
       "      <td>0.537068</td>\n",
       "      <td>0.575770</td>\n",
       "      <td>0.562096</td>\n",
       "    </tr>\n",
       "    <tr>\n",
       "      <th>5</th>\n",
       "      <td>0.546223</td>\n",
       "      <td>0.538182</td>\n",
       "      <td>0.595899</td>\n",
       "      <td>0.575776</td>\n",
       "      <td>0.586120</td>\n",
       "      <td>0.608632</td>\n",
       "    </tr>\n",
       "    <tr>\n",
       "      <th>6</th>\n",
       "      <td>0.541096</td>\n",
       "      <td>0.573445</td>\n",
       "      <td>0.606490</td>\n",
       "      <td>0.589601</td>\n",
       "      <td>0.635381</td>\n",
       "      <td>0.584782</td>\n",
       "    </tr>\n",
       "  </tbody>\n",
       "</table>\n",
       "</div>"
      ],
      "text/plain": [
       "       t2d0      t2d2      t2d4      t4d0      t4d2      t4d4\n",
       "1  0.498757  0.535168  0.551928  0.569245  0.601819  0.623149\n",
       "2  0.459129  0.485972  0.550016  0.557587  0.551842  0.604494\n",
       "3  0.449602  0.455398  0.480022  0.517446  0.524867  0.549347\n",
       "4  0.518111  0.522284  0.552190  0.537068  0.575770  0.562096\n",
       "5  0.546223  0.538182  0.595899  0.575776  0.586120  0.608632\n",
       "6  0.541096  0.573445  0.606490  0.589601  0.635381  0.584782"
      ]
     },
     "execution_count": 22,
     "metadata": {},
     "output_type": "execute_result"
    }
   ],
   "source": [
    "RTvals = []\n",
    "\n",
    "for sheet in dataSheets:\n",
    "    RTvals.append(rtCalc(sheet))\n",
    "\n",
    "RTchart = pd.DataFrame(RTvals, index=testRuns, columns=conds.keys())\n",
    "RTchart"
   ]
  },
  {
   "cell_type": "code",
   "execution_count": 23,
   "metadata": {
    "collapsed": false
   },
   "outputs": [
    {
     "data": {
      "text/html": [
       "<div>\n",
       "<table border=\"1\" class=\"dataframe\">\n",
       "  <thead>\n",
       "    <tr style=\"text-align: right;\">\n",
       "      <th></th>\n",
       "      <th>RT Mean</th>\n",
       "    </tr>\n",
       "  </thead>\n",
       "  <tbody>\n",
       "    <tr>\n",
       "      <th>t2d0</th>\n",
       "      <td>0.502153</td>\n",
       "    </tr>\n",
       "    <tr>\n",
       "      <th>t2d2</th>\n",
       "      <td>0.518408</td>\n",
       "    </tr>\n",
       "    <tr>\n",
       "      <th>t2d4</th>\n",
       "      <td>0.556091</td>\n",
       "    </tr>\n",
       "    <tr>\n",
       "      <th>t4d0</th>\n",
       "      <td>0.557787</td>\n",
       "    </tr>\n",
       "    <tr>\n",
       "      <th>t4d2</th>\n",
       "      <td>0.579300</td>\n",
       "    </tr>\n",
       "    <tr>\n",
       "      <th>t4d4</th>\n",
       "      <td>0.588750</td>\n",
       "    </tr>\n",
       "  </tbody>\n",
       "</table>\n",
       "</div>"
      ],
      "text/plain": [
       "       RT Mean\n",
       "t2d0  0.502153\n",
       "t2d2  0.518408\n",
       "t2d4  0.556091\n",
       "t4d0  0.557787\n",
       "t4d2  0.579300\n",
       "t4d4  0.588750"
      ]
     },
     "execution_count": 23,
     "metadata": {},
     "output_type": "execute_result"
    }
   ],
   "source": [
    "rtMeanArray = [\"RT Mean\"]\n",
    "\n",
    "rtMeans = []\n",
    "\n",
    "for key in conds:\n",
    "    rtMeans.append(RTchart[key].mean())\n",
    "    \n",
    "rtMeanChart = pd.DataFrame(rtMeans, index=conds.keys(), columns=rtMeanArray)\n",
    "rtMeanChart"
   ]
  },
  {
   "cell_type": "code",
   "execution_count": 24,
   "metadata": {
    "collapsed": false
   },
   "outputs": [
    {
     "data": {
      "text/html": [
       "<div>\n",
       "<table border=\"1\" class=\"dataframe\">\n",
       "  <thead>\n",
       "    <tr style=\"text-align: right;\">\n",
       "      <th></th>\n",
       "      <th>t2d0</th>\n",
       "      <th>t2d2</th>\n",
       "      <th>t2d4</th>\n",
       "      <th>t4d0</th>\n",
       "      <th>t4d2</th>\n",
       "      <th>t4d4</th>\n",
       "    </tr>\n",
       "  </thead>\n",
       "  <tbody>\n",
       "    <tr>\n",
       "      <th>1</th>\n",
       "      <td>3.691045</td>\n",
       "      <td>4.347825</td>\n",
       "      <td>3.335601</td>\n",
       "      <td>2.307096</td>\n",
       "      <td>2.200472</td>\n",
       "      <td>2.456989</td>\n",
       "    </tr>\n",
       "    <tr>\n",
       "      <th>2</th>\n",
       "      <td>3.691045</td>\n",
       "      <td>3.693985</td>\n",
       "      <td>4.000847</td>\n",
       "      <td>2.895370</td>\n",
       "      <td>2.100401</td>\n",
       "      <td>2.109145</td>\n",
       "    </tr>\n",
       "    <tr>\n",
       "      <th>3</th>\n",
       "      <td>4.000847</td>\n",
       "      <td>4.621983</td>\n",
       "      <td>4.000847</td>\n",
       "      <td>2.307096</td>\n",
       "      <td>2.477953</td>\n",
       "      <td>1.225140</td>\n",
       "    </tr>\n",
       "    <tr>\n",
       "      <th>4</th>\n",
       "      <td>3.381243</td>\n",
       "      <td>3.114659</td>\n",
       "      <td>4.000847</td>\n",
       "      <td>1.547924</td>\n",
       "      <td>2.102718</td>\n",
       "      <td>2.169445</td>\n",
       "    </tr>\n",
       "    <tr>\n",
       "      <th>5</th>\n",
       "      <td>3.335601</td>\n",
       "      <td>2.989826</td>\n",
       "      <td>3.691045</td>\n",
       "      <td>2.745144</td>\n",
       "      <td>2.488933</td>\n",
       "      <td>1.757828</td>\n",
       "    </tr>\n",
       "    <tr>\n",
       "      <th>6</th>\n",
       "      <td>3.691045</td>\n",
       "      <td>3.294996</td>\n",
       "      <td>2.787425</td>\n",
       "      <td>3.048207</td>\n",
       "      <td>2.177677</td>\n",
       "      <td>1.901655</td>\n",
       "    </tr>\n",
       "  </tbody>\n",
       "</table>\n",
       "</div>"
      ],
      "text/plain": [
       "       t2d0      t2d2      t2d4      t4d0      t4d2      t4d4\n",
       "1  3.691045  4.347825  3.335601  2.307096  2.200472  2.456989\n",
       "2  3.691045  3.693985  4.000847  2.895370  2.100401  2.109145\n",
       "3  4.000847  4.621983  4.000847  2.307096  2.477953  1.225140\n",
       "4  3.381243  3.114659  4.000847  1.547924  2.102718  2.169445\n",
       "5  3.335601  2.989826  3.691045  2.745144  2.488933  1.757828\n",
       "6  3.691045  3.294996  2.787425  3.048207  2.177677  1.901655"
      ]
     },
     "execution_count": 24,
     "metadata": {},
     "output_type": "execute_result"
    }
   ],
   "source": [
    "dPrimes = []\n",
    "\n",
    "for sheet in dataSheets:\n",
    "    dPrimes.append(dprime(sheet))\n",
    "\n",
    "dpChart = pd.DataFrame(dPrimes, index=testRuns, columns=conds.keys())\n",
    "dpChart"
   ]
  },
  {
   "cell_type": "code",
   "execution_count": 25,
   "metadata": {
    "collapsed": false
   },
   "outputs": [
    {
     "data": {
      "text/html": [
       "<div>\n",
       "<table border=\"1\" class=\"dataframe\">\n",
       "  <thead>\n",
       "    <tr style=\"text-align: right;\">\n",
       "      <th></th>\n",
       "      <th>d' Mean</th>\n",
       "    </tr>\n",
       "  </thead>\n",
       "  <tbody>\n",
       "    <tr>\n",
       "      <th>t2d0</th>\n",
       "      <td>3.631805</td>\n",
       "    </tr>\n",
       "    <tr>\n",
       "      <th>t2d2</th>\n",
       "      <td>3.677212</td>\n",
       "    </tr>\n",
       "    <tr>\n",
       "      <th>t2d4</th>\n",
       "      <td>3.636102</td>\n",
       "    </tr>\n",
       "    <tr>\n",
       "      <th>t4d0</th>\n",
       "      <td>2.475139</td>\n",
       "    </tr>\n",
       "    <tr>\n",
       "      <th>t4d2</th>\n",
       "      <td>2.258025</td>\n",
       "    </tr>\n",
       "    <tr>\n",
       "      <th>t4d4</th>\n",
       "      <td>1.936700</td>\n",
       "    </tr>\n",
       "  </tbody>\n",
       "</table>\n",
       "</div>"
      ],
      "text/plain": [
       "       d' Mean\n",
       "t2d0  3.631805\n",
       "t2d2  3.677212\n",
       "t2d4  3.636102\n",
       "t4d0  2.475139\n",
       "t4d2  2.258025\n",
       "t4d4  1.936700"
      ]
     },
     "execution_count": 25,
     "metadata": {},
     "output_type": "execute_result"
    }
   ],
   "source": [
    "dpMeanArray = [\"d' Mean\"]\n",
    "\n",
    "dpMeans = []\n",
    "\n",
    "for key in conds:\n",
    "    dpMeans.append(dpChart[key].mean())\n",
    "    \n",
    "dpMeanChart = pd.DataFrame(dpMeans, index=conds.keys(), columns=dpMeanArray)\n",
    "dpMeanChart"
   ]
  },
  {
   "cell_type": "code",
   "execution_count": 26,
   "metadata": {
    "collapsed": false
   },
   "outputs": [
    {
     "data": {
      "text/plain": [
       "<matplotlib.axes._subplots.AxesSubplot at 0x10897efd0>"
      ]
     },
     "execution_count": 26,
     "metadata": {},
     "output_type": "execute_result"
    },
    {
     "data": {
      "image/png": "[encoded data removed]",
      "text/plain": [
       "<matplotlib.figure.Figure at 0x108880910>"
      ]
     },
     "metadata": {},
     "output_type": "display_data"
    }
   ],
   "source": [
    "sns.barplot(data=Kchart)"
   ]
  },
  {
   "cell_type": "code",
   "execution_count": 27,
   "metadata": {
    "collapsed": false
   },
   "outputs": [
    {
     "data": {
      "text/plain": [
       "<matplotlib.axes._subplots.AxesSubplot at 0x108b9b610>"
      ]
     },
     "execution_count": 27,
     "metadata": {},
     "output_type": "execute_result"
    },
    {
     "data": {
      "image/png": "[encoded data removed]",
      "text/plain": [
       "<matplotlib.figure.Figure at 0x108911bd0>"
      ]
     },
     "metadata": {},
     "output_type": "display_data"
    }
   ],
   "source": [
    "sns.stripplot(data=Kchart, jitter=True)"
   ]
  },
  {
   "cell_type": "code",
   "execution_count": 28,
   "metadata": {
    "collapsed": false
   },
   "outputs": [
    {
     "data": {
      "text/plain": [
       "<matplotlib.axes._subplots.AxesSubplot at 0x108e63190>"
      ]
     },
     "execution_count": 28,
     "metadata": {},
     "output_type": "execute_result"
    },
    {
     "data": {
      "image/png": "[encoded data removed]",
      "text/plain": [
       "<matplotlib.figure.Figure at 0x108eb8cd0>"
      ]
     },
     "metadata": {},
     "output_type": "display_data"
    }
   ],
   "source": [
    "sns.barplot(data = hitChart)"
   ]
  },
  {
   "cell_type": "code",
   "execution_count": 29,
   "metadata": {
    "collapsed": false
   },
   "outputs": [
    {
     "data": {
      "text/plain": [
       "<matplotlib.axes._subplots.AxesSubplot at 0x109009a50>"
      ]
     },
     "execution_count": 29,
     "metadata": {},
     "output_type": "execute_result"
    },
    {
     "data": {
      "image/png": "[encoded data removed]",
      "text/plain": [
       "<matplotlib.figure.Figure at 0x108eee150>"
      ]
     },
     "metadata": {},
     "output_type": "display_data"
    }
   ],
   "source": [
    "sns.barplot(data = RTchart)"
   ]
  },
  {
   "cell_type": "code",
   "execution_count": 30,
   "metadata": {
    "collapsed": false
   },
   "outputs": [
    {
     "data": {
      "text/plain": [
       "<matplotlib.axes._subplots.AxesSubplot at 0x10932ce90>"
      ]
     },
     "execution_count": 30,
     "metadata": {},
     "output_type": "execute_result"
    },
    {
     "data": {
      "image/png": "[encoded data removed]",
      "text/plain": [
       "<matplotlib.figure.Figure at 0x1093e8d10>"
      ]
     },
     "metadata": {},
     "output_type": "display_data"
    }
   ],
   "source": [
    "sns.barplot(data = dpChart)"
   ]
  },
  {
   "cell_type": "code",
   "execution_count": null,
   "metadata": {
    "collapsed": true
   },
   "outputs": [],
   "source": []
  }
 ],
 "metadata": {
  "kernelspec": {
   "display_name": "Python 2",
   "language": "python",
   "name": "python2"
  },
  "language_info": {
   "codemirror_mode": {
    "name": "ipython",
    "version": 2
   },
   "file_extension": ".py",
   "mimetype": "text/x-python",
   "name": "python",
   "nbconvert_exporter": "python",
   "pygments_lexer": "ipython2",
   "version": "2.7.11"
  }
 },
 "nbformat": 4,
 "nbformat_minor": 0
}
