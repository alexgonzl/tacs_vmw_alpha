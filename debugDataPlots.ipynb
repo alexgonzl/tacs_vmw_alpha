{
 "cells": [
  {
   "cell_type": "code",
   "execution_count": 1,
   "metadata": {
    "collapsed": true
   },
   "outputs": [],
   "source": [
    "%matplotlib inline"
   ]
  },
  {
   "cell_type": "code",
   "execution_count": 2,
   "metadata": {
    "collapsed": false
   },
   "outputs": [
    {
     "name": "stderr",
     "output_type": "stream",
     "text": [
      "/Library/Frameworks/Python.framework/Versions/2.7/lib/python2.7/site-packages/IPython/html.py:14: ShimWarning: The `IPython.html` package has been deprecated. You should import from `notebook` instead. `IPython.html.widgets` has moved to `ipywidgets`.\n",
      "  \"`IPython.html.widgets` has moved to `ipywidgets`.\", ShimWarning)\n"
     ]
    }
   ],
   "source": [
    "import sys\n",
    "sys.dont_write_bytecode = True\n",
    "import seaborn as sns\n",
    "sns.set(style=\"whitegrid\", color_codes=True, font_scale=1.3)\n",
    "from ggplot import *\n",
    "from dataMethods import *\n",
    "from testRuns import *\n",
    "import pandas as pd\n",
    "import matplotlib.pyplot as plt"
   ]
  },
  {
   "cell_type": "code",
   "execution_count": 3,
   "metadata": {
    "collapsed": true
   },
   "outputs": [],
   "source": [
    "dataColumns = ['lHR', 'rHR', 'wHR', 'lK', 'rK', 'wK', 'lfaR', 'rfaR', 'wfaR', 'lHitRT', 'rHitRT', 'wHitRT', 'lFaRT'\n",
    "               , 'rFaRT', 'wFaRT', 'ldP', 'rdP', 'wdP', 'lCrit', 'rCrit', 'wCrit']"
   ]
  },
  {
   "cell_type": "code",
   "execution_count": 4,
   "metadata": {
    "collapsed": false
   },
   "outputs": [],
   "source": [
    "def createDF(testRuns):\n",
    "    data = pd.DataFrame()\n",
    "    i = 0\n",
    "    for (s,r) in testRuns:\n",
    "        stats = extractPerformance(s,r,'behav5')\n",
    "        leftHRs = stats['lHRs']\n",
    "        rightHRs = stats['rHRs']\n",
    "        wholeHRs = stats['wHRs']\n",
    "        leftKs = stats['lKs']\n",
    "        rightKs = stats['rKs']\n",
    "        wholeKs = stats['wKs']\n",
    "        leftfaRates = stats['lfaRates']\n",
    "        rightfaRates = stats['rfaRates']\n",
    "        wholefaRates = stats['wfaRates']\n",
    "        leftHitRTs = stats['lHitRTs']\n",
    "        rightHitRTs = stats['rHitRTs']\n",
    "        wholeHitRTs = stats['wHitRTs']\n",
    "        leftFaRTs = stats['lFaRTs']\n",
    "        rightFaRTs = stats['rFaRTs']\n",
    "        wholeFaRTs = stats['wFaRTs']\n",
    "        leftdPs = stats['ldPs']\n",
    "        rightdPs = stats['rdPs']\n",
    "        wholedPs = stats['wdPs']\n",
    "        leftCrits = stats['lCrits']\n",
    "        rightCrits = stats['rCrits']\n",
    "        wholeCrits = stats['wCrits']\n",
    "        for key in HFconds:\n",
    "            row = pd.Series([leftHRs[key],rightHRs[key], wholeHRs[key], leftKs[key], rightKs[key],\n",
    "                             wholeKs[key], leftfaRates[key], rightfaRates[key], wholefaRates[key],\n",
    "                            leftHitRTs[key], rightHitRTs[key], wholeHitRTs[key], leftFaRTs[key], \n",
    "                              rightFaRTs[key], wholeFaRTs[key], leftdPs[key], rightdPs[key], \n",
    "                              wholedPs[key], leftCrits[key], rightCrits[key], wholeCrits[key]],\n",
    "                            name = str(i), index=dataColumns)\n",
    "            row['targs'] = str(HFconds[key][0])\n",
    "            row['dists'] = str(HFconds[key][1])\n",
    "            row['subj'] = int(s)\n",
    "            row['run'] = int(r)\n",
    "            data = data.append(row)\n",
    "            i += 1\n",
    "    return data"
   ]
  },
  {
   "cell_type": "code",
   "execution_count": 5,
   "metadata": {
    "collapsed": false
   },
   "outputs": [
    {
     "data": {
      "text/plain": [
       "0    0.866667\n",
       "1    0.724138\n",
       "2    0.806452\n",
       "3    1.520000\n",
       "4    1.333333\n",
       "5    0.727273\n",
       "Name: lK, dtype: float64"
      ]
     },
     "execution_count": 5,
     "metadata": {},
     "output_type": "execute_result"
    }
   ],
   "source": [
    "pilotData = createDF(pilotTestRuns)\n",
    "pilotData['lK']"
   ]
  },
  {
   "cell_type": "code",
   "execution_count": 6,
   "metadata": {
    "collapsed": false
   },
   "outputs": [
    {
     "data": {
      "text/plain": [
       "0    0.800000\n",
       "1    0.793103\n",
       "2    0.677419\n",
       "3    1.040000\n",
       "4    0.933333\n",
       "5    0.181818\n",
       "Name: rK, dtype: float64"
      ]
     },
     "execution_count": 6,
     "metadata": {},
     "output_type": "execute_result"
    }
   ],
   "source": [
    "pilotData['rK']"
   ]
  },
  {
   "cell_type": "code",
   "execution_count": 7,
   "metadata": {
    "collapsed": false
   },
   "outputs": [
    {
     "data": {
      "text/plain": [
       "0    0.8750\n",
       "1    0.7500\n",
       "2    0.8125\n",
       "3    0.8125\n",
       "4    0.6875\n",
       "5    0.5625\n",
       "Name: lHR, dtype: float64"
      ]
     },
     "execution_count": 7,
     "metadata": {},
     "output_type": "execute_result"
    }
   ],
   "source": [
    "pilotData['lHR']"
   ]
  },
  {
   "cell_type": "code",
   "execution_count": 8,
   "metadata": {
    "collapsed": false
   },
   "outputs": [
    {
     "data": {
      "text/plain": [
       "0    0.8125\n",
       "1    0.8125\n",
       "2    0.6875\n",
       "3    0.6250\n",
       "4    0.5000\n",
       "5    0.3750\n",
       "Name: rHR, dtype: float64"
      ]
     },
     "execution_count": 8,
     "metadata": {},
     "output_type": "execute_result"
    }
   ],
   "source": [
    "pilotData['rHR']"
   ]
  },
  {
   "cell_type": "code",
   "execution_count": 9,
   "metadata": {
    "collapsed": false
   },
   "outputs": [
    {
     "data": {
      "text/plain": [
       "0    0.06250\n",
       "1    0.09375\n",
       "2    0.03125\n",
       "3    0.21875\n",
       "4    0.06250\n",
       "5    0.31250\n",
       "Name: lfaR, dtype: float64"
      ]
     },
     "execution_count": 9,
     "metadata": {},
     "output_type": "execute_result"
    }
   ],
   "source": [
    "pilotData['lfaR']"
   ]
  },
  {
   "cell_type": "code",
   "execution_count": 10,
   "metadata": {
    "collapsed": false
   },
   "outputs": [
    {
     "data": {
      "text/plain": [
       "0    0.06250\n",
       "1    0.09375\n",
       "2    0.03125\n",
       "3    0.21875\n",
       "4    0.06250\n",
       "5    0.31250\n",
       "Name: rfaR, dtype: float64"
      ]
     },
     "execution_count": 10,
     "metadata": {},
     "output_type": "execute_result"
    }
   ],
   "source": [
    "pilotData['rfaR']"
   ]
  },
  {
   "cell_type": "code",
   "execution_count": 17,
   "metadata": {
    "collapsed": false
   },
   "outputs": [
    {
     "data": {
      "text/html": [
       "<div>\n",
       "<table border=\"1\" class=\"dataframe\">\n",
       "  <thead>\n",
       "    <tr style=\"text-align: right;\">\n",
       "      <th></th>\n",
       "      <th>dists</th>\n",
       "      <th>lCrit</th>\n",
       "      <th>lFaRT</th>\n",
       "      <th>lHR</th>\n",
       "      <th>lHitRT</th>\n",
       "      <th>lK</th>\n",
       "      <th>ldP</th>\n",
       "      <th>lfaR</th>\n",
       "      <th>rCrit</th>\n",
       "      <th>rFaRT</th>\n",
       "      <th>...</th>\n",
       "      <th>run</th>\n",
       "      <th>subj</th>\n",
       "      <th>targs</th>\n",
       "      <th>wCrit</th>\n",
       "      <th>wFaRT</th>\n",
       "      <th>wHR</th>\n",
       "      <th>wHitRT</th>\n",
       "      <th>wK</th>\n",
       "      <th>wdP</th>\n",
       "      <th>wfaR</th>\n",
       "    </tr>\n",
       "  </thead>\n",
       "  <tbody>\n",
       "    <tr>\n",
       "      <th>0</th>\n",
       "      <td>0</td>\n",
       "      <td>0.191886</td>\n",
       "      <td>0.520580</td>\n",
       "      <td>0.8750</td>\n",
       "      <td>0.445376</td>\n",
       "      <td>0.866667</td>\n",
       "      <td>2.684470</td>\n",
       "      <td>0.06250</td>\n",
       "      <td>0.323487</td>\n",
       "      <td>0.478443</td>\n",
       "      <td>...</td>\n",
       "      <td>1.0</td>\n",
       "      <td>3.0</td>\n",
       "      <td>1</td>\n",
       "      <td>0.262065</td>\n",
       "      <td>0.820718</td>\n",
       "      <td>0.84375</td>\n",
       "      <td>0.503630</td>\n",
       "      <td>0.833333</td>\n",
       "      <td>2.544111</td>\n",
       "      <td>0.06250</td>\n",
       "    </tr>\n",
       "    <tr>\n",
       "      <th>1</th>\n",
       "      <td>1</td>\n",
       "      <td>0.321761</td>\n",
       "      <td>0.502912</td>\n",
       "      <td>0.7500</td>\n",
       "      <td>0.519894</td>\n",
       "      <td>0.724138</td>\n",
       "      <td>1.992501</td>\n",
       "      <td>0.09375</td>\n",
       "      <td>0.215432</td>\n",
       "      <td>0.553999</td>\n",
       "      <td>...</td>\n",
       "      <td>1.0</td>\n",
       "      <td>3.0</td>\n",
       "      <td>1</td>\n",
       "      <td>0.270795</td>\n",
       "      <td>0.585162</td>\n",
       "      <td>0.78125</td>\n",
       "      <td>0.502690</td>\n",
       "      <td>0.758621</td>\n",
       "      <td>2.094433</td>\n",
       "      <td>0.09375</td>\n",
       "    </tr>\n",
       "    <tr>\n",
       "      <th>2</th>\n",
       "      <td>2</td>\n",
       "      <td>0.487793</td>\n",
       "      <td>0.594815</td>\n",
       "      <td>0.8125</td>\n",
       "      <td>0.520733</td>\n",
       "      <td>0.806452</td>\n",
       "      <td>2.749878</td>\n",
       "      <td>0.03125</td>\n",
       "      <td>0.686978</td>\n",
       "      <td>0.520769</td>\n",
       "      <td>...</td>\n",
       "      <td>1.0</td>\n",
       "      <td>3.0</td>\n",
       "      <td>1</td>\n",
       "      <td>0.594121</td>\n",
       "      <td>0.921727</td>\n",
       "      <td>0.75000</td>\n",
       "      <td>0.550870</td>\n",
       "      <td>0.741935</td>\n",
       "      <td>2.537222</td>\n",
       "      <td>0.03125</td>\n",
       "    </tr>\n",
       "    <tr>\n",
       "      <th>3</th>\n",
       "      <td>0</td>\n",
       "      <td>-0.055362</td>\n",
       "      <td>0.553176</td>\n",
       "      <td>0.8125</td>\n",
       "      <td>0.452627</td>\n",
       "      <td>1.520000</td>\n",
       "      <td>1.663568</td>\n",
       "      <td>0.21875</td>\n",
       "      <td>0.228891</td>\n",
       "      <td>0.477889</td>\n",
       "      <td>...</td>\n",
       "      <td>1.0</td>\n",
       "      <td>3.0</td>\n",
       "      <td>2</td>\n",
       "      <td>0.098645</td>\n",
       "      <td>0.586226</td>\n",
       "      <td>0.71875</td>\n",
       "      <td>0.487326</td>\n",
       "      <td>1.280000</td>\n",
       "      <td>1.355554</td>\n",
       "      <td>0.21875</td>\n",
       "    </tr>\n",
       "    <tr>\n",
       "      <th>4</th>\n",
       "      <td>1</td>\n",
       "      <td>0.522672</td>\n",
       "      <td>0.552056</td>\n",
       "      <td>0.6875</td>\n",
       "      <td>0.584561</td>\n",
       "      <td>1.333333</td>\n",
       "      <td>2.022897</td>\n",
       "      <td>0.06250</td>\n",
       "      <td>0.767060</td>\n",
       "      <td>0.570047</td>\n",
       "      <td>...</td>\n",
       "      <td>1.0</td>\n",
       "      <td>3.0</td>\n",
       "      <td>2</td>\n",
       "      <td>0.648459</td>\n",
       "      <td>0.419441</td>\n",
       "      <td>0.59375</td>\n",
       "      <td>0.604046</td>\n",
       "      <td>1.133333</td>\n",
       "      <td>1.771323</td>\n",
       "      <td>0.06250</td>\n",
       "    </tr>\n",
       "    <tr>\n",
       "      <th>5</th>\n",
       "      <td>2</td>\n",
       "      <td>0.165733</td>\n",
       "      <td>0.551851</td>\n",
       "      <td>0.5625</td>\n",
       "      <td>0.585817</td>\n",
       "      <td>0.727273</td>\n",
       "      <td>0.646087</td>\n",
       "      <td>0.31250</td>\n",
       "      <td>0.403708</td>\n",
       "      <td>0.553080</td>\n",
       "      <td>...</td>\n",
       "      <td>1.0</td>\n",
       "      <td>3.0</td>\n",
       "      <td>2</td>\n",
       "      <td>0.283594</td>\n",
       "      <td>0.520714</td>\n",
       "      <td>0.46875</td>\n",
       "      <td>0.585817</td>\n",
       "      <td>0.454545</td>\n",
       "      <td>0.410364</td>\n",
       "      <td>0.31250</td>\n",
       "    </tr>\n",
       "  </tbody>\n",
       "</table>\n",
       "<p>6 rows × 25 columns</p>\n",
       "</div>"
      ],
      "text/plain": [
       "  dists     lCrit     lFaRT     lHR    lHitRT        lK       ldP     lfaR  \\\n",
       "0     0  0.191886  0.520580  0.8750  0.445376  0.866667  2.684470  0.06250   \n",
       "1     1  0.321761  0.502912  0.7500  0.519894  0.724138  1.992501  0.09375   \n",
       "2     2  0.487793  0.594815  0.8125  0.520733  0.806452  2.749878  0.03125   \n",
       "3     0 -0.055362  0.553176  0.8125  0.452627  1.520000  1.663568  0.21875   \n",
       "4     1  0.522672  0.552056  0.6875  0.584561  1.333333  2.022897  0.06250   \n",
       "5     2  0.165733  0.551851  0.5625  0.585817  0.727273  0.646087  0.31250   \n",
       "\n",
       "      rCrit     rFaRT   ...     run  subj  targs     wCrit     wFaRT      wHR  \\\n",
       "0  0.323487  0.478443   ...     1.0   3.0      1  0.262065  0.820718  0.84375   \n",
       "1  0.215432  0.553999   ...     1.0   3.0      1  0.270795  0.585162  0.78125   \n",
       "2  0.686978  0.520769   ...     1.0   3.0      1  0.594121  0.921727  0.75000   \n",
       "3  0.228891  0.477889   ...     1.0   3.0      2  0.098645  0.586226  0.71875   \n",
       "4  0.767060  0.570047   ...     1.0   3.0      2  0.648459  0.419441  0.59375   \n",
       "5  0.403708  0.553080   ...     1.0   3.0      2  0.283594  0.520714  0.46875   \n",
       "\n",
       "     wHitRT        wK       wdP     wfaR  \n",
       "0  0.503630  0.833333  2.544111  0.06250  \n",
       "1  0.502690  0.758621  2.094433  0.09375  \n",
       "2  0.550870  0.741935  2.537222  0.03125  \n",
       "3  0.487326  1.280000  1.355554  0.21875  \n",
       "4  0.604046  1.133333  1.771323  0.06250  \n",
       "5  0.585817  0.454545  0.410364  0.31250  \n",
       "\n",
       "[6 rows x 25 columns]"
      ]
     },
     "execution_count": 17,
     "metadata": {},
     "output_type": "execute_result"
    }
   ],
   "source": [
    "pilotData"
   ]
  },
  {
   "cell_type": "code",
   "execution_count": 11,
   "metadata": {
    "collapsed": false
   },
   "outputs": [
    {
     "data": {
      "text/plain": [
       "(0, 2)"
      ]
     },
     "execution_count": 11,
     "metadata": {},
     "output_type": "execute_result"
    },
    {
     "data": {
      "image/png": "[encoded data removed]",
      "text/plain": [
       "<matplotlib.figure.Figure at 0x10a16b610>"
      ]
     },
     "metadata": {},
     "output_type": "display_data"
    }
   ],
   "source": [
    "pilotWKPlot = sns.factorplot(data=pilotData,x='dists',y='wK',hue='targs')\n",
    "pilotWKPlot.fig.suptitle('whole-K under pilot')\n",
    "pilotWKPlot.set_axis_labels('dists', 'K')\n",
    "pilotWKPlot.fig.subplots_adjust(top=.9)\n",
    "plt.ylim(0, 2)"
   ]
  },
  {
   "cell_type": "code",
   "execution_count": 12,
   "metadata": {
    "collapsed": false
   },
   "outputs": [
    {
     "data": {
      "text/plain": [
       "(0, 2)"
      ]
     },
     "execution_count": 12,
     "metadata": {},
     "output_type": "execute_result"
    },
    {
     "data": {
      "image/png": "[encoded data removed]",
      "text/plain": [
       "<matplotlib.figure.Figure at 0x108f4d910>"
      ]
     },
     "metadata": {},
     "output_type": "display_data"
    }
   ],
   "source": [
    "pilotLKPlot = sns.factorplot(data=pilotData,x='dists',y='lK',hue='targs')\n",
    "pilotLKPlot.fig.suptitle('left-K under pilot')\n",
    "pilotLKPlot.set_axis_labels('dists', 'K')\n",
    "pilotLKPlot.fig.subplots_adjust(top=.9)\n",
    "plt.ylim(0, 2)"
   ]
  },
  {
   "cell_type": "code",
   "execution_count": 13,
   "metadata": {
    "collapsed": false
   },
   "outputs": [
    {
     "data": {
      "text/plain": [
       "(0, 2)"
      ]
     },
     "execution_count": 13,
     "metadata": {},
     "output_type": "execute_result"
    },
    {
     "data": {
      "image/png": "[encoded data removed]",
      "text/plain": [
       "<matplotlib.figure.Figure at 0x108f4d150>"
      ]
     },
     "metadata": {},
     "output_type": "display_data"
    }
   ],
   "source": [
    "pilotRKPlot = sns.factorplot(data=pilotData,x='dists',y='rK',hue='targs')\n",
    "pilotRKPlot.fig.suptitle('right-K under pilot')\n",
    "pilotRKPlot.set_axis_labels('dists', 'K')\n",
    "pilotRKPlot.fig.subplots_adjust(top=.9)\n",
    "plt.ylim(0, 2)"
   ]
  },
  {
   "cell_type": "code",
   "execution_count": 14,
   "metadata": {
    "collapsed": false
   },
   "outputs": [
    {
     "data": {
      "text/plain": [
       "(1, 4)"
      ]
     },
     "execution_count": 14,
     "metadata": {},
     "output_type": "execute_result"
    },
    {
     "data": {
      "image/png": "[encoded data removed]",
      "text/plain": [
       "<matplotlib.figure.Figure at 0x1037b5290>"
      ]
     },
     "metadata": {},
     "output_type": "display_data"
    }
   ],
   "source": [
    "pilotWdPPlot = sns.factorplot(data=pilotData,x='dists',y='wdP',hue='targs')\n",
    "pilotWdPPlot.fig.suptitle('whole-dP under pilot')\n",
    "pilotWdPPlot.set_axis_labels('dists', 'dP')\n",
    "pilotWdPPlot.fig.subplots_adjust(top=.9)\n",
    "plt.ylim(1, 4)"
   ]
  },
  {
   "cell_type": "code",
   "execution_count": 15,
   "metadata": {
    "collapsed": false
   },
   "outputs": [
    {
     "data": {
      "text/plain": [
       "(0, 2.5)"
      ]
     },
     "execution_count": 15,
     "metadata": {},
     "output_type": "execute_result"
    },
    {
     "data": {
      "image/png": "[encoded data removed]",
      "text/plain": [
       "<matplotlib.figure.Figure at 0x109460e10>"
      ]
     },
     "metadata": {},
     "output_type": "display_data"
    }
   ],
   "source": [
    "pilotLdPPlot = sns.factorplot(data=pilotData,x='dists',y='ldP',hue='targs')\n",
    "pilotLdPPlot.fig.suptitle('left-dP under pilot')\n",
    "pilotLdPPlot.set_axis_labels('dists', 'dP')\n",
    "pilotLdPPlot.fig.subplots_adjust(top=.9)\n",
    "plt.ylim(0, 2.5)"
   ]
  },
  {
   "cell_type": "code",
   "execution_count": 16,
   "metadata": {
    "collapsed": false
   },
   "outputs": [
    {
     "data": {
      "text/plain": [
       "(0, 2.5)"
      ]
     },
     "execution_count": 16,
     "metadata": {},
     "output_type": "execute_result"
    },
    {
     "data": {
      "image/png": "[encoded data removed]",
      "text/plain": [
       "<matplotlib.figure.Figure at 0x108f4d090>"
      ]
     },
     "metadata": {},
     "output_type": "display_data"
    }
   ],
   "source": [
    "pilotRdPPlot = sns.factorplot(data=pilotData,x='dists',y='rdP',hue='targs')\n",
    "pilotRdPPlot.fig.suptitle('right-dP under pilot')\n",
    "pilotRdPPlot.set_axis_labels('dists', 'dP')\n",
    "pilotRdPPlot.fig.subplots_adjust(top=.9)\n",
    "plt.ylim(0, 2.5)"
   ]
  },
  {
   "cell_type": "code",
   "execution_count": null,
   "metadata": {
    "collapsed": true
   },
   "outputs": [],
   "source": []
  }
 ],
 "metadata": {
  "kernelspec": {
   "display_name": "Python 2",
   "language": "python",
   "name": "python2"
  },
  "language_info": {
   "codemirror_mode": {
    "name": "ipython",
    "version": 2
   },
   "file_extension": ".py",
   "mimetype": "text/x-python",
   "name": "python",
   "nbconvert_exporter": "python",
   "pygments_lexer": "ipython2",
   "version": "2.7.11"
  }
 },
 "nbformat": 4,
 "nbformat_minor": 0
}
