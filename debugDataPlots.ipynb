{
 "cells": [
  {
   "cell_type": "code",
   "execution_count": 1,
   "metadata": {
    "collapsed": true
   },
   "outputs": [],
   "source": [
    "%matplotlib inline"
   ]
  },
  {
   "cell_type": "code",
   "execution_count": 2,
   "metadata": {
    "collapsed": false
   },
   "outputs": [
    {
     "name": "stderr",
     "output_type": "stream",
     "text": [
      "/Library/Frameworks/Python.framework/Versions/2.7/lib/python2.7/site-packages/IPython/html.py:14: ShimWarning: The `IPython.html` package has been deprecated. You should import from `notebook` instead. `IPython.html.widgets` has moved to `ipywidgets`.\n",
      "  \"`IPython.html.widgets` has moved to `ipywidgets`.\", ShimWarning)\n"
     ]
    }
   ],
   "source": [
    "import sys\n",
    "sys.dont_write_bytecode = True\n",
    "import seaborn as sns\n",
    "sns.set(style=\"whitegrid\", color_codes=True, font_scale=1.3)\n",
    "from ggplot import *\n",
    "from dataMethods import *\n",
    "from testRuns import *\n",
    "import pandas as pd\n",
    "import matplotlib.pyplot as plt"
   ]
  },
  {
   "cell_type": "code",
   "execution_count": 3,
   "metadata": {
    "collapsed": true
   },
   "outputs": [],
   "source": [
    "dataColumns = ['lHR', 'rHR', 'wHR', 'lK', 'rK', 'wK', 'lfaR', 'rfaR', 'wfaR', 'lHitRT', 'rHitRT', 'wHitRT', 'lFaRT'\n",
    "               , 'rFaRT', 'wFaRT', 'ldP', 'rdP', 'wdP', 'lCrit', 'rCrit', 'wCrit']"
   ]
  },
  {
   "cell_type": "code",
   "execution_count": 4,
   "metadata": {
    "collapsed": false
   },
   "outputs": [],
   "source": [
    "def createDF(testRuns):\n",
    "    data = pd.DataFrame()\n",
    "    i = 0\n",
    "    for (s,r) in testRuns:\n",
    "        stats = extractPerformance(s,r,'behav6')\n",
    "        leftHRs = stats['lHRs']\n",
    "        rightHRs = stats['rHRs']\n",
    "        wholeHRs = stats['wHRs']\n",
    "        leftKs = stats['lKs']\n",
    "        rightKs = stats['rKs']\n",
    "        wholeKs = stats['wKs']\n",
    "        leftfaRates = stats['lfaRates']\n",
    "        rightfaRates = stats['rfaRates']\n",
    "        wholefaRates = stats['wfaRates']\n",
    "        leftHitRTs = stats['lHitRTs']\n",
    "        rightHitRTs = stats['rHitRTs']\n",
    "        wholeHitRTs = stats['wHitRTs']\n",
    "        leftFaRTs = stats['lFaRTs']\n",
    "        rightFaRTs = stats['rFaRTs']\n",
    "        wholeFaRTs = stats['wFaRTs']\n",
    "        leftdPs = stats['ldPs']\n",
    "        rightdPs = stats['rdPs']\n",
    "        wholedPs = stats['wdPs']\n",
    "        leftCrits = stats['lCrits']\n",
    "        rightCrits = stats['rCrits']\n",
    "        wholeCrits = stats['wCrits']\n",
    "        for key in HFconds:\n",
    "            row = pd.Series([leftHRs[key],rightHRs[key], wholeHRs[key], leftKs[key], rightKs[key],\n",
    "                             wholeKs[key], leftfaRates[key], rightfaRates[key], wholefaRates[key],\n",
    "                            leftHitRTs[key], rightHitRTs[key], wholeHitRTs[key], leftFaRTs[key], \n",
    "                              rightFaRTs[key], wholeFaRTs[key], leftdPs[key], rightdPs[key], \n",
    "                              wholedPs[key], leftCrits[key], rightCrits[key], wholeCrits[key]],\n",
    "                            name = str(i), index=dataColumns)\n",
    "            row['targs'] = str(HFconds[key][0])\n",
    "            row['dists'] = str(HFconds[key][1])\n",
    "            row['subj'] = int(s)\n",
    "            row['run'] = int(r)\n",
    "            data = data.append(row)\n",
    "            i += 1\n",
    "    return data"
   ]
  },
  {
   "cell_type": "code",
   "execution_count": 5,
   "metadata": {
    "collapsed": false
   },
   "outputs": [],
   "source": [
    "pilotData = createDF(pilotTestRuns)"
   ]
  },
  {
   "cell_type": "code",
   "execution_count": 6,
   "metadata": {
    "collapsed": false
   },
   "outputs": [
    {
     "data": {
      "text/plain": [
       "0     1.000000\n",
       "1     1.000000\n",
       "2     0.826087\n",
       "3     1.862069\n",
       "4     1.636364\n",
       "5     0.588235\n",
       "6     0.862069\n",
       "7     0.916667\n",
       "8     1.000000\n",
       "9     1.777778\n",
       "10    1.619048\n",
       "11    1.238095\n",
       "12    0.923077\n",
       "13    1.000000\n",
       "14    1.000000\n",
       "15    1.090909\n",
       "16    1.578947\n",
       "17    1.368421\n",
       "Name: rK, dtype: float64"
      ]
     },
     "execution_count": 6,
     "metadata": {},
     "output_type": "execute_result"
    }
   ],
   "source": [
    "pilotData['rK']"
   ]
  },
  {
   "cell_type": "code",
   "execution_count": 7,
   "metadata": {
    "collapsed": false
   },
   "outputs": [
    {
     "data": {
      "text/plain": [
       "0     0.9375\n",
       "1     0.8750\n",
       "2     0.8125\n",
       "3     0.7500\n",
       "4     0.6875\n",
       "5     0.6875\n",
       "6     0.9375\n",
       "7     0.8750\n",
       "8     0.8750\n",
       "9     0.8750\n",
       "10    0.8125\n",
       "11    0.9375\n",
       "12    1.0000\n",
       "13    0.9375\n",
       "14    1.0000\n",
       "15    0.8750\n",
       "16    0.9375\n",
       "17    0.7500\n",
       "Name: lHR, dtype: float64"
      ]
     },
     "execution_count": 7,
     "metadata": {},
     "output_type": "execute_result"
    }
   ],
   "source": [
    "pilotData['lHR']"
   ]
  },
  {
   "cell_type": "code",
   "execution_count": 8,
   "metadata": {
    "collapsed": false
   },
   "outputs": [
    {
     "data": {
      "text/plain": [
       "0     1.0000\n",
       "1     1.0000\n",
       "2     0.8750\n",
       "3     0.9375\n",
       "4     0.8750\n",
       "5     0.6250\n",
       "6     0.8750\n",
       "7     0.9375\n",
       "8     1.0000\n",
       "9     0.9375\n",
       "10    0.8750\n",
       "11    0.7500\n",
       "12    0.9375\n",
       "13    1.0000\n",
       "14    1.0000\n",
       "15    0.6875\n",
       "16    0.8750\n",
       "17    0.8125\n",
       "Name: rHR, dtype: float64"
      ]
     },
     "execution_count": 8,
     "metadata": {},
     "output_type": "execute_result"
    }
   ],
   "source": [
    "pilotData['rHR']"
   ]
  },
  {
   "cell_type": "code",
   "execution_count": 9,
   "metadata": {
    "collapsed": false
   },
   "outputs": [
    {
     "data": {
      "text/plain": [
       "0     0.12500\n",
       "1     0.25000\n",
       "2     0.28125\n",
       "3     0.09375\n",
       "4     0.31250\n",
       "5     0.46875\n",
       "6     0.09375\n",
       "7     0.25000\n",
       "8     0.25000\n",
       "9     0.43750\n",
       "10    0.34375\n",
       "11    0.34375\n",
       "12    0.18750\n",
       "13    0.18750\n",
       "14    0.15625\n",
       "15    0.31250\n",
       "16    0.40625\n",
       "17    0.40625\n",
       "Name: lfaR, dtype: float64"
      ]
     },
     "execution_count": 9,
     "metadata": {},
     "output_type": "execute_result"
    }
   ],
   "source": [
    "pilotData['lfaR']"
   ]
  },
  {
   "cell_type": "code",
   "execution_count": 10,
   "metadata": {
    "collapsed": false
   },
   "outputs": [
    {
     "data": {
      "text/plain": [
       "0     0.12500\n",
       "1     0.25000\n",
       "2     0.28125\n",
       "3     0.09375\n",
       "4     0.31250\n",
       "5     0.46875\n",
       "6     0.09375\n",
       "7     0.25000\n",
       "8     0.25000\n",
       "9     0.43750\n",
       "10    0.34375\n",
       "11    0.34375\n",
       "12    0.18750\n",
       "13    0.18750\n",
       "14    0.15625\n",
       "15    0.31250\n",
       "16    0.40625\n",
       "17    0.40625\n",
       "Name: rfaR, dtype: float64"
      ]
     },
     "execution_count": 10,
     "metadata": {},
     "output_type": "execute_result"
    }
   ],
   "source": [
    "pilotData['rfaR']"
   ]
  },
  {
   "cell_type": "code",
   "execution_count": 11,
   "metadata": {
    "collapsed": false
   },
   "outputs": [
    {
     "data": {
      "text/html": [
       "<div>\n",
       "<table border=\"1\" class=\"dataframe\">\n",
       "  <thead>\n",
       "    <tr style=\"text-align: right;\">\n",
       "      <th></th>\n",
       "      <th>dists</th>\n",
       "      <th>lCrit</th>\n",
       "      <th>lFaRT</th>\n",
       "      <th>lHR</th>\n",
       "      <th>lHitRT</th>\n",
       "      <th>lK</th>\n",
       "      <th>ldP</th>\n",
       "      <th>lfaR</th>\n",
       "      <th>rCrit</th>\n",
       "      <th>rFaRT</th>\n",
       "      <th>...</th>\n",
       "      <th>run</th>\n",
       "      <th>subj</th>\n",
       "      <th>targs</th>\n",
       "      <th>wCrit</th>\n",
       "      <th>wFaRT</th>\n",
       "      <th>wHR</th>\n",
       "      <th>wHitRT</th>\n",
       "      <th>wK</th>\n",
       "      <th>wdP</th>\n",
       "      <th>wfaR</th>\n",
       "    </tr>\n",
       "  </thead>\n",
       "  <tbody>\n",
       "    <tr>\n",
       "      <th>0</th>\n",
       "      <td>0</td>\n",
       "      <td>-0.191886</td>\n",
       "      <td>0.525697</td>\n",
       "      <td>0.9375</td>\n",
       "      <td>0.484714</td>\n",
       "      <td>0.928571</td>\n",
       "      <td>2.684470</td>\n",
       "      <td>0.12500</td>\n",
       "      <td>-0.356191</td>\n",
       "      <td>0.517655</td>\n",
       "      <td>...</td>\n",
       "      <td>1.0</td>\n",
       "      <td>1.0</td>\n",
       "      <td>1</td>\n",
       "      <td>-0.356191</td>\n",
       "      <td>0.635090</td>\n",
       "      <td>0.96875</td>\n",
       "      <td>0.485189</td>\n",
       "      <td>0.964286</td>\n",
       "      <td>3.013081</td>\n",
       "      <td>0.12500</td>\n",
       "    </tr>\n",
       "    <tr>\n",
       "      <th>1</th>\n",
       "      <td>1</td>\n",
       "      <td>-0.237930</td>\n",
       "      <td>0.618282</td>\n",
       "      <td>0.8750</td>\n",
       "      <td>0.557976</td>\n",
       "      <td>0.833333</td>\n",
       "      <td>1.824839</td>\n",
       "      <td>0.25000</td>\n",
       "      <td>-0.594121</td>\n",
       "      <td>0.568104</td>\n",
       "      <td>...</td>\n",
       "      <td>1.0</td>\n",
       "      <td>1.0</td>\n",
       "      <td>1</td>\n",
       "      <td>-0.429815</td>\n",
       "      <td>0.626548</td>\n",
       "      <td>0.93750</td>\n",
       "      <td>0.568104</td>\n",
       "      <td>0.916667</td>\n",
       "      <td>2.208610</td>\n",
       "      <td>0.25000</td>\n",
       "    </tr>\n",
       "    <tr>\n",
       "      <th>2</th>\n",
       "      <td>2</td>\n",
       "      <td>-0.154007</td>\n",
       "      <td>0.483153</td>\n",
       "      <td>0.8125</td>\n",
       "      <td>0.581190</td>\n",
       "      <td>0.739130</td>\n",
       "      <td>1.466279</td>\n",
       "      <td>0.28125</td>\n",
       "      <td>-0.285609</td>\n",
       "      <td>0.557592</td>\n",
       "      <td>...</td>\n",
       "      <td>1.0</td>\n",
       "      <td>1.0</td>\n",
       "      <td>1</td>\n",
       "      <td>-0.215429</td>\n",
       "      <td>0.482029</td>\n",
       "      <td>0.84375</td>\n",
       "      <td>0.534357</td>\n",
       "      <td>0.782609</td>\n",
       "      <td>1.589122</td>\n",
       "      <td>0.28125</td>\n",
       "    </tr>\n",
       "    <tr>\n",
       "      <th>3</th>\n",
       "      <td>0</td>\n",
       "      <td>0.321761</td>\n",
       "      <td>0.568601</td>\n",
       "      <td>0.7500</td>\n",
       "      <td>0.551552</td>\n",
       "      <td>1.448276</td>\n",
       "      <td>1.992501</td>\n",
       "      <td>0.09375</td>\n",
       "      <td>-0.108055</td>\n",
       "      <td>0.551791</td>\n",
       "      <td>...</td>\n",
       "      <td>1.0</td>\n",
       "      <td>1.0</td>\n",
       "      <td>2</td>\n",
       "      <td>0.154010</td>\n",
       "      <td>0.682342</td>\n",
       "      <td>0.84375</td>\n",
       "      <td>0.551791</td>\n",
       "      <td>1.655172</td>\n",
       "      <td>2.328001</td>\n",
       "      <td>0.09375</td>\n",
       "    </tr>\n",
       "    <tr>\n",
       "      <th>4</th>\n",
       "      <td>1</td>\n",
       "      <td>-0.000000</td>\n",
       "      <td>0.648362</td>\n",
       "      <td>0.6875</td>\n",
       "      <td>0.614412</td>\n",
       "      <td>1.090909</td>\n",
       "      <td>0.977553</td>\n",
       "      <td>0.31250</td>\n",
       "      <td>-0.330786</td>\n",
       "      <td>0.647236</td>\n",
       "      <td>...</td>\n",
       "      <td>1.0</td>\n",
       "      <td>1.0</td>\n",
       "      <td>2</td>\n",
       "      <td>-0.143823</td>\n",
       "      <td>0.673322</td>\n",
       "      <td>0.78125</td>\n",
       "      <td>0.614412</td>\n",
       "      <td>1.363636</td>\n",
       "      <td>1.265198</td>\n",
       "      <td>0.31250</td>\n",
       "    </tr>\n",
       "    <tr>\n",
       "      <th>5</th>\n",
       "      <td>2</td>\n",
       "      <td>-0.205182</td>\n",
       "      <td>0.615730</td>\n",
       "      <td>0.6875</td>\n",
       "      <td>0.547742</td>\n",
       "      <td>0.823529</td>\n",
       "      <td>0.567189</td>\n",
       "      <td>0.46875</td>\n",
       "      <td>-0.120113</td>\n",
       "      <td>0.556294</td>\n",
       "      <td>...</td>\n",
       "      <td>1.0</td>\n",
       "      <td>1.0</td>\n",
       "      <td>2</td>\n",
       "      <td>-0.161919</td>\n",
       "      <td>0.614867</td>\n",
       "      <td>0.65625</td>\n",
       "      <td>0.547863</td>\n",
       "      <td>0.705882</td>\n",
       "      <td>0.480662</td>\n",
       "      <td>0.46875</td>\n",
       "    </tr>\n",
       "    <tr>\n",
       "      <th>6</th>\n",
       "      <td>0</td>\n",
       "      <td>-0.108055</td>\n",
       "      <td>0.518029</td>\n",
       "      <td>0.9375</td>\n",
       "      <td>0.501085</td>\n",
       "      <td>0.931034</td>\n",
       "      <td>2.852131</td>\n",
       "      <td>0.09375</td>\n",
       "      <td>0.083831</td>\n",
       "      <td>0.509758</td>\n",
       "      <td>...</td>\n",
       "      <td>2.0</td>\n",
       "      <td>1.0</td>\n",
       "      <td>1</td>\n",
       "      <td>-0.000000</td>\n",
       "      <td>0.617891</td>\n",
       "      <td>0.90625</td>\n",
       "      <td>0.517510</td>\n",
       "      <td>0.896552</td>\n",
       "      <td>2.636022</td>\n",
       "      <td>0.09375</td>\n",
       "    </tr>\n",
       "    <tr>\n",
       "      <th>7</th>\n",
       "      <td>1</td>\n",
       "      <td>-0.237930</td>\n",
       "      <td>0.601383</td>\n",
       "      <td>0.8750</td>\n",
       "      <td>0.526234</td>\n",
       "      <td>0.833333</td>\n",
       "      <td>1.824839</td>\n",
       "      <td>0.25000</td>\n",
       "      <td>-0.429815</td>\n",
       "      <td>0.591153</td>\n",
       "      <td>...</td>\n",
       "      <td>2.0</td>\n",
       "      <td>1.0</td>\n",
       "      <td>1</td>\n",
       "      <td>-0.321761</td>\n",
       "      <td>0.709752</td>\n",
       "      <td>0.90625</td>\n",
       "      <td>0.534575</td>\n",
       "      <td>0.875000</td>\n",
       "      <td>1.992501</td>\n",
       "      <td>0.25000</td>\n",
       "    </tr>\n",
       "    <tr>\n",
       "      <th>8</th>\n",
       "      <td>2</td>\n",
       "      <td>-0.237930</td>\n",
       "      <td>0.599321</td>\n",
       "      <td>0.8750</td>\n",
       "      <td>0.598520</td>\n",
       "      <td>0.833333</td>\n",
       "      <td>1.824839</td>\n",
       "      <td>0.25000</td>\n",
       "      <td>-0.594121</td>\n",
       "      <td>0.615394</td>\n",
       "      <td>...</td>\n",
       "      <td>2.0</td>\n",
       "      <td>1.0</td>\n",
       "      <td>1</td>\n",
       "      <td>-0.429815</td>\n",
       "      <td>0.623756</td>\n",
       "      <td>0.93750</td>\n",
       "      <td>0.582018</td>\n",
       "      <td>0.916667</td>\n",
       "      <td>2.208610</td>\n",
       "      <td>0.25000</td>\n",
       "    </tr>\n",
       "    <tr>\n",
       "      <th>9</th>\n",
       "      <td>0</td>\n",
       "      <td>-0.496519</td>\n",
       "      <td>0.664677</td>\n",
       "      <td>0.8750</td>\n",
       "      <td>0.574809</td>\n",
       "      <td>1.555556</td>\n",
       "      <td>1.307660</td>\n",
       "      <td>0.43750</td>\n",
       "      <td>-0.688405</td>\n",
       "      <td>0.656334</td>\n",
       "      <td>...</td>\n",
       "      <td>2.0</td>\n",
       "      <td>1.0</td>\n",
       "      <td>2</td>\n",
       "      <td>-0.580350</td>\n",
       "      <td>0.693247</td>\n",
       "      <td>0.90625</td>\n",
       "      <td>0.567984</td>\n",
       "      <td>1.666667</td>\n",
       "      <td>1.475322</td>\n",
       "      <td>0.43750</td>\n",
       "    </tr>\n",
       "    <tr>\n",
       "      <th>10</th>\n",
       "      <td>1</td>\n",
       "      <td>-0.242448</td>\n",
       "      <td>0.664691</td>\n",
       "      <td>0.8125</td>\n",
       "      <td>0.548658</td>\n",
       "      <td>1.428571</td>\n",
       "      <td>1.289397</td>\n",
       "      <td>0.34375</td>\n",
       "      <td>-0.374050</td>\n",
       "      <td>0.574398</td>\n",
       "      <td>...</td>\n",
       "      <td>2.0</td>\n",
       "      <td>1.0</td>\n",
       "      <td>2</td>\n",
       "      <td>-0.303870</td>\n",
       "      <td>0.615172</td>\n",
       "      <td>0.84375</td>\n",
       "      <td>0.631157</td>\n",
       "      <td>1.523810</td>\n",
       "      <td>1.412240</td>\n",
       "      <td>0.34375</td>\n",
       "    </tr>\n",
       "    <tr>\n",
       "      <th>11</th>\n",
       "      <td>2</td>\n",
       "      <td>-0.565935</td>\n",
       "      <td>0.615481</td>\n",
       "      <td>0.9375</td>\n",
       "      <td>0.664690</td>\n",
       "      <td>1.809524</td>\n",
       "      <td>1.936371</td>\n",
       "      <td>0.34375</td>\n",
       "      <td>-0.136120</td>\n",
       "      <td>0.615800</td>\n",
       "      <td>...</td>\n",
       "      <td>2.0</td>\n",
       "      <td>1.0</td>\n",
       "      <td>2</td>\n",
       "      <td>-0.303870</td>\n",
       "      <td>0.615481</td>\n",
       "      <td>0.84375</td>\n",
       "      <td>0.664690</td>\n",
       "      <td>1.523810</td>\n",
       "      <td>1.412240</td>\n",
       "      <td>0.34375</td>\n",
       "    </tr>\n",
       "    <tr>\n",
       "      <th>12</th>\n",
       "      <td>0</td>\n",
       "      <td>-0.487793</td>\n",
       "      <td>0.484890</td>\n",
       "      <td>1.0000</td>\n",
       "      <td>0.467633</td>\n",
       "      <td>1.000000</td>\n",
       "      <td>2.749878</td>\n",
       "      <td>0.18750</td>\n",
       "      <td>-0.323487</td>\n",
       "      <td>0.484782</td>\n",
       "      <td>...</td>\n",
       "      <td>3.0</td>\n",
       "      <td>1.0</td>\n",
       "      <td>1</td>\n",
       "      <td>-0.487793</td>\n",
       "      <td>0.508702</td>\n",
       "      <td>0.96875</td>\n",
       "      <td>0.484396</td>\n",
       "      <td>0.961538</td>\n",
       "      <td>2.749878</td>\n",
       "      <td>0.18750</td>\n",
       "    </tr>\n",
       "    <tr>\n",
       "      <th>13</th>\n",
       "      <td>1</td>\n",
       "      <td>-0.323487</td>\n",
       "      <td>0.485265</td>\n",
       "      <td>0.9375</td>\n",
       "      <td>0.498356</td>\n",
       "      <td>0.923077</td>\n",
       "      <td>2.421267</td>\n",
       "      <td>0.18750</td>\n",
       "      <td>-0.487793</td>\n",
       "      <td>0.498356</td>\n",
       "      <td>...</td>\n",
       "      <td>3.0</td>\n",
       "      <td>1.0</td>\n",
       "      <td>1</td>\n",
       "      <td>-0.487793</td>\n",
       "      <td>0.509325</td>\n",
       "      <td>0.96875</td>\n",
       "      <td>0.485399</td>\n",
       "      <td>0.961538</td>\n",
       "      <td>2.749878</td>\n",
       "      <td>0.18750</td>\n",
       "    </tr>\n",
       "    <tr>\n",
       "      <th>14</th>\n",
       "      <td>2</td>\n",
       "      <td>-0.426371</td>\n",
       "      <td>0.447927</td>\n",
       "      <td>1.0000</td>\n",
       "      <td>0.540095</td>\n",
       "      <td>1.000000</td>\n",
       "      <td>2.872722</td>\n",
       "      <td>0.15625</td>\n",
       "      <td>-0.426371</td>\n",
       "      <td>0.531389</td>\n",
       "      <td>...</td>\n",
       "      <td>3.0</td>\n",
       "      <td>1.0</td>\n",
       "      <td>1</td>\n",
       "      <td>-0.571942</td>\n",
       "      <td>0.501768</td>\n",
       "      <td>1.00000</td>\n",
       "      <td>0.497764</td>\n",
       "      <td>1.000000</td>\n",
       "      <td>3.163865</td>\n",
       "      <td>0.15625</td>\n",
       "    </tr>\n",
       "    <tr>\n",
       "      <th>15</th>\n",
       "      <td>0</td>\n",
       "      <td>-0.330786</td>\n",
       "      <td>0.585244</td>\n",
       "      <td>0.8750</td>\n",
       "      <td>0.526774</td>\n",
       "      <td>1.636364</td>\n",
       "      <td>1.639126</td>\n",
       "      <td>0.31250</td>\n",
       "      <td>-0.000000</td>\n",
       "      <td>0.593410</td>\n",
       "      <td>...</td>\n",
       "      <td>3.0</td>\n",
       "      <td>1.0</td>\n",
       "      <td>2</td>\n",
       "      <td>-0.143823</td>\n",
       "      <td>0.667197</td>\n",
       "      <td>0.78125</td>\n",
       "      <td>0.500866</td>\n",
       "      <td>1.363636</td>\n",
       "      <td>1.265198</td>\n",
       "      <td>0.31250</td>\n",
       "    </tr>\n",
       "    <tr>\n",
       "      <th>16</th>\n",
       "      <td>1</td>\n",
       "      <td>-0.648459</td>\n",
       "      <td>0.581598</td>\n",
       "      <td>0.9375</td>\n",
       "      <td>0.582116</td>\n",
       "      <td>1.789474</td>\n",
       "      <td>1.771323</td>\n",
       "      <td>0.40625</td>\n",
       "      <td>-0.456574</td>\n",
       "      <td>0.598662</td>\n",
       "      <td>...</td>\n",
       "      <td>3.0</td>\n",
       "      <td>1.0</td>\n",
       "      <td>2</td>\n",
       "      <td>-0.540404</td>\n",
       "      <td>0.684620</td>\n",
       "      <td>0.90625</td>\n",
       "      <td>0.531000</td>\n",
       "      <td>1.684211</td>\n",
       "      <td>1.555213</td>\n",
       "      <td>0.40625</td>\n",
       "    </tr>\n",
       "    <tr>\n",
       "      <th>17</th>\n",
       "      <td>2</td>\n",
       "      <td>-0.218644</td>\n",
       "      <td>0.647875</td>\n",
       "      <td>0.7500</td>\n",
       "      <td>0.623129</td>\n",
       "      <td>1.157895</td>\n",
       "      <td>0.911692</td>\n",
       "      <td>0.40625</td>\n",
       "      <td>-0.324972</td>\n",
       "      <td>0.664842</td>\n",
       "      <td>...</td>\n",
       "      <td>3.0</td>\n",
       "      <td>1.0</td>\n",
       "      <td>2</td>\n",
       "      <td>-0.269610</td>\n",
       "      <td>0.698536</td>\n",
       "      <td>0.78125</td>\n",
       "      <td>0.598453</td>\n",
       "      <td>1.263158</td>\n",
       "      <td>1.013624</td>\n",
       "      <td>0.40625</td>\n",
       "    </tr>\n",
       "  </tbody>\n",
       "</table>\n",
       "<p>18 rows × 25 columns</p>\n",
       "</div>"
      ],
      "text/plain": [
       "   dists     lCrit     lFaRT     lHR    lHitRT        lK       ldP     lfaR  \\\n",
       "0      0 -0.191886  0.525697  0.9375  0.484714  0.928571  2.684470  0.12500   \n",
       "1      1 -0.237930  0.618282  0.8750  0.557976  0.833333  1.824839  0.25000   \n",
       "2      2 -0.154007  0.483153  0.8125  0.581190  0.739130  1.466279  0.28125   \n",
       "3      0  0.321761  0.568601  0.7500  0.551552  1.448276  1.992501  0.09375   \n",
       "4      1 -0.000000  0.648362  0.6875  0.614412  1.090909  0.977553  0.31250   \n",
       "5      2 -0.205182  0.615730  0.6875  0.547742  0.823529  0.567189  0.46875   \n",
       "6      0 -0.108055  0.518029  0.9375  0.501085  0.931034  2.852131  0.09375   \n",
       "7      1 -0.237930  0.601383  0.8750  0.526234  0.833333  1.824839  0.25000   \n",
       "8      2 -0.237930  0.599321  0.8750  0.598520  0.833333  1.824839  0.25000   \n",
       "9      0 -0.496519  0.664677  0.8750  0.574809  1.555556  1.307660  0.43750   \n",
       "10     1 -0.242448  0.664691  0.8125  0.548658  1.428571  1.289397  0.34375   \n",
       "11     2 -0.565935  0.615481  0.9375  0.664690  1.809524  1.936371  0.34375   \n",
       "12     0 -0.487793  0.484890  1.0000  0.467633  1.000000  2.749878  0.18750   \n",
       "13     1 -0.323487  0.485265  0.9375  0.498356  0.923077  2.421267  0.18750   \n",
       "14     2 -0.426371  0.447927  1.0000  0.540095  1.000000  2.872722  0.15625   \n",
       "15     0 -0.330786  0.585244  0.8750  0.526774  1.636364  1.639126  0.31250   \n",
       "16     1 -0.648459  0.581598  0.9375  0.582116  1.789474  1.771323  0.40625   \n",
       "17     2 -0.218644  0.647875  0.7500  0.623129  1.157895  0.911692  0.40625   \n",
       "\n",
       "       rCrit     rFaRT   ...     run  subj  targs     wCrit     wFaRT  \\\n",
       "0  -0.356191  0.517655   ...     1.0   1.0      1 -0.356191  0.635090   \n",
       "1  -0.594121  0.568104   ...     1.0   1.0      1 -0.429815  0.626548   \n",
       "2  -0.285609  0.557592   ...     1.0   1.0      1 -0.215429  0.482029   \n",
       "3  -0.108055  0.551791   ...     1.0   1.0      2  0.154010  0.682342   \n",
       "4  -0.330786  0.647236   ...     1.0   1.0      2 -0.143823  0.673322   \n",
       "5  -0.120113  0.556294   ...     1.0   1.0      2 -0.161919  0.614867   \n",
       "6   0.083831  0.509758   ...     2.0   1.0      1 -0.000000  0.617891   \n",
       "7  -0.429815  0.591153   ...     2.0   1.0      1 -0.321761  0.709752   \n",
       "8  -0.594121  0.615394   ...     2.0   1.0      1 -0.429815  0.623756   \n",
       "9  -0.688405  0.656334   ...     2.0   1.0      2 -0.580350  0.693247   \n",
       "10 -0.374050  0.574398   ...     2.0   1.0      2 -0.303870  0.615172   \n",
       "11 -0.136120  0.615800   ...     2.0   1.0      2 -0.303870  0.615481   \n",
       "12 -0.323487  0.484782   ...     3.0   1.0      1 -0.487793  0.508702   \n",
       "13 -0.487793  0.498356   ...     3.0   1.0      1 -0.487793  0.509325   \n",
       "14 -0.426371  0.531389   ...     3.0   1.0      1 -0.571942  0.501768   \n",
       "15 -0.000000  0.593410   ...     3.0   1.0      2 -0.143823  0.667197   \n",
       "16 -0.456574  0.598662   ...     3.0   1.0      2 -0.540404  0.684620   \n",
       "17 -0.324972  0.664842   ...     3.0   1.0      2 -0.269610  0.698536   \n",
       "\n",
       "        wHR    wHitRT        wK       wdP     wfaR  \n",
       "0   0.96875  0.485189  0.964286  3.013081  0.12500  \n",
       "1   0.93750  0.568104  0.916667  2.208610  0.25000  \n",
       "2   0.84375  0.534357  0.782609  1.589122  0.28125  \n",
       "3   0.84375  0.551791  1.655172  2.328001  0.09375  \n",
       "4   0.78125  0.614412  1.363636  1.265198  0.31250  \n",
       "5   0.65625  0.547863  0.705882  0.480662  0.46875  \n",
       "6   0.90625  0.517510  0.896552  2.636022  0.09375  \n",
       "7   0.90625  0.534575  0.875000  1.992501  0.25000  \n",
       "8   0.93750  0.582018  0.916667  2.208610  0.25000  \n",
       "9   0.90625  0.567984  1.666667  1.475322  0.43750  \n",
       "10  0.84375  0.631157  1.523810  1.412240  0.34375  \n",
       "11  0.84375  0.664690  1.523810  1.412240  0.34375  \n",
       "12  0.96875  0.484396  0.961538  2.749878  0.18750  \n",
       "13  0.96875  0.485399  0.961538  2.749878  0.18750  \n",
       "14  1.00000  0.497764  1.000000  3.163865  0.15625  \n",
       "15  0.78125  0.500866  1.363636  1.265198  0.31250  \n",
       "16  0.90625  0.531000  1.684211  1.555213  0.40625  \n",
       "17  0.78125  0.598453  1.263158  1.013624  0.40625  \n",
       "\n",
       "[18 rows x 25 columns]"
      ]
     },
     "execution_count": 11,
     "metadata": {},
     "output_type": "execute_result"
    }
   ],
   "source": [
    "pilotData"
   ]
  },
  {
   "cell_type": "code",
   "execution_count": 12,
   "metadata": {
    "collapsed": false
   },
   "outputs": [
    {
     "data": {
      "text/plain": [
       "(0, 2)"
      ]
     },
     "execution_count": 12,
     "metadata": {},
     "output_type": "execute_result"
    },
    {
     "data": {
      "image/png": "[encoded data removed]",
      "text/plain": [
       "<matplotlib.figure.Figure at 0x108f65450>"
      ]
     },
     "metadata": {},
     "output_type": "display_data"
    }
   ],
   "source": [
    "pilotWKPlot = sns.factorplot(data=pilotData,x='dists',y='wK',hue='targs')\n",
    "pilotWKPlot.fig.suptitle('whole-K under pilot')\n",
    "pilotWKPlot.set_axis_labels('dists', 'K')\n",
    "pilotWKPlot.fig.subplots_adjust(top=.9)\n",
    "plt.ylim(0, 2)"
   ]
  },
  {
   "cell_type": "code",
   "execution_count": 13,
   "metadata": {
    "collapsed": false
   },
   "outputs": [
    {
     "data": {
      "text/plain": [
       "(0, 2)"
      ]
     },
     "execution_count": 13,
     "metadata": {},
     "output_type": "execute_result"
    },
    {
     "data": {
      "image/png": "[encoded data removed]",
      "text/plain": [
       "<matplotlib.figure.Figure at 0x108f658d0>"
      ]
     },
     "metadata": {},
     "output_type": "display_data"
    }
   ],
   "source": [
    "pilotLKPlot = sns.factorplot(data=pilotData,x='dists',y='lK',hue='targs')\n",
    "pilotLKPlot.fig.suptitle('left-K under pilot')\n",
    "pilotLKPlot.set_axis_labels('dists', 'K')\n",
    "pilotLKPlot.fig.subplots_adjust(top=.9)\n",
    "plt.ylim(0, 2)"
   ]
  },
  {
   "cell_type": "code",
   "execution_count": 14,
   "metadata": {
    "collapsed": false
   },
   "outputs": [
    {
     "data": {
      "text/plain": [
       "(0, 2)"
      ]
     },
     "execution_count": 14,
     "metadata": {},
     "output_type": "execute_result"
    },
    {
     "data": {
      "image/png": "[encoded data removed]",
      "text/plain": [
       "<matplotlib.figure.Figure at 0x1052b8e50>"
      ]
     },
     "metadata": {},
     "output_type": "display_data"
    }
   ],
   "source": [
    "pilotRKPlot = sns.factorplot(data=pilotData,x='dists',y='rK',hue='targs')\n",
    "pilotRKPlot.fig.suptitle('right-K under pilot')\n",
    "pilotRKPlot.set_axis_labels('dists', 'K')\n",
    "pilotRKPlot.fig.subplots_adjust(top=.9)\n",
    "plt.ylim(0, 2)"
   ]
  },
  {
   "cell_type": "code",
   "execution_count": 18,
   "metadata": {
    "collapsed": false
   },
   "outputs": [
    {
     "data": {
      "text/plain": [
       "(0.5, 3.5)"
      ]
     },
     "execution_count": 18,
     "metadata": {},
     "output_type": "execute_result"
    },
    {
     "data": {
      "image/png": "[encoded data removed]",
      "text/plain": [
       "<matplotlib.figure.Figure at 0x1037eced0>"
      ]
     },
     "metadata": {},
     "output_type": "display_data"
    }
   ],
   "source": [
    "pilotWdPPlot = sns.factorplot(data=pilotData,x='dists',y='wdP',hue='targs')\n",
    "pilotWdPPlot.fig.suptitle('whole-dP under pilot')\n",
    "pilotWdPPlot.set_axis_labels('dists', 'dP')\n",
    "pilotWdPPlot.fig.subplots_adjust(top=.9)\n",
    "plt.ylim(0.5, 3.5)"
   ]
  },
  {
   "cell_type": "code",
   "execution_count": 16,
   "metadata": {
    "collapsed": false
   },
   "outputs": [
    {
     "data": {
      "text/plain": [
       "(0, 2.5)"
      ]
     },
     "execution_count": 16,
     "metadata": {},
     "output_type": "execute_result"
    },
    {
     "data": {
      "image/png": "[encoded data removed]",
      "text/plain": [
       "<matplotlib.figure.Figure at 0x1037ecf10>"
      ]
     },
     "metadata": {},
     "output_type": "display_data"
    }
   ],
   "source": [
    "pilotLdPPlot = sns.factorplot(data=pilotData,x='dists',y='ldP',hue='targs')\n",
    "pilotLdPPlot.fig.suptitle('left-dP under pilot')\n",
    "pilotLdPPlot.set_axis_labels('dists', 'dP')\n",
    "pilotLdPPlot.fig.subplots_adjust(top=.9)\n",
    "plt.ylim(0, 2.5)"
   ]
  },
  {
   "cell_type": "code",
   "execution_count": 17,
   "metadata": {
    "collapsed": false
   },
   "outputs": [
    {
     "data": {
      "text/plain": [
       "(0, 2.5)"
      ]
     },
     "execution_count": 17,
     "metadata": {},
     "output_type": "execute_result"
    },
    {
     "data": {
      "image/png": "[encoded data removed]",
      "text/plain": [
       "<matplotlib.figure.Figure at 0x1037ecd10>"
      ]
     },
     "metadata": {},
     "output_type": "display_data"
    }
   ],
   "source": [
    "pilotRdPPlot = sns.factorplot(data=pilotData,x='dists',y='rdP',hue='targs')\n",
    "pilotRdPPlot.fig.suptitle('right-dP under pilot')\n",
    "pilotRdPPlot.set_axis_labels('dists', 'dP')\n",
    "pilotRdPPlot.fig.subplots_adjust(top=.9)\n",
    "plt.ylim(0, 2.5)"
   ]
  },
  {
   "cell_type": "code",
   "execution_count": null,
   "metadata": {
    "collapsed": true
   },
   "outputs": [],
   "source": []
  }
 ],
 "metadata": {
  "kernelspec": {
   "display_name": "Python 2",
   "language": "python",
   "name": "python2"
  },
  "language_info": {
   "codemirror_mode": {
    "name": "ipython",
    "version": 2
   },
   "file_extension": ".py",
   "mimetype": "text/x-python",
   "name": "python",
   "nbconvert_exporter": "python",
   "pygments_lexer": "ipython2",
   "version": "2.7.11"
  }
 },
 "nbformat": 4,
 "nbformat_minor": 0
}
