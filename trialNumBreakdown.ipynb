{
 "cells": [
  {
   "cell_type": "code",
   "execution_count": 2,
   "metadata": {
    "collapsed": true
   },
   "outputs": [],
   "source": [
    "%matplotlib inline"
   ]
  },
  {
   "cell_type": "code",
   "execution_count": 3,
   "metadata": {
    "collapsed": false
   },
   "outputs": [],
   "source": [
    "import sys\n",
    "sys.dont_write_bytecode = True\n",
    "import numpy as np\n",
    "from vwmClasses import VWMTrial, VWMObj\n",
    "import matplotlib.pyplot as plt\n",
    "import pandas as pd\n",
    "from collections import OrderedDict\n",
    "import cPickle as pickle\n",
    "from os.path import expanduser"
   ]
  },
  {
   "cell_type": "code",
   "execution_count": 4,
   "metadata": {
    "collapsed": true
   },
   "outputs": [],
   "source": [
    "subj = '0'\n",
    "run = '1'\n",
    "behavRun = 'stim1'"
   ]
  },
  {
   "cell_type": "code",
   "execution_count": 5,
   "metadata": {
    "collapsed": false
   },
   "outputs": [],
   "source": [
    "homeDirectory = expanduser(\"~\")\n",
    "saveDirectory = homeDirectory + '/Google Drive/tACS_VWM_ALPHA/data'\n",
    "pickleFilename = saveDirectory + '/' + behavRun + '/s' + subj + '/setupData/subj' + subj + 'run' + run + '.p'"
   ]
  },
  {
   "cell_type": "code",
   "execution_count": 6,
   "metadata": {
    "collapsed": false
   },
   "outputs": [],
   "source": [
    "# Load VWMTrials data structure from setup pickle\n",
    "VWMTrials = pickle.load(open(pickleFilename, \"r\" ))"
   ]
  },
  {
   "cell_type": "code",
   "execution_count": 7,
   "metadata": {
    "collapsed": false
   },
   "outputs": [],
   "source": [
    "def plotHist(data, x_labels, name):\n",
    "\n",
    "    freq_series = pd.Series.from_array(data)\n",
    "\n",
    "    # now to plot the figure...\n",
    "    plt.figure(figsize=(12, 8))\n",
    "    ax = freq_series.plot(kind='bar')\n",
    "    ax.set_title(name)\n",
    "    ax.set_xlabel(\"Cond\")\n",
    "    ax.set_ylabel(\"Trials\")\n",
    "    ax.set_xticklabels(x_labels)\n",
    "\n",
    "    rects = ax.patches\n",
    "\n",
    "    # Now make some labels\n",
    "    labels = [ i for i in data]\n",
    "\n",
    "    for rect, label in zip(rects, labels):\n",
    "        height = rect.get_height()\n",
    "        ax.text(rect.get_x() + rect.get_width()/2, height + 1, label, ha='center', va='bottom')"
   ]
  },
  {
   "cell_type": "code",
   "execution_count": 8,
   "metadata": {
    "collapsed": false
   },
   "outputs": [],
   "source": [
    "checkArray = np.zeros(len(VWMTrials))"
   ]
  },
  {
   "cell_type": "code",
   "execution_count": 9,
   "metadata": {
    "collapsed": true
   },
   "outputs": [],
   "source": [
    "hemi = 'left'"
   ]
  },
  {
   "cell_type": "code",
   "execution_count": 10,
   "metadata": {
    "collapsed": false
   },
   "outputs": [],
   "source": [
    "hemiCondCount = OrderedDict([('t0d0', 0), ('t0d1', 0), ('t0d2', 0), ('t1d0', 0), ('t1d1', 0), ('t1d2', 0), ('t2d0', 0), ('t2d1', 0), ('t2d2', 0)])\n",
    "count = 0\n",
    "for trial in VWMTrials:\n",
    "    TargCount = 0\n",
    "    DistCount = 0\n",
    "    if trial.ChangeTrial == 0 or (trial.ChangeTrial == 1 and trial.Objects[trial.ChangeTargID].hemifield == hemi):\n",
    "        checkArray[count] = 1\n",
    "        for obj in trial.Objects:\n",
    "            if obj.getHemifield() == hemi and obj.objType == 'target':\n",
    "                TargCount += 1\n",
    "            elif obj.getHemifield() == hemi and obj.objType == 'distractor':\n",
    "                DistCount += 1\n",
    "        condName = 't' + str(TargCount) + 'd' + str(DistCount)\n",
    "        hemiCondCount[condName] += 1\n",
    "    count += 1"
   ]
  },
  {
   "cell_type": "code",
   "execution_count": 11,
   "metadata": {
    "collapsed": false
   },
   "outputs": [],
   "source": [
    "assert (sum(checkArray) == sum(hemiCondCount.values())), \"Number of  hemi conds does not match change trials\""
   ]
  },
  {
   "cell_type": "code",
   "execution_count": 12,
   "metadata": {
    "collapsed": false
   },
   "outputs": [],
   "source": [
    "del hemiCondCount['t0d0'] \n",
    "del hemiCondCount['t0d1']\n",
    "del hemiCondCount['t0d2']"
   ]
  },
  {
   "cell_type": "code",
   "execution_count": 13,
   "metadata": {
    "collapsed": false
   },
   "outputs": [
    {
     "data": {
      "text/plain": [
       "OrderedDict([('t1d0', 26),\n",
       "             ('t1d1', 15),\n",
       "             ('t1d2', 29),\n",
       "             ('t2d0', 70),\n",
       "             ('t2d1', 46),\n",
       "             ('t2d2', 69)])"
      ]
     },
     "execution_count": 13,
     "metadata": {},
     "output_type": "execute_result"
    }
   ],
   "source": [
    "hemiCondCount"
   ]
  },
  {
   "cell_type": "code",
   "execution_count": 14,
   "metadata": {
    "collapsed": false
   },
   "outputs": [
    {
     "data": {
      "text/plain": [
       "255"
      ]
     },
     "execution_count": 14,
     "metadata": {},
     "output_type": "execute_result"
    }
   ],
   "source": [
    "sum(hemiCondCount.values())"
   ]
  },
  {
   "cell_type": "code",
   "execution_count": 15,
   "metadata": {
    "collapsed": true
   },
   "outputs": [],
   "source": [
    "x_labels = ['t2d0','t2d2','t2d4','t4d0','t4d2','t4d4']"
   ]
  },
  {
   "cell_type": "code",
   "execution_count": 16,
   "metadata": {
    "collapsed": true
   },
   "outputs": [],
   "source": [
    "hemx_labels = ['t1d0','t1d1','t1d2','t2d0','t2d1','t2d2']"
   ]
  },
  {
   "cell_type": "code",
   "execution_count": 17,
   "metadata": {
    "collapsed": true
   },
   "outputs": [],
   "source": [
    "nTrialsPerCond       = [44, 96, 44, 50, 84, 50]"
   ]
  },
  {
   "cell_type": "code",
   "execution_count": 18,
   "metadata": {
    "collapsed": false
   },
   "outputs": [
    {
     "data": {
      "image/png": "[encoded data removed]",
      "text/plain": [
       "<matplotlib.figure.Figure at 0x109aac590>"
      ]
     },
     "metadata": {},
     "output_type": "display_data"
    }
   ],
   "source": [
    "plotHist(nTrialsPerCond, x_labels, 'Trials per Whole-field Cond')"
   ]
  },
  {
   "cell_type": "code",
   "execution_count": 19,
   "metadata": {
    "collapsed": false
   },
   "outputs": [
    {
     "data": {
      "image/png": "[encoded data removed]",
      "text/plain": [
       "<matplotlib.figure.Figure at 0x103b31890>"
      ]
     },
     "metadata": {},
     "output_type": "display_data"
    }
   ],
   "source": [
    "hemiCondHist = hemiCondCount.values()\n",
    "plotHist(hemiCondHist, hemx_labels, 'Trials per Hemifield Cond')"
   ]
  },
  {
   "cell_type": "code",
   "execution_count": null,
   "metadata": {
    "collapsed": true
   },
   "outputs": [],
   "source": []
  }
 ],
 "metadata": {
  "kernelspec": {
   "display_name": "Python 2",
   "language": "python",
   "name": "python2"
  },
  "language_info": {
   "codemirror_mode": {
    "name": "ipython",
    "version": 2
   },
   "file_extension": ".py",
   "mimetype": "text/x-python",
   "name": "python",
   "nbconvert_exporter": "python",
   "pygments_lexer": "ipython2",
   "version": "2.7.11"
  }
 },
 "nbformat": 4,
 "nbformat_minor": 0
}
