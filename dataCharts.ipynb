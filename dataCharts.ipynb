{
 "cells": [
  {
   "cell_type": "code",
   "execution_count": 1,
   "metadata": {
    "collapsed": false
   },
   "outputs": [
    {
     "name": "stderr",
     "output_type": "stream",
     "text": [
      "/Library/Frameworks/Python.framework/Versions/2.7/lib/python2.7/site-packages/IPython/core/interactiveshell.py:2885: FutureWarning: \n",
      "mpl_style had been deprecated and will be removed in a future version.\n",
      "Use `matplotlib.pyplot.style.use` instead.\n",
      "\n",
      "  exec(code_obj, self.user_global_ns, self.user_ns)\n",
      "/Library/Frameworks/Python.framework/Versions/2.7/lib/python2.7/site-packages/ipykernel/__main__.py:6: FutureWarning: \n",
      "mpl_style had been deprecated and will be removed in a future version.\n",
      "Use `matplotlib.pyplot.style.use` instead.\n",
      "\n"
     ]
    }
   ],
   "source": [
    "import sys\n",
    "sys.dont_write_bytecode = True\n",
    "from __future__ import division\n",
    "import pandas as pd\n",
    "pd.set_option('display.mpl_style', 'default') # Make the graphs a bit prettier\n",
    "from dataMethods import *\n",
    "from collections import OrderedDict\n",
    "from scipy.stats import norm\n",
    "Z = norm.ppf"
   ]
  },
  {
   "cell_type": "code",
   "execution_count": 2,
   "metadata": {
    "collapsed": true
   },
   "outputs": [],
   "source": [
    "import os\n",
    "from os.path import expanduser"
   ]
  },
  {
   "cell_type": "code",
   "execution_count": 3,
   "metadata": {
    "collapsed": true
   },
   "outputs": [],
   "source": [
    "homeDirectory = expanduser(\"~\")\n",
    "dataDirectory = homeDirectory + os.sep + 'Google Drive/tACS_VWM_ALPHA/data/stim1/'"
   ]
  },
  {
   "cell_type": "code",
   "execution_count": 4,
   "metadata": {
    "collapsed": true
   },
   "outputs": [],
   "source": [
    "dataSheets = [dataDirectory + 's1/runData/run3_2016_Jul_21_1044.csv']"
   ]
  },
  {
   "cell_type": "code",
   "execution_count": 5,
   "metadata": {
    "collapsed": true
   },
   "outputs": [],
   "source": [
    "testRuns = [(1,3)]"
   ]
  },
  {
   "cell_type": "code",
   "execution_count": 6,
   "metadata": {
    "collapsed": true
   },
   "outputs": [],
   "source": [
    "subjRunCount = OrderedDict()\n",
    "for run in testRuns:\n",
    "    subjRunCount[str(run[0])] = 0\n",
    "for run in testRuns:\n",
    "    subjRunCount[str(run[0])] += 1"
   ]
  },
  {
   "cell_type": "code",
   "execution_count": 7,
   "metadata": {
    "collapsed": true
   },
   "outputs": [],
   "source": [
    "conds = OrderedDict([('t2d0', (2, 0)), ('t2d2', (2, 2)), ('t2d4', (2, 4)), ('t4d0', (4, 0)), ('t4d2', (4, 2)), ('t4d4', (4, 4))])"
   ]
  },
  {
   "cell_type": "code",
   "execution_count": 8,
   "metadata": {
    "collapsed": true
   },
   "outputs": [],
   "source": [
    "hemiConds = OrderedDict([('t1d0', (1, 0)), ('t1d1', (1, 1)), ('t1d2', (1, 2)), ('t2d0', (2, 0)), ('t2d1', (2, 1)), ('t2d2', (2, 2))])"
   ]
  },
  {
   "cell_type": "code",
   "execution_count": 9,
   "metadata": {
    "collapsed": false
   },
   "outputs": [],
   "source": [
    "Kvals = []\n",
    "hitRates = []\n",
    "faRates = []\n",
    "RTvals = []\n",
    "dPrimes = []\n",
    "\n",
    "for sheet in dataSheets:\n",
    "    Kvals.append(pashlerK(sheet)['Kvals'])\n",
    "    hitRates.append(pashlerK(sheet)['hitRates'])\n",
    "    faRates.append(pashlerK(sheet)['fAlarmRates'])\n",
    "    RTvals.append(rtCalc(sheet))\n",
    "    dPrimes.append(dprime(sheet))\n",
    "    \n",
    "kChart = pd.DataFrame(Kvals, index=testRuns, columns=conds.keys())\n",
    "hitChart = pd.DataFrame(hitRates, index=testRuns, columns=conds.keys())\n",
    "faChart = pd.DataFrame(faRates, index=testRuns, columns=conds.keys())\n",
    "rtChart = pd.DataFrame(RTvals, index=testRuns, columns=conds.keys())\n",
    "dpChart = pd.DataFrame(dPrimes, index=testRuns, columns=conds.keys())"
   ]
  },
  {
   "cell_type": "code",
   "execution_count": 10,
   "metadata": {
    "collapsed": false
   },
   "outputs": [
    {
     "data": {
      "text/html": [
       "<div>\n",
       "<table border=\"1\" class=\"dataframe\">\n",
       "  <thead>\n",
       "    <tr style=\"text-align: right;\">\n",
       "      <th></th>\n",
       "      <th>t2d0</th>\n",
       "      <th>t2d2</th>\n",
       "      <th>t2d4</th>\n",
       "      <th>t4d0</th>\n",
       "      <th>t4d2</th>\n",
       "      <th>t4d4</th>\n",
       "    </tr>\n",
       "  </thead>\n",
       "  <tbody>\n",
       "    <tr>\n",
       "      <th>(1, 3)</th>\n",
       "      <td>1.904762</td>\n",
       "      <td>1.574468</td>\n",
       "      <td>1.454545</td>\n",
       "      <td>2.08</td>\n",
       "      <td>2.0</td>\n",
       "      <td>1.913043</td>\n",
       "    </tr>\n",
       "  </tbody>\n",
       "</table>\n",
       "</div>"
      ],
      "text/plain": [
       "            t2d0      t2d2      t2d4  t4d0  t4d2      t4d4\n",
       "(1, 3)  1.904762  1.574468  1.454545  2.08   2.0  1.913043"
      ]
     },
     "execution_count": 10,
     "metadata": {},
     "output_type": "execute_result"
    }
   ],
   "source": [
    "kChart"
   ]
  },
  {
   "cell_type": "code",
   "execution_count": 11,
   "metadata": {
    "collapsed": false
   },
   "outputs": [
    {
     "data": {
      "text/html": [
       "<div>\n",
       "<table border=\"1\" class=\"dataframe\">\n",
       "  <thead>\n",
       "    <tr style=\"text-align: right;\">\n",
       "      <th></th>\n",
       "      <th>t2d0</th>\n",
       "      <th>t2d2</th>\n",
       "      <th>t2d4</th>\n",
       "      <th>t4d0</th>\n",
       "      <th>t4d2</th>\n",
       "      <th>t4d4</th>\n",
       "    </tr>\n",
       "  </thead>\n",
       "  <tbody>\n",
       "    <tr>\n",
       "      <th>(1, 3)</th>\n",
       "      <td>0.954545</td>\n",
       "      <td>0.791667</td>\n",
       "      <td>0.727273</td>\n",
       "      <td>0.52</td>\n",
       "      <td>0.5</td>\n",
       "      <td>0.52</td>\n",
       "    </tr>\n",
       "  </tbody>\n",
       "</table>\n",
       "</div>"
      ],
      "text/plain": [
       "            t2d0      t2d2      t2d4  t4d0  t4d2  t4d4\n",
       "(1, 3)  0.954545  0.791667  0.727273  0.52   0.5  0.52"
      ]
     },
     "execution_count": 11,
     "metadata": {},
     "output_type": "execute_result"
    }
   ],
   "source": [
    "hitChart"
   ]
  },
  {
   "cell_type": "code",
   "execution_count": 12,
   "metadata": {
    "collapsed": false
   },
   "outputs": [
    {
     "data": {
      "text/html": [
       "<div>\n",
       "<table border=\"1\" class=\"dataframe\">\n",
       "  <thead>\n",
       "    <tr style=\"text-align: right;\">\n",
       "      <th></th>\n",
       "      <th>t2d0</th>\n",
       "      <th>t2d2</th>\n",
       "      <th>t2d4</th>\n",
       "      <th>t4d0</th>\n",
       "      <th>t4d2</th>\n",
       "      <th>t4d4</th>\n",
       "    </tr>\n",
       "  </thead>\n",
       "  <tbody>\n",
       "    <tr>\n",
       "      <th>(1, 3)</th>\n",
       "      <td>0.045455</td>\n",
       "      <td>0.020833</td>\n",
       "      <td>0.0</td>\n",
       "      <td>0.0</td>\n",
       "      <td>0.0</td>\n",
       "      <td>0.08</td>\n",
       "    </tr>\n",
       "  </tbody>\n",
       "</table>\n",
       "</div>"
      ],
      "text/plain": [
       "            t2d0      t2d2  t2d4  t4d0  t4d2  t4d4\n",
       "(1, 3)  0.045455  0.020833   0.0   0.0   0.0  0.08"
      ]
     },
     "execution_count": 12,
     "metadata": {},
     "output_type": "execute_result"
    }
   ],
   "source": [
    "faChart"
   ]
  },
  {
   "cell_type": "code",
   "execution_count": 13,
   "metadata": {
    "collapsed": false
   },
   "outputs": [
    {
     "data": {
      "text/html": [
       "<div>\n",
       "<table border=\"1\" class=\"dataframe\">\n",
       "  <thead>\n",
       "    <tr style=\"text-align: right;\">\n",
       "      <th></th>\n",
       "      <th>t2d0</th>\n",
       "      <th>t2d2</th>\n",
       "      <th>t2d4</th>\n",
       "      <th>t4d0</th>\n",
       "      <th>t4d2</th>\n",
       "      <th>t4d4</th>\n",
       "    </tr>\n",
       "  </thead>\n",
       "  <tbody>\n",
       "    <tr>\n",
       "      <th>(1, 3)</th>\n",
       "      <td>0.555115</td>\n",
       "      <td>0.616381</td>\n",
       "      <td>0.634771</td>\n",
       "      <td>0.649531</td>\n",
       "      <td>0.65696</td>\n",
       "      <td>0.710298</td>\n",
       "    </tr>\n",
       "  </tbody>\n",
       "</table>\n",
       "</div>"
      ],
      "text/plain": [
       "            t2d0      t2d2      t2d4      t4d0     t4d2      t4d4\n",
       "(1, 3)  0.555115  0.616381  0.634771  0.649531  0.65696  0.710298"
      ]
     },
     "execution_count": 13,
     "metadata": {},
     "output_type": "execute_result"
    }
   ],
   "source": [
    "rtChart"
   ]
  },
  {
   "cell_type": "code",
   "execution_count": 14,
   "metadata": {
    "collapsed": false
   },
   "outputs": [
    {
     "data": {
      "text/html": [
       "<div>\n",
       "<table border=\"1\" class=\"dataframe\">\n",
       "  <thead>\n",
       "    <tr style=\"text-align: right;\">\n",
       "      <th></th>\n",
       "      <th>t2d0</th>\n",
       "      <th>t2d2</th>\n",
       "      <th>t2d4</th>\n",
       "      <th>t4d0</th>\n",
       "      <th>t4d2</th>\n",
       "      <th>t4d4</th>\n",
       "    </tr>\n",
       "  </thead>\n",
       "  <tbody>\n",
       "    <tr>\n",
       "      <th>(1, 3)</th>\n",
       "      <td>3.381243</td>\n",
       "      <td>2.849052</td>\n",
       "      <td>2.605009</td>\n",
       "      <td>2.103902</td>\n",
       "      <td>2.260189</td>\n",
       "      <td>1.455225</td>\n",
       "    </tr>\n",
       "  </tbody>\n",
       "</table>\n",
       "</div>"
      ],
      "text/plain": [
       "            t2d0      t2d2      t2d4      t4d0      t4d2      t4d4\n",
       "(1, 3)  3.381243  2.849052  2.605009  2.103902  2.260189  1.455225"
      ]
     },
     "execution_count": 14,
     "metadata": {},
     "output_type": "execute_result"
    }
   ],
   "source": [
    "dpChart"
   ]
  },
  {
   "cell_type": "code",
   "execution_count": 15,
   "metadata": {
    "collapsed": true
   },
   "outputs": [],
   "source": [
    "kSubjMeans = []\n",
    "hitSubjMeans = []\n",
    "faSubjMeans= []\n",
    "rtSubjMeans = []\n",
    "dpSubjMeans = []\n",
    "index = 0\n",
    "for subj in subjRunCount.keys():\n",
    "    kSubjMeans.append(kChart[index:index+subjRunCount[subj]].mean())\n",
    "    hitSubjMeans.append(hitChart[index:index+subjRunCount[subj]].mean())\n",
    "    faSubjMeans.append(faChart[index:index+subjRunCount[subj]].mean())\n",
    "    rtSubjMeans.append(rtChart[index:index+subjRunCount[subj]].mean())\n",
    "    dpSubjMeans.append(dpChart[index:index+subjRunCount[subj]].mean())\n",
    "    index += subjRunCount[subj]\n",
    "\n",
    "kSubjMeanChart = pd.DataFrame(kSubjMeans, index=subjRunCount.keys(), columns=conds.keys())\n",
    "hitSubjMeanChart = pd.DataFrame(hitSubjMeans, index=subjRunCount.keys(), columns=conds.keys())\n",
    "faSubjMeanChart = pd.DataFrame(faSubjMeans, index=subjRunCount.keys(), columns=conds.keys())\n",
    "rtSubjMeanChart = pd.DataFrame(rtSubjMeans, index=subjRunCount.keys(), columns=conds.keys())\n",
    "dpSubjMeanChart = pd.DataFrame(dpSubjMeans, index=subjRunCount.keys(), columns=conds.keys())"
   ]
  },
  {
   "cell_type": "code",
   "execution_count": 16,
   "metadata": {
    "collapsed": false
   },
   "outputs": [
    {
     "data": {
      "text/html": [
       "<div>\n",
       "<table border=\"1\" class=\"dataframe\">\n",
       "  <thead>\n",
       "    <tr style=\"text-align: right;\">\n",
       "      <th></th>\n",
       "      <th>t2d0</th>\n",
       "      <th>t2d2</th>\n",
       "      <th>t2d4</th>\n",
       "      <th>t4d0</th>\n",
       "      <th>t4d2</th>\n",
       "      <th>t4d4</th>\n",
       "    </tr>\n",
       "  </thead>\n",
       "  <tbody>\n",
       "    <tr>\n",
       "      <th>1</th>\n",
       "      <td>1.904762</td>\n",
       "      <td>1.574468</td>\n",
       "      <td>1.454545</td>\n",
       "      <td>2.08</td>\n",
       "      <td>2.0</td>\n",
       "      <td>1.913043</td>\n",
       "    </tr>\n",
       "  </tbody>\n",
       "</table>\n",
       "</div>"
      ],
      "text/plain": [
       "       t2d0      t2d2      t2d4  t4d0  t4d2      t4d4\n",
       "1  1.904762  1.574468  1.454545  2.08   2.0  1.913043"
      ]
     },
     "execution_count": 16,
     "metadata": {},
     "output_type": "execute_result"
    }
   ],
   "source": [
    "kSubjMeanChart"
   ]
  },
  {
   "cell_type": "code",
   "execution_count": 17,
   "metadata": {
    "collapsed": false
   },
   "outputs": [
    {
     "data": {
      "text/html": [
       "<div>\n",
       "<table border=\"1\" class=\"dataframe\">\n",
       "  <thead>\n",
       "    <tr style=\"text-align: right;\">\n",
       "      <th></th>\n",
       "      <th>t2d0</th>\n",
       "      <th>t2d2</th>\n",
       "      <th>t2d4</th>\n",
       "      <th>t4d0</th>\n",
       "      <th>t4d2</th>\n",
       "      <th>t4d4</th>\n",
       "    </tr>\n",
       "  </thead>\n",
       "  <tbody>\n",
       "    <tr>\n",
       "      <th>1</th>\n",
       "      <td>0.954545</td>\n",
       "      <td>0.791667</td>\n",
       "      <td>0.727273</td>\n",
       "      <td>0.52</td>\n",
       "      <td>0.5</td>\n",
       "      <td>0.52</td>\n",
       "    </tr>\n",
       "  </tbody>\n",
       "</table>\n",
       "</div>"
      ],
      "text/plain": [
       "       t2d0      t2d2      t2d4  t4d0  t4d2  t4d4\n",
       "1  0.954545  0.791667  0.727273  0.52   0.5  0.52"
      ]
     },
     "execution_count": 17,
     "metadata": {},
     "output_type": "execute_result"
    }
   ],
   "source": [
    "hitSubjMeanChart"
   ]
  },
  {
   "cell_type": "code",
   "execution_count": 18,
   "metadata": {
    "collapsed": false
   },
   "outputs": [
    {
     "data": {
      "text/html": [
       "<div>\n",
       "<table border=\"1\" class=\"dataframe\">\n",
       "  <thead>\n",
       "    <tr style=\"text-align: right;\">\n",
       "      <th></th>\n",
       "      <th>t2d0</th>\n",
       "      <th>t2d2</th>\n",
       "      <th>t2d4</th>\n",
       "      <th>t4d0</th>\n",
       "      <th>t4d2</th>\n",
       "      <th>t4d4</th>\n",
       "    </tr>\n",
       "  </thead>\n",
       "  <tbody>\n",
       "    <tr>\n",
       "      <th>1</th>\n",
       "      <td>0.045455</td>\n",
       "      <td>0.020833</td>\n",
       "      <td>0.0</td>\n",
       "      <td>0.0</td>\n",
       "      <td>0.0</td>\n",
       "      <td>0.08</td>\n",
       "    </tr>\n",
       "  </tbody>\n",
       "</table>\n",
       "</div>"
      ],
      "text/plain": [
       "       t2d0      t2d2  t2d4  t4d0  t4d2  t4d4\n",
       "1  0.045455  0.020833   0.0   0.0   0.0  0.08"
      ]
     },
     "execution_count": 18,
     "metadata": {},
     "output_type": "execute_result"
    }
   ],
   "source": [
    "faSubjMeanChart"
   ]
  },
  {
   "cell_type": "code",
   "execution_count": 19,
   "metadata": {
    "collapsed": false
   },
   "outputs": [
    {
     "data": {
      "text/html": [
       "<div>\n",
       "<table border=\"1\" class=\"dataframe\">\n",
       "  <thead>\n",
       "    <tr style=\"text-align: right;\">\n",
       "      <th></th>\n",
       "      <th>t2d0</th>\n",
       "      <th>t2d2</th>\n",
       "      <th>t2d4</th>\n",
       "      <th>t4d0</th>\n",
       "      <th>t4d2</th>\n",
       "      <th>t4d4</th>\n",
       "    </tr>\n",
       "  </thead>\n",
       "  <tbody>\n",
       "    <tr>\n",
       "      <th>1</th>\n",
       "      <td>0.555115</td>\n",
       "      <td>0.616381</td>\n",
       "      <td>0.634771</td>\n",
       "      <td>0.649531</td>\n",
       "      <td>0.65696</td>\n",
       "      <td>0.710298</td>\n",
       "    </tr>\n",
       "  </tbody>\n",
       "</table>\n",
       "</div>"
      ],
      "text/plain": [
       "       t2d0      t2d2      t2d4      t4d0     t4d2      t4d4\n",
       "1  0.555115  0.616381  0.634771  0.649531  0.65696  0.710298"
      ]
     },
     "execution_count": 19,
     "metadata": {},
     "output_type": "execute_result"
    }
   ],
   "source": [
    "rtSubjMeanChart"
   ]
  },
  {
   "cell_type": "code",
   "execution_count": 20,
   "metadata": {
    "collapsed": false
   },
   "outputs": [
    {
     "data": {
      "text/html": [
       "<div>\n",
       "<table border=\"1\" class=\"dataframe\">\n",
       "  <thead>\n",
       "    <tr style=\"text-align: right;\">\n",
       "      <th></th>\n",
       "      <th>t2d0</th>\n",
       "      <th>t2d2</th>\n",
       "      <th>t2d4</th>\n",
       "      <th>t4d0</th>\n",
       "      <th>t4d2</th>\n",
       "      <th>t4d4</th>\n",
       "    </tr>\n",
       "  </thead>\n",
       "  <tbody>\n",
       "    <tr>\n",
       "      <th>1</th>\n",
       "      <td>3.381243</td>\n",
       "      <td>2.849052</td>\n",
       "      <td>2.605009</td>\n",
       "      <td>2.103902</td>\n",
       "      <td>2.260189</td>\n",
       "      <td>1.455225</td>\n",
       "    </tr>\n",
       "  </tbody>\n",
       "</table>\n",
       "</div>"
      ],
      "text/plain": [
       "       t2d0      t2d2      t2d4      t4d0      t4d2      t4d4\n",
       "1  3.381243  2.849052  2.605009  2.103902  2.260189  1.455225"
      ]
     },
     "execution_count": 20,
     "metadata": {},
     "output_type": "execute_result"
    }
   ],
   "source": [
    "dpSubjMeanChart"
   ]
  },
  {
   "cell_type": "code",
   "execution_count": 21,
   "metadata": {
    "collapsed": true
   },
   "outputs": [],
   "source": [
    "kCondMeans = []\n",
    "kNameArray = [\"K Value Mean\"]\n",
    "hitCondMeans = []\n",
    "hitNameArray = [\"Hit Rate Mean\"]\n",
    "faCondMeans = []\n",
    "faNameArray = [\"FA Rate Mean\"]\n",
    "rtCondMeans = []\n",
    "rtNameArray = [\"RT Mean\"]\n",
    "dpCondMeans = []\n",
    "dpNameArray = [\"d' Mean\"]\n",
    "\n",
    "for key in conds:\n",
    "    kCondMeans.append(kSubjMeanChart[key].mean())\n",
    "    hitCondMeans.append(hitSubjMeanChart[key].mean())\n",
    "    faCondMeans.append(faSubjMeanChart[key].mean())\n",
    "    rtCondMeans.append(rtSubjMeanChart[key].mean())\n",
    "    dpCondMeans.append(dpSubjMeanChart[key].mean())\n",
    "    \n",
    "kCondMeanChart = pd.DataFrame(kCondMeans, index=conds.keys(), columns=kNameArray)\n",
    "hitCondMeanChart = pd.DataFrame(hitCondMeans, index=conds.keys(), columns=hitNameArray)\n",
    "faCondMeanChart = pd.DataFrame(faCondMeans, index=conds.keys(), columns=faNameArray)\n",
    "rtCondMeanChart = pd.DataFrame(rtCondMeans, index=conds.keys(), columns=rtNameArray)\n",
    "dpCondMeanChart = pd.DataFrame(dpCondMeans, index=conds.keys(), columns=dpNameArray)"
   ]
  },
  {
   "cell_type": "code",
   "execution_count": 22,
   "metadata": {
    "collapsed": false
   },
   "outputs": [
    {
     "data": {
      "text/html": [
       "<div>\n",
       "<table border=\"1\" class=\"dataframe\">\n",
       "  <thead>\n",
       "    <tr style=\"text-align: right;\">\n",
       "      <th></th>\n",
       "      <th>K Value Mean</th>\n",
       "    </tr>\n",
       "  </thead>\n",
       "  <tbody>\n",
       "    <tr>\n",
       "      <th>t2d0</th>\n",
       "      <td>1.904762</td>\n",
       "    </tr>\n",
       "    <tr>\n",
       "      <th>t2d2</th>\n",
       "      <td>1.574468</td>\n",
       "    </tr>\n",
       "    <tr>\n",
       "      <th>t2d4</th>\n",
       "      <td>1.454545</td>\n",
       "    </tr>\n",
       "    <tr>\n",
       "      <th>t4d0</th>\n",
       "      <td>2.080000</td>\n",
       "    </tr>\n",
       "    <tr>\n",
       "      <th>t4d2</th>\n",
       "      <td>2.000000</td>\n",
       "    </tr>\n",
       "    <tr>\n",
       "      <th>t4d4</th>\n",
       "      <td>1.913043</td>\n",
       "    </tr>\n",
       "  </tbody>\n",
       "</table>\n",
       "</div>"
      ],
      "text/plain": [
       "      K Value Mean\n",
       "t2d0      1.904762\n",
       "t2d2      1.574468\n",
       "t2d4      1.454545\n",
       "t4d0      2.080000\n",
       "t4d2      2.000000\n",
       "t4d4      1.913043"
      ]
     },
     "execution_count": 22,
     "metadata": {},
     "output_type": "execute_result"
    }
   ],
   "source": [
    "kCondMeanChart"
   ]
  },
  {
   "cell_type": "code",
   "execution_count": 23,
   "metadata": {
    "collapsed": false
   },
   "outputs": [
    {
     "data": {
      "text/html": [
       "<div>\n",
       "<table border=\"1\" class=\"dataframe\">\n",
       "  <thead>\n",
       "    <tr style=\"text-align: right;\">\n",
       "      <th></th>\n",
       "      <th>Hit Rate Mean</th>\n",
       "    </tr>\n",
       "  </thead>\n",
       "  <tbody>\n",
       "    <tr>\n",
       "      <th>t2d0</th>\n",
       "      <td>0.954545</td>\n",
       "    </tr>\n",
       "    <tr>\n",
       "      <th>t2d2</th>\n",
       "      <td>0.791667</td>\n",
       "    </tr>\n",
       "    <tr>\n",
       "      <th>t2d4</th>\n",
       "      <td>0.727273</td>\n",
       "    </tr>\n",
       "    <tr>\n",
       "      <th>t4d0</th>\n",
       "      <td>0.520000</td>\n",
       "    </tr>\n",
       "    <tr>\n",
       "      <th>t4d2</th>\n",
       "      <td>0.500000</td>\n",
       "    </tr>\n",
       "    <tr>\n",
       "      <th>t4d4</th>\n",
       "      <td>0.520000</td>\n",
       "    </tr>\n",
       "  </tbody>\n",
       "</table>\n",
       "</div>"
      ],
      "text/plain": [
       "      Hit Rate Mean\n",
       "t2d0       0.954545\n",
       "t2d2       0.791667\n",
       "t2d4       0.727273\n",
       "t4d0       0.520000\n",
       "t4d2       0.500000\n",
       "t4d4       0.520000"
      ]
     },
     "execution_count": 23,
     "metadata": {},
     "output_type": "execute_result"
    }
   ],
   "source": [
    "hitCondMeanChart"
   ]
  },
  {
   "cell_type": "code",
   "execution_count": 24,
   "metadata": {
    "collapsed": false
   },
   "outputs": [
    {
     "data": {
      "text/html": [
       "<div>\n",
       "<table border=\"1\" class=\"dataframe\">\n",
       "  <thead>\n",
       "    <tr style=\"text-align: right;\">\n",
       "      <th></th>\n",
       "      <th>FA Rate Mean</th>\n",
       "    </tr>\n",
       "  </thead>\n",
       "  <tbody>\n",
       "    <tr>\n",
       "      <th>t2d0</th>\n",
       "      <td>0.045455</td>\n",
       "    </tr>\n",
       "    <tr>\n",
       "      <th>t2d2</th>\n",
       "      <td>0.020833</td>\n",
       "    </tr>\n",
       "    <tr>\n",
       "      <th>t2d4</th>\n",
       "      <td>0.000000</td>\n",
       "    </tr>\n",
       "    <tr>\n",
       "      <th>t4d0</th>\n",
       "      <td>0.000000</td>\n",
       "    </tr>\n",
       "    <tr>\n",
       "      <th>t4d2</th>\n",
       "      <td>0.000000</td>\n",
       "    </tr>\n",
       "    <tr>\n",
       "      <th>t4d4</th>\n",
       "      <td>0.080000</td>\n",
       "    </tr>\n",
       "  </tbody>\n",
       "</table>\n",
       "</div>"
      ],
      "text/plain": [
       "      FA Rate Mean\n",
       "t2d0      0.045455\n",
       "t2d2      0.020833\n",
       "t2d4      0.000000\n",
       "t4d0      0.000000\n",
       "t4d2      0.000000\n",
       "t4d4      0.080000"
      ]
     },
     "execution_count": 24,
     "metadata": {},
     "output_type": "execute_result"
    }
   ],
   "source": [
    "faCondMeanChart"
   ]
  },
  {
   "cell_type": "code",
   "execution_count": 25,
   "metadata": {
    "collapsed": false
   },
   "outputs": [
    {
     "data": {
      "text/html": [
       "<div>\n",
       "<table border=\"1\" class=\"dataframe\">\n",
       "  <thead>\n",
       "    <tr style=\"text-align: right;\">\n",
       "      <th></th>\n",
       "      <th>RT Mean</th>\n",
       "    </tr>\n",
       "  </thead>\n",
       "  <tbody>\n",
       "    <tr>\n",
       "      <th>t2d0</th>\n",
       "      <td>0.555115</td>\n",
       "    </tr>\n",
       "    <tr>\n",
       "      <th>t2d2</th>\n",
       "      <td>0.616381</td>\n",
       "    </tr>\n",
       "    <tr>\n",
       "      <th>t2d4</th>\n",
       "      <td>0.634771</td>\n",
       "    </tr>\n",
       "    <tr>\n",
       "      <th>t4d0</th>\n",
       "      <td>0.649531</td>\n",
       "    </tr>\n",
       "    <tr>\n",
       "      <th>t4d2</th>\n",
       "      <td>0.656960</td>\n",
       "    </tr>\n",
       "    <tr>\n",
       "      <th>t4d4</th>\n",
       "      <td>0.710298</td>\n",
       "    </tr>\n",
       "  </tbody>\n",
       "</table>\n",
       "</div>"
      ],
      "text/plain": [
       "       RT Mean\n",
       "t2d0  0.555115\n",
       "t2d2  0.616381\n",
       "t2d4  0.634771\n",
       "t4d0  0.649531\n",
       "t4d2  0.656960\n",
       "t4d4  0.710298"
      ]
     },
     "execution_count": 25,
     "metadata": {},
     "output_type": "execute_result"
    }
   ],
   "source": [
    "rtCondMeanChart"
   ]
  },
  {
   "cell_type": "code",
   "execution_count": 26,
   "metadata": {
    "collapsed": false
   },
   "outputs": [
    {
     "data": {
      "text/html": [
       "<div>\n",
       "<table border=\"1\" class=\"dataframe\">\n",
       "  <thead>\n",
       "    <tr style=\"text-align: right;\">\n",
       "      <th></th>\n",
       "      <th>d' Mean</th>\n",
       "    </tr>\n",
       "  </thead>\n",
       "  <tbody>\n",
       "    <tr>\n",
       "      <th>t2d0</th>\n",
       "      <td>3.381243</td>\n",
       "    </tr>\n",
       "    <tr>\n",
       "      <th>t2d2</th>\n",
       "      <td>2.849052</td>\n",
       "    </tr>\n",
       "    <tr>\n",
       "      <th>t2d4</th>\n",
       "      <td>2.605009</td>\n",
       "    </tr>\n",
       "    <tr>\n",
       "      <th>t4d0</th>\n",
       "      <td>2.103902</td>\n",
       "    </tr>\n",
       "    <tr>\n",
       "      <th>t4d2</th>\n",
       "      <td>2.260189</td>\n",
       "    </tr>\n",
       "    <tr>\n",
       "      <th>t4d4</th>\n",
       "      <td>1.455225</td>\n",
       "    </tr>\n",
       "  </tbody>\n",
       "</table>\n",
       "</div>"
      ],
      "text/plain": [
       "       d' Mean\n",
       "t2d0  3.381243\n",
       "t2d2  2.849052\n",
       "t2d4  2.605009\n",
       "t4d0  2.103902\n",
       "t4d2  2.260189\n",
       "t4d4  1.455225"
      ]
     },
     "execution_count": 26,
     "metadata": {},
     "output_type": "execute_result"
    }
   ],
   "source": [
    "dpCondMeanChart"
   ]
  },
  {
   "cell_type": "code",
   "execution_count": 27,
   "metadata": {
    "collapsed": false
   },
   "outputs": [],
   "source": [
    "leftHitRates = []\n",
    "rightHitRates = []\n",
    "leftdPrimes = []\n",
    "rightdPrimes = []\n",
    "\n",
    "for sheet in dataSheets:\n",
    "    leftHitRates.append(hemHitRates(sheet, 'left'))\n",
    "    rightHitRates.append(hemHitRates(sheet, 'right'))\n",
    "    leftdPrimes.append(hemdPrime(sheet, 'left'))\n",
    "    rightdPrimes.append(hemdPrime(sheet, 'right'))\n",
    "    \n",
    "leftHitRateChart = pd.DataFrame(leftHitRates, index=testRuns, columns=hemiConds.keys())\n",
    "rightHitRateChart = pd.DataFrame(rightHitRates, index=testRuns, columns=hemiConds.keys())\n",
    "leftdPrimeChart = pd.DataFrame(leftdPrimes, index=testRuns, columns=hemiConds.keys())\n",
    "rightdPrimeChart = pd.DataFrame(rightdPrimes, index=testRuns, columns=hemiConds.keys())"
   ]
  },
  {
   "cell_type": "code",
   "execution_count": 28,
   "metadata": {
    "collapsed": false
   },
   "outputs": [
    {
     "data": {
      "text/html": [
       "<div>\n",
       "<table border=\"1\" class=\"dataframe\">\n",
       "  <thead>\n",
       "    <tr style=\"text-align: right;\">\n",
       "      <th></th>\n",
       "      <th>t1d0</th>\n",
       "      <th>t1d1</th>\n",
       "      <th>t1d2</th>\n",
       "      <th>t2d0</th>\n",
       "      <th>t2d1</th>\n",
       "      <th>t2d2</th>\n",
       "    </tr>\n",
       "  </thead>\n",
       "  <tbody>\n",
       "    <tr>\n",
       "      <th>(1, 3)</th>\n",
       "      <td>0.5</td>\n",
       "      <td>0.5</td>\n",
       "      <td>0.666667</td>\n",
       "      <td>0.676471</td>\n",
       "      <td>0.631579</td>\n",
       "      <td>0.5</td>\n",
       "    </tr>\n",
       "  </tbody>\n",
       "</table>\n",
       "</div>"
      ],
      "text/plain": [
       "        t1d0  t1d1      t1d2      t2d0      t2d1  t2d2\n",
       "(1, 3)   0.5   0.5  0.666667  0.676471  0.631579   0.5"
      ]
     },
     "execution_count": 28,
     "metadata": {},
     "output_type": "execute_result"
    }
   ],
   "source": [
    "leftHitRateChart"
   ]
  },
  {
   "cell_type": "code",
   "execution_count": 29,
   "metadata": {
    "collapsed": false
   },
   "outputs": [
    {
     "data": {
      "text/html": [
       "<div>\n",
       "<table border=\"1\" class=\"dataframe\">\n",
       "  <thead>\n",
       "    <tr style=\"text-align: right;\">\n",
       "      <th></th>\n",
       "      <th>t1d0</th>\n",
       "      <th>t1d1</th>\n",
       "      <th>t1d2</th>\n",
       "      <th>t2d0</th>\n",
       "      <th>t2d1</th>\n",
       "      <th>t2d2</th>\n",
       "    </tr>\n",
       "  </thead>\n",
       "  <tbody>\n",
       "    <tr>\n",
       "      <th>(1, 3)</th>\n",
       "      <td>1.0</td>\n",
       "      <td>0.833333</td>\n",
       "      <td>0.818182</td>\n",
       "      <td>0.666667</td>\n",
       "      <td>0.692308</td>\n",
       "      <td>0.625</td>\n",
       "    </tr>\n",
       "  </tbody>\n",
       "</table>\n",
       "</div>"
      ],
      "text/plain": [
       "        t1d0      t1d1      t1d2      t2d0      t2d1   t2d2\n",
       "(1, 3)   1.0  0.833333  0.818182  0.666667  0.692308  0.625"
      ]
     },
     "execution_count": 29,
     "metadata": {},
     "output_type": "execute_result"
    }
   ],
   "source": [
    "rightHitRateChart"
   ]
  },
  {
   "cell_type": "code",
   "execution_count": 30,
   "metadata": {
    "collapsed": false
   },
   "outputs": [
    {
     "data": {
      "text/html": [
       "<div>\n",
       "<table border=\"1\" class=\"dataframe\">\n",
       "  <thead>\n",
       "    <tr style=\"text-align: right;\">\n",
       "      <th></th>\n",
       "      <th>t1d0</th>\n",
       "      <th>t1d1</th>\n",
       "      <th>t1d2</th>\n",
       "      <th>t2d0</th>\n",
       "      <th>t2d1</th>\n",
       "      <th>t2d2</th>\n",
       "    </tr>\n",
       "  </thead>\n",
       "  <tbody>\n",
       "    <tr>\n",
       "      <th>(1, 3)</th>\n",
       "      <td>1.690622</td>\n",
       "      <td>1.644854</td>\n",
       "      <td>2.23347</td>\n",
       "      <td>2.708778</td>\n",
       "      <td>2.421394</td>\n",
       "      <td>1.741291</td>\n",
       "    </tr>\n",
       "  </tbody>\n",
       "</table>\n",
       "</div>"
      ],
      "text/plain": [
       "            t1d0      t1d1     t1d2      t2d0      t2d1      t2d2\n",
       "(1, 3)  1.690622  1.644854  2.23347  2.708778  2.421394  1.741291"
      ]
     },
     "execution_count": 30,
     "metadata": {},
     "output_type": "execute_result"
    }
   ],
   "source": [
    "leftdPrimeChart"
   ]
  },
  {
   "cell_type": "code",
   "execution_count": 31,
   "metadata": {
    "collapsed": false
   },
   "outputs": [
    {
     "data": {
      "text/html": [
       "<div>\n",
       "<table border=\"1\" class=\"dataframe\">\n",
       "  <thead>\n",
       "    <tr style=\"text-align: right;\">\n",
       "      <th></th>\n",
       "      <th>t1d0</th>\n",
       "      <th>t1d1</th>\n",
       "      <th>t1d2</th>\n",
       "      <th>t2d0</th>\n",
       "      <th>t2d1</th>\n",
       "      <th>t2d2</th>\n",
       "    </tr>\n",
       "  </thead>\n",
       "  <tbody>\n",
       "    <tr>\n",
       "      <th>(1, 3)</th>\n",
       "      <td>3.289707</td>\n",
       "      <td>2.612275</td>\n",
       "      <td>2.77119</td>\n",
       "      <td>2.699933</td>\n",
       "      <td>2.288558</td>\n",
       "      <td>1.998301</td>\n",
       "    </tr>\n",
       "  </tbody>\n",
       "</table>\n",
       "</div>"
      ],
      "text/plain": [
       "            t1d0      t1d1     t1d2      t2d0      t2d1      t2d2\n",
       "(1, 3)  3.289707  2.612275  2.77119  2.699933  2.288558  1.998301"
      ]
     },
     "execution_count": 31,
     "metadata": {},
     "output_type": "execute_result"
    }
   ],
   "source": [
    "rightdPrimeChart"
   ]
  },
  {
   "cell_type": "code",
   "execution_count": 32,
   "metadata": {
    "collapsed": true
   },
   "outputs": [],
   "source": [
    "leftHitRateSubjMeans = []\n",
    "rightHitRateSubjMeans = []\n",
    "leftdPrimeSubjMeans = []\n",
    "rightdPrimeSubjMeans = []\n",
    "index = 0\n",
    "for subj in subjRunCount.keys():\n",
    "    leftHitRateSubjMeans.append(leftHitRateChart[index:index+subjRunCount[subj]].mean())\n",
    "    rightHitRateSubjMeans.append(rightHitRateChart[index:index+subjRunCount[subj]].mean())\n",
    "    leftdPrimeSubjMeans.append(leftdPrimeChart[index:index+subjRunCount[subj]].mean())\n",
    "    rightdPrimeSubjMeans.append(rightdPrimeChart[index:index+subjRunCount[subj]].mean())\n",
    "    index += subjRunCount[subj]\n",
    "\n",
    "leftHitRateSubjMeanChart = pd.DataFrame(leftHitRateSubjMeans, index=subjRunCount.keys(), columns=hemiConds.keys())\n",
    "rightHitRateSubjMeanChart = pd.DataFrame(rightHitRateSubjMeans, index=subjRunCount.keys(), columns=hemiConds.keys())\n",
    "leftdPrimeSubjMeansChart = pd.DataFrame(leftdPrimeSubjMeans, index=subjRunCount.keys(), columns=hemiConds.keys())\n",
    "rightdPrimeSubjMeansChart = pd.DataFrame(rightdPrimeSubjMeans, index=subjRunCount.keys(), columns=hemiConds.keys())"
   ]
  },
  {
   "cell_type": "code",
   "execution_count": 33,
   "metadata": {
    "collapsed": false
   },
   "outputs": [
    {
     "data": {
      "text/html": [
       "<div>\n",
       "<table border=\"1\" class=\"dataframe\">\n",
       "  <thead>\n",
       "    <tr style=\"text-align: right;\">\n",
       "      <th></th>\n",
       "      <th>t1d0</th>\n",
       "      <th>t1d1</th>\n",
       "      <th>t1d2</th>\n",
       "      <th>t2d0</th>\n",
       "      <th>t2d1</th>\n",
       "      <th>t2d2</th>\n",
       "    </tr>\n",
       "  </thead>\n",
       "  <tbody>\n",
       "    <tr>\n",
       "      <th>1</th>\n",
       "      <td>0.5</td>\n",
       "      <td>0.5</td>\n",
       "      <td>0.666667</td>\n",
       "      <td>0.676471</td>\n",
       "      <td>0.631579</td>\n",
       "      <td>0.5</td>\n",
       "    </tr>\n",
       "  </tbody>\n",
       "</table>\n",
       "</div>"
      ],
      "text/plain": [
       "   t1d0  t1d1      t1d2      t2d0      t2d1  t2d2\n",
       "1   0.5   0.5  0.666667  0.676471  0.631579   0.5"
      ]
     },
     "execution_count": 33,
     "metadata": {},
     "output_type": "execute_result"
    }
   ],
   "source": [
    "leftHitRateSubjMeanChart"
   ]
  },
  {
   "cell_type": "code",
   "execution_count": 34,
   "metadata": {
    "collapsed": false
   },
   "outputs": [
    {
     "data": {
      "text/html": [
       "<div>\n",
       "<table border=\"1\" class=\"dataframe\">\n",
       "  <thead>\n",
       "    <tr style=\"text-align: right;\">\n",
       "      <th></th>\n",
       "      <th>t1d0</th>\n",
       "      <th>t1d1</th>\n",
       "      <th>t1d2</th>\n",
       "      <th>t2d0</th>\n",
       "      <th>t2d1</th>\n",
       "      <th>t2d2</th>\n",
       "    </tr>\n",
       "  </thead>\n",
       "  <tbody>\n",
       "    <tr>\n",
       "      <th>1</th>\n",
       "      <td>1.0</td>\n",
       "      <td>0.833333</td>\n",
       "      <td>0.818182</td>\n",
       "      <td>0.666667</td>\n",
       "      <td>0.692308</td>\n",
       "      <td>0.625</td>\n",
       "    </tr>\n",
       "  </tbody>\n",
       "</table>\n",
       "</div>"
      ],
      "text/plain": [
       "   t1d0      t1d1      t1d2      t2d0      t2d1   t2d2\n",
       "1   1.0  0.833333  0.818182  0.666667  0.692308  0.625"
      ]
     },
     "execution_count": 34,
     "metadata": {},
     "output_type": "execute_result"
    }
   ],
   "source": [
    "rightHitRateSubjMeanChart"
   ]
  },
  {
   "cell_type": "code",
   "execution_count": 35,
   "metadata": {
    "collapsed": false
   },
   "outputs": [
    {
     "data": {
      "text/html": [
       "<div>\n",
       "<table border=\"1\" class=\"dataframe\">\n",
       "  <thead>\n",
       "    <tr style=\"text-align: right;\">\n",
       "      <th></th>\n",
       "      <th>t1d0</th>\n",
       "      <th>t1d1</th>\n",
       "      <th>t1d2</th>\n",
       "      <th>t2d0</th>\n",
       "      <th>t2d1</th>\n",
       "      <th>t2d2</th>\n",
       "    </tr>\n",
       "  </thead>\n",
       "  <tbody>\n",
       "    <tr>\n",
       "      <th>1</th>\n",
       "      <td>1.690622</td>\n",
       "      <td>1.644854</td>\n",
       "      <td>2.23347</td>\n",
       "      <td>2.708778</td>\n",
       "      <td>2.421394</td>\n",
       "      <td>1.741291</td>\n",
       "    </tr>\n",
       "  </tbody>\n",
       "</table>\n",
       "</div>"
      ],
      "text/plain": [
       "       t1d0      t1d1     t1d2      t2d0      t2d1      t2d2\n",
       "1  1.690622  1.644854  2.23347  2.708778  2.421394  1.741291"
      ]
     },
     "execution_count": 35,
     "metadata": {},
     "output_type": "execute_result"
    }
   ],
   "source": [
    "leftdPrimeSubjMeansChart"
   ]
  },
  {
   "cell_type": "code",
   "execution_count": 36,
   "metadata": {
    "collapsed": false
   },
   "outputs": [
    {
     "data": {
      "text/html": [
       "<div>\n",
       "<table border=\"1\" class=\"dataframe\">\n",
       "  <thead>\n",
       "    <tr style=\"text-align: right;\">\n",
       "      <th></th>\n",
       "      <th>t1d0</th>\n",
       "      <th>t1d1</th>\n",
       "      <th>t1d2</th>\n",
       "      <th>t2d0</th>\n",
       "      <th>t2d1</th>\n",
       "      <th>t2d2</th>\n",
       "    </tr>\n",
       "  </thead>\n",
       "  <tbody>\n",
       "    <tr>\n",
       "      <th>1</th>\n",
       "      <td>3.289707</td>\n",
       "      <td>2.612275</td>\n",
       "      <td>2.77119</td>\n",
       "      <td>2.699933</td>\n",
       "      <td>2.288558</td>\n",
       "      <td>1.998301</td>\n",
       "    </tr>\n",
       "  </tbody>\n",
       "</table>\n",
       "</div>"
      ],
      "text/plain": [
       "       t1d0      t1d1     t1d2      t2d0      t2d1      t2d2\n",
       "1  3.289707  2.612275  2.77119  2.699933  2.288558  1.998301"
      ]
     },
     "execution_count": 36,
     "metadata": {},
     "output_type": "execute_result"
    }
   ],
   "source": [
    "rightdPrimeSubjMeansChart"
   ]
  },
  {
   "cell_type": "code",
   "execution_count": 42,
   "metadata": {
    "collapsed": true
   },
   "outputs": [],
   "source": [
    "leftHitRateCondMeans = []\n",
    "leftHitNameArray = [\"left HitRate Mean\"]\n",
    "rightHitRateCondMeans = []\n",
    "rightHitNameArray = [\"right HitRate Mean\"]\n",
    "leftdPrimeCondMeans = []\n",
    "leftdPrimeNameArray = [\"left dPrime Mean\"]\n",
    "rightdPrimeCondMeans = []\n",
    "rightdPrimeNameArray = [\"right dPrime Mean\"]\n",
    "\n",
    "for key in hemiConds:\n",
    "    leftHitRateCondMeans.append(leftHitRateSubjMeanChart[key].mean())\n",
    "    rightHitRateCondMeans.append(rightHitRateSubjMeanChart[key].mean())\n",
    "    leftdPrimeCondMeans.append(leftdPrimeSubjMeansChart[key].mean())\n",
    "    rightdPrimeCondMeans.append(rightdPrimeSubjMeansChart[key].mean())\n",
    "    \n",
    "leftHitRateCondMeanChart = pd.DataFrame(leftHitRateCondMeans, index=hemiConds.keys(), columns=leftHitNameArray)\n",
    "rightHitRateCondMeanChart = pd.DataFrame(rightHitRateCondMeans, index=hemiConds.keys(), columns=rightHitNameArray)\n",
    "leftdPrimeCondMeanChart = pd.DataFrame(leftdPrimeCondMeans, index=hemiConds.keys(), columns=leftdPrimeNameArray)\n",
    "rightdPrimeCondMeanChart = pd.DataFrame(rightdPrimeCondMeans, index=hemiConds.keys(), columns=rightdPrimeNameArray)"
   ]
  },
  {
   "cell_type": "code",
   "execution_count": 43,
   "metadata": {
    "collapsed": false
   },
   "outputs": [
    {
     "data": {
      "text/html": [
       "<div>\n",
       "<table border=\"1\" class=\"dataframe\">\n",
       "  <thead>\n",
       "    <tr style=\"text-align: right;\">\n",
       "      <th></th>\n",
       "      <th>left HitRate Mean</th>\n",
       "    </tr>\n",
       "  </thead>\n",
       "  <tbody>\n",
       "    <tr>\n",
       "      <th>t1d0</th>\n",
       "      <td>0.500000</td>\n",
       "    </tr>\n",
       "    <tr>\n",
       "      <th>t1d1</th>\n",
       "      <td>0.500000</td>\n",
       "    </tr>\n",
       "    <tr>\n",
       "      <th>t1d2</th>\n",
       "      <td>0.666667</td>\n",
       "    </tr>\n",
       "    <tr>\n",
       "      <th>t2d0</th>\n",
       "      <td>0.676471</td>\n",
       "    </tr>\n",
       "    <tr>\n",
       "      <th>t2d1</th>\n",
       "      <td>0.631579</td>\n",
       "    </tr>\n",
       "    <tr>\n",
       "      <th>t2d2</th>\n",
       "      <td>0.500000</td>\n",
       "    </tr>\n",
       "  </tbody>\n",
       "</table>\n",
       "</div>"
      ],
      "text/plain": [
       "      left HitRate Mean\n",
       "t1d0           0.500000\n",
       "t1d1           0.500000\n",
       "t1d2           0.666667\n",
       "t2d0           0.676471\n",
       "t2d1           0.631579\n",
       "t2d2           0.500000"
      ]
     },
     "execution_count": 43,
     "metadata": {},
     "output_type": "execute_result"
    }
   ],
   "source": [
    "leftHitRateCondMeanChart"
   ]
  },
  {
   "cell_type": "code",
   "execution_count": 44,
   "metadata": {
    "collapsed": false
   },
   "outputs": [
    {
     "data": {
      "text/html": [
       "<div>\n",
       "<table border=\"1\" class=\"dataframe\">\n",
       "  <thead>\n",
       "    <tr style=\"text-align: right;\">\n",
       "      <th></th>\n",
       "      <th>right HitRate Mean</th>\n",
       "    </tr>\n",
       "  </thead>\n",
       "  <tbody>\n",
       "    <tr>\n",
       "      <th>t1d0</th>\n",
       "      <td>1.000000</td>\n",
       "    </tr>\n",
       "    <tr>\n",
       "      <th>t1d1</th>\n",
       "      <td>0.833333</td>\n",
       "    </tr>\n",
       "    <tr>\n",
       "      <th>t1d2</th>\n",
       "      <td>0.818182</td>\n",
       "    </tr>\n",
       "    <tr>\n",
       "      <th>t2d0</th>\n",
       "      <td>0.666667</td>\n",
       "    </tr>\n",
       "    <tr>\n",
       "      <th>t2d1</th>\n",
       "      <td>0.692308</td>\n",
       "    </tr>\n",
       "    <tr>\n",
       "      <th>t2d2</th>\n",
       "      <td>0.625000</td>\n",
       "    </tr>\n",
       "  </tbody>\n",
       "</table>\n",
       "</div>"
      ],
      "text/plain": [
       "      right HitRate Mean\n",
       "t1d0            1.000000\n",
       "t1d1            0.833333\n",
       "t1d2            0.818182\n",
       "t2d0            0.666667\n",
       "t2d1            0.692308\n",
       "t2d2            0.625000"
      ]
     },
     "execution_count": 44,
     "metadata": {},
     "output_type": "execute_result"
    }
   ],
   "source": [
    "rightHitRateCondMeanChart"
   ]
  },
  {
   "cell_type": "code",
   "execution_count": 45,
   "metadata": {
    "collapsed": false
   },
   "outputs": [
    {
     "data": {
      "text/html": [
       "<div>\n",
       "<table border=\"1\" class=\"dataframe\">\n",
       "  <thead>\n",
       "    <tr style=\"text-align: right;\">\n",
       "      <th></th>\n",
       "      <th>left dPrime Mean</th>\n",
       "    </tr>\n",
       "  </thead>\n",
       "  <tbody>\n",
       "    <tr>\n",
       "      <th>t1d0</th>\n",
       "      <td>1.690622</td>\n",
       "    </tr>\n",
       "    <tr>\n",
       "      <th>t1d1</th>\n",
       "      <td>1.644854</td>\n",
       "    </tr>\n",
       "    <tr>\n",
       "      <th>t1d2</th>\n",
       "      <td>2.233470</td>\n",
       "    </tr>\n",
       "    <tr>\n",
       "      <th>t2d0</th>\n",
       "      <td>2.708778</td>\n",
       "    </tr>\n",
       "    <tr>\n",
       "      <th>t2d1</th>\n",
       "      <td>2.421394</td>\n",
       "    </tr>\n",
       "    <tr>\n",
       "      <th>t2d2</th>\n",
       "      <td>1.741291</td>\n",
       "    </tr>\n",
       "  </tbody>\n",
       "</table>\n",
       "</div>"
      ],
      "text/plain": [
       "      left dPrime Mean\n",
       "t1d0          1.690622\n",
       "t1d1          1.644854\n",
       "t1d2          2.233470\n",
       "t2d0          2.708778\n",
       "t2d1          2.421394\n",
       "t2d2          1.741291"
      ]
     },
     "execution_count": 45,
     "metadata": {},
     "output_type": "execute_result"
    }
   ],
   "source": [
    "leftdPrimeCondMeanChart"
   ]
  },
  {
   "cell_type": "code",
   "execution_count": 46,
   "metadata": {
    "collapsed": false
   },
   "outputs": [
    {
     "data": {
      "text/html": [
       "<div>\n",
       "<table border=\"1\" class=\"dataframe\">\n",
       "  <thead>\n",
       "    <tr style=\"text-align: right;\">\n",
       "      <th></th>\n",
       "      <th>right dPrime Mean</th>\n",
       "    </tr>\n",
       "  </thead>\n",
       "  <tbody>\n",
       "    <tr>\n",
       "      <th>t1d0</th>\n",
       "      <td>3.289707</td>\n",
       "    </tr>\n",
       "    <tr>\n",
       "      <th>t1d1</th>\n",
       "      <td>2.612275</td>\n",
       "    </tr>\n",
       "    <tr>\n",
       "      <th>t1d2</th>\n",
       "      <td>2.771190</td>\n",
       "    </tr>\n",
       "    <tr>\n",
       "      <th>t2d0</th>\n",
       "      <td>2.699933</td>\n",
       "    </tr>\n",
       "    <tr>\n",
       "      <th>t2d1</th>\n",
       "      <td>2.288558</td>\n",
       "    </tr>\n",
       "    <tr>\n",
       "      <th>t2d2</th>\n",
       "      <td>1.998301</td>\n",
       "    </tr>\n",
       "  </tbody>\n",
       "</table>\n",
       "</div>"
      ],
      "text/plain": [
       "      right dPrime Mean\n",
       "t1d0           3.289707\n",
       "t1d1           2.612275\n",
       "t1d2           2.771190\n",
       "t2d0           2.699933\n",
       "t2d1           2.288558\n",
       "t2d2           1.998301"
      ]
     },
     "execution_count": 46,
     "metadata": {},
     "output_type": "execute_result"
    }
   ],
   "source": [
    "rightdPrimeCondMeanChart"
   ]
  },
  {
   "cell_type": "code",
   "execution_count": null,
   "metadata": {
    "collapsed": true
   },
   "outputs": [],
   "source": []
  }
 ],
 "metadata": {
  "kernelspec": {
   "display_name": "Python 2",
   "language": "python",
   "name": "python2"
  },
  "language_info": {
   "codemirror_mode": {
    "name": "ipython",
    "version": 2
   },
   "file_extension": ".py",
   "mimetype": "text/x-python",
   "name": "python",
   "nbconvert_exporter": "python",
   "pygments_lexer": "ipython2",
   "version": "2.7.11"
  }
 },
 "nbformat": 4,
 "nbformat_minor": 0
}
