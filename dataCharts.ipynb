{
 "cells": [
  {
   "cell_type": "code",
   "execution_count": 26,
   "metadata": {
    "collapsed": false
   },
   "outputs": [],
   "source": [
    "from __future__ import division\n",
    "import pandas as pd\n",
    "pd.set_option('display.mpl_style', 'default') # Make the graphs a bit prettier\n",
    "from dataMethods import *\n",
    "from collections import OrderedDict\n",
    "from scipy.stats import norm\n",
    "Z = norm.ppf"
   ]
  },
  {
   "cell_type": "code",
   "execution_count": 27,
   "metadata": {
    "collapsed": true
   },
   "outputs": [],
   "source": [
    "import os\n",
    "from os.path import expanduser"
   ]
  },
  {
   "cell_type": "code",
   "execution_count": 28,
   "metadata": {
    "collapsed": true
   },
   "outputs": [],
   "source": [
    "homeDirectory = expanduser(\"~\")\n",
    "dataDirectory = homeDirectory + os.sep + 'Google Drive/tACS_VWM_ALPHA/data/stim1/'"
   ]
  },
  {
   "cell_type": "code",
   "execution_count": 29,
   "metadata": {
    "collapsed": true
   },
   "outputs": [],
   "source": [
    "dataSheets = [dataDirectory + 's1/rundata/run1_2016_Jul_21_0956.csv', dataDirectory + 's1/runData/run3_2016_Jul_21_1044.csv']"
   ]
  },
  {
   "cell_type": "code",
   "execution_count": 30,
   "metadata": {
    "collapsed": true
   },
   "outputs": [],
   "source": [
    "testRuns = [(1,1),(2,1)]"
   ]
  },
  {
   "cell_type": "code",
   "execution_count": 31,
   "metadata": {
    "collapsed": true
   },
   "outputs": [],
   "source": [
    "subjRunCount = OrderedDict()\n",
    "for run in testRuns:\n",
    "    subjRunCount[str(run[0])] = 0\n",
    "for run in testRuns:\n",
    "    subjRunCount[str(run[0])] += 1"
   ]
  },
  {
   "cell_type": "code",
   "execution_count": 32,
   "metadata": {
    "collapsed": true
   },
   "outputs": [],
   "source": [
    "conds = OrderedDict([('t2d0', (2, 0)), ('t2d2', (2, 2)), ('t2d4', (2, 4)), ('t4d0', (4, 0)), ('t4d2', (4, 2)), ('t4d4', (4, 4))])"
   ]
  },
  {
   "cell_type": "code",
   "execution_count": 33,
   "metadata": {
    "collapsed": true
   },
   "outputs": [],
   "source": [
    "hemiConds = OrderedDict([('t1d0', (1, 0)), ('t1d1', (1, 1)), ('t1d2', (1, 2)), ('t2d0', (2, 0)), ('t2d1', (2, 1)), ('t2d2', (2, 2))])"
   ]
  },
  {
   "cell_type": "code",
   "execution_count": 34,
   "metadata": {
    "collapsed": false
   },
   "outputs": [],
   "source": [
    "Kvals = []\n",
    "hitRates = []\n",
    "faRates = []\n",
    "RTvals = []\n",
    "dPrimes = []\n",
    "\n",
    "for sheet in dataSheets:\n",
    "    Kvals.append(pashlerK(sheet)['Kvals'])\n",
    "    hitRates.append(pashlerK(sheet)['hitRates'])\n",
    "    faRates.append(pashlerK(sheet)['fAlarmRates'])\n",
    "    RTvals.append(rtCalc(sheet))\n",
    "    dPrimes.append(dprime(sheet))\n",
    "    \n",
    "kChart = pd.DataFrame(Kvals, index=testRuns, columns=conds.keys())\n",
    "hitChart = pd.DataFrame(hitRates, index=testRuns, columns=conds.keys())\n",
    "faChart = pd.DataFrame(faRates, index=testRuns, columns=conds.keys())\n",
    "rtChart = pd.DataFrame(RTvals, index=testRuns, columns=conds.keys())\n",
    "dpChart = pd.DataFrame(dPrimes, index=testRuns, columns=conds.keys())"
   ]
  },
  {
   "cell_type": "code",
   "execution_count": 40,
   "metadata": {
    "collapsed": false
   },
   "outputs": [
    {
     "data": {
      "text/html": [
       "<div>\n",
       "<table border=\"1\" class=\"dataframe\">\n",
       "  <thead>\n",
       "    <tr style=\"text-align: right;\">\n",
       "      <th></th>\n",
       "      <th>t2d0</th>\n",
       "      <th>t2d2</th>\n",
       "      <th>t2d4</th>\n",
       "      <th>t4d0</th>\n",
       "      <th>t4d2</th>\n",
       "      <th>t4d4</th>\n",
       "    </tr>\n",
       "  </thead>\n",
       "  <tbody>\n",
       "    <tr>\n",
       "      <th>(1, 1)</th>\n",
       "      <td>0.090909</td>\n",
       "      <td>0.041667</td>\n",
       "      <td>0.000000</td>\n",
       "      <td>0.32</td>\n",
       "      <td>0.0</td>\n",
       "      <td>0.320000</td>\n",
       "    </tr>\n",
       "    <tr>\n",
       "      <th>(2, 1)</th>\n",
       "      <td>1.904762</td>\n",
       "      <td>1.574468</td>\n",
       "      <td>1.454545</td>\n",
       "      <td>2.08</td>\n",
       "      <td>2.0</td>\n",
       "      <td>1.913043</td>\n",
       "    </tr>\n",
       "  </tbody>\n",
       "</table>\n",
       "</div>"
      ],
      "text/plain": [
       "            t2d0      t2d2      t2d4  t4d0  t4d2      t4d4\n",
       "(1, 1)  0.090909  0.041667  0.000000  0.32   0.0  0.320000\n",
       "(2, 1)  1.904762  1.574468  1.454545  2.08   2.0  1.913043"
      ]
     },
     "execution_count": 40,
     "metadata": {},
     "output_type": "execute_result"
    }
   ],
   "source": [
    "kChart"
   ]
  },
  {
   "cell_type": "code",
   "execution_count": 41,
   "metadata": {
    "collapsed": false
   },
   "outputs": [
    {
     "data": {
      "text/html": [
       "<div>\n",
       "<table border=\"1\" class=\"dataframe\">\n",
       "  <thead>\n",
       "    <tr style=\"text-align: right;\">\n",
       "      <th></th>\n",
       "      <th>t2d0</th>\n",
       "      <th>t2d2</th>\n",
       "      <th>t2d4</th>\n",
       "      <th>t4d0</th>\n",
       "      <th>t4d2</th>\n",
       "      <th>t4d4</th>\n",
       "    </tr>\n",
       "  </thead>\n",
       "  <tbody>\n",
       "    <tr>\n",
       "      <th>(1, 1)</th>\n",
       "      <td>0.045455</td>\n",
       "      <td>0.020833</td>\n",
       "      <td>0.000000</td>\n",
       "      <td>0.08</td>\n",
       "      <td>0.0</td>\n",
       "      <td>0.08</td>\n",
       "    </tr>\n",
       "    <tr>\n",
       "      <th>(2, 1)</th>\n",
       "      <td>0.954545</td>\n",
       "      <td>0.791667</td>\n",
       "      <td>0.727273</td>\n",
       "      <td>0.52</td>\n",
       "      <td>0.5</td>\n",
       "      <td>0.52</td>\n",
       "    </tr>\n",
       "  </tbody>\n",
       "</table>\n",
       "</div>"
      ],
      "text/plain": [
       "            t2d0      t2d2      t2d4  t4d0  t4d2  t4d4\n",
       "(1, 1)  0.045455  0.020833  0.000000  0.08   0.0  0.08\n",
       "(2, 1)  0.954545  0.791667  0.727273  0.52   0.5  0.52"
      ]
     },
     "execution_count": 41,
     "metadata": {},
     "output_type": "execute_result"
    }
   ],
   "source": [
    "hitChart"
   ]
  },
  {
   "cell_type": "code",
   "execution_count": 42,
   "metadata": {
    "collapsed": false
   },
   "outputs": [
    {
     "data": {
      "text/html": [
       "<div>\n",
       "<table border=\"1\" class=\"dataframe\">\n",
       "  <thead>\n",
       "    <tr style=\"text-align: right;\">\n",
       "      <th></th>\n",
       "      <th>t2d0</th>\n",
       "      <th>t2d2</th>\n",
       "      <th>t2d4</th>\n",
       "      <th>t4d0</th>\n",
       "      <th>t4d2</th>\n",
       "      <th>t4d4</th>\n",
       "    </tr>\n",
       "  </thead>\n",
       "  <tbody>\n",
       "    <tr>\n",
       "      <th>(1, 1)</th>\n",
       "      <td>0.000000</td>\n",
       "      <td>0.000000</td>\n",
       "      <td>0.0</td>\n",
       "      <td>0.0</td>\n",
       "      <td>0.0</td>\n",
       "      <td>0.00</td>\n",
       "    </tr>\n",
       "    <tr>\n",
       "      <th>(2, 1)</th>\n",
       "      <td>0.045455</td>\n",
       "      <td>0.020833</td>\n",
       "      <td>0.0</td>\n",
       "      <td>0.0</td>\n",
       "      <td>0.0</td>\n",
       "      <td>0.08</td>\n",
       "    </tr>\n",
       "  </tbody>\n",
       "</table>\n",
       "</div>"
      ],
      "text/plain": [
       "            t2d0      t2d2  t2d4  t4d0  t4d2  t4d4\n",
       "(1, 1)  0.000000  0.000000   0.0   0.0   0.0  0.00\n",
       "(2, 1)  0.045455  0.020833   0.0   0.0   0.0  0.08"
      ]
     },
     "execution_count": 42,
     "metadata": {},
     "output_type": "execute_result"
    }
   ],
   "source": [
    "faChart"
   ]
  },
  {
   "cell_type": "code",
   "execution_count": 43,
   "metadata": {
    "collapsed": false
   },
   "outputs": [
    {
     "data": {
      "text/html": [
       "<div>\n",
       "<table border=\"1\" class=\"dataframe\">\n",
       "  <thead>\n",
       "    <tr style=\"text-align: right;\">\n",
       "      <th></th>\n",
       "      <th>t2d0</th>\n",
       "      <th>t2d2</th>\n",
       "      <th>t2d4</th>\n",
       "      <th>t4d0</th>\n",
       "      <th>t4d2</th>\n",
       "      <th>t4d4</th>\n",
       "    </tr>\n",
       "  </thead>\n",
       "  <tbody>\n",
       "    <tr>\n",
       "      <th>(1, 1)</th>\n",
       "      <td>0.451209</td>\n",
       "      <td>0.558497</td>\n",
       "      <td>NaN</td>\n",
       "      <td>0.576339</td>\n",
       "      <td>NaN</td>\n",
       "      <td>0.676320</td>\n",
       "    </tr>\n",
       "    <tr>\n",
       "      <th>(2, 1)</th>\n",
       "      <td>0.555115</td>\n",
       "      <td>0.616381</td>\n",
       "      <td>0.634771</td>\n",
       "      <td>0.649531</td>\n",
       "      <td>0.65696</td>\n",
       "      <td>0.710298</td>\n",
       "    </tr>\n",
       "  </tbody>\n",
       "</table>\n",
       "</div>"
      ],
      "text/plain": [
       "            t2d0      t2d2      t2d4      t4d0     t4d2      t4d4\n",
       "(1, 1)  0.451209  0.558497       NaN  0.576339      NaN  0.676320\n",
       "(2, 1)  0.555115  0.616381  0.634771  0.649531  0.65696  0.710298"
      ]
     },
     "execution_count": 43,
     "metadata": {},
     "output_type": "execute_result"
    }
   ],
   "source": [
    "rtChart"
   ]
  },
  {
   "cell_type": "code",
   "execution_count": 44,
   "metadata": {
    "collapsed": false
   },
   "outputs": [
    {
     "data": {
      "text/html": [
       "<div>\n",
       "<table border=\"1\" class=\"dataframe\">\n",
       "  <thead>\n",
       "    <tr style=\"text-align: right;\">\n",
       "      <th></th>\n",
       "      <th>t2d0</th>\n",
       "      <th>t2d2</th>\n",
       "      <th>t2d4</th>\n",
       "      <th>t4d0</th>\n",
       "      <th>t4d2</th>\n",
       "      <th>t4d4</th>\n",
       "    </tr>\n",
       "  </thead>\n",
       "  <tbody>\n",
       "    <tr>\n",
       "      <th>(1, 1)</th>\n",
       "      <td>0.309802</td>\n",
       "      <td>0.274157</td>\n",
       "      <td>0.000000</td>\n",
       "      <td>0.648677</td>\n",
       "      <td>0.000000</td>\n",
       "      <td>0.648677</td>\n",
       "    </tr>\n",
       "    <tr>\n",
       "      <th>(2, 1)</th>\n",
       "      <td>3.381243</td>\n",
       "      <td>2.849052</td>\n",
       "      <td>2.605009</td>\n",
       "      <td>2.103902</td>\n",
       "      <td>2.260189</td>\n",
       "      <td>1.455225</td>\n",
       "    </tr>\n",
       "  </tbody>\n",
       "</table>\n",
       "</div>"
      ],
      "text/plain": [
       "            t2d0      t2d2      t2d4      t4d0      t4d2      t4d4\n",
       "(1, 1)  0.309802  0.274157  0.000000  0.648677  0.000000  0.648677\n",
       "(2, 1)  3.381243  2.849052  2.605009  2.103902  2.260189  1.455225"
      ]
     },
     "execution_count": 44,
     "metadata": {},
     "output_type": "execute_result"
    }
   ],
   "source": [
    "dpChart"
   ]
  },
  {
   "cell_type": "code",
   "execution_count": 35,
   "metadata": {
    "collapsed": true
   },
   "outputs": [],
   "source": [
    "kSubjMeans = []\n",
    "hitSubjMeans = []\n",
    "faSubjMeans= []\n",
    "rtSubjMeans = []\n",
    "dpSubjMeans = []\n",
    "index = 0\n",
    "for subj in subjRunCount.keys():\n",
    "    kSubjMeans.append(kChart[index:index+subjRunCount[subj]].mean())\n",
    "    hitSubjMeans.append(hitChart[index:index+subjRunCount[subj]].mean())\n",
    "    faSubjMeans.append(faChart[index:index+subjRunCount[subj]].mean())\n",
    "    rtSubjMeans.append(rtChart[index:index+subjRunCount[subj]].mean())\n",
    "    dpSubjMeans.append(dpChart[index:index+subjRunCount[subj]].mean())\n",
    "    index += subjRunCount[subj]\n",
    "\n",
    "kSubjMeanChart = pd.DataFrame(kSubjMeans, index=subjRunCount.keys(), columns=conds.keys())\n",
    "hitSubjMeanChart = pd.DataFrame(hitSubjMeans, index=subjRunCount.keys(), columns=conds.keys())\n",
    "faSubjMeanChart = pd.DataFrame(faSubjMeans, index=subjRunCount.keys(), columns=conds.keys())\n",
    "rtSubjMeanChart = pd.DataFrame(rtSubjMeans, index=subjRunCount.keys(), columns=conds.keys())\n",
    "dpSubjMeanChart = pd.DataFrame(dpSubjMeans, index=subjRunCount.keys(), columns=conds.keys())"
   ]
  },
  {
   "cell_type": "code",
   "execution_count": 45,
   "metadata": {
    "collapsed": false
   },
   "outputs": [
    {
     "data": {
      "text/html": [
       "<div>\n",
       "<table border=\"1\" class=\"dataframe\">\n",
       "  <thead>\n",
       "    <tr style=\"text-align: right;\">\n",
       "      <th></th>\n",
       "      <th>t2d0</th>\n",
       "      <th>t2d2</th>\n",
       "      <th>t2d4</th>\n",
       "      <th>t4d0</th>\n",
       "      <th>t4d2</th>\n",
       "      <th>t4d4</th>\n",
       "    </tr>\n",
       "  </thead>\n",
       "  <tbody>\n",
       "    <tr>\n",
       "      <th>1</th>\n",
       "      <td>0.090909</td>\n",
       "      <td>0.041667</td>\n",
       "      <td>0.000000</td>\n",
       "      <td>0.32</td>\n",
       "      <td>0.0</td>\n",
       "      <td>0.320000</td>\n",
       "    </tr>\n",
       "    <tr>\n",
       "      <th>2</th>\n",
       "      <td>1.904762</td>\n",
       "      <td>1.574468</td>\n",
       "      <td>1.454545</td>\n",
       "      <td>2.08</td>\n",
       "      <td>2.0</td>\n",
       "      <td>1.913043</td>\n",
       "    </tr>\n",
       "  </tbody>\n",
       "</table>\n",
       "</div>"
      ],
      "text/plain": [
       "       t2d0      t2d2      t2d4  t4d0  t4d2      t4d4\n",
       "1  0.090909  0.041667  0.000000  0.32   0.0  0.320000\n",
       "2  1.904762  1.574468  1.454545  2.08   2.0  1.913043"
      ]
     },
     "execution_count": 45,
     "metadata": {},
     "output_type": "execute_result"
    }
   ],
   "source": [
    "kSubjMeanChart"
   ]
  },
  {
   "cell_type": "code",
   "execution_count": 46,
   "metadata": {
    "collapsed": false
   },
   "outputs": [
    {
     "data": {
      "text/html": [
       "<div>\n",
       "<table border=\"1\" class=\"dataframe\">\n",
       "  <thead>\n",
       "    <tr style=\"text-align: right;\">\n",
       "      <th></th>\n",
       "      <th>t2d0</th>\n",
       "      <th>t2d2</th>\n",
       "      <th>t2d4</th>\n",
       "      <th>t4d0</th>\n",
       "      <th>t4d2</th>\n",
       "      <th>t4d4</th>\n",
       "    </tr>\n",
       "  </thead>\n",
       "  <tbody>\n",
       "    <tr>\n",
       "      <th>1</th>\n",
       "      <td>0.045455</td>\n",
       "      <td>0.020833</td>\n",
       "      <td>0.000000</td>\n",
       "      <td>0.08</td>\n",
       "      <td>0.0</td>\n",
       "      <td>0.08</td>\n",
       "    </tr>\n",
       "    <tr>\n",
       "      <th>2</th>\n",
       "      <td>0.954545</td>\n",
       "      <td>0.791667</td>\n",
       "      <td>0.727273</td>\n",
       "      <td>0.52</td>\n",
       "      <td>0.5</td>\n",
       "      <td>0.52</td>\n",
       "    </tr>\n",
       "  </tbody>\n",
       "</table>\n",
       "</div>"
      ],
      "text/plain": [
       "       t2d0      t2d2      t2d4  t4d0  t4d2  t4d4\n",
       "1  0.045455  0.020833  0.000000  0.08   0.0  0.08\n",
       "2  0.954545  0.791667  0.727273  0.52   0.5  0.52"
      ]
     },
     "execution_count": 46,
     "metadata": {},
     "output_type": "execute_result"
    }
   ],
   "source": [
    "hitSubjMeanChart"
   ]
  },
  {
   "cell_type": "code",
   "execution_count": 47,
   "metadata": {
    "collapsed": false
   },
   "outputs": [
    {
     "data": {
      "text/html": [
       "<div>\n",
       "<table border=\"1\" class=\"dataframe\">\n",
       "  <thead>\n",
       "    <tr style=\"text-align: right;\">\n",
       "      <th></th>\n",
       "      <th>t2d0</th>\n",
       "      <th>t2d2</th>\n",
       "      <th>t2d4</th>\n",
       "      <th>t4d0</th>\n",
       "      <th>t4d2</th>\n",
       "      <th>t4d4</th>\n",
       "    </tr>\n",
       "  </thead>\n",
       "  <tbody>\n",
       "    <tr>\n",
       "      <th>1</th>\n",
       "      <td>0.000000</td>\n",
       "      <td>0.000000</td>\n",
       "      <td>0.0</td>\n",
       "      <td>0.0</td>\n",
       "      <td>0.0</td>\n",
       "      <td>0.00</td>\n",
       "    </tr>\n",
       "    <tr>\n",
       "      <th>2</th>\n",
       "      <td>0.045455</td>\n",
       "      <td>0.020833</td>\n",
       "      <td>0.0</td>\n",
       "      <td>0.0</td>\n",
       "      <td>0.0</td>\n",
       "      <td>0.08</td>\n",
       "    </tr>\n",
       "  </tbody>\n",
       "</table>\n",
       "</div>"
      ],
      "text/plain": [
       "       t2d0      t2d2  t2d4  t4d0  t4d2  t4d4\n",
       "1  0.000000  0.000000   0.0   0.0   0.0  0.00\n",
       "2  0.045455  0.020833   0.0   0.0   0.0  0.08"
      ]
     },
     "execution_count": 47,
     "metadata": {},
     "output_type": "execute_result"
    }
   ],
   "source": [
    "faSubjMeanChart"
   ]
  },
  {
   "cell_type": "code",
   "execution_count": 48,
   "metadata": {
    "collapsed": false
   },
   "outputs": [
    {
     "data": {
      "text/html": [
       "<div>\n",
       "<table border=\"1\" class=\"dataframe\">\n",
       "  <thead>\n",
       "    <tr style=\"text-align: right;\">\n",
       "      <th></th>\n",
       "      <th>t2d0</th>\n",
       "      <th>t2d2</th>\n",
       "      <th>t2d4</th>\n",
       "      <th>t4d0</th>\n",
       "      <th>t4d2</th>\n",
       "      <th>t4d4</th>\n",
       "    </tr>\n",
       "  </thead>\n",
       "  <tbody>\n",
       "    <tr>\n",
       "      <th>1</th>\n",
       "      <td>0.451209</td>\n",
       "      <td>0.558497</td>\n",
       "      <td>NaN</td>\n",
       "      <td>0.576339</td>\n",
       "      <td>NaN</td>\n",
       "      <td>0.676320</td>\n",
       "    </tr>\n",
       "    <tr>\n",
       "      <th>2</th>\n",
       "      <td>0.555115</td>\n",
       "      <td>0.616381</td>\n",
       "      <td>0.634771</td>\n",
       "      <td>0.649531</td>\n",
       "      <td>0.65696</td>\n",
       "      <td>0.710298</td>\n",
       "    </tr>\n",
       "  </tbody>\n",
       "</table>\n",
       "</div>"
      ],
      "text/plain": [
       "       t2d0      t2d2      t2d4      t4d0     t4d2      t4d4\n",
       "1  0.451209  0.558497       NaN  0.576339      NaN  0.676320\n",
       "2  0.555115  0.616381  0.634771  0.649531  0.65696  0.710298"
      ]
     },
     "execution_count": 48,
     "metadata": {},
     "output_type": "execute_result"
    }
   ],
   "source": [
    "rtSubjMeanChart"
   ]
  },
  {
   "cell_type": "code",
   "execution_count": 49,
   "metadata": {
    "collapsed": false
   },
   "outputs": [
    {
     "data": {
      "text/html": [
       "<div>\n",
       "<table border=\"1\" class=\"dataframe\">\n",
       "  <thead>\n",
       "    <tr style=\"text-align: right;\">\n",
       "      <th></th>\n",
       "      <th>t2d0</th>\n",
       "      <th>t2d2</th>\n",
       "      <th>t2d4</th>\n",
       "      <th>t4d0</th>\n",
       "      <th>t4d2</th>\n",
       "      <th>t4d4</th>\n",
       "    </tr>\n",
       "  </thead>\n",
       "  <tbody>\n",
       "    <tr>\n",
       "      <th>1</th>\n",
       "      <td>0.309802</td>\n",
       "      <td>0.274157</td>\n",
       "      <td>0.000000</td>\n",
       "      <td>0.648677</td>\n",
       "      <td>0.000000</td>\n",
       "      <td>0.648677</td>\n",
       "    </tr>\n",
       "    <tr>\n",
       "      <th>2</th>\n",
       "      <td>3.381243</td>\n",
       "      <td>2.849052</td>\n",
       "      <td>2.605009</td>\n",
       "      <td>2.103902</td>\n",
       "      <td>2.260189</td>\n",
       "      <td>1.455225</td>\n",
       "    </tr>\n",
       "  </tbody>\n",
       "</table>\n",
       "</div>"
      ],
      "text/plain": [
       "       t2d0      t2d2      t2d4      t4d0      t4d2      t4d4\n",
       "1  0.309802  0.274157  0.000000  0.648677  0.000000  0.648677\n",
       "2  3.381243  2.849052  2.605009  2.103902  2.260189  1.455225"
      ]
     },
     "execution_count": 49,
     "metadata": {},
     "output_type": "execute_result"
    }
   ],
   "source": [
    "dpSubjMeanChart"
   ]
  },
  {
   "cell_type": "code",
   "execution_count": 36,
   "metadata": {
    "collapsed": true
   },
   "outputs": [],
   "source": [
    "kCondMeans = []\n",
    "kNameArray = [\"K Value Mean\"]\n",
    "hitCondMeans = []\n",
    "hitNameArray = [\"Hit Rate Mean\"]\n",
    "faCondMeans = []\n",
    "faNameArray = [\"FA Rate Mean\"]\n",
    "rtCondMeans = []\n",
    "rtNameArray = [\"RT Mean\"]\n",
    "dpCondMeans = []\n",
    "dpNameArray = [\"d' Mean\"]\n",
    "\n",
    "for key in conds:\n",
    "    kCondMeans.append(kSubjMeanChart[key].mean())\n",
    "    hitCondMeans.append(hitSubjMeanChart[key].mean())\n",
    "    faCondMeans.append(faSubjMeanChart[key].mean())\n",
    "    rtCondMeans.append(rtSubjMeanChart[key].mean())\n",
    "    dpCondMeans.append(dpSubjMeanChart[key].mean())\n",
    "    \n",
    "kCondMeanChart = pd.DataFrame(kCondMeans, index=conds.keys(), columns=kNameArray)\n",
    "hitCondMeanChart = pd.DataFrame(hitCondMeans, index=conds.keys(), columns=hitNameArray)\n",
    "faCondMeanChart = pd.DataFrame(faCondMeans, index=conds.keys(), columns=faNameArray)\n",
    "rtCondMeanChart = pd.DataFrame(rtCondMeans, index=conds.keys(), columns=rtNameArray)\n",
    "dpCondMeanChart = pd.DataFrame(dpCondMeans, index=conds.keys(), columns=dpNameArray)"
   ]
  },
  {
   "cell_type": "code",
   "execution_count": 50,
   "metadata": {
    "collapsed": false
   },
   "outputs": [
    {
     "data": {
      "text/html": [
       "<div>\n",
       "<table border=\"1\" class=\"dataframe\">\n",
       "  <thead>\n",
       "    <tr style=\"text-align: right;\">\n",
       "      <th></th>\n",
       "      <th>K Value Mean</th>\n",
       "    </tr>\n",
       "  </thead>\n",
       "  <tbody>\n",
       "    <tr>\n",
       "      <th>t2d0</th>\n",
       "      <td>0.997835</td>\n",
       "    </tr>\n",
       "    <tr>\n",
       "      <th>t2d2</th>\n",
       "      <td>0.808067</td>\n",
       "    </tr>\n",
       "    <tr>\n",
       "      <th>t2d4</th>\n",
       "      <td>0.727273</td>\n",
       "    </tr>\n",
       "    <tr>\n",
       "      <th>t4d0</th>\n",
       "      <td>1.200000</td>\n",
       "    </tr>\n",
       "    <tr>\n",
       "      <th>t4d2</th>\n",
       "      <td>1.000000</td>\n",
       "    </tr>\n",
       "    <tr>\n",
       "      <th>t4d4</th>\n",
       "      <td>1.116522</td>\n",
       "    </tr>\n",
       "  </tbody>\n",
       "</table>\n",
       "</div>"
      ],
      "text/plain": [
       "      K Value Mean\n",
       "t2d0      0.997835\n",
       "t2d2      0.808067\n",
       "t2d4      0.727273\n",
       "t4d0      1.200000\n",
       "t4d2      1.000000\n",
       "t4d4      1.116522"
      ]
     },
     "execution_count": 50,
     "metadata": {},
     "output_type": "execute_result"
    }
   ],
   "source": [
    "kCondMeanChart"
   ]
  },
  {
   "cell_type": "code",
   "execution_count": 51,
   "metadata": {
    "collapsed": false
   },
   "outputs": [
    {
     "data": {
      "text/html": [
       "<div>\n",
       "<table border=\"1\" class=\"dataframe\">\n",
       "  <thead>\n",
       "    <tr style=\"text-align: right;\">\n",
       "      <th></th>\n",
       "      <th>Hit Rate Mean</th>\n",
       "    </tr>\n",
       "  </thead>\n",
       "  <tbody>\n",
       "    <tr>\n",
       "      <th>t2d0</th>\n",
       "      <td>0.500000</td>\n",
       "    </tr>\n",
       "    <tr>\n",
       "      <th>t2d2</th>\n",
       "      <td>0.406250</td>\n",
       "    </tr>\n",
       "    <tr>\n",
       "      <th>t2d4</th>\n",
       "      <td>0.363636</td>\n",
       "    </tr>\n",
       "    <tr>\n",
       "      <th>t4d0</th>\n",
       "      <td>0.300000</td>\n",
       "    </tr>\n",
       "    <tr>\n",
       "      <th>t4d2</th>\n",
       "      <td>0.250000</td>\n",
       "    </tr>\n",
       "    <tr>\n",
       "      <th>t4d4</th>\n",
       "      <td>0.300000</td>\n",
       "    </tr>\n",
       "  </tbody>\n",
       "</table>\n",
       "</div>"
      ],
      "text/plain": [
       "      Hit Rate Mean\n",
       "t2d0       0.500000\n",
       "t2d2       0.406250\n",
       "t2d4       0.363636\n",
       "t4d0       0.300000\n",
       "t4d2       0.250000\n",
       "t4d4       0.300000"
      ]
     },
     "execution_count": 51,
     "metadata": {},
     "output_type": "execute_result"
    }
   ],
   "source": [
    "hitCondMeanChart"
   ]
  },
  {
   "cell_type": "code",
   "execution_count": 52,
   "metadata": {
    "collapsed": false
   },
   "outputs": [
    {
     "data": {
      "text/html": [
       "<div>\n",
       "<table border=\"1\" class=\"dataframe\">\n",
       "  <thead>\n",
       "    <tr style=\"text-align: right;\">\n",
       "      <th></th>\n",
       "      <th>FA Rate Mean</th>\n",
       "    </tr>\n",
       "  </thead>\n",
       "  <tbody>\n",
       "    <tr>\n",
       "      <th>t2d0</th>\n",
       "      <td>0.022727</td>\n",
       "    </tr>\n",
       "    <tr>\n",
       "      <th>t2d2</th>\n",
       "      <td>0.010417</td>\n",
       "    </tr>\n",
       "    <tr>\n",
       "      <th>t2d4</th>\n",
       "      <td>0.000000</td>\n",
       "    </tr>\n",
       "    <tr>\n",
       "      <th>t4d0</th>\n",
       "      <td>0.000000</td>\n",
       "    </tr>\n",
       "    <tr>\n",
       "      <th>t4d2</th>\n",
       "      <td>0.000000</td>\n",
       "    </tr>\n",
       "    <tr>\n",
       "      <th>t4d4</th>\n",
       "      <td>0.040000</td>\n",
       "    </tr>\n",
       "  </tbody>\n",
       "</table>\n",
       "</div>"
      ],
      "text/plain": [
       "      FA Rate Mean\n",
       "t2d0      0.022727\n",
       "t2d2      0.010417\n",
       "t2d4      0.000000\n",
       "t4d0      0.000000\n",
       "t4d2      0.000000\n",
       "t4d4      0.040000"
      ]
     },
     "execution_count": 52,
     "metadata": {},
     "output_type": "execute_result"
    }
   ],
   "source": [
    "faCondMeanChart"
   ]
  },
  {
   "cell_type": "code",
   "execution_count": 53,
   "metadata": {
    "collapsed": false
   },
   "outputs": [
    {
     "data": {
      "text/html": [
       "<div>\n",
       "<table border=\"1\" class=\"dataframe\">\n",
       "  <thead>\n",
       "    <tr style=\"text-align: right;\">\n",
       "      <th></th>\n",
       "      <th>RT Mean</th>\n",
       "    </tr>\n",
       "  </thead>\n",
       "  <tbody>\n",
       "    <tr>\n",
       "      <th>t2d0</th>\n",
       "      <td>0.503162</td>\n",
       "    </tr>\n",
       "    <tr>\n",
       "      <th>t2d2</th>\n",
       "      <td>0.587439</td>\n",
       "    </tr>\n",
       "    <tr>\n",
       "      <th>t2d4</th>\n",
       "      <td>0.634771</td>\n",
       "    </tr>\n",
       "    <tr>\n",
       "      <th>t4d0</th>\n",
       "      <td>0.612935</td>\n",
       "    </tr>\n",
       "    <tr>\n",
       "      <th>t4d2</th>\n",
       "      <td>0.656960</td>\n",
       "    </tr>\n",
       "    <tr>\n",
       "      <th>t4d4</th>\n",
       "      <td>0.693309</td>\n",
       "    </tr>\n",
       "  </tbody>\n",
       "</table>\n",
       "</div>"
      ],
      "text/plain": [
       "       RT Mean\n",
       "t2d0  0.503162\n",
       "t2d2  0.587439\n",
       "t2d4  0.634771\n",
       "t4d0  0.612935\n",
       "t4d2  0.656960\n",
       "t4d4  0.693309"
      ]
     },
     "execution_count": 53,
     "metadata": {},
     "output_type": "execute_result"
    }
   ],
   "source": [
    "rtCondMeanChart"
   ]
  },
  {
   "cell_type": "code",
   "execution_count": 54,
   "metadata": {
    "collapsed": false
   },
   "outputs": [
    {
     "data": {
      "text/html": [
       "<div>\n",
       "<table border=\"1\" class=\"dataframe\">\n",
       "  <thead>\n",
       "    <tr style=\"text-align: right;\">\n",
       "      <th></th>\n",
       "      <th>d' Mean</th>\n",
       "    </tr>\n",
       "  </thead>\n",
       "  <tbody>\n",
       "    <tr>\n",
       "      <th>t2d0</th>\n",
       "      <td>1.845523</td>\n",
       "    </tr>\n",
       "    <tr>\n",
       "      <th>t2d2</th>\n",
       "      <td>1.561605</td>\n",
       "    </tr>\n",
       "    <tr>\n",
       "      <th>t2d4</th>\n",
       "      <td>1.302504</td>\n",
       "    </tr>\n",
       "    <tr>\n",
       "      <th>t4d0</th>\n",
       "      <td>1.376290</td>\n",
       "    </tr>\n",
       "    <tr>\n",
       "      <th>t4d2</th>\n",
       "      <td>1.130094</td>\n",
       "    </tr>\n",
       "    <tr>\n",
       "      <th>t4d4</th>\n",
       "      <td>1.051951</td>\n",
       "    </tr>\n",
       "  </tbody>\n",
       "</table>\n",
       "</div>"
      ],
      "text/plain": [
       "       d' Mean\n",
       "t2d0  1.845523\n",
       "t2d2  1.561605\n",
       "t2d4  1.302504\n",
       "t4d0  1.376290\n",
       "t4d2  1.130094\n",
       "t4d4  1.051951"
      ]
     },
     "execution_count": 54,
     "metadata": {},
     "output_type": "execute_result"
    }
   ],
   "source": [
    "dpCondMeanChart"
   ]
  },
  {
   "cell_type": "code",
   "execution_count": 37,
   "metadata": {
    "collapsed": true
   },
   "outputs": [],
   "source": [
    "leftHitRates = []\n",
    "rightHitRates = []\n",
    "\n",
    "for sheet in dataSheets:\n",
    "    leftHitRates.append(leftHemHitRates(sheet))\n",
    "    rightHitRates.append(rightHemHitRates(sheet))\n",
    "    \n",
    "leftHitRateChart = pd.DataFrame(leftHitRates, index=testRuns, columns=hemiConds.keys())\n",
    "rightHitRateChart = pd.DataFrame(rightHitRates, index=testRuns, columns=hemiConds.keys())"
   ]
  },
  {
   "cell_type": "code",
   "execution_count": 55,
   "metadata": {
    "collapsed": false
   },
   "outputs": [
    {
     "data": {
      "text/html": [
       "<div>\n",
       "<table border=\"1\" class=\"dataframe\">\n",
       "  <thead>\n",
       "    <tr style=\"text-align: right;\">\n",
       "      <th></th>\n",
       "      <th>t1d0</th>\n",
       "      <th>t1d1</th>\n",
       "      <th>t1d2</th>\n",
       "      <th>t2d0</th>\n",
       "      <th>t2d1</th>\n",
       "      <th>t2d2</th>\n",
       "    </tr>\n",
       "  </thead>\n",
       "  <tbody>\n",
       "    <tr>\n",
       "      <th>(1, 1)</th>\n",
       "      <td>0.0</td>\n",
       "      <td>0.0</td>\n",
       "      <td>0.000000</td>\n",
       "      <td>0.000000</td>\n",
       "      <td>0.000000</td>\n",
       "      <td>0.0</td>\n",
       "    </tr>\n",
       "    <tr>\n",
       "      <th>(2, 1)</th>\n",
       "      <td>0.5</td>\n",
       "      <td>0.5</td>\n",
       "      <td>0.666667</td>\n",
       "      <td>0.676471</td>\n",
       "      <td>0.631579</td>\n",
       "      <td>0.5</td>\n",
       "    </tr>\n",
       "  </tbody>\n",
       "</table>\n",
       "</div>"
      ],
      "text/plain": [
       "        t1d0  t1d1      t1d2      t2d0      t2d1  t2d2\n",
       "(1, 1)   0.0   0.0  0.000000  0.000000  0.000000   0.0\n",
       "(2, 1)   0.5   0.5  0.666667  0.676471  0.631579   0.5"
      ]
     },
     "execution_count": 55,
     "metadata": {},
     "output_type": "execute_result"
    }
   ],
   "source": [
    "leftHitRateChart"
   ]
  },
  {
   "cell_type": "code",
   "execution_count": 56,
   "metadata": {
    "collapsed": false
   },
   "outputs": [
    {
     "data": {
      "text/html": [
       "<div>\n",
       "<table border=\"1\" class=\"dataframe\">\n",
       "  <thead>\n",
       "    <tr style=\"text-align: right;\">\n",
       "      <th></th>\n",
       "      <th>t1d0</th>\n",
       "      <th>t1d1</th>\n",
       "      <th>t1d2</th>\n",
       "      <th>t2d0</th>\n",
       "      <th>t2d1</th>\n",
       "      <th>t2d2</th>\n",
       "    </tr>\n",
       "  </thead>\n",
       "  <tbody>\n",
       "    <tr>\n",
       "      <th>(1, 1)</th>\n",
       "      <td>0.1</td>\n",
       "      <td>0.000000</td>\n",
       "      <td>0.000000</td>\n",
       "      <td>0.111111</td>\n",
       "      <td>0.000000</td>\n",
       "      <td>0.083333</td>\n",
       "    </tr>\n",
       "    <tr>\n",
       "      <th>(2, 1)</th>\n",
       "      <td>1.0</td>\n",
       "      <td>0.833333</td>\n",
       "      <td>0.818182</td>\n",
       "      <td>0.666667</td>\n",
       "      <td>0.692308</td>\n",
       "      <td>0.625000</td>\n",
       "    </tr>\n",
       "  </tbody>\n",
       "</table>\n",
       "</div>"
      ],
      "text/plain": [
       "        t1d0      t1d1      t1d2      t2d0      t2d1      t2d2\n",
       "(1, 1)   0.1  0.000000  0.000000  0.111111  0.000000  0.083333\n",
       "(2, 1)   1.0  0.833333  0.818182  0.666667  0.692308  0.625000"
      ]
     },
     "execution_count": 56,
     "metadata": {},
     "output_type": "execute_result"
    }
   ],
   "source": [
    "rightHitRateChart"
   ]
  },
  {
   "cell_type": "code",
   "execution_count": 38,
   "metadata": {
    "collapsed": true
   },
   "outputs": [],
   "source": [
    "leftHitRateSubjMeans = []\n",
    "rightHitRateSubjMeans = []\n",
    "index = 0\n",
    "for subj in subjRunCount.keys():\n",
    "    leftHitRateSubjMeans.append(leftHitRateChart[index:index+subjRunCount[subj]].mean())\n",
    "    rightHitRateSubjMeans.append(rightHitRateChart[index:index+subjRunCount[subj]].mean())\n",
    "    index += subjRunCount[subj]\n",
    "\n",
    "leftHitRateSubjMeanChart = pd.DataFrame(leftHitRateSubjMeans, index=subjRunCount.keys(), columns=hemiConds.keys())\n",
    "rightHitRateSubjMeanChart = pd.DataFrame(rightHitRateSubjMeans, index=subjRunCount.keys(), columns=hemiConds.keys())"
   ]
  },
  {
   "cell_type": "code",
   "execution_count": 57,
   "metadata": {
    "collapsed": false
   },
   "outputs": [
    {
     "data": {
      "text/html": [
       "<div>\n",
       "<table border=\"1\" class=\"dataframe\">\n",
       "  <thead>\n",
       "    <tr style=\"text-align: right;\">\n",
       "      <th></th>\n",
       "      <th>t1d0</th>\n",
       "      <th>t1d1</th>\n",
       "      <th>t1d2</th>\n",
       "      <th>t2d0</th>\n",
       "      <th>t2d1</th>\n",
       "      <th>t2d2</th>\n",
       "    </tr>\n",
       "  </thead>\n",
       "  <tbody>\n",
       "    <tr>\n",
       "      <th>1</th>\n",
       "      <td>0.0</td>\n",
       "      <td>0.0</td>\n",
       "      <td>0.000000</td>\n",
       "      <td>0.000000</td>\n",
       "      <td>0.000000</td>\n",
       "      <td>0.0</td>\n",
       "    </tr>\n",
       "    <tr>\n",
       "      <th>2</th>\n",
       "      <td>0.5</td>\n",
       "      <td>0.5</td>\n",
       "      <td>0.666667</td>\n",
       "      <td>0.676471</td>\n",
       "      <td>0.631579</td>\n",
       "      <td>0.5</td>\n",
       "    </tr>\n",
       "  </tbody>\n",
       "</table>\n",
       "</div>"
      ],
      "text/plain": [
       "   t1d0  t1d1      t1d2      t2d0      t2d1  t2d2\n",
       "1   0.0   0.0  0.000000  0.000000  0.000000   0.0\n",
       "2   0.5   0.5  0.666667  0.676471  0.631579   0.5"
      ]
     },
     "execution_count": 57,
     "metadata": {},
     "output_type": "execute_result"
    }
   ],
   "source": [
    "leftHitRateSubjMeanChart"
   ]
  },
  {
   "cell_type": "code",
   "execution_count": 58,
   "metadata": {
    "collapsed": false
   },
   "outputs": [
    {
     "data": {
      "text/html": [
       "<div>\n",
       "<table border=\"1\" class=\"dataframe\">\n",
       "  <thead>\n",
       "    <tr style=\"text-align: right;\">\n",
       "      <th></th>\n",
       "      <th>t1d0</th>\n",
       "      <th>t1d1</th>\n",
       "      <th>t1d2</th>\n",
       "      <th>t2d0</th>\n",
       "      <th>t2d1</th>\n",
       "      <th>t2d2</th>\n",
       "    </tr>\n",
       "  </thead>\n",
       "  <tbody>\n",
       "    <tr>\n",
       "      <th>1</th>\n",
       "      <td>0.1</td>\n",
       "      <td>0.000000</td>\n",
       "      <td>0.000000</td>\n",
       "      <td>0.111111</td>\n",
       "      <td>0.000000</td>\n",
       "      <td>0.083333</td>\n",
       "    </tr>\n",
       "    <tr>\n",
       "      <th>2</th>\n",
       "      <td>1.0</td>\n",
       "      <td>0.833333</td>\n",
       "      <td>0.818182</td>\n",
       "      <td>0.666667</td>\n",
       "      <td>0.692308</td>\n",
       "      <td>0.625000</td>\n",
       "    </tr>\n",
       "  </tbody>\n",
       "</table>\n",
       "</div>"
      ],
      "text/plain": [
       "   t1d0      t1d1      t1d2      t2d0      t2d1      t2d2\n",
       "1   0.1  0.000000  0.000000  0.111111  0.000000  0.083333\n",
       "2   1.0  0.833333  0.818182  0.666667  0.692308  0.625000"
      ]
     },
     "execution_count": 58,
     "metadata": {},
     "output_type": "execute_result"
    }
   ],
   "source": [
    "rightHitRateSubjMeanChart"
   ]
  },
  {
   "cell_type": "code",
   "execution_count": 39,
   "metadata": {
    "collapsed": true
   },
   "outputs": [],
   "source": [
    "leftHitRateCondMeans = []\n",
    "leftHitNameArray = [\"leftHitRate Mean\"]\n",
    "rightHitRateCondMeans = []\n",
    "rightHitNameArray = [\"rightHitRate Mean\"]\n",
    "\n",
    "for key in hemiConds:\n",
    "    leftHitRateCondMeans.append(leftHitRateSubjMeanChart[key].mean())\n",
    "    rightHitRateCondMeans.append(rightHitRateSubjMeanChart[key].mean())\n",
    "    \n",
    "leftHitRateCondMeanChart = pd.DataFrame(leftHitRateCondMeans, index=hemiConds.keys(), columns=leftHitNameArray)\n",
    "rightHitRateCondMeanChart = pd.DataFrame(rightHitRateCondMeans, index=hemiConds.keys(), columns=rightHitNameArray)"
   ]
  },
  {
   "cell_type": "code",
   "execution_count": 59,
   "metadata": {
    "collapsed": false
   },
   "outputs": [
    {
     "data": {
      "text/html": [
       "<div>\n",
       "<table border=\"1\" class=\"dataframe\">\n",
       "  <thead>\n",
       "    <tr style=\"text-align: right;\">\n",
       "      <th></th>\n",
       "      <th>leftHitRate Mean</th>\n",
       "    </tr>\n",
       "  </thead>\n",
       "  <tbody>\n",
       "    <tr>\n",
       "      <th>t1d0</th>\n",
       "      <td>0.250000</td>\n",
       "    </tr>\n",
       "    <tr>\n",
       "      <th>t1d1</th>\n",
       "      <td>0.250000</td>\n",
       "    </tr>\n",
       "    <tr>\n",
       "      <th>t1d2</th>\n",
       "      <td>0.333333</td>\n",
       "    </tr>\n",
       "    <tr>\n",
       "      <th>t2d0</th>\n",
       "      <td>0.338235</td>\n",
       "    </tr>\n",
       "    <tr>\n",
       "      <th>t2d1</th>\n",
       "      <td>0.315789</td>\n",
       "    </tr>\n",
       "    <tr>\n",
       "      <th>t2d2</th>\n",
       "      <td>0.250000</td>\n",
       "    </tr>\n",
       "  </tbody>\n",
       "</table>\n",
       "</div>"
      ],
      "text/plain": [
       "      leftHitRate Mean\n",
       "t1d0          0.250000\n",
       "t1d1          0.250000\n",
       "t1d2          0.333333\n",
       "t2d0          0.338235\n",
       "t2d1          0.315789\n",
       "t2d2          0.250000"
      ]
     },
     "execution_count": 59,
     "metadata": {},
     "output_type": "execute_result"
    }
   ],
   "source": [
    "leftHitRateCondMeanChart"
   ]
  },
  {
   "cell_type": "code",
   "execution_count": 60,
   "metadata": {
    "collapsed": false
   },
   "outputs": [
    {
     "data": {
      "text/html": [
       "<div>\n",
       "<table border=\"1\" class=\"dataframe\">\n",
       "  <thead>\n",
       "    <tr style=\"text-align: right;\">\n",
       "      <th></th>\n",
       "      <th>rightHitRate Mean</th>\n",
       "    </tr>\n",
       "  </thead>\n",
       "  <tbody>\n",
       "    <tr>\n",
       "      <th>t1d0</th>\n",
       "      <td>0.550000</td>\n",
       "    </tr>\n",
       "    <tr>\n",
       "      <th>t1d1</th>\n",
       "      <td>0.416667</td>\n",
       "    </tr>\n",
       "    <tr>\n",
       "      <th>t1d2</th>\n",
       "      <td>0.409091</td>\n",
       "    </tr>\n",
       "    <tr>\n",
       "      <th>t2d0</th>\n",
       "      <td>0.388889</td>\n",
       "    </tr>\n",
       "    <tr>\n",
       "      <th>t2d1</th>\n",
       "      <td>0.346154</td>\n",
       "    </tr>\n",
       "    <tr>\n",
       "      <th>t2d2</th>\n",
       "      <td>0.354167</td>\n",
       "    </tr>\n",
       "  </tbody>\n",
       "</table>\n",
       "</div>"
      ],
      "text/plain": [
       "      rightHitRate Mean\n",
       "t1d0           0.550000\n",
       "t1d1           0.416667\n",
       "t1d2           0.409091\n",
       "t2d0           0.388889\n",
       "t2d1           0.346154\n",
       "t2d2           0.354167"
      ]
     },
     "execution_count": 60,
     "metadata": {},
     "output_type": "execute_result"
    }
   ],
   "source": [
    "rightHitRateCondMeanChart"
   ]
  },
  {
   "cell_type": "code",
   "execution_count": null,
   "metadata": {
    "collapsed": true
   },
   "outputs": [],
   "source": []
  }
 ],
 "metadata": {
  "kernelspec": {
   "display_name": "Python 2",
   "language": "python",
   "name": "python2"
  },
  "language_info": {
   "codemirror_mode": {
    "name": "ipython",
    "version": 2
   },
   "file_extension": ".py",
   "mimetype": "text/x-python",
   "name": "python",
   "nbconvert_exporter": "python",
   "pygments_lexer": "ipython2",
   "version": "2.7.11"
  }
 },
 "nbformat": 4,
 "nbformat_minor": 0
}
