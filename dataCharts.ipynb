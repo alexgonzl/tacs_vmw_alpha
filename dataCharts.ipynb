{
 "cells": [
  {
   "cell_type": "code",
   "execution_count": 30,
   "metadata": {
    "collapsed": false
   },
   "outputs": [],
   "source": [
    "import sys\n",
    "sys.dont_write_bytecode = True\n",
    "from __future__ import division\n",
    "import pandas as pd\n",
    "pd.set_option('display.mpl_style', 'default') # Make the graphs a bit prettier\n",
    "from dataMethods import *\n",
    "from collections import OrderedDict"
   ]
  },
  {
   "cell_type": "code",
   "execution_count": 31,
   "metadata": {
    "collapsed": true
   },
   "outputs": [],
   "source": [
    "import os\n",
    "from os.path import expanduser"
   ]
  },
  {
   "cell_type": "code",
   "execution_count": 32,
   "metadata": {
    "collapsed": true
   },
   "outputs": [],
   "source": [
    "homeDirectory = expanduser(\"~\")\n",
    "dataDirectory = homeDirectory + os.sep + 'Google Drive/tACS_VWM_ALPHA/data/stim1/'"
   ]
  },
  {
   "cell_type": "code",
   "execution_count": 33,
   "metadata": {
    "collapsed": true
   },
   "outputs": [],
   "source": [
    "lstimDataSheets = [dataDirectory + 's2/runData/run1_2016_Jul_27_1158.csv', dataDirectory + 's3/runData/run2_2016_Jul_27_1445.csv', dataDirectory + 's4/runData/run3_2016_Jul_27_1718.csv']"
   ]
  },
  {
   "cell_type": "code",
   "execution_count": 34,
   "metadata": {
    "collapsed": true
   },
   "outputs": [],
   "source": [
    "rstimDataSheets = [dataDirectory + 's2/runData/run3_2016_Jul_27_1251.csv', dataDirectory + 's3/runData/run1_2016_Jul_27_1418.csv', dataDirectory + 's4/runData/run1_2016_Jul_27_1629.csv']"
   ]
  },
  {
   "cell_type": "code",
   "execution_count": 35,
   "metadata": {
    "collapsed": true
   },
   "outputs": [],
   "source": [
    "shamDataSheets = [dataDirectory + 's2/runData/run2_2016_Jul_27_1223.csv', dataDirectory + 's3/runData/run3_2016_Jul_27_1510.csv', dataDirectory + 's4/runData/run2_2016_Jul_27_1654.csv']"
   ]
  },
  {
   "cell_type": "code",
   "execution_count": 36,
   "metadata": {
    "collapsed": true
   },
   "outputs": [],
   "source": [
    "stimTestRuns = [(2,1),(3,2),(4,3),(2,3),(3,1),(4,1)]"
   ]
  },
  {
   "cell_type": "code",
   "execution_count": 37,
   "metadata": {
    "collapsed": true
   },
   "outputs": [],
   "source": [
    "shamTestRuns = [(2,2),(2,2),(3,3),(3,3),(4,2),(4,2)]"
   ]
  },
  {
   "cell_type": "code",
   "execution_count": 38,
   "metadata": {
    "collapsed": true
   },
   "outputs": [],
   "source": [
    "HFconds = OrderedDict([('t1d0', (1, 0)), ('t1d1', (1, 1)), ('t1d2', (1, 2)), ('t2d0', (2, 0)), ('t2d1', (2, 1)), ('t2d2', (2, 2))])"
   ]
  },
  {
   "cell_type": "code",
   "execution_count": 39,
   "metadata": {
    "collapsed": false
   },
   "outputs": [],
   "source": [
    "contraKvals = []\n",
    "ipsiKvals = []\n",
    "shamKvals = []\n",
    "contraHitRates = []\n",
    "ipsiHitRates = []\n",
    "shamHitRates = []\n",
    "contraRTs = []\n",
    "ipsiRTs = []\n",
    "shamRTs = []\n",
    "contradPrimes = []\n",
    "ipsidPrimes = []\n",
    "shamdPrimes = []\n",
    "\n",
    "for sheet in lstimDataSheets:\n",
    "    ipsiKvals.append(pashlerK(sheet, 'left')['Kvals'])\n",
    "    contraKvals.append(pashlerK(sheet, 'right')['Kvals'])\n",
    "    ipsiHitRates.append(pashlerK(sheet, 'left')['hitRates'])\n",
    "    contraHitRates.append(pashlerK(sheet, 'right')['hitRates'])\n",
    "    ipsiRTs.append(rtCalc(sheet, 'left'))\n",
    "    contraRTs.append(rtCalc(sheet, 'right'))\n",
    "    ipsidPrimes.append(dprime(sheet, 'left'))\n",
    "    contradPrimes.append(dprime(sheet, 'right'))\n",
    "for sheet in rstimDataSheets:\n",
    "    contraKvals.append(pashlerK(sheet, 'left')['Kvals'])\n",
    "    ipsiKvals.append(pashlerK(sheet, 'right')['Kvals'])\n",
    "    contraHitRates.append(pashlerK(sheet, 'left')['hitRates'])\n",
    "    ipsiHitRates.append(pashlerK(sheet, 'right')['hitRates'])\n",
    "    contraRTs.append(rtCalc(sheet, 'left'))\n",
    "    ipsiRTs.append(rtCalc(sheet, 'right'))\n",
    "    contradPrimes.append(dprime(sheet, 'left'))\n",
    "    ipsidPrimes.append(dprime(sheet, 'right'))\n",
    "for sheet in shamDataSheets:\n",
    "    shamKvals.append(pashlerK(sheet, 'left')['Kvals'])\n",
    "    shamKvals.append(pashlerK(sheet, 'right')['Kvals'])\n",
    "    shamHitRates.append(pashlerK(sheet, 'left')['hitRates'])\n",
    "    shamHitRates.append(pashlerK(sheet, 'right')['hitRates'])\n",
    "    shamRTs.append(rtCalc(sheet, 'left'))\n",
    "    shamRTs.append(rtCalc(sheet, 'right'))\n",
    "    shamdPrimes.append(dprime(sheet, 'left'))\n",
    "    shamdPrimes.append(dprime(sheet, 'right'))\n",
    "    \n",
    "contraKchart = pd.DataFrame(contraKvals, index=stimTestRuns, columns=HFconds.keys())\n",
    "ipsiKchart = pd.DataFrame(ipsiKvals, index=stimTestRuns, columns=HFconds.keys())\n",
    "shamKchart = pd.DataFrame(shamKvals, index=shamTestRuns, columns=HFconds.keys())\n",
    "contraHitRateChart = pd.DataFrame(contraHitRates, index=stimTestRuns, columns=HFconds.keys())\n",
    "ipsiHitRateChart = pd.DataFrame(ipsiHitRates, index=stimTestRuns, columns=HFconds.keys())\n",
    "shamHitRateChart = pd.DataFrame(shamHitRates, index=shamTestRuns, columns=HFconds.keys())\n",
    "contraRTchart = pd.DataFrame(contraRTs, index=stimTestRuns, columns=HFconds.keys())\n",
    "ipsiRTchart = pd.DataFrame(ipsiRTs, index=stimTestRuns, columns=HFconds.keys())\n",
    "shamRTchart = pd.DataFrame(shamRTs, index=shamTestRuns, columns=HFconds.keys())\n",
    "contradPrimeChart = pd.DataFrame(contradPrimes, index=stimTestRuns, columns=HFconds.keys())\n",
    "ipsidPrimeChart = pd.DataFrame(ipsidPrimes, index=stimTestRuns, columns=HFconds.keys())\n",
    "shamdPrimeChart = pd.DataFrame(shamdPrimes, index=shamTestRuns, columns=HFconds.keys())"
   ]
  },
  {
   "cell_type": "code",
   "execution_count": 40,
   "metadata": {
    "collapsed": false
   },
   "outputs": [
    {
     "data": {
      "text/html": [
       "<div>\n",
       "<table border=\"1\" class=\"dataframe\">\n",
       "  <thead>\n",
       "    <tr style=\"text-align: right;\">\n",
       "      <th></th>\n",
       "      <th>t1d0</th>\n",
       "      <th>t1d1</th>\n",
       "      <th>t1d2</th>\n",
       "      <th>t2d0</th>\n",
       "      <th>t2d1</th>\n",
       "      <th>t2d2</th>\n",
       "    </tr>\n",
       "  </thead>\n",
       "  <tbody>\n",
       "    <tr>\n",
       "      <th>(2, 1)</th>\n",
       "      <td>2.000000</td>\n",
       "      <td>0.588235</td>\n",
       "      <td>0.545455</td>\n",
       "      <td>3.647059</td>\n",
       "      <td>2.875000</td>\n",
       "      <td>3.314286</td>\n",
       "    </tr>\n",
       "    <tr>\n",
       "      <th>(3, 2)</th>\n",
       "      <td>1.657143</td>\n",
       "      <td>0.628571</td>\n",
       "      <td>0.166667</td>\n",
       "      <td>2.054054</td>\n",
       "      <td>1.900000</td>\n",
       "      <td>1.157895</td>\n",
       "    </tr>\n",
       "    <tr>\n",
       "      <th>(4, 3)</th>\n",
       "      <td>2.000000</td>\n",
       "      <td>0.285714</td>\n",
       "      <td>1.000000</td>\n",
       "      <td>3.538462</td>\n",
       "      <td>4.000000</td>\n",
       "      <td>3.454545</td>\n",
       "    </tr>\n",
       "    <tr>\n",
       "      <th>(2, 3)</th>\n",
       "      <td>1.454545</td>\n",
       "      <td>2.000000</td>\n",
       "      <td>1.707317</td>\n",
       "      <td>3.666667</td>\n",
       "      <td>2.545455</td>\n",
       "      <td>2.941176</td>\n",
       "    </tr>\n",
       "    <tr>\n",
       "      <th>(3, 1)</th>\n",
       "      <td>1.419355</td>\n",
       "      <td>1.121951</td>\n",
       "      <td>2.000000</td>\n",
       "      <td>0.968421</td>\n",
       "      <td>1.750427</td>\n",
       "      <td>1.217105</td>\n",
       "    </tr>\n",
       "    <tr>\n",
       "      <th>(4, 1)</th>\n",
       "      <td>2.000000</td>\n",
       "      <td>2.000000</td>\n",
       "      <td>2.000000</td>\n",
       "      <td>4.000000</td>\n",
       "      <td>4.000000</td>\n",
       "      <td>3.428571</td>\n",
       "    </tr>\n",
       "  </tbody>\n",
       "</table>\n",
       "</div>"
      ],
      "text/plain": [
       "            t1d0      t1d1      t1d2      t2d0      t2d1      t2d2\n",
       "(2, 1)  2.000000  0.588235  0.545455  3.647059  2.875000  3.314286\n",
       "(3, 2)  1.657143  0.628571  0.166667  2.054054  1.900000  1.157895\n",
       "(4, 3)  2.000000  0.285714  1.000000  3.538462  4.000000  3.454545\n",
       "(2, 3)  1.454545  2.000000  1.707317  3.666667  2.545455  2.941176\n",
       "(3, 1)  1.419355  1.121951  2.000000  0.968421  1.750427  1.217105\n",
       "(4, 1)  2.000000  2.000000  2.000000  4.000000  4.000000  3.428571"
      ]
     },
     "execution_count": 40,
     "metadata": {},
     "output_type": "execute_result"
    }
   ],
   "source": [
    "contraKchart"
   ]
  },
  {
   "cell_type": "code",
   "execution_count": 41,
   "metadata": {
    "collapsed": false
   },
   "outputs": [
    {
     "data": {
      "text/html": [
       "<div>\n",
       "<table border=\"1\" class=\"dataframe\">\n",
       "  <thead>\n",
       "    <tr style=\"text-align: right;\">\n",
       "      <th></th>\n",
       "      <th>t1d0</th>\n",
       "      <th>t1d1</th>\n",
       "      <th>t1d2</th>\n",
       "      <th>t2d0</th>\n",
       "      <th>t2d1</th>\n",
       "      <th>t2d2</th>\n",
       "    </tr>\n",
       "  </thead>\n",
       "  <tbody>\n",
       "    <tr>\n",
       "      <th>(2, 1)</th>\n",
       "      <td>1.571429</td>\n",
       "      <td>1.538462</td>\n",
       "      <td>1.692308</td>\n",
       "      <td>2.451613</td>\n",
       "      <td>3.272727</td>\n",
       "      <td>2.545455</td>\n",
       "    </tr>\n",
       "    <tr>\n",
       "      <th>(3, 2)</th>\n",
       "      <td>1.470588</td>\n",
       "      <td>1.550000</td>\n",
       "      <td>1.441860</td>\n",
       "      <td>1.666667</td>\n",
       "      <td>1.538462</td>\n",
       "      <td>2.243902</td>\n",
       "    </tr>\n",
       "    <tr>\n",
       "      <th>(4, 3)</th>\n",
       "      <td>2.000000</td>\n",
       "      <td>2.000000</td>\n",
       "      <td>1.777778</td>\n",
       "      <td>4.000000</td>\n",
       "      <td>3.500000</td>\n",
       "      <td>4.000000</td>\n",
       "    </tr>\n",
       "    <tr>\n",
       "      <th>(2, 3)</th>\n",
       "      <td>1.647059</td>\n",
       "      <td>0.258065</td>\n",
       "      <td>0.181818</td>\n",
       "      <td>2.545455</td>\n",
       "      <td>2.545455</td>\n",
       "      <td>2.545455</td>\n",
       "    </tr>\n",
       "    <tr>\n",
       "      <th>(3, 1)</th>\n",
       "      <td>1.818182</td>\n",
       "      <td>0.578947</td>\n",
       "      <td>0.125000</td>\n",
       "      <td>2.280488</td>\n",
       "      <td>1.202703</td>\n",
       "      <td>1.760000</td>\n",
       "    </tr>\n",
       "    <tr>\n",
       "      <th>(4, 1)</th>\n",
       "      <td>2.000000</td>\n",
       "      <td>0.384615</td>\n",
       "      <td>0.320000</td>\n",
       "      <td>3.076923</td>\n",
       "      <td>2.500000</td>\n",
       "      <td>3.428571</td>\n",
       "    </tr>\n",
       "  </tbody>\n",
       "</table>\n",
       "</div>"
      ],
      "text/plain": [
       "            t1d0      t1d1      t1d2      t2d0      t2d1      t2d2\n",
       "(2, 1)  1.571429  1.538462  1.692308  2.451613  3.272727  2.545455\n",
       "(3, 2)  1.470588  1.550000  1.441860  1.666667  1.538462  2.243902\n",
       "(4, 3)  2.000000  2.000000  1.777778  4.000000  3.500000  4.000000\n",
       "(2, 3)  1.647059  0.258065  0.181818  2.545455  2.545455  2.545455\n",
       "(3, 1)  1.818182  0.578947  0.125000  2.280488  1.202703  1.760000\n",
       "(4, 1)  2.000000  0.384615  0.320000  3.076923  2.500000  3.428571"
      ]
     },
     "execution_count": 41,
     "metadata": {},
     "output_type": "execute_result"
    }
   ],
   "source": [
    "ipsiKchart"
   ]
  },
  {
   "cell_type": "code",
   "execution_count": 42,
   "metadata": {
    "collapsed": false
   },
   "outputs": [
    {
     "data": {
      "text/html": [
       "<div>\n",
       "<table border=\"1\" class=\"dataframe\">\n",
       "  <thead>\n",
       "    <tr style=\"text-align: right;\">\n",
       "      <th></th>\n",
       "      <th>t1d0</th>\n",
       "      <th>t1d1</th>\n",
       "      <th>t1d2</th>\n",
       "      <th>t2d0</th>\n",
       "      <th>t2d1</th>\n",
       "      <th>t2d2</th>\n",
       "    </tr>\n",
       "  </thead>\n",
       "  <tbody>\n",
       "    <tr>\n",
       "      <th>(2, 2)</th>\n",
       "      <td>1.485714</td>\n",
       "      <td>2.000000</td>\n",
       "      <td>1.850000</td>\n",
       "      <td>2.875000</td>\n",
       "      <td>3.294118</td>\n",
       "      <td>3.657143</td>\n",
       "    </tr>\n",
       "    <tr>\n",
       "      <th>(2, 2)</th>\n",
       "      <td>1.294118</td>\n",
       "      <td>0.500000</td>\n",
       "      <td>0.545455</td>\n",
       "      <td>3.272727</td>\n",
       "      <td>2.909091</td>\n",
       "      <td>2.500000</td>\n",
       "    </tr>\n",
       "    <tr>\n",
       "      <th>(3, 3)</th>\n",
       "      <td>0.909091</td>\n",
       "      <td>1.250000</td>\n",
       "      <td>1.400000</td>\n",
       "      <td>2.054054</td>\n",
       "      <td>1.666667</td>\n",
       "      <td>2.378378</td>\n",
       "    </tr>\n",
       "    <tr>\n",
       "      <th>(3, 3)</th>\n",
       "      <td>1.842105</td>\n",
       "      <td>0.702703</td>\n",
       "      <td>0.666667</td>\n",
       "      <td>2.421053</td>\n",
       "      <td>2.769231</td>\n",
       "      <td>2.000000</td>\n",
       "    </tr>\n",
       "    <tr>\n",
       "      <th>(4, 2)</th>\n",
       "      <td>2.000000</td>\n",
       "      <td>2.000000</td>\n",
       "      <td>2.000000</td>\n",
       "      <td>3.538462</td>\n",
       "      <td>3.520000</td>\n",
       "      <td>4.000000</td>\n",
       "    </tr>\n",
       "    <tr>\n",
       "      <th>(4, 2)</th>\n",
       "      <td>2.000000</td>\n",
       "      <td>1.333333</td>\n",
       "      <td>0.090909</td>\n",
       "      <td>3.040000</td>\n",
       "      <td>4.000000</td>\n",
       "      <td>3.520000</td>\n",
       "    </tr>\n",
       "  </tbody>\n",
       "</table>\n",
       "</div>"
      ],
      "text/plain": [
       "            t1d0      t1d1      t1d2      t2d0      t2d1      t2d2\n",
       "(2, 2)  1.485714  2.000000  1.850000  2.875000  3.294118  3.657143\n",
       "(2, 2)  1.294118  0.500000  0.545455  3.272727  2.909091  2.500000\n",
       "(3, 3)  0.909091  1.250000  1.400000  2.054054  1.666667  2.378378\n",
       "(3, 3)  1.842105  0.702703  0.666667  2.421053  2.769231  2.000000\n",
       "(4, 2)  2.000000  2.000000  2.000000  3.538462  3.520000  4.000000\n",
       "(4, 2)  2.000000  1.333333  0.090909  3.040000  4.000000  3.520000"
      ]
     },
     "execution_count": 42,
     "metadata": {},
     "output_type": "execute_result"
    }
   ],
   "source": [
    "shamKchart"
   ]
  },
  {
   "cell_type": "code",
   "execution_count": 43,
   "metadata": {
    "collapsed": false
   },
   "outputs": [
    {
     "data": {
      "text/html": [
       "<div>\n",
       "<table border=\"1\" class=\"dataframe\">\n",
       "  <thead>\n",
       "    <tr style=\"text-align: right;\">\n",
       "      <th></th>\n",
       "      <th>t1d0</th>\n",
       "      <th>t1d1</th>\n",
       "      <th>t1d2</th>\n",
       "      <th>t2d0</th>\n",
       "      <th>t2d1</th>\n",
       "      <th>t2d2</th>\n",
       "    </tr>\n",
       "  </thead>\n",
       "  <tbody>\n",
       "    <tr>\n",
       "      <th>(2, 1)</th>\n",
       "      <td>0.549395</td>\n",
       "      <td>0.476365</td>\n",
       "      <td>0.530627</td>\n",
       "      <td>0.522523</td>\n",
       "      <td>0.615508</td>\n",
       "      <td>0.556134</td>\n",
       "    </tr>\n",
       "    <tr>\n",
       "      <th>(3, 2)</th>\n",
       "      <td>0.501507</td>\n",
       "      <td>0.497227</td>\n",
       "      <td>0.471510</td>\n",
       "      <td>0.522980</td>\n",
       "      <td>0.531766</td>\n",
       "      <td>0.530065</td>\n",
       "    </tr>\n",
       "    <tr>\n",
       "      <th>(4, 3)</th>\n",
       "      <td>0.360777</td>\n",
       "      <td>0.369664</td>\n",
       "      <td>0.387509</td>\n",
       "      <td>0.403553</td>\n",
       "      <td>0.365884</td>\n",
       "      <td>0.411343</td>\n",
       "    </tr>\n",
       "    <tr>\n",
       "      <th>(2, 3)</th>\n",
       "      <td>0.533409</td>\n",
       "      <td>0.513897</td>\n",
       "      <td>0.616967</td>\n",
       "      <td>0.525848</td>\n",
       "      <td>0.500040</td>\n",
       "      <td>0.564294</td>\n",
       "    </tr>\n",
       "    <tr>\n",
       "      <th>(3, 1)</th>\n",
       "      <td>0.593255</td>\n",
       "      <td>0.556508</td>\n",
       "      <td>0.548361</td>\n",
       "      <td>0.562540</td>\n",
       "      <td>0.661932</td>\n",
       "      <td>0.599065</td>\n",
       "    </tr>\n",
       "    <tr>\n",
       "      <th>(4, 1)</th>\n",
       "      <td>0.392025</td>\n",
       "      <td>0.396121</td>\n",
       "      <td>0.417963</td>\n",
       "      <td>0.442011</td>\n",
       "      <td>0.414936</td>\n",
       "      <td>0.416871</td>\n",
       "    </tr>\n",
       "  </tbody>\n",
       "</table>\n",
       "</div>"
      ],
      "text/plain": [
       "            t1d0      t1d1      t1d2      t2d0      t2d1      t2d2\n",
       "(2, 1)  0.549395  0.476365  0.530627  0.522523  0.615508  0.556134\n",
       "(3, 2)  0.501507  0.497227  0.471510  0.522980  0.531766  0.530065\n",
       "(4, 3)  0.360777  0.369664  0.387509  0.403553  0.365884  0.411343\n",
       "(2, 3)  0.533409  0.513897  0.616967  0.525848  0.500040  0.564294\n",
       "(3, 1)  0.593255  0.556508  0.548361  0.562540  0.661932  0.599065\n",
       "(4, 1)  0.392025  0.396121  0.417963  0.442011  0.414936  0.416871"
      ]
     },
     "execution_count": 43,
     "metadata": {},
     "output_type": "execute_result"
    }
   ],
   "source": [
    "contraRTchart"
   ]
  },
  {
   "cell_type": "code",
   "execution_count": 44,
   "metadata": {
    "collapsed": false
   },
   "outputs": [
    {
     "data": {
      "text/html": [
       "<div>\n",
       "<table border=\"1\" class=\"dataframe\">\n",
       "  <thead>\n",
       "    <tr style=\"text-align: right;\">\n",
       "      <th></th>\n",
       "      <th>t1d0</th>\n",
       "      <th>t1d1</th>\n",
       "      <th>t1d2</th>\n",
       "      <th>t2d0</th>\n",
       "      <th>t2d1</th>\n",
       "      <th>t2d2</th>\n",
       "    </tr>\n",
       "  </thead>\n",
       "  <tbody>\n",
       "    <tr>\n",
       "      <th>(2, 1)</th>\n",
       "      <td>0.538306</td>\n",
       "      <td>0.507774</td>\n",
       "      <td>0.571573</td>\n",
       "      <td>0.569511</td>\n",
       "      <td>0.496595</td>\n",
       "      <td>0.533248</td>\n",
       "    </tr>\n",
       "    <tr>\n",
       "      <th>(3, 2)</th>\n",
       "      <td>0.516880</td>\n",
       "      <td>0.482182</td>\n",
       "      <td>0.550073</td>\n",
       "      <td>0.512474</td>\n",
       "      <td>0.582809</td>\n",
       "      <td>0.554728</td>\n",
       "    </tr>\n",
       "    <tr>\n",
       "      <th>(4, 3)</th>\n",
       "      <td>0.373224</td>\n",
       "      <td>0.352881</td>\n",
       "      <td>0.365770</td>\n",
       "      <td>0.379487</td>\n",
       "      <td>0.364753</td>\n",
       "      <td>0.356567</td>\n",
       "    </tr>\n",
       "    <tr>\n",
       "      <th>(2, 3)</th>\n",
       "      <td>0.525848</td>\n",
       "      <td>0.491824</td>\n",
       "      <td>0.473583</td>\n",
       "      <td>0.548667</td>\n",
       "      <td>0.505532</td>\n",
       "      <td>0.511135</td>\n",
       "    </tr>\n",
       "    <tr>\n",
       "      <th>(3, 1)</th>\n",
       "      <td>0.541903</td>\n",
       "      <td>0.541846</td>\n",
       "      <td>0.506238</td>\n",
       "      <td>0.659849</td>\n",
       "      <td>0.663544</td>\n",
       "      <td>0.603514</td>\n",
       "    </tr>\n",
       "    <tr>\n",
       "      <th>(4, 1)</th>\n",
       "      <td>0.416005</td>\n",
       "      <td>0.412483</td>\n",
       "      <td>0.429129</td>\n",
       "      <td>0.412005</td>\n",
       "      <td>0.429529</td>\n",
       "      <td>0.459177</td>\n",
       "    </tr>\n",
       "  </tbody>\n",
       "</table>\n",
       "</div>"
      ],
      "text/plain": [
       "            t1d0      t1d1      t1d2      t2d0      t2d1      t2d2\n",
       "(2, 1)  0.538306  0.507774  0.571573  0.569511  0.496595  0.533248\n",
       "(3, 2)  0.516880  0.482182  0.550073  0.512474  0.582809  0.554728\n",
       "(4, 3)  0.373224  0.352881  0.365770  0.379487  0.364753  0.356567\n",
       "(2, 3)  0.525848  0.491824  0.473583  0.548667  0.505532  0.511135\n",
       "(3, 1)  0.541903  0.541846  0.506238  0.659849  0.663544  0.603514\n",
       "(4, 1)  0.416005  0.412483  0.429129  0.412005  0.429529  0.459177"
      ]
     },
     "execution_count": 44,
     "metadata": {},
     "output_type": "execute_result"
    }
   ],
   "source": [
    "ipsiRTchart"
   ]
  },
  {
   "cell_type": "code",
   "execution_count": 45,
   "metadata": {
    "collapsed": false
   },
   "outputs": [
    {
     "data": {
      "text/html": [
       "<div>\n",
       "<table border=\"1\" class=\"dataframe\">\n",
       "  <thead>\n",
       "    <tr style=\"text-align: right;\">\n",
       "      <th></th>\n",
       "      <th>t1d0</th>\n",
       "      <th>t1d1</th>\n",
       "      <th>t1d2</th>\n",
       "      <th>t2d0</th>\n",
       "      <th>t2d1</th>\n",
       "      <th>t2d2</th>\n",
       "    </tr>\n",
       "  </thead>\n",
       "  <tbody>\n",
       "    <tr>\n",
       "      <th>(2, 2)</th>\n",
       "      <td>0.507864</td>\n",
       "      <td>0.550413</td>\n",
       "      <td>0.542378</td>\n",
       "      <td>0.575128</td>\n",
       "      <td>0.533554</td>\n",
       "      <td>0.552483</td>\n",
       "    </tr>\n",
       "    <tr>\n",
       "      <th>(2, 2)</th>\n",
       "      <td>0.495854</td>\n",
       "      <td>0.482208</td>\n",
       "      <td>0.499217</td>\n",
       "      <td>0.508517</td>\n",
       "      <td>0.532185</td>\n",
       "      <td>0.545768</td>\n",
       "    </tr>\n",
       "    <tr>\n",
       "      <th>(3, 3)</th>\n",
       "      <td>0.493098</td>\n",
       "      <td>0.472535</td>\n",
       "      <td>0.533467</td>\n",
       "      <td>0.511330</td>\n",
       "      <td>0.523633</td>\n",
       "      <td>0.547597</td>\n",
       "    </tr>\n",
       "    <tr>\n",
       "      <th>(3, 3)</th>\n",
       "      <td>0.484848</td>\n",
       "      <td>0.482644</td>\n",
       "      <td>0.503605</td>\n",
       "      <td>0.557469</td>\n",
       "      <td>0.486092</td>\n",
       "      <td>0.531496</td>\n",
       "    </tr>\n",
       "    <tr>\n",
       "      <th>(4, 2)</th>\n",
       "      <td>0.362774</td>\n",
       "      <td>0.383773</td>\n",
       "      <td>0.369028</td>\n",
       "      <td>0.389512</td>\n",
       "      <td>0.378034</td>\n",
       "      <td>0.378323</td>\n",
       "    </tr>\n",
       "    <tr>\n",
       "      <th>(4, 2)</th>\n",
       "      <td>0.429494</td>\n",
       "      <td>0.425633</td>\n",
       "      <td>0.419902</td>\n",
       "      <td>0.451410</td>\n",
       "      <td>0.412757</td>\n",
       "      <td>0.371311</td>\n",
       "    </tr>\n",
       "  </tbody>\n",
       "</table>\n",
       "</div>"
      ],
      "text/plain": [
       "            t1d0      t1d1      t1d2      t2d0      t2d1      t2d2\n",
       "(2, 2)  0.507864  0.550413  0.542378  0.575128  0.533554  0.552483\n",
       "(2, 2)  0.495854  0.482208  0.499217  0.508517  0.532185  0.545768\n",
       "(3, 3)  0.493098  0.472535  0.533467  0.511330  0.523633  0.547597\n",
       "(3, 3)  0.484848  0.482644  0.503605  0.557469  0.486092  0.531496\n",
       "(4, 2)  0.362774  0.383773  0.369028  0.389512  0.378034  0.378323\n",
       "(4, 2)  0.429494  0.425633  0.419902  0.451410  0.412757  0.371311"
      ]
     },
     "execution_count": 45,
     "metadata": {},
     "output_type": "execute_result"
    }
   ],
   "source": [
    "shamRTchart"
   ]
  },
  {
   "cell_type": "code",
   "execution_count": 46,
   "metadata": {
    "collapsed": false
   },
   "outputs": [
    {
     "data": {
      "text/html": [
       "<div>\n",
       "<table border=\"1\" class=\"dataframe\">\n",
       "  <thead>\n",
       "    <tr style=\"text-align: right;\">\n",
       "      <th></th>\n",
       "      <th>t1d0</th>\n",
       "      <th>t1d1</th>\n",
       "      <th>t1d2</th>\n",
       "      <th>t2d0</th>\n",
       "      <th>t2d1</th>\n",
       "      <th>t2d2</th>\n",
       "    </tr>\n",
       "  </thead>\n",
       "  <tbody>\n",
       "    <tr>\n",
       "      <th>(2, 1)</th>\n",
       "      <td>2.181371</td>\n",
       "      <td>0.548522</td>\n",
       "      <td>0.488776</td>\n",
       "      <td>2.082643</td>\n",
       "      <td>1.317874</td>\n",
       "      <td>1.760644</td>\n",
       "    </tr>\n",
       "    <tr>\n",
       "      <th>(3, 2)</th>\n",
       "      <td>1.760644</td>\n",
       "      <td>0.610295</td>\n",
       "      <td>0.185713</td>\n",
       "      <td>1.060233</td>\n",
       "      <td>1.124732</td>\n",
       "      <td>0.654907</td>\n",
       "    </tr>\n",
       "    <tr>\n",
       "      <th>(4, 3)</th>\n",
       "      <td>2.126879</td>\n",
       "      <td>0.161329</td>\n",
       "      <td>0.674490</td>\n",
       "      <td>1.638754</td>\n",
       "      <td>1.914977</td>\n",
       "      <td>1.429487</td>\n",
       "    </tr>\n",
       "    <tr>\n",
       "      <th>(2, 3)</th>\n",
       "      <td>1.375923</td>\n",
       "      <td>2.830153</td>\n",
       "      <td>2.204822</td>\n",
       "      <td>2.208610</td>\n",
       "      <td>1.163266</td>\n",
       "      <td>1.435669</td>\n",
       "    </tr>\n",
       "    <tr>\n",
       "      <th>(3, 1)</th>\n",
       "      <td>1.334325</td>\n",
       "      <td>1.373112</td>\n",
       "      <td>2.704353</td>\n",
       "      <td>0.558871</td>\n",
       "      <td>1.036977</td>\n",
       "      <td>0.715110</td>\n",
       "    </tr>\n",
       "    <tr>\n",
       "      <th>(4, 1)</th>\n",
       "      <td>2.181371</td>\n",
       "      <td>2.351508</td>\n",
       "      <td>2.293459</td>\n",
       "      <td>2.073160</td>\n",
       "      <td>2.020043</td>\n",
       "      <td>1.376810</td>\n",
       "    </tr>\n",
       "  </tbody>\n",
       "</table>\n",
       "</div>"
      ],
      "text/plain": [
       "            t1d0      t1d1      t1d2      t2d0      t2d1      t2d2\n",
       "(2, 1)  2.181371  0.548522  0.488776  2.082643  1.317874  1.760644\n",
       "(3, 2)  1.760644  0.610295  0.185713  1.060233  1.124732  0.654907\n",
       "(4, 3)  2.126879  0.161329  0.674490  1.638754  1.914977  1.429487\n",
       "(2, 3)  1.375923  2.830153  2.204822  2.208610  1.163266  1.435669\n",
       "(3, 1)  1.334325  1.373112  2.704353  0.558871  1.036977  0.715110\n",
       "(4, 1)  2.181371  2.351508  2.293459  2.073160  2.020043  1.376810"
      ]
     },
     "execution_count": 46,
     "metadata": {},
     "output_type": "execute_result"
    }
   ],
   "source": [
    "contradPrimeChart"
   ]
  },
  {
   "cell_type": "code",
   "execution_count": 47,
   "metadata": {
    "collapsed": false
   },
   "outputs": [
    {
     "data": {
      "text/html": [
       "<div>\n",
       "<table border=\"1\" class=\"dataframe\">\n",
       "  <thead>\n",
       "    <tr style=\"text-align: right;\">\n",
       "      <th></th>\n",
       "      <th>t1d0</th>\n",
       "      <th>t1d1</th>\n",
       "      <th>t1d2</th>\n",
       "      <th>t2d0</th>\n",
       "      <th>t2d1</th>\n",
       "      <th>t2d2</th>\n",
       "    </tr>\n",
       "  </thead>\n",
       "  <tbody>\n",
       "    <tr>\n",
       "      <th>(2, 1)</th>\n",
       "      <td>1.360778</td>\n",
       "      <td>1.774293</td>\n",
       "      <td>2.037496</td>\n",
       "      <td>1.048585</td>\n",
       "      <td>1.639126</td>\n",
       "      <td>1.163266</td>\n",
       "    </tr>\n",
       "    <tr>\n",
       "      <th>(3, 2)</th>\n",
       "      <td>1.435669</td>\n",
       "      <td>1.854568</td>\n",
       "      <td>1.932651</td>\n",
       "      <td>0.831800</td>\n",
       "      <td>0.887147</td>\n",
       "      <td>1.373112</td>\n",
       "    </tr>\n",
       "    <tr>\n",
       "      <th>(4, 3)</th>\n",
       "      <td>2.126879</td>\n",
       "      <td>2.020043</td>\n",
       "      <td>1.691431</td>\n",
       "      <td>2.020043</td>\n",
       "      <td>1.534121</td>\n",
       "      <td>1.810487</td>\n",
       "    </tr>\n",
       "    <tr>\n",
       "      <th>(2, 3)</th>\n",
       "      <td>1.698872</td>\n",
       "      <td>0.216785</td>\n",
       "      <td>0.170137</td>\n",
       "      <td>1.163266</td>\n",
       "      <td>1.163266</td>\n",
       "      <td>1.163266</td>\n",
       "    </tr>\n",
       "    <tr>\n",
       "      <th>(3, 1)</th>\n",
       "      <td>2.124012</td>\n",
       "      <td>0.654907</td>\n",
       "      <td>0.096036</td>\n",
       "      <td>1.456164</td>\n",
       "      <td>0.699944</td>\n",
       "      <td>1.051073</td>\n",
       "    </tr>\n",
       "    <tr>\n",
       "      <th>(4, 1)</th>\n",
       "      <td>2.181371</td>\n",
       "      <td>0.261944</td>\n",
       "      <td>0.209556</td>\n",
       "      <td>1.254983</td>\n",
       "      <td>0.887147</td>\n",
       "      <td>1.376810</td>\n",
       "    </tr>\n",
       "  </tbody>\n",
       "</table>\n",
       "</div>"
      ],
      "text/plain": [
       "            t1d0      t1d1      t1d2      t2d0      t2d1      t2d2\n",
       "(2, 1)  1.360778  1.774293  2.037496  1.048585  1.639126  1.163266\n",
       "(3, 2)  1.435669  1.854568  1.932651  0.831800  0.887147  1.373112\n",
       "(4, 3)  2.126879  2.020043  1.691431  2.020043  1.534121  1.810487\n",
       "(2, 3)  1.698872  0.216785  0.170137  1.163266  1.163266  1.163266\n",
       "(3, 1)  2.124012  0.654907  0.096036  1.456164  0.699944  1.051073\n",
       "(4, 1)  2.181371  0.261944  0.209556  1.254983  0.887147  1.376810"
      ]
     },
     "execution_count": 47,
     "metadata": {},
     "output_type": "execute_result"
    }
   ],
   "source": [
    "ipsidPrimeChart"
   ]
  },
  {
   "cell_type": "code",
   "execution_count": 48,
   "metadata": {
    "collapsed": false
   },
   "outputs": [
    {
     "data": {
      "text/html": [
       "<div>\n",
       "<table border=\"1\" class=\"dataframe\">\n",
       "  <thead>\n",
       "    <tr style=\"text-align: right;\">\n",
       "      <th></th>\n",
       "      <th>t1d0</th>\n",
       "      <th>t1d1</th>\n",
       "      <th>t1d2</th>\n",
       "      <th>t2d0</th>\n",
       "      <th>t2d1</th>\n",
       "      <th>t2d2</th>\n",
       "    </tr>\n",
       "  </thead>\n",
       "  <tbody>\n",
       "    <tr>\n",
       "      <th>(2, 2)</th>\n",
       "      <td>1.497441</td>\n",
       "      <td>2.830153</td>\n",
       "      <td>2.501542</td>\n",
       "      <td>1.317874</td>\n",
       "      <td>1.698872</td>\n",
       "      <td>2.144415</td>\n",
       "    </tr>\n",
       "    <tr>\n",
       "      <th>(2, 2)</th>\n",
       "      <td>1.223012</td>\n",
       "      <td>0.430727</td>\n",
       "      <td>0.488776</td>\n",
       "      <td>1.639126</td>\n",
       "      <td>1.375923</td>\n",
       "      <td>1.105217</td>\n",
       "    </tr>\n",
       "    <tr>\n",
       "      <th>(3, 3)</th>\n",
       "      <td>0.807416</td>\n",
       "      <td>1.456198</td>\n",
       "      <td>1.641911</td>\n",
       "      <td>1.060233</td>\n",
       "      <td>0.831800</td>\n",
       "      <td>1.230370</td>\n",
       "    </tr>\n",
       "    <tr>\n",
       "      <th>(3, 3)</th>\n",
       "      <td>2.346338</td>\n",
       "      <td>0.741594</td>\n",
       "      <td>0.674490</td>\n",
       "      <td>1.300994</td>\n",
       "      <td>1.561636</td>\n",
       "      <td>0.993129</td>\n",
       "    </tr>\n",
       "    <tr>\n",
       "      <th>(4, 2)</th>\n",
       "      <td>2.236827</td>\n",
       "      <td>2.181371</td>\n",
       "      <td>2.126879</td>\n",
       "      <td>1.638754</td>\n",
       "      <td>1.586366</td>\n",
       "      <td>1.967365</td>\n",
       "    </tr>\n",
       "    <tr>\n",
       "      <th>(4, 2)</th>\n",
       "      <td>2.236827</td>\n",
       "      <td>1.044457</td>\n",
       "      <td>0.052677</td>\n",
       "      <td>1.202595</td>\n",
       "      <td>1.967365</td>\n",
       "      <td>1.586366</td>\n",
       "    </tr>\n",
       "  </tbody>\n",
       "</table>\n",
       "</div>"
      ],
      "text/plain": [
       "            t1d0      t1d1      t1d2      t2d0      t2d1      t2d2\n",
       "(2, 2)  1.497441  2.830153  2.501542  1.317874  1.698872  2.144415\n",
       "(2, 2)  1.223012  0.430727  0.488776  1.639126  1.375923  1.105217\n",
       "(3, 3)  0.807416  1.456198  1.641911  1.060233  0.831800  1.230370\n",
       "(3, 3)  2.346338  0.741594  0.674490  1.300994  1.561636  0.993129\n",
       "(4, 2)  2.236827  2.181371  2.126879  1.638754  1.586366  1.967365\n",
       "(4, 2)  2.236827  1.044457  0.052677  1.202595  1.967365  1.586366"
      ]
     },
     "execution_count": 48,
     "metadata": {},
     "output_type": "execute_result"
    }
   ],
   "source": [
    "shamdPrimeChart"
   ]
  },
  {
   "cell_type": "code",
   "execution_count": 49,
   "metadata": {
    "collapsed": false
   },
   "outputs": [],
   "source": [
    "contraKCondMeans = []\n",
    "contraKNameArray = [\"contra-K Mean\"]\n",
    "ipsiKCondMeans = []\n",
    "ipsiKNameArray = [\"ipsi-K Mean\"]\n",
    "shamKCondMeans = []\n",
    "shamKNameArray = [\"sham-K Mean\"]\n",
    "contraRTCondMeans = []\n",
    "contraRTNameArray = [\"contra-RT Mean\"]\n",
    "ipsiRTCondMeans = []\n",
    "ipsiRTNameArray = [\"ipsi-RT Mean\"]\n",
    "shamRTCondMeans = []\n",
    "shamRTNameArray = [\"sham-RT Mean\"]\n",
    "contradPrimeCondMeans = []\n",
    "contradPrimeNameArray = [\"contra-dPrime Mean\"]\n",
    "ipsidPrimeCondMeans = []\n",
    "ipsidPrimeNameArray = [\"ipsi-dPrime Mean\"]\n",
    "shamdPrimeCondMeans = []\n",
    "shamdPrimeNameArray = [\"sham-dPrime Mean\"]\n",
    "\n",
    "for key in HFconds:\n",
    "    contraKCondMeans.append(contraKchart[key].mean())\n",
    "    ipsiKCondMeans.append(ipsiKchart[key].mean())\n",
    "    shamKCondMeans.append(shamKchart[key].mean())\n",
    "    contraRTCondMeans.append(contraRTchart[key].mean())\n",
    "    ipsiRTCondMeans.append(ipsiRTchart[key].mean())\n",
    "    shamRTCondMeans.append(shamRTchart[key].mean())\n",
    "    contradPrimeCondMeans.append(contradPrimeChart[key].mean())\n",
    "    ipsidPrimeCondMeans.append(ipsidPrimeChart[key].mean())\n",
    "    shamdPrimeCondMeans.append(shamdPrimeChart[key].mean())\n",
    " \n",
    "contraKCondMeanChart = pd.DataFrame(contraKCondMeans, index=HFconds.keys(), columns = contraKNameArray)\n",
    "ipsiKCondMeanChart = pd.DataFrame(ipsiKCondMeans, index=HFconds.keys(), columns = contraKNameArray)\n",
    "shamKCondMeanChart = pd.DataFrame(shamKCondMeans, index=HFconds.keys(), columns = contraKNameArray)\n",
    "contraRTCondMeanChart = pd.DataFrame(contraRTCondMeans, index=HFconds.keys(), columns = contraRTNameArray)\n",
    "ipsiRTCondMeanChart = pd.DataFrame(ipsiRTCondMeans, index=HFconds.keys(), columns = ipsiRTNameArray)\n",
    "shamRTCondMeanChart = pd.DataFrame(shamRTCondMeans, index=HFconds.keys(), columns = shamRTNameArray)\n",
    "contradPrimeCondMeanChart = pd.DataFrame(contradPrimeCondMeans, index=HFconds.keys(), columns = contradPrimeNameArray)\n",
    "ipsidPrimeCondMeanChart = pd.DataFrame(ipsidPrimeCondMeans, index=HFconds.keys(), columns = ipsidPrimeNameArray)\n",
    "shamdPrimeCondMeanChart = pd.DataFrame(shamdPrimeCondMeans, index=HFconds.keys(), columns = shamdPrimeNameArray)"
   ]
  },
  {
   "cell_type": "code",
   "execution_count": 50,
   "metadata": {
    "collapsed": false
   },
   "outputs": [
    {
     "data": {
      "text/html": [
       "<div>\n",
       "<table border=\"1\" class=\"dataframe\">\n",
       "  <thead>\n",
       "    <tr style=\"text-align: right;\">\n",
       "      <th></th>\n",
       "      <th>contra-K Mean</th>\n",
       "    </tr>\n",
       "  </thead>\n",
       "  <tbody>\n",
       "    <tr>\n",
       "      <th>t1d0</th>\n",
       "      <td>1.755174</td>\n",
       "    </tr>\n",
       "    <tr>\n",
       "      <th>t1d1</th>\n",
       "      <td>1.104079</td>\n",
       "    </tr>\n",
       "    <tr>\n",
       "      <th>t1d2</th>\n",
       "      <td>1.236573</td>\n",
       "    </tr>\n",
       "    <tr>\n",
       "      <th>t2d0</th>\n",
       "      <td>2.979110</td>\n",
       "    </tr>\n",
       "    <tr>\n",
       "      <th>t2d1</th>\n",
       "      <td>2.845147</td>\n",
       "    </tr>\n",
       "    <tr>\n",
       "      <th>t2d2</th>\n",
       "      <td>2.585597</td>\n",
       "    </tr>\n",
       "  </tbody>\n",
       "</table>\n",
       "</div>"
      ],
      "text/plain": [
       "      contra-K Mean\n",
       "t1d0       1.755174\n",
       "t1d1       1.104079\n",
       "t1d2       1.236573\n",
       "t2d0       2.979110\n",
       "t2d1       2.845147\n",
       "t2d2       2.585597"
      ]
     },
     "execution_count": 50,
     "metadata": {},
     "output_type": "execute_result"
    }
   ],
   "source": [
    "contraKCondMeanChart"
   ]
  },
  {
   "cell_type": "code",
   "execution_count": 51,
   "metadata": {
    "collapsed": false
   },
   "outputs": [
    {
     "data": {
      "text/html": [
       "<div>\n",
       "<table border=\"1\" class=\"dataframe\">\n",
       "  <thead>\n",
       "    <tr style=\"text-align: right;\">\n",
       "      <th></th>\n",
       "      <th>contra-K Mean</th>\n",
       "    </tr>\n",
       "  </thead>\n",
       "  <tbody>\n",
       "    <tr>\n",
       "      <th>t1d0</th>\n",
       "      <td>1.751210</td>\n",
       "    </tr>\n",
       "    <tr>\n",
       "      <th>t1d1</th>\n",
       "      <td>1.051681</td>\n",
       "    </tr>\n",
       "    <tr>\n",
       "      <th>t1d2</th>\n",
       "      <td>0.923127</td>\n",
       "    </tr>\n",
       "    <tr>\n",
       "      <th>t2d0</th>\n",
       "      <td>2.670191</td>\n",
       "    </tr>\n",
       "    <tr>\n",
       "      <th>t2d1</th>\n",
       "      <td>2.426558</td>\n",
       "    </tr>\n",
       "    <tr>\n",
       "      <th>t2d2</th>\n",
       "      <td>2.753897</td>\n",
       "    </tr>\n",
       "  </tbody>\n",
       "</table>\n",
       "</div>"
      ],
      "text/plain": [
       "      contra-K Mean\n",
       "t1d0       1.751210\n",
       "t1d1       1.051681\n",
       "t1d2       0.923127\n",
       "t2d0       2.670191\n",
       "t2d1       2.426558\n",
       "t2d2       2.753897"
      ]
     },
     "execution_count": 51,
     "metadata": {},
     "output_type": "execute_result"
    }
   ],
   "source": [
    "ipsiKCondMeanChart"
   ]
  },
  {
   "cell_type": "code",
   "execution_count": 52,
   "metadata": {
    "collapsed": false
   },
   "outputs": [
    {
     "data": {
      "text/html": [
       "<div>\n",
       "<table border=\"1\" class=\"dataframe\">\n",
       "  <thead>\n",
       "    <tr style=\"text-align: right;\">\n",
       "      <th></th>\n",
       "      <th>contra-K Mean</th>\n",
       "    </tr>\n",
       "  </thead>\n",
       "  <tbody>\n",
       "    <tr>\n",
       "      <th>t1d0</th>\n",
       "      <td>1.588505</td>\n",
       "    </tr>\n",
       "    <tr>\n",
       "      <th>t1d1</th>\n",
       "      <td>1.297673</td>\n",
       "    </tr>\n",
       "    <tr>\n",
       "      <th>t1d2</th>\n",
       "      <td>1.092172</td>\n",
       "    </tr>\n",
       "    <tr>\n",
       "      <th>t2d0</th>\n",
       "      <td>2.866883</td>\n",
       "    </tr>\n",
       "    <tr>\n",
       "      <th>t2d1</th>\n",
       "      <td>3.026518</td>\n",
       "    </tr>\n",
       "    <tr>\n",
       "      <th>t2d2</th>\n",
       "      <td>3.009254</td>\n",
       "    </tr>\n",
       "  </tbody>\n",
       "</table>\n",
       "</div>"
      ],
      "text/plain": [
       "      contra-K Mean\n",
       "t1d0       1.588505\n",
       "t1d1       1.297673\n",
       "t1d2       1.092172\n",
       "t2d0       2.866883\n",
       "t2d1       3.026518\n",
       "t2d2       3.009254"
      ]
     },
     "execution_count": 52,
     "metadata": {},
     "output_type": "execute_result"
    }
   ],
   "source": [
    "shamKCondMeanChart"
   ]
  },
  {
   "cell_type": "code",
   "execution_count": 53,
   "metadata": {
    "collapsed": false
   },
   "outputs": [
    {
     "data": {
      "text/html": [
       "<div>\n",
       "<table border=\"1\" class=\"dataframe\">\n",
       "  <thead>\n",
       "    <tr style=\"text-align: right;\">\n",
       "      <th></th>\n",
       "      <th>contra-RT Mean</th>\n",
       "    </tr>\n",
       "  </thead>\n",
       "  <tbody>\n",
       "    <tr>\n",
       "      <th>t1d0</th>\n",
       "      <td>0.488395</td>\n",
       "    </tr>\n",
       "    <tr>\n",
       "      <th>t1d1</th>\n",
       "      <td>0.468297</td>\n",
       "    </tr>\n",
       "    <tr>\n",
       "      <th>t1d2</th>\n",
       "      <td>0.495490</td>\n",
       "    </tr>\n",
       "    <tr>\n",
       "      <th>t2d0</th>\n",
       "      <td>0.496576</td>\n",
       "    </tr>\n",
       "    <tr>\n",
       "      <th>t2d1</th>\n",
       "      <td>0.515011</td>\n",
       "    </tr>\n",
       "    <tr>\n",
       "      <th>t2d2</th>\n",
       "      <td>0.512962</td>\n",
       "    </tr>\n",
       "  </tbody>\n",
       "</table>\n",
       "</div>"
      ],
      "text/plain": [
       "      contra-RT Mean\n",
       "t1d0        0.488395\n",
       "t1d1        0.468297\n",
       "t1d2        0.495490\n",
       "t2d0        0.496576\n",
       "t2d1        0.515011\n",
       "t2d2        0.512962"
      ]
     },
     "execution_count": 53,
     "metadata": {},
     "output_type": "execute_result"
    }
   ],
   "source": [
    "contraRTCondMeanChart"
   ]
  },
  {
   "cell_type": "code",
   "execution_count": 54,
   "metadata": {
    "collapsed": false
   },
   "outputs": [
    {
     "data": {
      "text/html": [
       "<div>\n",
       "<table border=\"1\" class=\"dataframe\">\n",
       "  <thead>\n",
       "    <tr style=\"text-align: right;\">\n",
       "      <th></th>\n",
       "      <th>ipsi-RT Mean</th>\n",
       "    </tr>\n",
       "  </thead>\n",
       "  <tbody>\n",
       "    <tr>\n",
       "      <th>t1d0</th>\n",
       "      <td>0.485361</td>\n",
       "    </tr>\n",
       "    <tr>\n",
       "      <th>t1d1</th>\n",
       "      <td>0.464832</td>\n",
       "    </tr>\n",
       "    <tr>\n",
       "      <th>t1d2</th>\n",
       "      <td>0.482728</td>\n",
       "    </tr>\n",
       "    <tr>\n",
       "      <th>t2d0</th>\n",
       "      <td>0.513665</td>\n",
       "    </tr>\n",
       "    <tr>\n",
       "      <th>t2d1</th>\n",
       "      <td>0.507127</td>\n",
       "    </tr>\n",
       "    <tr>\n",
       "      <th>t2d2</th>\n",
       "      <td>0.503062</td>\n",
       "    </tr>\n",
       "  </tbody>\n",
       "</table>\n",
       "</div>"
      ],
      "text/plain": [
       "      ipsi-RT Mean\n",
       "t1d0      0.485361\n",
       "t1d1      0.464832\n",
       "t1d2      0.482728\n",
       "t2d0      0.513665\n",
       "t2d1      0.507127\n",
       "t2d2      0.503062"
      ]
     },
     "execution_count": 54,
     "metadata": {},
     "output_type": "execute_result"
    }
   ],
   "source": [
    "ipsiRTCondMeanChart"
   ]
  },
  {
   "cell_type": "code",
   "execution_count": 55,
   "metadata": {
    "collapsed": false
   },
   "outputs": [
    {
     "data": {
      "text/html": [
       "<div>\n",
       "<table border=\"1\" class=\"dataframe\">\n",
       "  <thead>\n",
       "    <tr style=\"text-align: right;\">\n",
       "      <th></th>\n",
       "      <th>sham-RT Mean</th>\n",
       "    </tr>\n",
       "  </thead>\n",
       "  <tbody>\n",
       "    <tr>\n",
       "      <th>t1d0</th>\n",
       "      <td>0.462322</td>\n",
       "    </tr>\n",
       "    <tr>\n",
       "      <th>t1d1</th>\n",
       "      <td>0.466201</td>\n",
       "    </tr>\n",
       "    <tr>\n",
       "      <th>t1d2</th>\n",
       "      <td>0.477933</td>\n",
       "    </tr>\n",
       "    <tr>\n",
       "      <th>t2d0</th>\n",
       "      <td>0.498894</td>\n",
       "    </tr>\n",
       "    <tr>\n",
       "      <th>t2d1</th>\n",
       "      <td>0.477709</td>\n",
       "    </tr>\n",
       "    <tr>\n",
       "      <th>t2d2</th>\n",
       "      <td>0.487830</td>\n",
       "    </tr>\n",
       "  </tbody>\n",
       "</table>\n",
       "</div>"
      ],
      "text/plain": [
       "      sham-RT Mean\n",
       "t1d0      0.462322\n",
       "t1d1      0.466201\n",
       "t1d2      0.477933\n",
       "t2d0      0.498894\n",
       "t2d1      0.477709\n",
       "t2d2      0.487830"
      ]
     },
     "execution_count": 55,
     "metadata": {},
     "output_type": "execute_result"
    }
   ],
   "source": [
    "shamRTCondMeanChart"
   ]
  },
  {
   "cell_type": "code",
   "execution_count": 56,
   "metadata": {
    "collapsed": false
   },
   "outputs": [
    {
     "data": {
      "text/html": [
       "<div>\n",
       "<table border=\"1\" class=\"dataframe\">\n",
       "  <thead>\n",
       "    <tr style=\"text-align: right;\">\n",
       "      <th></th>\n",
       "      <th>contra-dPrime Mean</th>\n",
       "    </tr>\n",
       "  </thead>\n",
       "  <tbody>\n",
       "    <tr>\n",
       "      <th>t1d0</th>\n",
       "      <td>1.826752</td>\n",
       "    </tr>\n",
       "    <tr>\n",
       "      <th>t1d1</th>\n",
       "      <td>1.312487</td>\n",
       "    </tr>\n",
       "    <tr>\n",
       "      <th>t1d2</th>\n",
       "      <td>1.425269</td>\n",
       "    </tr>\n",
       "    <tr>\n",
       "      <th>t2d0</th>\n",
       "      <td>1.603712</td>\n",
       "    </tr>\n",
       "    <tr>\n",
       "      <th>t2d1</th>\n",
       "      <td>1.429645</td>\n",
       "    </tr>\n",
       "    <tr>\n",
       "      <th>t2d2</th>\n",
       "      <td>1.228771</td>\n",
       "    </tr>\n",
       "  </tbody>\n",
       "</table>\n",
       "</div>"
      ],
      "text/plain": [
       "      contra-dPrime Mean\n",
       "t1d0            1.826752\n",
       "t1d1            1.312487\n",
       "t1d2            1.425269\n",
       "t2d0            1.603712\n",
       "t2d1            1.429645\n",
       "t2d2            1.228771"
      ]
     },
     "execution_count": 56,
     "metadata": {},
     "output_type": "execute_result"
    }
   ],
   "source": [
    "contradPrimeCondMeanChart"
   ]
  },
  {
   "cell_type": "code",
   "execution_count": 57,
   "metadata": {
    "collapsed": false
   },
   "outputs": [
    {
     "data": {
      "text/html": [
       "<div>\n",
       "<table border=\"1\" class=\"dataframe\">\n",
       "  <thead>\n",
       "    <tr style=\"text-align: right;\">\n",
       "      <th></th>\n",
       "      <th>ipsi-dPrime Mean</th>\n",
       "    </tr>\n",
       "  </thead>\n",
       "  <tbody>\n",
       "    <tr>\n",
       "      <th>t1d0</th>\n",
       "      <td>1.821263</td>\n",
       "    </tr>\n",
       "    <tr>\n",
       "      <th>t1d1</th>\n",
       "      <td>1.130423</td>\n",
       "    </tr>\n",
       "    <tr>\n",
       "      <th>t1d2</th>\n",
       "      <td>1.022885</td>\n",
       "    </tr>\n",
       "    <tr>\n",
       "      <th>t2d0</th>\n",
       "      <td>1.295807</td>\n",
       "    </tr>\n",
       "    <tr>\n",
       "      <th>t2d1</th>\n",
       "      <td>1.135125</td>\n",
       "    </tr>\n",
       "    <tr>\n",
       "      <th>t2d2</th>\n",
       "      <td>1.323002</td>\n",
       "    </tr>\n",
       "  </tbody>\n",
       "</table>\n",
       "</div>"
      ],
      "text/plain": [
       "      ipsi-dPrime Mean\n",
       "t1d0          1.821263\n",
       "t1d1          1.130423\n",
       "t1d2          1.022885\n",
       "t2d0          1.295807\n",
       "t2d1          1.135125\n",
       "t2d2          1.323002"
      ]
     },
     "execution_count": 57,
     "metadata": {},
     "output_type": "execute_result"
    }
   ],
   "source": [
    "ipsidPrimeCondMeanChart"
   ]
  },
  {
   "cell_type": "code",
   "execution_count": 58,
   "metadata": {
    "collapsed": false
   },
   "outputs": [
    {
     "data": {
      "text/html": [
       "<div>\n",
       "<table border=\"1\" class=\"dataframe\">\n",
       "  <thead>\n",
       "    <tr style=\"text-align: right;\">\n",
       "      <th></th>\n",
       "      <th>sham-dPrime Mean</th>\n",
       "    </tr>\n",
       "  </thead>\n",
       "  <tbody>\n",
       "    <tr>\n",
       "      <th>t1d0</th>\n",
       "      <td>1.724644</td>\n",
       "    </tr>\n",
       "    <tr>\n",
       "      <th>t1d1</th>\n",
       "      <td>1.447417</td>\n",
       "    </tr>\n",
       "    <tr>\n",
       "      <th>t1d2</th>\n",
       "      <td>1.247713</td>\n",
       "    </tr>\n",
       "    <tr>\n",
       "      <th>t2d0</th>\n",
       "      <td>1.359929</td>\n",
       "    </tr>\n",
       "    <tr>\n",
       "      <th>t2d1</th>\n",
       "      <td>1.503660</td>\n",
       "    </tr>\n",
       "    <tr>\n",
       "      <th>t2d2</th>\n",
       "      <td>1.504477</td>\n",
       "    </tr>\n",
       "  </tbody>\n",
       "</table>\n",
       "</div>"
      ],
      "text/plain": [
       "      sham-dPrime Mean\n",
       "t1d0          1.724644\n",
       "t1d1          1.447417\n",
       "t1d2          1.247713\n",
       "t2d0          1.359929\n",
       "t2d1          1.503660\n",
       "t2d2          1.504477"
      ]
     },
     "execution_count": 58,
     "metadata": {},
     "output_type": "execute_result"
    }
   ],
   "source": [
    "shamdPrimeCondMeanChart"
   ]
  },
  {
   "cell_type": "code",
   "execution_count": null,
   "metadata": {
    "collapsed": true
   },
   "outputs": [],
   "source": []
  }
 ],
 "metadata": {
  "kernelspec": {
   "display_name": "Python 2",
   "language": "python",
   "name": "python2"
  },
  "language_info": {
   "codemirror_mode": {
    "name": "ipython",
    "version": 2
   },
   "file_extension": ".py",
   "mimetype": "text/x-python",
   "name": "python",
   "nbconvert_exporter": "python",
   "pygments_lexer": "ipython2",
   "version": "2.7.11"
  }
 },
 "nbformat": 4,
 "nbformat_minor": 0
}
