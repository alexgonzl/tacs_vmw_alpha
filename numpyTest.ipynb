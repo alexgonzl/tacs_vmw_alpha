{
 "cells": [
  {
   "cell_type": "code",
   "execution_count": 1,
   "metadata": {
    "collapsed": true
   },
   "outputs": [],
   "source": [
    "import numpy as np"
   ]
  },
  {
   "cell_type": "code",
   "execution_count": 9,
   "metadata": {
    "collapsed": true
   },
   "outputs": [],
   "source": [
    "array=np.random.uniform(1,10,30)"
   ]
  },
  {
   "cell_type": "code",
   "execution_count": 10,
   "metadata": {
    "collapsed": false
   },
   "outputs": [
    {
     "name": "stdout",
     "output_type": "stream",
     "text": [
      "[ 6.60122092  5.10648043  9.96136242  4.70999993  4.51224712  5.25034865\n",
      "  8.80288397  3.14263484  7.01546558  4.97665637  4.7281545   8.75784165\n",
      "  2.90897824  2.64315215  3.49547696  3.75567147  6.45991123  5.75131407\n",
      "  1.05239835  1.85986827  2.95343392  4.8466602   6.12074816  4.53214851\n",
      "  9.4187848   1.0376919   6.83040048  5.03046672  9.17248312  4.3091915 ]\n"
     ]
    }
   ],
   "source": [
    "print array"
   ]
  }
 ],
 "metadata": {
  "kernelspec": {
   "display_name": "Python 2",
   "language": "python",
   "name": "python2"
  },
  "language_info": {
   "codemirror_mode": {
    "name": "ipython",
    "version": 2
   },
   "file_extension": ".py",
   "mimetype": "text/x-python",
   "name": "python",
   "nbconvert_exporter": "python",
   "pygments_lexer": "ipython2",
   "version": "2.7.11"
  }
 },
 "nbformat": 4,
 "nbformat_minor": 0
}
