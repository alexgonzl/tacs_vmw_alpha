{
 "cells": [
  {
   "cell_type": "code",
   "execution_count": 92,
   "metadata": {
    "collapsed": false
   },
   "outputs": [],
   "source": [
    "from __future__ import division\n",
    "import os\n",
    "from os.path import expanduser\n",
    "import csv\n",
    "import sys\n",
    "import re\n",
    "import numpy as np\n",
    "import pandas as pd\n",
    "\n",
    "# Parameters\n",
    "ExptName \t= 'stim1'\n",
    "SubjID \t\t= 0\n",
    "RunID  \t\t= 1\n",
    "nTrials = 384\n",
    "HitRate \t= 18*(1/32) # multiples of 1/32\n",
    "FARate  \t= 3*(1/32) # multiples of 1/32\n",
    "Hits = HitRate * 32\n",
    "FAs = FARate * 32\n",
    "condRects = [(2,0),(2,2),(2,4),(4,0),(4,2),(4,4)]\n",
    "\n",
    "# Path info\n",
    "homeDirectory = expanduser(\"~\")\n",
    "dataDirectory = homeDirectory + os.sep + 'Google Drive/tACS_VWM_ALPHA/data/' + ExptName + os.sep + 's' + str(SubjID) + os.sep + 'setupData/'\n",
    "directoryFiles = os.listdir(dataDirectory)\n",
    "fileName = ''\n",
    "\n",
    "# load setup file\n",
    "for file in directoryFiles:\n",
    "    match = re.match('setup-run' + str(RunID) + '.*', file, re.M|re.I)\n",
    "    if match != None:\n",
    "        fileName = dataDirectory + match.group()\n",
    "\n",
    "# Columns -> TriaID, ChangeCondID, WFCond, SubCond, HFCond\n",
    "setupData = np.genfromtxt(fileName, delimiter=',')\n",
    "setupData=np.delete(setupData,0,0)\n",
    "setupData=np.delete(setupData,5,1)"
   ]
  },
  {
   "cell_type": "code",
   "execution_count": 93,
   "metadata": {
    "collapsed": false
   },
   "outputs": [],
   "source": [
    "setupData = setupData[setupData[:,2].argsort()]"
   ]
  },
  {
   "cell_type": "code",
   "execution_count": 94,
   "metadata": {
    "collapsed": false
   },
   "outputs": [],
   "source": [
    "resps = np.zeros(nTrials)\n",
    "for i in range(0, 384, 64):\n",
    "    condHits = Hits\n",
    "    condFAs = FAs\n",
    "    for trial in range(i, i+64):\n",
    "        if setupData[trial][1] != 3 and condHits > 0:\n",
    "            resps[trial] = 1\n",
    "            condHits -= 1\n",
    "        elif setupData[trial][1] == 3 and condFAs > 0:\n",
    "            resps[trial] = 1\n",
    "            condFAs -= 1"
   ]
  },
  {
   "cell_type": "code",
   "execution_count": 95,
   "metadata": {
    "collapsed": false
   },
   "outputs": [],
   "source": [
    "setupDF = pd.DataFrame(setupData)\n",
    "respSeries = pd.Series(resps)\n",
    "conds = setupDF[2]\n",
    "changeConds = setupDF[1]\n",
    "trialIDs = setupDF.index\n",
    "rts = pd.Series(np.zeros(nTrials))\n",
    "changeTrials = pd.Series(np.zeros(nTrials))\n",
    "nDistractors = pd.Series(np.zeros(nTrials))\n",
    "nTargets = pd.Series(np.zeros(nTrials))\n",
    "for i in range(nTrials):\n",
    "    if setupDF[1][i] == 3: changeTrials[i] = 0\n",
    "    else: changeTrials[i] = 1\n",
    "    nTargets[i] = condRects[int(setupDF[2][i])-1][0]\n",
    "    nDistractors[i] = condRects[int(setupDF[2][i])-1][1]\n",
    "outputDF = pd.DataFrame()"
   ]
  },
  {
   "cell_type": "code",
   "execution_count": 96,
   "metadata": {
    "collapsed": false
   },
   "outputs": [],
   "source": [
    "outputDF['ChangeTrial'] = changeTrials\n",
    "outputDF['nDistractors'] = nDistractors\n",
    "outputDF['nTargets'] = nTargets\n",
    "outputDF['Cond'] = conds\n",
    "outputDF['ChangeCond'] = changeConds\n",
    "outputDF['Response'] = respSeries\n",
    "outputDF['trialID'] = setupDF.index\n",
    "outputDF['RT'] = rts\n",
    "outputDF.to_csv(homeDirectory + os.sep + 'Google Drive/tACS_VWM_ALPHA/data/' + ExptName + os.sep + 's' + str(SubjID) + os.sep + 'runData/run1.csv')"
   ]
  },
  {
   "cell_type": "code",
   "execution_count": 97,
   "metadata": {
    "collapsed": true
   },
   "outputs": [],
   "source": [
    "\n",
    "# these ones we can do with setupData array\n",
    "# thisExp.addData('trialID', VWMTrials[i].trialID)\n",
    "# thisExp.addData('ChangeTrial', VWMTrials[i].ChangeTrial)\n",
    "# thisExp.addData('nDistractors', VWMTrials[i].nDistractors)\n",
    "# thisExp.addData('nTargets', VWMTrials[i].nTargets)\n",
    "# thisExp.addData('Cond', VWMTrials[i].condNum)\n",
    "# thisExp.addData('changeHemi', changeTargHemi)\n",
    "# thisExp.addData('ChangeCond', VWMTrials[i].ChangeCond)\n",
    "# thisExp.addData('leftTargs', leftTargCount)\n",
    "# thisExp.addData('rightTargs', rightTargCount)\n",
    "# thisExp.addData('leftDists', leftDistCount)\n",
    "# thisExp.addData('rightDists', rightDistCount)\n",
    "\n",
    "# resp we need to generate with HitRate and False Alarm\n",
    "# thisExp.addData('Response',resp)\n",
    "\n",
    "# random\n",
    "# thisExp.addData('RT', testResponse.rt)\n",
    "\n"
   ]
  },
  {
   "cell_type": "code",
   "execution_count": null,
   "metadata": {
    "collapsed": true
   },
   "outputs": [],
   "source": []
  }
 ],
 "metadata": {
  "kernelspec": {
   "display_name": "Python 2",
   "language": "python",
   "name": "python2"
  },
  "language_info": {
   "codemirror_mode": {
    "name": "ipython",
    "version": 2
   },
   "file_extension": ".py",
   "mimetype": "text/x-python",
   "name": "python",
   "nbconvert_exporter": "python",
   "pygments_lexer": "ipython2",
   "version": "2.7.11"
  }
 },
 "nbformat": 4,
 "nbformat_minor": 0
}
