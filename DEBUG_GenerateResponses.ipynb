{
 "cells": [
  {
   "cell_type": "code",
   "execution_count": 24,
   "metadata": {
    "collapsed": false
   },
   "outputs": [],
   "source": [
    "from __future__ import division\n",
    "import os\n",
    "from os.path import expanduser\n",
    "import csv\n",
    "import sys\n",
    "import re\n",
    "import numpy as np\n",
    "\n",
    "# Parameters\n",
    "ExptName \t= 'stim1'\n",
    "SubjID \t\t= 0\n",
    "RunID  \t\t= 1\n",
    "HitRate \t= 9*(1/16) # multiples of 1/16\n",
    "FARate  \t= 3*(1/16) # multiples of 1/16\n",
    "\n",
    "# Path info\n",
    "homeDirectory = expanduser(\"~\")\n",
    "dataDirectory = homeDirectory + os.sep + 'Google Drive/tACS_VWM_ALPHA/data/' + ExptName + os.sep + 's' + str(SubjID) + os.sep + 'setupData/'\n",
    "directoryFiles = os.listdir(dataDirectory)\n",
    "fileName = ''\n",
    "\n",
    "# load setup file\n",
    "for file in directoryFiles:\n",
    "    match = re.match('setup-run' + str(RunID) + '.*', file, re.M|re.I)\n",
    "    if match != None:\n",
    "        fileName = dataDirectory + match.group()\n",
    "\n",
    "# Columns -> TriaID, ChangeCondID, WFCond, SubCond, HFCond\n",
    "setupData = np.genfromtxt(fileName, delimiter=',')\n",
    "setupData=np.delete(setupData,0,0)\n",
    "setupData=np.delete(setupData,5,1)\n"
   ]
  },
  {
   "cell_type": "code",
   "execution_count": 25,
   "metadata": {
    "collapsed": false
   },
   "outputs": [
    {
     "data": {
      "text/plain": [
       "array([[   0.,    3.,    2.,    5.,    2.],\n",
       "       [   1.,    1.,    6.,    1.,    6.],\n",
       "       [   2.,    2.,    5.,    4.,    5.],\n",
       "       ..., \n",
       "       [ 381.,    2.,    1.,    2.,    1.],\n",
       "       [ 382.,    3.,    3.,    1.,    3.],\n",
       "       [ 383.,    3.,    2.,    3.,    2.]])"
      ]
     },
     "execution_count": 25,
     "metadata": {},
     "output_type": "execute_result"
    }
   ],
   "source": [
    "\n",
    "# these ones we can do with setupData array\n",
    "# thisExp.addData('trialID', VWMTrials[i].trialID)\n",
    "# thisExp.addData('ChangeTrial', VWMTrials[i].ChangeTrial)\n",
    "# thisExp.addData('nDistractors', VWMTrials[i].nDistractors)\n",
    "# thisExp.addData('nTargets', VWMTrials[i].nTargets)\n",
    "# thisExp.addData('Cond', VWMTrials[i].condNum)\n",
    "# thisExp.addData('changeHemi', changeTargHemi)\n",
    "# thisExp.addData('ChangeCond', VWMTrials[i].ChangeCond)\n",
    "# thisExp.addData('leftTargs', leftTargCount)\n",
    "# thisExp.addData('rightTargs', rightTargCount)\n",
    "# thisExp.addData('leftDists', leftDistCount)\n",
    "# thisExp.addData('rightDists', rightDistCount)\n",
    "\n",
    "# resp we need to generate with HitRate and False Alarm\n",
    "# thisExp.addData('Response',resp)\n",
    "\n",
    "# random\n",
    "# thisExp.addData('RT', testResponse.rt)\n"
   ]
  },
  {
   "cell_type": "code",
   "execution_count": null,
   "metadata": {
    "collapsed": true
   },
   "outputs": [],
   "source": []
  },
  {
   "cell_type": "code",
   "execution_count": 19,
   "metadata": {
    "collapsed": false
   },
   "outputs": [
    {
     "data": {
      "text/plain": [
       "2309"
      ]
     },
     "execution_count": 19,
     "metadata": {},
     "output_type": "execute_result"
    }
   ],
   "source": [
    "len(setupData)"
   ]
  }
 ],
 "metadata": {
  "kernelspec": {
   "display_name": "Python 2",
   "language": "python",
   "name": "python2"
  },
  "language_info": {
   "codemirror_mode": {
    "name": "ipython",
    "version": 2
   },
   "file_extension": ".py",
   "mimetype": "text/x-python",
   "name": "python",
   "nbconvert_exporter": "python",
   "pygments_lexer": "ipython2",
   "version": "2.7.11"
  }
 },
 "nbformat": 4,
 "nbformat_minor": 0
}
