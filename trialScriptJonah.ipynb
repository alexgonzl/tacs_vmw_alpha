{
 "cells": [
  {
   "cell_type": "code",
   "execution_count": null,
   "metadata": {
    "collapsed": true
   },
   "outputs": [],
   "source": [
    "import numpy as np"
   ]
  },
  {
   "cell_type": "code",
   "execution_count": null,
   "metadata": {
    "collapsed": false
   },
   "outputs": [],
   "source": [
    "# Instructions for the subject:\n",
    "print(\"\")"
   ]
  },
  {
   "cell_type": "code",
   "execution_count": null,
   "metadata": {
    "collapsed": false,
    "scrolled": true
   },
   "outputs": [],
   "source": [
    "input(\"Press enter to advance\")"
   ]
  },
  {
   "cell_type": "code",
   "execution_count": null,
   "metadata": {
    "collapsed": false
   },
   "outputs": [],
   "source": [
    "import numpy as np\n",
    "\n",
    "\n",
    "## Set number of conditions and \n",
    "TargetSets      = np.array([2,4])\n",
    "DistractorSets  = np.array([0,2,4])\n",
    "nConds = TargetSets.size*DistractorSets.size\n",
    "nTrials = 720\n",
    "nTrialsPerCond = nTrials/nConds\n",
    "\n",
    "\n",
    "## set condition names and store\n",
    "conds = {};\n",
    "nTotalItemsPerCond = np.zeros(nConds)\n",
    "cnt = 1;\n",
    "for ts in range(TargetSets.size):\n",
    "    for ds in range(DistractorSets.size):\n",
    "        conds[cnt] = 'nT' + str(TargetSets[ts]) + 'nD' + str(DistractorSets[ds])\n",
    "        nTotalItemsPerCond[cnt-1] = int(TargetSets[ts]+DistractorSets[ds])\n",
    "        cnt += 1\n",
    "\n",
    "\n",
    "# Set trial conditions and counter balance\n",
    "TrialIDs = np.arange(nTrials)        # trial IDs\n",
    "AvailableTrials = np.array(TrialIDs) \n",
    "TrialCondIDs   = np.zeros(nTrials)   # individual trial condition\n",
    "ChangeTrialIDs = np.zeros(nTrials)   # test array changes at test\n",
    "nTrialItems    = np.zeros(nTrials,int)   # total number of trials per item\n",
    "\n",
    "for cond in range(nConds):\n",
    "    trials = np.random.choice(AvailableTrials,nTrialsPerCond,replace=False)\n",
    "    TrialCondIDs[trials] = cond+1\n",
    "    AvailableTrials = np.setxor1d(AvailableTrials,trials)\n",
    "    ChangeTrialIDs[np.random.choice(trials,nTrialsPerCond/2,replace=False)]=1\n",
    "    nTrialItems[trials] = nTotalItemsPerCond[cond]\n",
    "    \n",
    "assert AvailableTrials.size==0, 'Error Assigning Trials'\n",
    "hist=np.histogram(TrialCondIDs,range(1,nConds+2))[0]\n",
    "assert sum(hist==nTrialsPerCond)==nConds, 'Uneven Trials'\n",
    "\n",
    "\n",
    "# Set orientations and location for each item \n",
    "PossibleOrientations  = np.concatenate((np.arange(10,81),np.arange(100,171))); # in degrees\n",
    "OrientTrialItems = {}\n",
    "for tt in range(nTrials):\n",
    "    OrientTrialItems[tt] = np.random.choice(PossibleOrientations,nTrialItems[tt])\n",
    "        "
   ]
  },
  {
   "cell_type": "code",
   "execution_count": 9,
   "metadata": {
    "collapsed": false,
    "slideshow": {
     "slide_type": "-"
    }
   },
   "outputs": [
    {
     "name": "stdout",
     "output_type": "stream",
     "text": [
      "nT2nD0\n",
      "nT2nD2\n",
      "nT2nD4\n",
      "nT4nD0\n",
      "nT4nD2\n",
      "nT4nD4\n"
     ]
    }
   ],
   "source": [
    "thisOrientation = {}\n",
    "for i in range(nTrials):\n",
    "    thisCond = TrialCondIDs[i]\n",
    "    thisChange = ChangeTrialIDs[i]\n",
    "    thisOrientation = OrientTrialItems[i]\n",
    "    # LocateTrialItems\n",
    "    thisRectangles = {}\n",
    "    if thisCond == 1:\n",
    "        thisRectangles[1] = vwmArray.addColorRect(red)\n",
    "        thisRectangles[2] = vwmArray.addColorRect(red)\n",
    "    if thisCond == 2:\n",
    "        thisRectangles[1] = vwmArray.addColorRect(red)\n",
    "        thisRectangles[2] = vwmArray.addColorRect(red)\n",
    "        thisRectangles[3] = vwmArray.addColorRect(blue)\n",
    "        thisRectangles[4] = vwmArray.addColorRect(blue)\n",
    "    if thisCond == 3:\n",
    "        thisRectangles[1] = vwmArray.addColorRect(red)\n",
    "        thisRectangles[2] = vwmArray.addColorRect(red)\n",
    "        thisRectangles[3] = vwmArray.addColorRect(blue)\n",
    "        thisRectangles[4] = vwmArray.addColorRect(blue)\n",
    "        thisRectangles[5] = vwmArray.addColorRect(blue)\n",
    "        thisRectangles[6] = vwmArray.addColorRect(blue)\n",
    "    if thisCond == 4:\n",
    "        thisRectangles[1] = vwmArray.addColorRect(red)\n",
    "        thisRectangles[2] = vwmArray.addColorRect(red)\n",
    "        thisRectangles[3] = vwmArray.addColorRect(red)\n",
    "        thisRectangles[4] = vwmArray.addColorRect(red)\n",
    "    if thisCond == 5:\n",
    "        thisRectangles[1] = vwmArray.addColorRect(red)\n",
    "        thisRectangles[2] = vwmArray.addColorRect(red)\n",
    "        thisRectangles[3] = vwmArray.addColorRect(red)\n",
    "        thisRectangles[4] = vwmArray.addColorRect(red)\n",
    "        thisRectangles[5] = vwmArray.addColorRect(blue)\n",
    "        thisRectangles[6] = vwmArray.addColorRect(blue)\n",
    "    if thisCond == 6:\n",
    "        thisRectangles[1] = vwmArray.addColorRect(red)\n",
    "        thisRectangles[2] = vwmArray.addColorRect(red)\n",
    "        thisRectangles[3] = vwmArray.addColorRect(red)\n",
    "        thisRectangles[4] = vwmArray.addColorRect(red)\n",
    "        thisRectangles[5] = vwmArray.addColorRect(blue)\n",
    "        thisRectangles[6] = vwmArray.addColorRect(blue)\n",
    "        thisRectangles[7] = vwmArray.addColorRect(blue)\n",
    "        thisRectangles[8] = vwmArray.addColorRect(blue)\n"
   ]
  }
 ],
 "metadata": {
  "kernelspec": {
   "display_name": "Python 3",
   "language": "python",
   "name": "python3"
  },
  "language_info": {
   "codemirror_mode": {
    "name": "ipython",
    "version": 3
   },
   "file_extension": ".py",
   "mimetype": "text/x-python",
   "name": "python",
   "nbconvert_exporter": "python",
   "pygments_lexer": "ipython3",
   "version": "3.5.1"
  }
 },
 "nbformat": 4,
 "nbformat_minor": 0
}
